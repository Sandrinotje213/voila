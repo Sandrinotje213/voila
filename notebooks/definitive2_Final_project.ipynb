{
  "nbformat": 4,
  "nbformat_minor": 0,
  "metadata": {
    "colab": {
      "name": "Final project.ipynb",
      "provenance": [],
      "collapsed_sections": []
    },
    "kernelspec": {
      "name": "python3",
      "display_name": "Python 3"
    },
    "language_info": {
      "name": "python"
    },
    "widgets": {
      "application/vnd.jupyter.widget-state+json": {
        "d063b667415841328f0ee646f8eaed8e": {
          "model_module": "@jupyter-widgets/controls",
          "model_name": "VBoxModel",
          "model_module_version": "1.5.0",
          "state": {
            "_view_name": "VBoxView",
            "_dom_classes": [
              "widget-interact"
            ],
            "_model_name": "VBoxModel",
            "_view_module": "@jupyter-widgets/controls",
            "_model_module_version": "1.5.0",
            "_view_count": null,
            "_view_module_version": "1.5.0",
            "box_style": "",
            "layout": "IPY_MODEL_45eabf2442fa469e85bf52d8c5f1ff0e",
            "_model_module": "@jupyter-widgets/controls",
            "children": [
              "IPY_MODEL_e2540b362ecd414d946e1815cd6f7545",
              "IPY_MODEL_6424ccc1bcde4b6d9ae15ae9fd1b9ab5"
            ]
          }
        },
        "45eabf2442fa469e85bf52d8c5f1ff0e": {
          "model_module": "@jupyter-widgets/base",
          "model_name": "LayoutModel",
          "model_module_version": "1.2.0",
          "state": {
            "_view_name": "LayoutView",
            "grid_template_rows": null,
            "right": null,
            "justify_content": null,
            "_view_module": "@jupyter-widgets/base",
            "overflow": null,
            "_model_module_version": "1.2.0",
            "_view_count": null,
            "flex_flow": null,
            "width": null,
            "min_width": null,
            "border": null,
            "align_items": null,
            "bottom": null,
            "_model_module": "@jupyter-widgets/base",
            "top": null,
            "grid_column": null,
            "overflow_y": null,
            "overflow_x": null,
            "grid_auto_flow": null,
            "grid_area": null,
            "grid_template_columns": null,
            "flex": null,
            "_model_name": "LayoutModel",
            "justify_items": null,
            "grid_row": null,
            "max_height": null,
            "align_content": null,
            "visibility": null,
            "align_self": null,
            "height": null,
            "min_height": null,
            "padding": null,
            "grid_auto_rows": null,
            "grid_gap": null,
            "max_width": null,
            "order": null,
            "_view_module_version": "1.2.0",
            "grid_template_areas": null,
            "object_position": null,
            "object_fit": null,
            "grid_auto_columns": null,
            "margin": null,
            "display": null,
            "left": null
          }
        },
        "e2540b362ecd414d946e1815cd6f7545": {
          "model_module": "@jupyter-widgets/controls",
          "model_name": "TextModel",
          "model_module_version": "1.5.0",
          "state": {
            "_view_name": "TextView",
            "style": "IPY_MODEL_cc815cdb4c034000a8693e9b5d60f298",
            "_dom_classes": [],
            "description": "country",
            "_model_name": "TextModel",
            "placeholder": "​",
            "_view_module": "@jupyter-widgets/controls",
            "_model_module_version": "1.5.0",
            "value": "Afghanistan",
            "_view_count": null,
            "disabled": false,
            "_view_module_version": "1.5.0",
            "continuous_update": true,
            "description_tooltip": null,
            "_model_module": "@jupyter-widgets/controls",
            "layout": "IPY_MODEL_191a9022894448c0958e11a1e60793a4"
          }
        },
        "6424ccc1bcde4b6d9ae15ae9fd1b9ab5": {
          "model_module": "@jupyter-widgets/output",
          "model_name": "OutputModel",
          "model_module_version": "1.0.0",
          "state": {
            "_view_name": "OutputView",
            "msg_id": "",
            "_dom_classes": [],
            "_model_name": "OutputModel",
            "outputs": [
              {
                "output_type": "stream",
                "name": "stdout",
                "text": [
                  "\n",
                  "The median age of your country is:  18.6 \n",
                  "\n"
                ]
              },
              {
                "output_type": "display_data",
                "data": {
                  "text/plain": "alt.Chart(...)",
                  "text/html": "\n<div id=\"altair-viz-bd95be3100834c23959e36a59c806182\"></div>\n<script type=\"text/javascript\">\n  var VEGA_DEBUG = (typeof VEGA_DEBUG == \"undefined\") ? {} : VEGA_DEBUG;\n  (function(spec, embedOpt){\n    let outputDiv = document.currentScript.previousElementSibling;\n    if (outputDiv.id !== \"altair-viz-bd95be3100834c23959e36a59c806182\") {\n      outputDiv = document.getElementById(\"altair-viz-bd95be3100834c23959e36a59c806182\");\n    }\n    const paths = {\n      \"vega\": \"https://cdn.jsdelivr.net/npm//vega@5?noext\",\n      \"vega-lib\": \"https://cdn.jsdelivr.net/npm//vega-lib?noext\",\n      \"vega-lite\": \"https://cdn.jsdelivr.net/npm//vega-lite@4.17.0?noext\",\n      \"vega-embed\": \"https://cdn.jsdelivr.net/npm//vega-embed@6?noext\",\n    };\n\n    function maybeLoadScript(lib, version) {\n      var key = `${lib.replace(\"-\", \"\")}_version`;\n      return (VEGA_DEBUG[key] == version) ?\n        Promise.resolve(paths[lib]) :\n        new Promise(function(resolve, reject) {\n          var s = document.createElement('script');\n          document.getElementsByTagName(\"head\")[0].appendChild(s);\n          s.async = true;\n          s.onload = () => {\n            VEGA_DEBUG[key] = version;\n            return resolve(paths[lib]);\n          };\n          s.onerror = () => reject(`Error loading script: ${paths[lib]}`);\n          s.src = paths[lib];\n        });\n    }\n\n    function showError(err) {\n      outputDiv.innerHTML = `<div class=\"error\" style=\"color:red;\">${err}</div>`;\n      throw err;\n    }\n\n    function displayChart(vegaEmbed) {\n      vegaEmbed(outputDiv, spec, embedOpt)\n        .catch(err => showError(`Javascript Error: ${err.message}<br>This usually means there's a typo in your chart specification. See the javascript console for the full traceback.`));\n    }\n\n    if(typeof define === \"function\" && define.amd) {\n      requirejs.config({paths});\n      require([\"vega-embed\"], displayChart, err => showError(`Error loading script: ${err.message}`));\n    } else {\n      maybeLoadScript(\"vega\", \"5\")\n        .then(() => maybeLoadScript(\"vega-lite\", \"4.17.0\"))\n        .then(() => maybeLoadScript(\"vega-embed\", \"6\"))\n        .catch(showError)\n        .then(() => displayChart(vegaEmbed));\n    }\n  })({\"config\": {\"view\": {\"continuousWidth\": 400, \"continuousHeight\": 300}}, \"data\": {\"name\": \"data-40572d20c23b0d18418ce744cf0c3547\"}, \"mark\": \"line\", \"encoding\": {\"column\": {\"field\": \"location\", \"type\": \"nominal\"}, \"x\": {\"field\": \"date\", \"type\": \"temporal\"}, \"y\": {\"aggregate\": \"median\", \"field\": \"people_fully_vaccinated_per_hundred\", \"type\": \"quantitative\"}}, \"$schema\": \"https://vega.github.io/schema/vega-lite/v4.17.0.json\", \"datasets\": {\"data-40572d20c23b0d18418ce744cf0c3547\": [{\"date\": \"2021-05-11T00:00:00\", \"location\": \"Afghanistan\", \"people_fully_vaccinated_per_hundred\": 0.14, \"median_age\": 18.6}, {\"date\": \"2021-05-20T00:00:00\", \"location\": \"Afghanistan\", \"people_fully_vaccinated_per_hundred\": 0.19, \"median_age\": 18.6}, {\"date\": \"2021-05-24T00:00:00\", \"location\": \"Afghanistan\", \"people_fully_vaccinated_per_hundred\": 0.24, \"median_age\": 18.6}, {\"date\": \"2021-05-26T00:00:00\", \"location\": \"Afghanistan\", \"people_fully_vaccinated_per_hundred\": 0.28, \"median_age\": 18.6}, {\"date\": \"2021-05-27T00:00:00\", \"location\": \"Afghanistan\", \"people_fully_vaccinated_per_hundred\": 0.29, \"median_age\": 18.6}, {\"date\": \"2021-05-30T00:00:00\", \"location\": \"Afghanistan\", \"people_fully_vaccinated_per_hundred\": 0.3, \"median_age\": 18.6}, {\"date\": \"2021-06-02T00:00:00\", \"location\": \"Afghanistan\", \"people_fully_vaccinated_per_hundred\": 0.36, \"median_age\": 18.6}, {\"date\": \"2021-06-03T00:00:00\", \"location\": \"Afghanistan\", \"people_fully_vaccinated_per_hundred\": 0.37, \"median_age\": 18.6}, {\"date\": \"2021-06-08T00:00:00\", \"location\": \"Afghanistan\", \"people_fully_vaccinated_per_hundred\": 0.4, \"median_age\": 18.6}, {\"date\": \"2021-06-14T00:00:00\", \"location\": \"Afghanistan\", \"people_fully_vaccinated_per_hundred\": 0.44, \"median_age\": 18.6}, {\"date\": \"2021-06-22T00:00:00\", \"location\": \"Afghanistan\", \"people_fully_vaccinated_per_hundred\": 0.46, \"median_age\": 18.6}, {\"date\": \"2021-06-27T00:00:00\", \"location\": \"Afghanistan\", \"people_fully_vaccinated_per_hundred\": 0.47, \"median_age\": 18.6}, {\"date\": \"2021-06-30T00:00:00\", \"location\": \"Afghanistan\", \"people_fully_vaccinated_per_hundred\": 0.47, \"median_age\": 18.6}, {\"date\": \"2021-07-05T00:00:00\", \"location\": \"Afghanistan\", \"people_fully_vaccinated_per_hundred\": 0.48, \"median_age\": 18.6}, {\"date\": \"2021-07-07T00:00:00\", \"location\": \"Afghanistan\", \"people_fully_vaccinated_per_hundred\": 0.5, \"median_age\": 18.6}, {\"date\": \"2021-07-11T00:00:00\", \"location\": \"Afghanistan\", \"people_fully_vaccinated_per_hundred\": 0.55, \"median_age\": 18.6}, {\"date\": \"2021-08-20T00:00:00\", \"location\": \"Afghanistan\", \"people_fully_vaccinated_per_hundred\": 1.08, \"median_age\": 18.6}, {\"date\": \"2021-11-14T00:00:00\", \"location\": \"Afghanistan\", \"people_fully_vaccinated_per_hundred\": 8.0, \"median_age\": 18.6}, {\"date\": \"2021-12-27T00:00:00\", \"location\": \"Afghanistan\", \"people_fully_vaccinated_per_hundred\": 9.42, \"median_age\": 18.6}, {\"date\": \"2022-01-09T00:00:00\", \"location\": \"Afghanistan\", \"people_fully_vaccinated_per_hundred\": 9.56, \"median_age\": 18.6}, {\"date\": \"2022-01-11T00:00:00\", \"location\": \"Afghanistan\", \"people_fully_vaccinated_per_hundred\": 9.58, \"median_age\": 18.6}, {\"date\": \"2022-01-13T00:00:00\", \"location\": \"Afghanistan\", \"people_fully_vaccinated_per_hundred\": 9.6, \"median_age\": 18.6}, {\"date\": \"2022-01-17T00:00:00\", \"location\": \"Afghanistan\", \"people_fully_vaccinated_per_hundred\": 9.62, \"median_age\": 18.6}, {\"date\": \"2022-01-19T00:00:00\", \"location\": \"Afghanistan\", \"people_fully_vaccinated_per_hundred\": 9.63, \"median_age\": 18.6}, {\"date\": \"2022-01-24T00:00:00\", \"location\": \"Afghanistan\", \"people_fully_vaccinated_per_hundred\": 9.67, \"median_age\": 18.6}, {\"date\": \"2022-01-26T00:00:00\", \"location\": \"Afghanistan\", \"people_fully_vaccinated_per_hundred\": 9.71, \"median_age\": 18.6}, {\"date\": \"2022-01-27T00:00:00\", \"location\": \"Afghanistan\", \"people_fully_vaccinated_per_hundred\": 9.71, \"median_age\": 18.6}, {\"date\": \"2022-01-31T00:00:00\", \"location\": \"Afghanistan\", \"people_fully_vaccinated_per_hundred\": 9.77, \"median_age\": 18.6}, {\"date\": \"2022-02-02T00:00:00\", \"location\": \"Afghanistan\", \"people_fully_vaccinated_per_hundred\": 9.82, \"median_age\": 18.6}]}}, {\"mode\": \"vega-lite\"});\n</script>"
                },
                "metadata": {}
              }
            ],
            "_view_module": "@jupyter-widgets/output",
            "_model_module_version": "1.0.0",
            "_view_count": null,
            "_view_module_version": "1.0.0",
            "layout": "IPY_MODEL_7b86eee495cd437d96c68be245e38459",
            "_model_module": "@jupyter-widgets/output"
          }
        },
        "cc815cdb4c034000a8693e9b5d60f298": {
          "model_module": "@jupyter-widgets/controls",
          "model_name": "DescriptionStyleModel",
          "model_module_version": "1.5.0",
          "state": {
            "_view_name": "StyleView",
            "_model_name": "DescriptionStyleModel",
            "description_width": "",
            "_view_module": "@jupyter-widgets/base",
            "_model_module_version": "1.5.0",
            "_view_count": null,
            "_view_module_version": "1.2.0",
            "_model_module": "@jupyter-widgets/controls"
          }
        },
        "191a9022894448c0958e11a1e60793a4": {
          "model_module": "@jupyter-widgets/base",
          "model_name": "LayoutModel",
          "model_module_version": "1.2.0",
          "state": {
            "_view_name": "LayoutView",
            "grid_template_rows": null,
            "right": null,
            "justify_content": null,
            "_view_module": "@jupyter-widgets/base",
            "overflow": null,
            "_model_module_version": "1.2.0",
            "_view_count": null,
            "flex_flow": null,
            "width": null,
            "min_width": null,
            "border": null,
            "align_items": null,
            "bottom": null,
            "_model_module": "@jupyter-widgets/base",
            "top": null,
            "grid_column": null,
            "overflow_y": null,
            "overflow_x": null,
            "grid_auto_flow": null,
            "grid_area": null,
            "grid_template_columns": null,
            "flex": null,
            "_model_name": "LayoutModel",
            "justify_items": null,
            "grid_row": null,
            "max_height": null,
            "align_content": null,
            "visibility": null,
            "align_self": null,
            "height": null,
            "min_height": null,
            "padding": null,
            "grid_auto_rows": null,
            "grid_gap": null,
            "max_width": null,
            "order": null,
            "_view_module_version": "1.2.0",
            "grid_template_areas": null,
            "object_position": null,
            "object_fit": null,
            "grid_auto_columns": null,
            "margin": null,
            "display": null,
            "left": null
          }
        },
        "7b86eee495cd437d96c68be245e38459": {
          "model_module": "@jupyter-widgets/base",
          "model_name": "LayoutModel",
          "model_module_version": "1.2.0",
          "state": {
            "_view_name": "LayoutView",
            "grid_template_rows": null,
            "right": null,
            "justify_content": null,
            "_view_module": "@jupyter-widgets/base",
            "overflow": null,
            "_model_module_version": "1.2.0",
            "_view_count": null,
            "flex_flow": null,
            "width": null,
            "min_width": null,
            "border": null,
            "align_items": null,
            "bottom": null,
            "_model_module": "@jupyter-widgets/base",
            "top": null,
            "grid_column": null,
            "overflow_y": null,
            "overflow_x": null,
            "grid_auto_flow": null,
            "grid_area": null,
            "grid_template_columns": null,
            "flex": null,
            "_model_name": "LayoutModel",
            "justify_items": null,
            "grid_row": null,
            "max_height": null,
            "align_content": null,
            "visibility": null,
            "align_self": null,
            "height": null,
            "min_height": null,
            "padding": null,
            "grid_auto_rows": null,
            "grid_gap": null,
            "max_width": null,
            "order": null,
            "_view_module_version": "1.2.0",
            "grid_template_areas": null,
            "object_position": null,
            "object_fit": null,
            "grid_auto_columns": null,
            "margin": null,
            "display": null,
            "left": null
          }
        },
        "ece959db80ad47959572aaf809fc228d": {
          "model_module": "@jupyter-widgets/controls",
          "model_name": "VBoxModel",
          "model_module_version": "1.5.0",
          "state": {
            "_view_name": "VBoxView",
            "_dom_classes": [
              "widget-interact"
            ],
            "_model_name": "VBoxModel",
            "_view_module": "@jupyter-widgets/controls",
            "_model_module_version": "1.5.0",
            "_view_count": null,
            "_view_module_version": "1.5.0",
            "box_style": "",
            "layout": "IPY_MODEL_d32df1a758d4461b9bbcd09374cbadd3",
            "_model_module": "@jupyter-widgets/controls",
            "children": [
              "IPY_MODEL_91ad76e0171a49009cb39390af9b6235",
              "IPY_MODEL_ab49f4d3352a442a87d42af5fe78feb8"
            ]
          }
        },
        "d32df1a758d4461b9bbcd09374cbadd3": {
          "model_module": "@jupyter-widgets/base",
          "model_name": "LayoutModel",
          "model_module_version": "1.2.0",
          "state": {
            "_view_name": "LayoutView",
            "grid_template_rows": null,
            "right": null,
            "justify_content": null,
            "_view_module": "@jupyter-widgets/base",
            "overflow": null,
            "_model_module_version": "1.2.0",
            "_view_count": null,
            "flex_flow": null,
            "width": null,
            "min_width": null,
            "border": null,
            "align_items": null,
            "bottom": null,
            "_model_module": "@jupyter-widgets/base",
            "top": null,
            "grid_column": null,
            "overflow_y": null,
            "overflow_x": null,
            "grid_auto_flow": null,
            "grid_area": null,
            "grid_template_columns": null,
            "flex": null,
            "_model_name": "LayoutModel",
            "justify_items": null,
            "grid_row": null,
            "max_height": null,
            "align_content": null,
            "visibility": null,
            "align_self": null,
            "height": null,
            "min_height": null,
            "padding": null,
            "grid_auto_rows": null,
            "grid_gap": null,
            "max_width": null,
            "order": null,
            "_view_module_version": "1.2.0",
            "grid_template_areas": null,
            "object_position": null,
            "object_fit": null,
            "grid_auto_columns": null,
            "margin": null,
            "display": null,
            "left": null
          }
        },
        "91ad76e0171a49009cb39390af9b6235": {
          "model_module": "@jupyter-widgets/controls",
          "model_name": "DropdownModel",
          "model_module_version": "1.5.0",
          "state": {
            "_options_labels": [
              "Belgium",
              "France",
              "United Kingdom",
              "Germany",
              "Netherlands"
            ],
            "_view_name": "DropdownView",
            "style": "IPY_MODEL_3472ac84744e4e78ba331a483f28aa08",
            "_dom_classes": [],
            "description": "country",
            "_model_name": "DropdownModel",
            "index": 0,
            "_view_module": "@jupyter-widgets/controls",
            "_model_module_version": "1.5.0",
            "_view_count": null,
            "disabled": false,
            "_view_module_version": "1.5.0",
            "description_tooltip": null,
            "_model_module": "@jupyter-widgets/controls",
            "layout": "IPY_MODEL_f5f13104d50e4a8f9111acc7fa5b139c"
          }
        },
        "ab49f4d3352a442a87d42af5fe78feb8": {
          "model_module": "@jupyter-widgets/output",
          "model_name": "OutputModel",
          "model_module_version": "1.0.0",
          "state": {
            "_view_name": "OutputView",
            "msg_id": "",
            "_dom_classes": [],
            "_model_name": "OutputModel",
            "outputs": [
              {
                "output_type": "stream",
                "name": "stdout",
                "text": [
                  "\n",
                  "The median age of your country is:  41.8 \n"
                ]
              },
              {
                "output_type": "stream",
                "name": "stdout",
                "text": [
                  "\n"
                ]
              },
              {
                "output_type": "display_data",
                "data": {
                  "text/plain": "alt.Chart(...)",
                  "text/html": "\n<div id=\"altair-viz-bada1ba7c9a34ded962758a60975dca8\"></div>\n<script type=\"text/javascript\">\n  var VEGA_DEBUG = (typeof VEGA_DEBUG == \"undefined\") ? {} : VEGA_DEBUG;\n  (function(spec, embedOpt){\n    let outputDiv = document.currentScript.previousElementSibling;\n    if (outputDiv.id !== \"altair-viz-bada1ba7c9a34ded962758a60975dca8\") {\n      outputDiv = document.getElementById(\"altair-viz-bada1ba7c9a34ded962758a60975dca8\");\n    }\n    const paths = {\n      \"vega\": \"https://cdn.jsdelivr.net/npm//vega@5?noext\",\n      \"vega-lib\": \"https://cdn.jsdelivr.net/npm//vega-lib?noext\",\n      \"vega-lite\": \"https://cdn.jsdelivr.net/npm//vega-lite@4.17.0?noext\",\n      \"vega-embed\": \"https://cdn.jsdelivr.net/npm//vega-embed@6?noext\",\n    };\n\n    function maybeLoadScript(lib, version) {\n      var key = `${lib.replace(\"-\", \"\")}_version`;\n      return (VEGA_DEBUG[key] == version) ?\n        Promise.resolve(paths[lib]) :\n        new Promise(function(resolve, reject) {\n          var s = document.createElement('script');\n          document.getElementsByTagName(\"head\")[0].appendChild(s);\n          s.async = true;\n          s.onload = () => {\n            VEGA_DEBUG[key] = version;\n            return resolve(paths[lib]);\n          };\n          s.onerror = () => reject(`Error loading script: ${paths[lib]}`);\n          s.src = paths[lib];\n        });\n    }\n\n    function showError(err) {\n      outputDiv.innerHTML = `<div class=\"error\" style=\"color:red;\">${err}</div>`;\n      throw err;\n    }\n\n    function displayChart(vegaEmbed) {\n      vegaEmbed(outputDiv, spec, embedOpt)\n        .catch(err => showError(`Javascript Error: ${err.message}<br>This usually means there's a typo in your chart specification. See the javascript console for the full traceback.`));\n    }\n\n    if(typeof define === \"function\" && define.amd) {\n      requirejs.config({paths});\n      require([\"vega-embed\"], displayChart, err => showError(`Error loading script: ${err.message}`));\n    } else {\n      maybeLoadScript(\"vega\", \"5\")\n        .then(() => maybeLoadScript(\"vega-lite\", \"4.17.0\"))\n        .then(() => maybeLoadScript(\"vega-embed\", \"6\"))\n        .catch(showError)\n        .then(() => displayChart(vegaEmbed));\n    }\n  })({\"config\": {\"view\": {\"continuousWidth\": 400, \"continuousHeight\": 300}}, \"data\": {\"name\": \"data-421839a6e1899e39b6beb5d767a61cee\"}, \"mark\": \"line\", \"encoding\": {\"color\": {\"aggregate\": \"median\", \"field\": \"median_age\", \"type\": \"quantitative\"}, \"column\": {\"field\": \"location\", \"type\": \"nominal\"}, \"x\": {\"field\": \"date\", \"title\": \"Time (days)\", \"type\": \"temporal\"}, \"y\": {\"aggregate\": \"mean\", \"field\": \"people_fully_vaccinated_per_hundred\", \"title\": \"Mean of fully vaccinated people per 100\", \"type\": \"quantitative\"}}, \"title\": \"Mean of people vaccinated per 100 people over time, starting from 1st Jan 2022\", \"$schema\": \"https://vega.github.io/schema/vega-lite/v4.17.0.json\", \"datasets\": {\"data-421839a6e1899e39b6beb5d767a61cee\": [{\"date\": \"2021-01-02T00:00:00\", \"location\": \"Belgium\", \"median_age\": 41.8, \"people_fully_vaccinated_per_hundred\": 0.0}, {\"date\": \"2021-01-03T00:00:00\", \"location\": \"Belgium\", \"median_age\": 41.8, \"people_fully_vaccinated_per_hundred\": 0.0}, {\"date\": \"2021-01-04T00:00:00\", \"location\": \"Belgium\", \"median_age\": 41.8, \"people_fully_vaccinated_per_hundred\": 0.0}, {\"date\": \"2021-01-05T00:00:00\", \"location\": \"Belgium\", \"median_age\": 41.8, \"people_fully_vaccinated_per_hundred\": 0.0}, {\"date\": \"2021-01-06T00:00:00\", \"location\": \"Belgium\", \"median_age\": 41.8, \"people_fully_vaccinated_per_hundred\": 0.0}, {\"date\": \"2021-01-07T00:00:00\", \"location\": \"Belgium\", \"median_age\": 41.8, \"people_fully_vaccinated_per_hundred\": 0.0}, {\"date\": \"2021-01-08T00:00:00\", \"location\": \"Belgium\", \"median_age\": 41.8, \"people_fully_vaccinated_per_hundred\": 0.0}, {\"date\": \"2021-01-09T00:00:00\", \"location\": \"Belgium\", \"median_age\": 41.8, \"people_fully_vaccinated_per_hundred\": 0.0}, {\"date\": \"2021-01-10T00:00:00\", \"location\": \"Belgium\", \"median_age\": 41.8, \"people_fully_vaccinated_per_hundred\": 0.0}, {\"date\": \"2021-01-11T00:00:00\", \"location\": \"Belgium\", \"median_age\": 41.8, \"people_fully_vaccinated_per_hundred\": 0.0}, {\"date\": \"2021-01-12T00:00:00\", \"location\": \"Belgium\", \"median_age\": 41.8, \"people_fully_vaccinated_per_hundred\": 0.0}, {\"date\": \"2021-01-13T00:00:00\", \"location\": \"Belgium\", \"median_age\": 41.8, \"people_fully_vaccinated_per_hundred\": 0.0}, {\"date\": \"2021-01-14T00:00:00\", \"location\": \"Belgium\", \"median_age\": 41.8, \"people_fully_vaccinated_per_hundred\": 0.0}, {\"date\": \"2021-01-15T00:00:00\", \"location\": \"Belgium\", \"median_age\": 41.8, \"people_fully_vaccinated_per_hundred\": 0.0}, {\"date\": \"2021-01-16T00:00:00\", \"location\": \"Belgium\", \"median_age\": 41.8, \"people_fully_vaccinated_per_hundred\": 0.0}, {\"date\": \"2021-01-17T00:00:00\", \"location\": \"Belgium\", \"median_age\": 41.8, \"people_fully_vaccinated_per_hundred\": 0.0}, {\"date\": \"2021-01-18T00:00:00\", \"location\": \"Belgium\", \"median_age\": 41.8, \"people_fully_vaccinated_per_hundred\": 0.01}, {\"date\": \"2021-01-19T00:00:00\", \"location\": \"Belgium\", \"median_age\": 41.8, \"people_fully_vaccinated_per_hundred\": 0.01}, {\"date\": \"2021-01-20T00:00:00\", \"location\": \"Belgium\", \"median_age\": 41.8, \"people_fully_vaccinated_per_hundred\": 0.01}, {\"date\": \"2021-01-21T00:00:00\", \"location\": \"Belgium\", \"median_age\": 41.8, \"people_fully_vaccinated_per_hundred\": 0.01}, {\"date\": \"2021-01-22T00:00:00\", \"location\": \"Belgium\", \"median_age\": 41.8, \"people_fully_vaccinated_per_hundred\": 0.01}, {\"date\": \"2021-01-23T00:00:00\", \"location\": \"Belgium\", \"median_age\": 41.8, \"people_fully_vaccinated_per_hundred\": 0.01}, {\"date\": \"2021-01-24T00:00:00\", \"location\": \"Belgium\", \"median_age\": 41.8, \"people_fully_vaccinated_per_hundred\": 0.01}, {\"date\": \"2021-01-25T00:00:00\", \"location\": \"Belgium\", \"median_age\": 41.8, \"people_fully_vaccinated_per_hundred\": 0.01}, {\"date\": \"2021-01-26T00:00:00\", \"location\": \"Belgium\", \"median_age\": 41.8, \"people_fully_vaccinated_per_hundred\": 0.03}, {\"date\": \"2021-01-27T00:00:00\", \"location\": \"Belgium\", \"median_age\": 41.8, \"people_fully_vaccinated_per_hundred\": 0.06}, {\"date\": \"2021-01-28T00:00:00\", \"location\": \"Belgium\", \"median_age\": 41.8, \"people_fully_vaccinated_per_hundred\": 0.13}, {\"date\": \"2021-01-29T00:00:00\", \"location\": \"Belgium\", \"median_age\": 41.8, \"people_fully_vaccinated_per_hundred\": 0.21}, {\"date\": \"2021-01-30T00:00:00\", \"location\": \"Belgium\", \"median_age\": 41.8, \"people_fully_vaccinated_per_hundred\": 0.23}, {\"date\": \"2021-01-31T00:00:00\", \"location\": \"Belgium\", \"median_age\": 41.8, \"people_fully_vaccinated_per_hundred\": 0.24}, {\"date\": \"2021-02-01T00:00:00\", \"location\": \"Belgium\", \"median_age\": 41.8, \"people_fully_vaccinated_per_hundred\": 0.27}, {\"date\": \"2021-02-02T00:00:00\", \"location\": \"Belgium\", \"median_age\": 41.8, \"people_fully_vaccinated_per_hundred\": 0.4}, {\"date\": \"2021-02-03T00:00:00\", \"location\": \"Belgium\", \"median_age\": 41.8, \"people_fully_vaccinated_per_hundred\": 0.57}, {\"date\": \"2021-02-04T00:00:00\", \"location\": \"Belgium\", \"median_age\": 41.8, \"people_fully_vaccinated_per_hundred\": 0.79}, {\"date\": \"2021-02-05T00:00:00\", \"location\": \"Belgium\", \"median_age\": 41.8, \"people_fully_vaccinated_per_hundred\": 0.98}, {\"date\": \"2021-02-06T00:00:00\", \"location\": \"Belgium\", \"median_age\": 41.8, \"people_fully_vaccinated_per_hundred\": 1.03}, {\"date\": \"2021-02-07T00:00:00\", \"location\": \"Belgium\", \"median_age\": 41.8, \"people_fully_vaccinated_per_hundred\": 1.06}, {\"date\": \"2021-02-08T00:00:00\", \"location\": \"Belgium\", \"median_age\": 41.8, \"people_fully_vaccinated_per_hundred\": 1.13}, {\"date\": \"2021-02-09T00:00:00\", \"location\": \"Belgium\", \"median_age\": 41.8, \"people_fully_vaccinated_per_hundred\": 1.3}, {\"date\": \"2021-02-10T00:00:00\", \"location\": \"Belgium\", \"median_age\": 41.8, \"people_fully_vaccinated_per_hundred\": 1.46}, {\"date\": \"2021-02-11T00:00:00\", \"location\": \"Belgium\", \"median_age\": 41.8, \"people_fully_vaccinated_per_hundred\": 1.71}, {\"date\": \"2021-02-12T00:00:00\", \"location\": \"Belgium\", \"median_age\": 41.8, \"people_fully_vaccinated_per_hundred\": 1.95}, {\"date\": \"2021-02-13T00:00:00\", \"location\": \"Belgium\", \"median_age\": 41.8, \"people_fully_vaccinated_per_hundred\": 2.02}, {\"date\": \"2021-02-14T00:00:00\", \"location\": \"Belgium\", \"median_age\": 41.8, \"people_fully_vaccinated_per_hundred\": 2.04}, {\"date\": \"2021-02-15T00:00:00\", \"location\": \"Belgium\", \"median_age\": 41.8, \"people_fully_vaccinated_per_hundred\": 2.14}, {\"date\": \"2021-02-16T00:00:00\", \"location\": \"Belgium\", \"median_age\": 41.8, \"people_fully_vaccinated_per_hundred\": 2.23}, {\"date\": \"2021-02-17T00:00:00\", \"location\": \"Belgium\", \"median_age\": 41.8, \"people_fully_vaccinated_per_hundred\": 2.35}, {\"date\": \"2021-02-18T00:00:00\", \"location\": \"Belgium\", \"median_age\": 41.8, \"people_fully_vaccinated_per_hundred\": 2.5}, {\"date\": \"2021-02-19T00:00:00\", \"location\": \"Belgium\", \"median_age\": 41.8, \"people_fully_vaccinated_per_hundred\": 2.61}, {\"date\": \"2021-02-20T00:00:00\", \"location\": \"Belgium\", \"median_age\": 41.8, \"people_fully_vaccinated_per_hundred\": 2.63}, {\"date\": \"2021-02-21T00:00:00\", \"location\": \"Belgium\", \"median_age\": 41.8, \"people_fully_vaccinated_per_hundred\": 2.63}, {\"date\": \"2021-02-22T00:00:00\", \"location\": \"Belgium\", \"median_age\": 41.8, \"people_fully_vaccinated_per_hundred\": 2.65}, {\"date\": \"2021-02-23T00:00:00\", \"location\": \"Belgium\", \"median_age\": 41.8, \"people_fully_vaccinated_per_hundred\": 2.73}, {\"date\": \"2021-02-24T00:00:00\", \"location\": \"Belgium\", \"median_age\": 41.8, \"people_fully_vaccinated_per_hundred\": 2.8}, {\"date\": \"2021-02-25T00:00:00\", \"location\": \"Belgium\", \"median_age\": 41.8, \"people_fully_vaccinated_per_hundred\": 2.88}, {\"date\": \"2021-02-26T00:00:00\", \"location\": \"Belgium\", \"median_age\": 41.8, \"people_fully_vaccinated_per_hundred\": 2.94}, {\"date\": \"2021-02-27T00:00:00\", \"location\": \"Belgium\", \"median_age\": 41.8, \"people_fully_vaccinated_per_hundred\": 2.95}, {\"date\": \"2021-02-28T00:00:00\", \"location\": \"Belgium\", \"median_age\": 41.8, \"people_fully_vaccinated_per_hundred\": 2.95}, {\"date\": \"2021-03-01T00:00:00\", \"location\": \"Belgium\", \"median_age\": 41.8, \"people_fully_vaccinated_per_hundred\": 2.98}, {\"date\": \"2021-03-02T00:00:00\", \"location\": \"Belgium\", \"median_age\": 41.8, \"people_fully_vaccinated_per_hundred\": 3.04}, {\"date\": \"2021-03-03T00:00:00\", \"location\": \"Belgium\", \"median_age\": 41.8, \"people_fully_vaccinated_per_hundred\": 3.09}, {\"date\": \"2021-03-04T00:00:00\", \"location\": \"Belgium\", \"median_age\": 41.8, \"people_fully_vaccinated_per_hundred\": 3.17}, {\"date\": \"2021-03-05T00:00:00\", \"location\": \"Belgium\", \"median_age\": 41.8, \"people_fully_vaccinated_per_hundred\": 3.23}, {\"date\": \"2021-03-06T00:00:00\", \"location\": \"Belgium\", \"median_age\": 41.8, \"people_fully_vaccinated_per_hundred\": 3.23}, {\"date\": \"2021-03-07T00:00:00\", \"location\": \"Belgium\", \"median_age\": 41.8, \"people_fully_vaccinated_per_hundred\": 3.23}, {\"date\": \"2021-03-08T00:00:00\", \"location\": \"Belgium\", \"median_age\": 41.8, \"people_fully_vaccinated_per_hundred\": 3.25}, {\"date\": \"2021-03-09T00:00:00\", \"location\": \"Belgium\", \"median_age\": 41.8, \"people_fully_vaccinated_per_hundred\": 3.32}, {\"date\": \"2021-03-10T00:00:00\", \"location\": \"Belgium\", \"median_age\": 41.8, \"people_fully_vaccinated_per_hundred\": 3.4}, {\"date\": \"2021-03-11T00:00:00\", \"location\": \"Belgium\", \"median_age\": 41.8, \"people_fully_vaccinated_per_hundred\": 3.49}, {\"date\": \"2021-03-12T00:00:00\", \"location\": \"Belgium\", \"median_age\": 41.8, \"people_fully_vaccinated_per_hundred\": 3.6}, {\"date\": \"2021-03-13T00:00:00\", \"location\": \"Belgium\", \"median_age\": 41.8, \"people_fully_vaccinated_per_hundred\": 3.62}, {\"date\": \"2021-03-14T00:00:00\", \"location\": \"Belgium\", \"median_age\": 41.8, \"people_fully_vaccinated_per_hundred\": 3.64}, {\"date\": \"2021-03-15T00:00:00\", \"location\": \"Belgium\", \"median_age\": 41.8, \"people_fully_vaccinated_per_hundred\": 3.68}, {\"date\": \"2021-03-16T00:00:00\", \"location\": \"Belgium\", \"median_age\": 41.8, \"people_fully_vaccinated_per_hundred\": 3.71}, {\"date\": \"2021-03-17T00:00:00\", \"location\": \"Belgium\", \"median_age\": 41.8, \"people_fully_vaccinated_per_hundred\": 3.79}, {\"date\": \"2021-03-18T00:00:00\", \"location\": \"Belgium\", \"median_age\": 41.8, \"people_fully_vaccinated_per_hundred\": 3.94}, {\"date\": \"2021-03-19T00:00:00\", \"location\": \"Belgium\", \"median_age\": 41.8, \"people_fully_vaccinated_per_hundred\": 4.1}, {\"date\": \"2021-03-20T00:00:00\", \"location\": \"Belgium\", \"median_age\": 41.8, \"people_fully_vaccinated_per_hundred\": 4.11}, {\"date\": \"2021-03-21T00:00:00\", \"location\": \"Belgium\", \"median_age\": 41.8, \"people_fully_vaccinated_per_hundred\": 4.12}, {\"date\": \"2021-03-22T00:00:00\", \"location\": \"Belgium\", \"median_age\": 41.8, \"people_fully_vaccinated_per_hundred\": 4.17}, {\"date\": \"2021-03-23T00:00:00\", \"location\": \"Belgium\", \"median_age\": 41.8, \"people_fully_vaccinated_per_hundred\": 4.22}, {\"date\": \"2021-03-24T00:00:00\", \"location\": \"Belgium\", \"median_age\": 41.8, \"people_fully_vaccinated_per_hundred\": 4.31}, {\"date\": \"2021-03-25T00:00:00\", \"location\": \"Belgium\", \"median_age\": 41.8, \"people_fully_vaccinated_per_hundred\": 4.48}, {\"date\": \"2021-03-26T00:00:00\", \"location\": \"Belgium\", \"median_age\": 41.8, \"people_fully_vaccinated_per_hundred\": 4.66}, {\"date\": \"2021-03-27T00:00:00\", \"location\": \"Belgium\", \"median_age\": 41.8, \"people_fully_vaccinated_per_hundred\": 4.69}, {\"date\": \"2021-03-28T00:00:00\", \"location\": \"Belgium\", \"median_age\": 41.8, \"people_fully_vaccinated_per_hundred\": 4.7}, {\"date\": \"2021-03-29T00:00:00\", \"location\": \"Belgium\", \"median_age\": 41.8, \"people_fully_vaccinated_per_hundred\": 4.74}, {\"date\": \"2021-03-30T00:00:00\", \"location\": \"Belgium\", \"median_age\": 41.8, \"people_fully_vaccinated_per_hundred\": 4.79}, {\"date\": \"2021-03-31T00:00:00\", \"location\": \"Belgium\", \"median_age\": 41.8, \"people_fully_vaccinated_per_hundred\": 4.89}, {\"date\": \"2021-04-01T00:00:00\", \"location\": \"Belgium\", \"median_age\": 41.8, \"people_fully_vaccinated_per_hundred\": 5.11}, {\"date\": \"2021-04-02T00:00:00\", \"location\": \"Belgium\", \"median_age\": 41.8, \"people_fully_vaccinated_per_hundred\": 5.28}, {\"date\": \"2021-04-03T00:00:00\", \"location\": \"Belgium\", \"median_age\": 41.8, \"people_fully_vaccinated_per_hundred\": 5.29}, {\"date\": \"2021-04-04T00:00:00\", \"location\": \"Belgium\", \"median_age\": 41.8, \"people_fully_vaccinated_per_hundred\": 5.29}, {\"date\": \"2021-04-05T00:00:00\", \"location\": \"Belgium\", \"median_age\": 41.8, \"people_fully_vaccinated_per_hundred\": 5.31}, {\"date\": \"2021-04-06T00:00:00\", \"location\": \"Belgium\", \"median_age\": 41.8, \"people_fully_vaccinated_per_hundred\": 5.39}, {\"date\": \"2021-04-07T00:00:00\", \"location\": \"Belgium\", \"median_age\": 41.8, \"people_fully_vaccinated_per_hundred\": 5.48}, {\"date\": \"2021-04-08T00:00:00\", \"location\": \"Belgium\", \"median_age\": 41.8, \"people_fully_vaccinated_per_hundred\": 5.63}, {\"date\": \"2021-04-09T00:00:00\", \"location\": \"Belgium\", \"median_age\": 41.8, \"people_fully_vaccinated_per_hundred\": 5.76}, {\"date\": \"2021-04-10T00:00:00\", \"location\": \"Belgium\", \"median_age\": 41.8, \"people_fully_vaccinated_per_hundred\": 5.8}, {\"date\": \"2021-04-11T00:00:00\", \"location\": \"Belgium\", \"median_age\": 41.8, \"people_fully_vaccinated_per_hundred\": 5.8}, {\"date\": \"2021-04-12T00:00:00\", \"location\": \"Belgium\", \"median_age\": 41.8, \"people_fully_vaccinated_per_hundred\": 5.88}, {\"date\": \"2021-04-13T00:00:00\", \"location\": \"Belgium\", \"median_age\": 41.8, \"people_fully_vaccinated_per_hundred\": 5.96}, {\"date\": \"2021-04-14T00:00:00\", \"location\": \"Belgium\", \"median_age\": 41.8, \"people_fully_vaccinated_per_hundred\": 6.17}, {\"date\": \"2021-04-15T00:00:00\", \"location\": \"Belgium\", \"median_age\": 41.8, \"people_fully_vaccinated_per_hundred\": 6.4}, {\"date\": \"2021-04-16T00:00:00\", \"location\": \"Belgium\", \"median_age\": 41.8, \"people_fully_vaccinated_per_hundred\": 6.55}, {\"date\": \"2021-04-17T00:00:00\", \"location\": \"Belgium\", \"median_age\": 41.8, \"people_fully_vaccinated_per_hundred\": 6.6}, {\"date\": \"2021-04-18T00:00:00\", \"location\": \"Belgium\", \"median_age\": 41.8, \"people_fully_vaccinated_per_hundred\": 6.61}, {\"date\": \"2021-04-19T00:00:00\", \"location\": \"Belgium\", \"median_age\": 41.8, \"people_fully_vaccinated_per_hundred\": 6.64}, {\"date\": \"2021-04-20T00:00:00\", \"location\": \"Belgium\", \"median_age\": 41.8, \"people_fully_vaccinated_per_hundred\": 6.67}, {\"date\": \"2021-04-21T00:00:00\", \"location\": \"Belgium\", \"median_age\": 41.8, \"people_fully_vaccinated_per_hundred\": 6.71}, {\"date\": \"2021-04-22T00:00:00\", \"location\": \"Belgium\", \"median_age\": 41.8, \"people_fully_vaccinated_per_hundred\": 6.77}, {\"date\": \"2021-04-23T00:00:00\", \"location\": \"Belgium\", \"median_age\": 41.8, \"people_fully_vaccinated_per_hundred\": 6.83}, {\"date\": \"2021-04-24T00:00:00\", \"location\": \"Belgium\", \"median_age\": 41.8, \"people_fully_vaccinated_per_hundred\": 6.85}, {\"date\": \"2021-04-25T00:00:00\", \"location\": \"Belgium\", \"median_age\": 41.8, \"people_fully_vaccinated_per_hundred\": 6.85}, {\"date\": \"2021-04-26T00:00:00\", \"location\": \"Belgium\", \"median_age\": 41.8, \"people_fully_vaccinated_per_hundred\": 6.91}, {\"date\": \"2021-04-27T00:00:00\", \"location\": \"Belgium\", \"median_age\": 41.8, \"people_fully_vaccinated_per_hundred\": 7.04}, {\"date\": \"2021-04-28T00:00:00\", \"location\": \"Belgium\", \"median_age\": 41.8, \"people_fully_vaccinated_per_hundred\": 7.17}, {\"date\": \"2021-04-29T00:00:00\", \"location\": \"Belgium\", \"median_age\": 41.8, \"people_fully_vaccinated_per_hundred\": 7.35}, {\"date\": \"2021-04-30T00:00:00\", \"location\": \"Belgium\", \"median_age\": 41.8, \"people_fully_vaccinated_per_hundred\": 7.54}, {\"date\": \"2021-05-01T00:00:00\", \"location\": \"Belgium\", \"median_age\": 41.8, \"people_fully_vaccinated_per_hundred\": 7.62}, {\"date\": \"2021-05-02T00:00:00\", \"location\": \"Belgium\", \"median_age\": 41.8, \"people_fully_vaccinated_per_hundred\": 7.62}, {\"date\": \"2021-05-03T00:00:00\", \"location\": \"Belgium\", \"median_age\": 41.8, \"people_fully_vaccinated_per_hundred\": 7.75}, {\"date\": \"2021-05-04T00:00:00\", \"location\": \"Belgium\", \"median_age\": 41.8, \"people_fully_vaccinated_per_hundred\": 7.91}, {\"date\": \"2021-05-05T00:00:00\", \"location\": \"Belgium\", \"median_age\": 41.8, \"people_fully_vaccinated_per_hundred\": 8.56}, {\"date\": \"2021-05-06T00:00:00\", \"location\": \"Belgium\", \"median_age\": 41.8, \"people_fully_vaccinated_per_hundred\": 9.23}, {\"date\": \"2021-05-07T00:00:00\", \"location\": \"Belgium\", \"median_age\": 41.8, \"people_fully_vaccinated_per_hundred\": 9.75}, {\"date\": \"2021-05-08T00:00:00\", \"location\": \"Belgium\", \"median_age\": 41.8, \"people_fully_vaccinated_per_hundred\": 9.85}, {\"date\": \"2021-05-09T00:00:00\", \"location\": \"Belgium\", \"median_age\": 41.8, \"people_fully_vaccinated_per_hundred\": 9.85}, {\"date\": \"2021-05-10T00:00:00\", \"location\": \"Belgium\", \"median_age\": 41.8, \"people_fully_vaccinated_per_hundred\": 9.9}, {\"date\": \"2021-05-11T00:00:00\", \"location\": \"Belgium\", \"median_age\": 41.8, \"people_fully_vaccinated_per_hundred\": 10.0}, {\"date\": \"2021-05-12T00:00:00\", \"location\": \"Belgium\", \"median_age\": 41.8, \"people_fully_vaccinated_per_hundred\": 10.26}, {\"date\": \"2021-05-13T00:00:00\", \"location\": \"Belgium\", \"median_age\": 41.8, \"people_fully_vaccinated_per_hundred\": 10.95}, {\"date\": \"2021-05-14T00:00:00\", \"location\": \"Belgium\", \"median_age\": 41.8, \"people_fully_vaccinated_per_hundred\": 11.85}, {\"date\": \"2021-05-15T00:00:00\", \"location\": \"Belgium\", \"median_age\": 41.8, \"people_fully_vaccinated_per_hundred\": 12.33}, {\"date\": \"2021-05-16T00:00:00\", \"location\": \"Belgium\", \"median_age\": 41.8, \"people_fully_vaccinated_per_hundred\": 12.37}, {\"date\": \"2021-05-17T00:00:00\", \"location\": \"Belgium\", \"median_age\": 41.8, \"people_fully_vaccinated_per_hundred\": 12.59}, {\"date\": \"2021-05-18T00:00:00\", \"location\": \"Belgium\", \"median_age\": 41.8, \"people_fully_vaccinated_per_hundred\": 12.89}, {\"date\": \"2021-05-19T00:00:00\", \"location\": \"Belgium\", \"median_age\": 41.8, \"people_fully_vaccinated_per_hundred\": 13.47}, {\"date\": \"2021-05-20T00:00:00\", \"location\": \"Belgium\", \"median_age\": 41.8, \"people_fully_vaccinated_per_hundred\": 14.19}, {\"date\": \"2021-05-21T00:00:00\", \"location\": \"Belgium\", \"median_age\": 41.8, \"people_fully_vaccinated_per_hundred\": 14.72}, {\"date\": \"2021-05-22T00:00:00\", \"location\": \"Belgium\", \"median_age\": 41.8, \"people_fully_vaccinated_per_hundred\": 15.12}, {\"date\": \"2021-05-23T00:00:00\", \"location\": \"Belgium\", \"median_age\": 41.8, \"people_fully_vaccinated_per_hundred\": 15.14}, {\"date\": \"2021-05-24T00:00:00\", \"location\": \"Belgium\", \"median_age\": 41.8, \"people_fully_vaccinated_per_hundred\": 15.46}, {\"date\": \"2021-05-25T00:00:00\", \"location\": \"Belgium\", \"median_age\": 41.8, \"people_fully_vaccinated_per_hundred\": 15.87}, {\"date\": \"2021-05-26T00:00:00\", \"location\": \"Belgium\", \"median_age\": 41.8, \"people_fully_vaccinated_per_hundred\": 16.66}, {\"date\": \"2021-05-27T00:00:00\", \"location\": \"Belgium\", \"median_age\": 41.8, \"people_fully_vaccinated_per_hundred\": 17.55}, {\"date\": \"2021-05-28T00:00:00\", \"location\": \"Belgium\", \"median_age\": 41.8, \"people_fully_vaccinated_per_hundred\": 18.22}, {\"date\": \"2021-05-29T00:00:00\", \"location\": \"Belgium\", \"median_age\": 41.8, \"people_fully_vaccinated_per_hundred\": 18.65}, {\"date\": \"2021-05-30T00:00:00\", \"location\": \"Belgium\", \"median_age\": 41.8, \"people_fully_vaccinated_per_hundred\": 18.72}, {\"date\": \"2021-05-31T00:00:00\", \"location\": \"Belgium\", \"median_age\": 41.8, \"people_fully_vaccinated_per_hundred\": 19.22}, {\"date\": \"2021-06-01T00:00:00\", \"location\": \"Belgium\", \"median_age\": 41.8, \"people_fully_vaccinated_per_hundred\": 19.63}, {\"date\": \"2021-06-02T00:00:00\", \"location\": \"Belgium\", \"median_age\": 41.8, \"people_fully_vaccinated_per_hundred\": 20.41}, {\"date\": \"2021-06-03T00:00:00\", \"location\": \"Belgium\", \"median_age\": 41.8, \"people_fully_vaccinated_per_hundred\": 21.25}, {\"date\": \"2021-06-04T00:00:00\", \"location\": \"Belgium\", \"median_age\": 41.8, \"people_fully_vaccinated_per_hundred\": 21.89}, {\"date\": \"2021-06-05T00:00:00\", \"location\": \"Belgium\", \"median_age\": 41.8, \"people_fully_vaccinated_per_hundred\": 22.34}, {\"date\": \"2021-06-06T00:00:00\", \"location\": \"Belgium\", \"median_age\": 41.8, \"people_fully_vaccinated_per_hundred\": 22.39}, {\"date\": \"2021-06-07T00:00:00\", \"location\": \"Belgium\", \"median_age\": 41.8, \"people_fully_vaccinated_per_hundred\": 23.06}, {\"date\": \"2021-06-08T00:00:00\", \"location\": \"Belgium\", \"median_age\": 41.8, \"people_fully_vaccinated_per_hundred\": 23.76}, {\"date\": \"2021-06-09T00:00:00\", \"location\": \"Belgium\", \"median_age\": 41.8, \"people_fully_vaccinated_per_hundred\": 24.71}, {\"date\": \"2021-06-10T00:00:00\", \"location\": \"Belgium\", \"median_age\": 41.8, \"people_fully_vaccinated_per_hundred\": 25.73}, {\"date\": \"2021-06-11T00:00:00\", \"location\": \"Belgium\", \"median_age\": 41.8, \"people_fully_vaccinated_per_hundred\": 26.69}, {\"date\": \"2021-06-12T00:00:00\", \"location\": \"Belgium\", \"median_age\": 41.8, \"people_fully_vaccinated_per_hundred\": 27.3}, {\"date\": \"2021-06-13T00:00:00\", \"location\": \"Belgium\", \"median_age\": 41.8, \"people_fully_vaccinated_per_hundred\": 27.38}, {\"date\": \"2021-06-14T00:00:00\", \"location\": \"Belgium\", \"median_age\": 41.8, \"people_fully_vaccinated_per_hundred\": 28.15}, {\"date\": \"2021-06-15T00:00:00\", \"location\": \"Belgium\", \"median_age\": 41.8, \"people_fully_vaccinated_per_hundred\": 28.87}, {\"date\": \"2021-06-16T00:00:00\", \"location\": \"Belgium\", \"median_age\": 41.8, \"people_fully_vaccinated_per_hundred\": 29.55}, {\"date\": \"2021-06-17T00:00:00\", \"location\": \"Belgium\", \"median_age\": 41.8, \"people_fully_vaccinated_per_hundred\": 30.04}, {\"date\": \"2021-06-18T00:00:00\", \"location\": \"Belgium\", \"median_age\": 41.8, \"people_fully_vaccinated_per_hundred\": 30.56}, {\"date\": \"2021-06-19T00:00:00\", \"location\": \"Belgium\", \"median_age\": 41.8, \"people_fully_vaccinated_per_hundred\": 30.83}, {\"date\": \"2021-06-20T00:00:00\", \"location\": \"Belgium\", \"median_age\": 41.8, \"people_fully_vaccinated_per_hundred\": 30.85}, {\"date\": \"2021-06-21T00:00:00\", \"location\": \"Belgium\", \"median_age\": 41.8, \"people_fully_vaccinated_per_hundred\": 31.19}, {\"date\": \"2021-06-22T00:00:00\", \"location\": \"Belgium\", \"median_age\": 41.8, \"people_fully_vaccinated_per_hundred\": 31.67}, {\"date\": \"2021-06-23T00:00:00\", \"location\": \"Belgium\", \"median_age\": 41.8, \"people_fully_vaccinated_per_hundred\": 32.23}, {\"date\": \"2021-06-24T00:00:00\", \"location\": \"Belgium\", \"median_age\": 41.8, \"people_fully_vaccinated_per_hundred\": 32.76}, {\"date\": \"2021-06-25T00:00:00\", \"location\": \"Belgium\", \"median_age\": 41.8, \"people_fully_vaccinated_per_hundred\": 33.21}, {\"date\": \"2021-06-26T00:00:00\", \"location\": \"Belgium\", \"median_age\": 41.8, \"people_fully_vaccinated_per_hundred\": 33.64}, {\"date\": \"2021-06-27T00:00:00\", \"location\": \"Belgium\", \"median_age\": 41.8, \"people_fully_vaccinated_per_hundred\": 33.7}, {\"date\": \"2021-06-28T00:00:00\", \"location\": \"Belgium\", \"median_age\": 41.8, \"people_fully_vaccinated_per_hundred\": 34.18}, {\"date\": \"2021-06-29T00:00:00\", \"location\": \"Belgium\", \"median_age\": 41.8, \"people_fully_vaccinated_per_hundred\": 34.78}, {\"date\": \"2021-06-30T00:00:00\", \"location\": \"Belgium\", \"median_age\": 41.8, \"people_fully_vaccinated_per_hundred\": 35.19}, {\"date\": \"2021-07-01T00:00:00\", \"location\": \"Belgium\", \"median_age\": 41.8, \"people_fully_vaccinated_per_hundred\": 35.61}, {\"date\": \"2021-07-02T00:00:00\", \"location\": \"Belgium\", \"median_age\": 41.8, \"people_fully_vaccinated_per_hundred\": 35.98}, {\"date\": \"2021-07-03T00:00:00\", \"location\": \"Belgium\", \"median_age\": 41.8, \"people_fully_vaccinated_per_hundred\": 36.43}, {\"date\": \"2021-07-04T00:00:00\", \"location\": \"Belgium\", \"median_age\": 41.8, \"people_fully_vaccinated_per_hundred\": 36.49}, {\"date\": \"2021-07-05T00:00:00\", \"location\": \"Belgium\", \"median_age\": 41.8, \"people_fully_vaccinated_per_hundred\": 37.34}, {\"date\": \"2021-07-06T00:00:00\", \"location\": \"Belgium\", \"median_age\": 41.8, \"people_fully_vaccinated_per_hundred\": 38.17}, {\"date\": \"2021-07-07T00:00:00\", \"location\": \"Belgium\", \"median_age\": 41.8, \"people_fully_vaccinated_per_hundred\": 39.23}, {\"date\": \"2021-07-08T00:00:00\", \"location\": \"Belgium\", \"median_age\": 41.8, \"people_fully_vaccinated_per_hundred\": 40.37}, {\"date\": \"2021-07-09T00:00:00\", \"location\": \"Belgium\", \"median_age\": 41.8, \"people_fully_vaccinated_per_hundred\": 41.36}, {\"date\": \"2021-07-10T00:00:00\", \"location\": \"Belgium\", \"median_age\": 41.8, \"people_fully_vaccinated_per_hundred\": 42.32}, {\"date\": \"2021-07-11T00:00:00\", \"location\": \"Belgium\", \"median_age\": 41.8, \"people_fully_vaccinated_per_hundred\": 42.55}, {\"date\": \"2021-07-12T00:00:00\", \"location\": \"Belgium\", \"median_age\": 41.8, \"people_fully_vaccinated_per_hundred\": 43.61}, {\"date\": \"2021-07-13T00:00:00\", \"location\": \"Belgium\", \"median_age\": 41.8, \"people_fully_vaccinated_per_hundred\": 44.43}, {\"date\": \"2021-07-14T00:00:00\", \"location\": \"Belgium\", \"median_age\": 41.8, \"people_fully_vaccinated_per_hundred\": 45.42}, {\"date\": \"2021-07-15T00:00:00\", \"location\": \"Belgium\", \"median_age\": 41.8, \"people_fully_vaccinated_per_hundred\": 46.35}, {\"date\": \"2021-07-16T00:00:00\", \"location\": \"Belgium\", \"median_age\": 41.8, \"people_fully_vaccinated_per_hundred\": 47.3}, {\"date\": \"2021-07-17T00:00:00\", \"location\": \"Belgium\", \"median_age\": 41.8, \"people_fully_vaccinated_per_hundred\": 48.04}, {\"date\": \"2021-07-18T00:00:00\", \"location\": \"Belgium\", \"median_age\": 41.8, \"people_fully_vaccinated_per_hundred\": 48.14}, {\"date\": \"2021-07-19T00:00:00\", \"location\": \"Belgium\", \"median_age\": 41.8, \"people_fully_vaccinated_per_hundred\": 49.09}, {\"date\": \"2021-07-20T00:00:00\", \"location\": \"Belgium\", \"median_age\": 41.8, \"people_fully_vaccinated_per_hundred\": 49.94}, {\"date\": \"2021-07-21T00:00:00\", \"location\": \"Belgium\", \"median_age\": 41.8, \"people_fully_vaccinated_per_hundred\": 50.69}, {\"date\": \"2021-07-22T00:00:00\", \"location\": \"Belgium\", \"median_age\": 41.8, \"people_fully_vaccinated_per_hundred\": 52.07}, {\"date\": \"2021-07-23T00:00:00\", \"location\": \"Belgium\", \"median_age\": 41.8, \"people_fully_vaccinated_per_hundred\": 53.28}, {\"date\": \"2021-07-24T00:00:00\", \"location\": \"Belgium\", \"median_age\": 41.8, \"people_fully_vaccinated_per_hundred\": 53.99}, {\"date\": \"2021-07-25T00:00:00\", \"location\": \"Belgium\", \"median_age\": 41.8, \"people_fully_vaccinated_per_hundred\": 54.1}, {\"date\": \"2021-07-26T00:00:00\", \"location\": \"Belgium\", \"median_age\": 41.8, \"people_fully_vaccinated_per_hundred\": 54.96}, {\"date\": \"2021-07-27T00:00:00\", \"location\": \"Belgium\", \"median_age\": 41.8, \"people_fully_vaccinated_per_hundred\": 55.74}, {\"date\": \"2021-07-28T00:00:00\", \"location\": \"Belgium\", \"median_age\": 41.8, \"people_fully_vaccinated_per_hundred\": 56.87}, {\"date\": \"2021-07-29T00:00:00\", \"location\": \"Belgium\", \"median_age\": 41.8, \"people_fully_vaccinated_per_hundred\": 57.94}, {\"date\": \"2021-07-30T00:00:00\", \"location\": \"Belgium\", \"median_age\": 41.8, \"people_fully_vaccinated_per_hundred\": 58.96}, {\"date\": \"2021-07-31T00:00:00\", \"location\": \"Belgium\", \"median_age\": 41.8, \"people_fully_vaccinated_per_hundred\": 59.57}, {\"date\": \"2021-08-01T00:00:00\", \"location\": \"Belgium\", \"median_age\": 41.8, \"people_fully_vaccinated_per_hundred\": 59.66}, {\"date\": \"2021-08-02T00:00:00\", \"location\": \"Belgium\", \"median_age\": 41.8, \"people_fully_vaccinated_per_hundred\": 60.41}, {\"date\": \"2021-08-03T00:00:00\", \"location\": \"Belgium\", \"median_age\": 41.8, \"people_fully_vaccinated_per_hundred\": 61.04}, {\"date\": \"2021-08-04T00:00:00\", \"location\": \"Belgium\", \"median_age\": 41.8, \"people_fully_vaccinated_per_hundred\": 61.79}, {\"date\": \"2021-08-05T00:00:00\", \"location\": \"Belgium\", \"median_age\": 41.8, \"people_fully_vaccinated_per_hundred\": 62.58}, {\"date\": \"2021-08-06T00:00:00\", \"location\": \"Belgium\", \"median_age\": 41.8, \"people_fully_vaccinated_per_hundred\": 63.33}, {\"date\": \"2021-08-07T00:00:00\", \"location\": \"Belgium\", \"median_age\": 41.8, \"people_fully_vaccinated_per_hundred\": 63.67}, {\"date\": \"2021-08-08T00:00:00\", \"location\": \"Belgium\", \"median_age\": 41.8, \"people_fully_vaccinated_per_hundred\": 63.71}, {\"date\": \"2021-08-09T00:00:00\", \"location\": \"Belgium\", \"median_age\": 41.8, \"people_fully_vaccinated_per_hundred\": 64.17}, {\"date\": \"2021-08-10T00:00:00\", \"location\": \"Belgium\", \"median_age\": 41.8, \"people_fully_vaccinated_per_hundred\": 64.74}, {\"date\": \"2021-08-11T00:00:00\", \"location\": \"Belgium\", \"median_age\": 41.8, \"people_fully_vaccinated_per_hundred\": 65.27}, {\"date\": \"2021-08-12T00:00:00\", \"location\": \"Belgium\", \"median_age\": 41.8, \"people_fully_vaccinated_per_hundred\": 65.8}, {\"date\": \"2021-08-13T00:00:00\", \"location\": \"Belgium\", \"median_age\": 41.8, \"people_fully_vaccinated_per_hundred\": 66.21}, {\"date\": \"2021-08-14T00:00:00\", \"location\": \"Belgium\", \"median_age\": 41.8, \"people_fully_vaccinated_per_hundred\": 66.4}, {\"date\": \"2021-08-15T00:00:00\", \"location\": \"Belgium\", \"median_age\": 41.8, \"people_fully_vaccinated_per_hundred\": 66.41}, {\"date\": \"2021-08-16T00:00:00\", \"location\": \"Belgium\", \"median_age\": 41.8, \"people_fully_vaccinated_per_hundred\": 66.69}, {\"date\": \"2021-08-17T00:00:00\", \"location\": \"Belgium\", \"median_age\": 41.8, \"people_fully_vaccinated_per_hundred\": 67.0}, {\"date\": \"2021-08-18T00:00:00\", \"location\": \"Belgium\", \"median_age\": 41.8, \"people_fully_vaccinated_per_hundred\": 67.36}, {\"date\": \"2021-08-19T00:00:00\", \"location\": \"Belgium\", \"median_age\": 41.8, \"people_fully_vaccinated_per_hundred\": 67.7}, {\"date\": \"2021-08-20T00:00:00\", \"location\": \"Belgium\", \"median_age\": 41.8, \"people_fully_vaccinated_per_hundred\": 68.0}, {\"date\": \"2021-08-21T00:00:00\", \"location\": \"Belgium\", \"median_age\": 41.8, \"people_fully_vaccinated_per_hundred\": 68.16}, {\"date\": \"2021-08-22T00:00:00\", \"location\": \"Belgium\", \"median_age\": 41.8, \"people_fully_vaccinated_per_hundred\": 68.19}, {\"date\": \"2021-08-23T00:00:00\", \"location\": \"Belgium\", \"median_age\": 41.8, \"people_fully_vaccinated_per_hundred\": 68.47}, {\"date\": \"2021-08-24T00:00:00\", \"location\": \"Belgium\", \"median_age\": 41.8, \"people_fully_vaccinated_per_hundred\": 68.76}, {\"date\": \"2021-08-25T00:00:00\", \"location\": \"Belgium\", \"median_age\": 41.8, \"people_fully_vaccinated_per_hundred\": 69.06}, {\"date\": \"2021-08-26T00:00:00\", \"location\": \"Belgium\", \"median_age\": 41.8, \"people_fully_vaccinated_per_hundred\": 69.4}, {\"date\": \"2021-08-27T00:00:00\", \"location\": \"Belgium\", \"median_age\": 41.8, \"people_fully_vaccinated_per_hundred\": 69.68}, {\"date\": \"2021-08-28T00:00:00\", \"location\": \"Belgium\", \"median_age\": 41.8, \"people_fully_vaccinated_per_hundred\": 69.92}, {\"date\": \"2021-08-29T00:00:00\", \"location\": \"Belgium\", \"median_age\": 41.8, \"people_fully_vaccinated_per_hundred\": 69.93}, {\"date\": \"2021-08-30T00:00:00\", \"location\": \"Belgium\", \"median_age\": 41.8, \"people_fully_vaccinated_per_hundred\": 70.16}, {\"date\": \"2021-08-31T00:00:00\", \"location\": \"Belgium\", \"median_age\": 41.8, \"people_fully_vaccinated_per_hundred\": 70.42}, {\"date\": \"2021-09-01T00:00:00\", \"location\": \"Belgium\", \"median_age\": 41.8, \"people_fully_vaccinated_per_hundred\": 70.55}, {\"date\": \"2021-09-02T00:00:00\", \"location\": \"Belgium\", \"median_age\": 41.8, \"people_fully_vaccinated_per_hundred\": 70.65}, {\"date\": \"2021-09-03T00:00:00\", \"location\": \"Belgium\", \"median_age\": 41.8, \"people_fully_vaccinated_per_hundred\": 70.81}, {\"date\": \"2021-09-04T00:00:00\", \"location\": \"Belgium\", \"median_age\": 41.8, \"people_fully_vaccinated_per_hundred\": 70.98}, {\"date\": \"2021-09-05T00:00:00\", \"location\": \"Belgium\", \"median_age\": 41.8, \"people_fully_vaccinated_per_hundred\": 70.99}, {\"date\": \"2021-09-06T00:00:00\", \"location\": \"Belgium\", \"median_age\": 41.8, \"people_fully_vaccinated_per_hundred\": 71.02}, {\"date\": \"2021-09-07T00:00:00\", \"location\": \"Belgium\", \"median_age\": 41.8, \"people_fully_vaccinated_per_hundred\": 71.08}, {\"date\": \"2021-09-08T00:00:00\", \"location\": \"Belgium\", \"median_age\": 41.8, \"people_fully_vaccinated_per_hundred\": 71.23}, {\"date\": \"2021-09-09T00:00:00\", \"location\": \"Belgium\", \"median_age\": 41.8, \"people_fully_vaccinated_per_hundred\": 71.29}, {\"date\": \"2021-09-10T00:00:00\", \"location\": \"Belgium\", \"median_age\": 41.8, \"people_fully_vaccinated_per_hundred\": 71.39}, {\"date\": \"2021-09-11T00:00:00\", \"location\": \"Belgium\", \"median_age\": 41.8, \"people_fully_vaccinated_per_hundred\": 71.52}, {\"date\": \"2021-09-12T00:00:00\", \"location\": \"Belgium\", \"median_age\": 41.8, \"people_fully_vaccinated_per_hundred\": 71.52}, {\"date\": \"2021-09-13T00:00:00\", \"location\": \"Belgium\", \"median_age\": 41.8, \"people_fully_vaccinated_per_hundred\": 71.58}, {\"date\": \"2021-09-14T00:00:00\", \"location\": \"Belgium\", \"median_age\": 41.8, \"people_fully_vaccinated_per_hundred\": 71.61}, {\"date\": \"2021-09-15T00:00:00\", \"location\": \"Belgium\", \"median_age\": 41.8, \"people_fully_vaccinated_per_hundred\": 71.7}, {\"date\": \"2021-09-16T00:00:00\", \"location\": \"Belgium\", \"median_age\": 41.8, \"people_fully_vaccinated_per_hundred\": 71.78}, {\"date\": \"2021-09-17T00:00:00\", \"location\": \"Belgium\", \"median_age\": 41.8, \"people_fully_vaccinated_per_hundred\": 71.87}, {\"date\": \"2021-09-18T00:00:00\", \"location\": \"Belgium\", \"median_age\": 41.8, \"people_fully_vaccinated_per_hundred\": 71.99}, {\"date\": \"2021-09-19T00:00:00\", \"location\": \"Belgium\", \"median_age\": 41.8, \"people_fully_vaccinated_per_hundred\": 71.99}, {\"date\": \"2021-09-20T00:00:00\", \"location\": \"Belgium\", \"median_age\": 41.8, \"people_fully_vaccinated_per_hundred\": 72.03}, {\"date\": \"2021-09-21T00:00:00\", \"location\": \"Belgium\", \"median_age\": 41.8, \"people_fully_vaccinated_per_hundred\": 72.08}, {\"date\": \"2021-09-22T00:00:00\", \"location\": \"Belgium\", \"median_age\": 41.8, \"people_fully_vaccinated_per_hundred\": 72.18}, {\"date\": \"2021-09-23T00:00:00\", \"location\": \"Belgium\", \"median_age\": 41.8, \"people_fully_vaccinated_per_hundred\": 72.25}, {\"date\": \"2021-09-24T00:00:00\", \"location\": \"Belgium\", \"median_age\": 41.8, \"people_fully_vaccinated_per_hundred\": 72.32}, {\"date\": \"2021-09-25T00:00:00\", \"location\": \"Belgium\", \"median_age\": 41.8, \"people_fully_vaccinated_per_hundred\": 72.48}, {\"date\": \"2021-09-26T00:00:00\", \"location\": \"Belgium\", \"median_age\": 41.8, \"people_fully_vaccinated_per_hundred\": 72.48}, {\"date\": \"2021-09-27T00:00:00\", \"location\": \"Belgium\", \"median_age\": 41.8, \"people_fully_vaccinated_per_hundred\": 72.52}, {\"date\": \"2021-09-28T00:00:00\", \"location\": \"Belgium\", \"median_age\": 41.8, \"people_fully_vaccinated_per_hundred\": 72.57}, {\"date\": \"2021-09-29T00:00:00\", \"location\": \"Belgium\", \"median_age\": 41.8, \"people_fully_vaccinated_per_hundred\": 72.69}, {\"date\": \"2021-09-30T00:00:00\", \"location\": \"Belgium\", \"median_age\": 41.8, \"people_fully_vaccinated_per_hundred\": 72.75}, {\"date\": \"2021-10-01T00:00:00\", \"location\": \"Belgium\", \"median_age\": 41.8, \"people_fully_vaccinated_per_hundred\": 72.82}, {\"date\": \"2021-10-02T00:00:00\", \"location\": \"Belgium\", \"median_age\": 41.8, \"people_fully_vaccinated_per_hundred\": 72.91}, {\"date\": \"2021-10-03T00:00:00\", \"location\": \"Belgium\", \"median_age\": 41.8, \"people_fully_vaccinated_per_hundred\": 72.91}, {\"date\": \"2021-10-04T00:00:00\", \"location\": \"Belgium\", \"median_age\": 41.8, \"people_fully_vaccinated_per_hundred\": 72.94}, {\"date\": \"2021-10-05T00:00:00\", \"location\": \"Belgium\", \"median_age\": 41.8, \"people_fully_vaccinated_per_hundred\": 72.96}, {\"date\": \"2021-10-06T00:00:00\", \"location\": \"Belgium\", \"median_age\": 41.8, \"people_fully_vaccinated_per_hundred\": 73.01}, {\"date\": \"2021-10-07T00:00:00\", \"location\": \"Belgium\", \"median_age\": 41.8, \"people_fully_vaccinated_per_hundred\": 73.05}, {\"date\": \"2021-10-08T00:00:00\", \"location\": \"Belgium\", \"median_age\": 41.8, \"people_fully_vaccinated_per_hundred\": 73.11}, {\"date\": \"2021-10-09T00:00:00\", \"location\": \"Belgium\", \"median_age\": 41.8, \"people_fully_vaccinated_per_hundred\": 73.2}, {\"date\": \"2021-10-10T00:00:00\", \"location\": \"Belgium\", \"median_age\": 41.8, \"people_fully_vaccinated_per_hundred\": 73.2}, {\"date\": \"2021-10-11T00:00:00\", \"location\": \"Belgium\", \"median_age\": 41.8, \"people_fully_vaccinated_per_hundred\": 73.22}, {\"date\": \"2021-10-12T00:00:00\", \"location\": \"Belgium\", \"median_age\": 41.8, \"people_fully_vaccinated_per_hundred\": 73.26}, {\"date\": \"2021-10-13T00:00:00\", \"location\": \"Belgium\", \"median_age\": 41.8, \"people_fully_vaccinated_per_hundred\": 73.33}, {\"date\": \"2021-10-14T00:00:00\", \"location\": \"Belgium\", \"median_age\": 41.8, \"people_fully_vaccinated_per_hundred\": 73.36}, {\"date\": \"2021-10-15T00:00:00\", \"location\": \"Belgium\", \"median_age\": 41.8, \"people_fully_vaccinated_per_hundred\": 73.43}, {\"date\": \"2021-10-16T00:00:00\", \"location\": \"Belgium\", \"median_age\": 41.8, \"people_fully_vaccinated_per_hundred\": 73.5}, {\"date\": \"2021-10-17T00:00:00\", \"location\": \"Belgium\", \"median_age\": 41.8, \"people_fully_vaccinated_per_hundred\": 73.5}, {\"date\": \"2021-10-18T00:00:00\", \"location\": \"Belgium\", \"median_age\": 41.8, \"people_fully_vaccinated_per_hundred\": 73.52}, {\"date\": \"2021-10-19T00:00:00\", \"location\": \"Belgium\", \"median_age\": 41.8, \"people_fully_vaccinated_per_hundred\": 73.55}, {\"date\": \"2021-10-20T00:00:00\", \"location\": \"Belgium\", \"median_age\": 41.8, \"people_fully_vaccinated_per_hundred\": 73.59}, {\"date\": \"2021-10-21T00:00:00\", \"location\": \"Belgium\", \"median_age\": 41.8, \"people_fully_vaccinated_per_hundred\": 73.62}, {\"date\": \"2021-10-22T00:00:00\", \"location\": \"Belgium\", \"median_age\": 41.8, \"people_fully_vaccinated_per_hundred\": 73.69}, {\"date\": \"2021-10-23T00:00:00\", \"location\": \"Belgium\", \"median_age\": 41.8, \"people_fully_vaccinated_per_hundred\": 73.75}, {\"date\": \"2021-10-24T00:00:00\", \"location\": \"Belgium\", \"median_age\": 41.8, \"people_fully_vaccinated_per_hundred\": 73.75}, {\"date\": \"2021-10-25T00:00:00\", \"location\": \"Belgium\", \"median_age\": 41.8, \"people_fully_vaccinated_per_hundred\": 73.78}, {\"date\": \"2021-10-26T00:00:00\", \"location\": \"Belgium\", \"median_age\": 41.8, \"people_fully_vaccinated_per_hundred\": 73.82}, {\"date\": \"2021-10-27T00:00:00\", \"location\": \"Belgium\", \"median_age\": 41.8, \"people_fully_vaccinated_per_hundred\": 73.87}, {\"date\": \"2021-10-28T00:00:00\", \"location\": \"Belgium\", \"median_age\": 41.8, \"people_fully_vaccinated_per_hundred\": 73.92}, {\"date\": \"2021-10-29T00:00:00\", \"location\": \"Belgium\", \"median_age\": 41.8, \"people_fully_vaccinated_per_hundred\": 73.97}, {\"date\": \"2021-10-30T00:00:00\", \"location\": \"Belgium\", \"median_age\": 41.8, \"people_fully_vaccinated_per_hundred\": 74.02}, {\"date\": \"2021-10-31T00:00:00\", \"location\": \"Belgium\", \"median_age\": 41.8, \"people_fully_vaccinated_per_hundred\": 74.02}, {\"date\": \"2021-11-01T00:00:00\", \"location\": \"Belgium\", \"median_age\": 41.8, \"people_fully_vaccinated_per_hundred\": 74.03}, {\"date\": \"2021-11-02T00:00:00\", \"location\": \"Belgium\", \"median_age\": 41.8, \"people_fully_vaccinated_per_hundred\": 74.06}, {\"date\": \"2021-11-03T00:00:00\", \"location\": \"Belgium\", \"median_age\": 41.8, \"people_fully_vaccinated_per_hundred\": 74.1}, {\"date\": \"2021-11-04T00:00:00\", \"location\": \"Belgium\", \"median_age\": 41.8, \"people_fully_vaccinated_per_hundred\": 74.14}, {\"date\": \"2021-11-05T00:00:00\", \"location\": \"Belgium\", \"median_age\": 41.8, \"people_fully_vaccinated_per_hundred\": 74.19}, {\"date\": \"2021-11-06T00:00:00\", \"location\": \"Belgium\", \"median_age\": 41.8, \"people_fully_vaccinated_per_hundred\": 74.22}, {\"date\": \"2021-11-07T00:00:00\", \"location\": \"Belgium\", \"median_age\": 41.8, \"people_fully_vaccinated_per_hundred\": 74.23}, {\"date\": \"2021-11-08T00:00:00\", \"location\": \"Belgium\", \"median_age\": 41.8, \"people_fully_vaccinated_per_hundred\": 74.25}, {\"date\": \"2021-11-09T00:00:00\", \"location\": \"Belgium\", \"median_age\": 41.8, \"people_fully_vaccinated_per_hundred\": 74.29}, {\"date\": \"2021-11-10T00:00:00\", \"location\": \"Belgium\", \"median_age\": 41.8, \"people_fully_vaccinated_per_hundred\": 74.35}, {\"date\": \"2021-11-11T00:00:00\", \"location\": \"Belgium\", \"median_age\": 41.8, \"people_fully_vaccinated_per_hundred\": 74.36}, {\"date\": \"2021-11-12T00:00:00\", \"location\": \"Belgium\", \"median_age\": 41.8, \"people_fully_vaccinated_per_hundred\": 74.4}, {\"date\": \"2021-11-13T00:00:00\", \"location\": \"Belgium\", \"median_age\": 41.8, \"people_fully_vaccinated_per_hundred\": 74.44}, {\"date\": \"2021-11-14T00:00:00\", \"location\": \"Belgium\", \"median_age\": 41.8, \"people_fully_vaccinated_per_hundred\": 74.44}, {\"date\": \"2021-11-15T00:00:00\", \"location\": \"Belgium\", \"median_age\": 41.8, \"people_fully_vaccinated_per_hundred\": 74.47}, {\"date\": \"2021-11-16T00:00:00\", \"location\": \"Belgium\", \"median_age\": 41.8, \"people_fully_vaccinated_per_hundred\": 74.51}, {\"date\": \"2021-11-17T00:00:00\", \"location\": \"Belgium\", \"median_age\": 41.8, \"people_fully_vaccinated_per_hundred\": 74.57}, {\"date\": \"2021-11-18T00:00:00\", \"location\": \"Belgium\", \"median_age\": 41.8, \"people_fully_vaccinated_per_hundred\": 74.61}, {\"date\": \"2021-11-19T00:00:00\", \"location\": \"Belgium\", \"median_age\": 41.8, \"people_fully_vaccinated_per_hundred\": 74.65}, {\"date\": \"2021-11-20T00:00:00\", \"location\": \"Belgium\", \"median_age\": 41.8, \"people_fully_vaccinated_per_hundred\": 74.69}, {\"date\": \"2021-11-21T00:00:00\", \"location\": \"Belgium\", \"median_age\": 41.8, \"people_fully_vaccinated_per_hundred\": 74.69}, {\"date\": \"2021-11-22T00:00:00\", \"location\": \"Belgium\", \"median_age\": 41.8, \"people_fully_vaccinated_per_hundred\": 74.71}, {\"date\": \"2021-11-23T00:00:00\", \"location\": \"Belgium\", \"median_age\": 41.8, \"people_fully_vaccinated_per_hundred\": 74.75}, {\"date\": \"2021-11-24T00:00:00\", \"location\": \"Belgium\", \"median_age\": 41.8, \"people_fully_vaccinated_per_hundred\": 74.81}, {\"date\": \"2021-11-25T00:00:00\", \"location\": \"Belgium\", \"median_age\": 41.8, \"people_fully_vaccinated_per_hundred\": 74.84}, {\"date\": \"2021-11-26T00:00:00\", \"location\": \"Belgium\", \"median_age\": 41.8, \"people_fully_vaccinated_per_hundred\": 74.88}, {\"date\": \"2021-11-27T00:00:00\", \"location\": \"Belgium\", \"median_age\": 41.8, \"people_fully_vaccinated_per_hundred\": 74.92}, {\"date\": \"2021-11-28T00:00:00\", \"location\": \"Belgium\", \"median_age\": 41.8, \"people_fully_vaccinated_per_hundred\": 74.92}, {\"date\": \"2021-11-29T00:00:00\", \"location\": \"Belgium\", \"median_age\": 41.8, \"people_fully_vaccinated_per_hundred\": 74.95}, {\"date\": \"2021-11-30T00:00:00\", \"location\": \"Belgium\", \"median_age\": 41.8, \"people_fully_vaccinated_per_hundred\": 74.98}, {\"date\": \"2021-12-01T00:00:00\", \"location\": \"Belgium\", \"median_age\": 41.8, \"people_fully_vaccinated_per_hundred\": 75.04}, {\"date\": \"2021-12-02T00:00:00\", \"location\": \"Belgium\", \"median_age\": 41.8, \"people_fully_vaccinated_per_hundred\": 75.06}, {\"date\": \"2021-12-03T00:00:00\", \"location\": \"Belgium\", \"median_age\": 41.8, \"people_fully_vaccinated_per_hundred\": 75.09}, {\"date\": \"2021-12-04T00:00:00\", \"location\": \"Belgium\", \"median_age\": 41.8, \"people_fully_vaccinated_per_hundred\": 75.13}, {\"date\": \"2021-12-05T00:00:00\", \"location\": \"Belgium\", \"median_age\": 41.8, \"people_fully_vaccinated_per_hundred\": 75.13}, {\"date\": \"2021-12-06T00:00:00\", \"location\": \"Belgium\", \"median_age\": 41.8, \"people_fully_vaccinated_per_hundred\": 75.15}, {\"date\": \"2021-12-07T00:00:00\", \"location\": \"Belgium\", \"median_age\": 41.8, \"people_fully_vaccinated_per_hundred\": 75.18}, {\"date\": \"2021-12-08T00:00:00\", \"location\": \"Belgium\", \"median_age\": 41.8, \"people_fully_vaccinated_per_hundred\": 75.24}, {\"date\": \"2021-12-09T00:00:00\", \"location\": \"Belgium\", \"median_age\": 41.8, \"people_fully_vaccinated_per_hundred\": 75.27}, {\"date\": \"2021-12-10T00:00:00\", \"location\": \"Belgium\", \"median_age\": 41.8, \"people_fully_vaccinated_per_hundred\": 75.3}, {\"date\": \"2021-12-11T00:00:00\", \"location\": \"Belgium\", \"median_age\": 41.8, \"people_fully_vaccinated_per_hundred\": 75.33}, {\"date\": \"2021-12-12T00:00:00\", \"location\": \"Belgium\", \"median_age\": 41.8, \"people_fully_vaccinated_per_hundred\": 75.34}, {\"date\": \"2021-12-13T00:00:00\", \"location\": \"Belgium\", \"median_age\": 41.8, \"people_fully_vaccinated_per_hundred\": 75.36}, {\"date\": \"2021-12-14T00:00:00\", \"location\": \"Belgium\", \"median_age\": 41.8, \"people_fully_vaccinated_per_hundred\": 75.39}, {\"date\": \"2021-12-15T00:00:00\", \"location\": \"Belgium\", \"median_age\": 41.8, \"people_fully_vaccinated_per_hundred\": 75.44}, {\"date\": \"2021-12-16T00:00:00\", \"location\": \"Belgium\", \"median_age\": 41.8, \"people_fully_vaccinated_per_hundred\": 75.48}, {\"date\": \"2021-12-17T00:00:00\", \"location\": \"Belgium\", \"median_age\": 41.8, \"people_fully_vaccinated_per_hundred\": 75.51}, {\"date\": \"2021-12-18T00:00:00\", \"location\": \"Belgium\", \"median_age\": 41.8, \"people_fully_vaccinated_per_hundred\": 75.54}, {\"date\": \"2021-12-19T00:00:00\", \"location\": \"Belgium\", \"median_age\": 41.8, \"people_fully_vaccinated_per_hundred\": 75.54}, {\"date\": \"2021-12-20T00:00:00\", \"location\": \"Belgium\", \"median_age\": 41.8, \"people_fully_vaccinated_per_hundred\": 75.56}, {\"date\": \"2021-12-21T00:00:00\", \"location\": \"Belgium\", \"median_age\": 41.8, \"people_fully_vaccinated_per_hundred\": 75.6}, {\"date\": \"2021-12-22T00:00:00\", \"location\": \"Belgium\", \"median_age\": 41.8, \"people_fully_vaccinated_per_hundred\": 75.66}, {\"date\": \"2021-12-23T00:00:00\", \"location\": \"Belgium\", \"median_age\": 41.8, \"people_fully_vaccinated_per_hundred\": 75.69}, {\"date\": \"2021-12-24T00:00:00\", \"location\": \"Belgium\", \"median_age\": 41.8, \"people_fully_vaccinated_per_hundred\": 75.7}, {\"date\": \"2021-12-25T00:00:00\", \"location\": \"Belgium\", \"median_age\": 41.8, \"people_fully_vaccinated_per_hundred\": 75.7}, {\"date\": \"2021-12-26T00:00:00\", \"location\": \"Belgium\", \"median_age\": 41.8, \"people_fully_vaccinated_per_hundred\": 75.7}, {\"date\": \"2021-12-27T00:00:00\", \"location\": \"Belgium\", \"median_age\": 41.8, \"people_fully_vaccinated_per_hundred\": 75.71}, {\"date\": \"2021-12-28T00:00:00\", \"location\": \"Belgium\", \"median_age\": 41.8, \"people_fully_vaccinated_per_hundred\": 75.73}, {\"date\": \"2021-12-29T00:00:00\", \"location\": \"Belgium\", \"median_age\": 41.8, \"people_fully_vaccinated_per_hundred\": 75.74}, {\"date\": \"2021-12-30T00:00:00\", \"location\": \"Belgium\", \"median_age\": 41.8, \"people_fully_vaccinated_per_hundred\": 75.75}, {\"date\": \"2021-12-31T00:00:00\", \"location\": \"Belgium\", \"median_age\": 41.8, \"people_fully_vaccinated_per_hundred\": 75.76}, {\"date\": \"2022-01-01T00:00:00\", \"location\": \"Belgium\", \"median_age\": 41.8, \"people_fully_vaccinated_per_hundred\": 75.76}, {\"date\": \"2022-01-02T00:00:00\", \"location\": \"Belgium\", \"median_age\": 41.8, \"people_fully_vaccinated_per_hundred\": 75.76}, {\"date\": \"2022-01-03T00:00:00\", \"location\": \"Belgium\", \"median_age\": 41.8, \"people_fully_vaccinated_per_hundred\": 75.77}, {\"date\": \"2022-01-04T00:00:00\", \"location\": \"Belgium\", \"median_age\": 41.8, \"people_fully_vaccinated_per_hundred\": 75.79}, {\"date\": \"2022-01-05T00:00:00\", \"location\": \"Belgium\", \"median_age\": 41.8, \"people_fully_vaccinated_per_hundred\": 75.83}, {\"date\": \"2022-01-06T00:00:00\", \"location\": \"Belgium\", \"median_age\": 41.8, \"people_fully_vaccinated_per_hundred\": 75.85}, {\"date\": \"2022-01-07T00:00:00\", \"location\": \"Belgium\", \"median_age\": 41.8, \"people_fully_vaccinated_per_hundred\": 75.87}, {\"date\": \"2022-01-08T00:00:00\", \"location\": \"Belgium\", \"median_age\": 41.8, \"people_fully_vaccinated_per_hundred\": 75.89}, {\"date\": \"2022-01-09T00:00:00\", \"location\": \"Belgium\", \"median_age\": 41.8, \"people_fully_vaccinated_per_hundred\": 75.89}, {\"date\": \"2022-01-10T00:00:00\", \"location\": \"Belgium\", \"median_age\": 41.8, \"people_fully_vaccinated_per_hundred\": 75.9}, {\"date\": \"2022-01-11T00:00:00\", \"location\": \"Belgium\", \"median_age\": 41.8, \"people_fully_vaccinated_per_hundred\": 75.93}, {\"date\": \"2022-01-12T00:00:00\", \"location\": \"Belgium\", \"median_age\": 41.8, \"people_fully_vaccinated_per_hundred\": 75.98}, {\"date\": \"2022-01-13T00:00:00\", \"location\": \"Belgium\", \"median_age\": 41.8, \"people_fully_vaccinated_per_hundred\": 75.99}, {\"date\": \"2022-01-14T00:00:00\", \"location\": \"Belgium\", \"median_age\": 41.8, \"people_fully_vaccinated_per_hundred\": 76.01}, {\"date\": \"2022-01-15T00:00:00\", \"location\": \"Belgium\", \"median_age\": 41.8, \"people_fully_vaccinated_per_hundred\": 76.02}, {\"date\": \"2022-01-16T00:00:00\", \"location\": \"Belgium\", \"median_age\": 41.8, \"people_fully_vaccinated_per_hundred\": 76.02}, {\"date\": \"2022-01-17T00:00:00\", \"location\": \"Belgium\", \"median_age\": 41.8, \"people_fully_vaccinated_per_hundred\": 76.03}, {\"date\": \"2022-01-18T00:00:00\", \"location\": \"Belgium\", \"median_age\": 41.8, \"people_fully_vaccinated_per_hundred\": 76.04}, {\"date\": \"2022-01-19T00:00:00\", \"location\": \"Belgium\", \"median_age\": 41.8, \"people_fully_vaccinated_per_hundred\": 76.06}, {\"date\": \"2022-01-20T00:00:00\", \"location\": \"Belgium\", \"median_age\": 41.8, \"people_fully_vaccinated_per_hundred\": 76.07}, {\"date\": \"2022-01-21T00:00:00\", \"location\": \"Belgium\", \"median_age\": 41.8, \"people_fully_vaccinated_per_hundred\": 76.08}, {\"date\": \"2022-01-22T00:00:00\", \"location\": \"Belgium\", \"median_age\": 41.8, \"people_fully_vaccinated_per_hundred\": 76.09}, {\"date\": \"2022-01-23T00:00:00\", \"location\": \"Belgium\", \"median_age\": 41.8, \"people_fully_vaccinated_per_hundred\": 76.09}, {\"date\": \"2022-01-24T00:00:00\", \"location\": \"Belgium\", \"median_age\": 41.8, \"people_fully_vaccinated_per_hundred\": 76.1}, {\"date\": \"2022-01-25T00:00:00\", \"location\": \"Belgium\", \"median_age\": 41.8, \"people_fully_vaccinated_per_hundred\": 76.11}, {\"date\": \"2022-01-26T00:00:00\", \"location\": \"Belgium\", \"median_age\": 41.8, \"people_fully_vaccinated_per_hundred\": 76.14}, {\"date\": \"2022-01-27T00:00:00\", \"location\": \"Belgium\", \"median_age\": 41.8, \"people_fully_vaccinated_per_hundred\": 76.15}, {\"date\": \"2022-01-28T00:00:00\", \"location\": \"Belgium\", \"median_age\": 41.8, \"people_fully_vaccinated_per_hundred\": 76.16}, {\"date\": \"2022-01-29T00:00:00\", \"location\": \"Belgium\", \"median_age\": 41.8, \"people_fully_vaccinated_per_hundred\": 76.24}, {\"date\": \"2022-01-30T00:00:00\", \"location\": \"Belgium\", \"median_age\": 41.8, \"people_fully_vaccinated_per_hundred\": 76.26}, {\"date\": \"2022-01-31T00:00:00\", \"location\": \"Belgium\", \"median_age\": 41.8, \"people_fully_vaccinated_per_hundred\": 76.27}, {\"date\": \"2022-02-01T00:00:00\", \"location\": \"Belgium\", \"median_age\": 41.8, \"people_fully_vaccinated_per_hundred\": 76.28}, {\"date\": \"2022-02-02T00:00:00\", \"location\": \"Belgium\", \"median_age\": 41.8, \"people_fully_vaccinated_per_hundred\": 76.37}, {\"date\": \"2022-02-03T00:00:00\", \"location\": \"Belgium\", \"median_age\": 41.8, \"people_fully_vaccinated_per_hundred\": 76.38}]}}, {\"mode\": \"vega-lite\"});\n</script>"
                },
                "metadata": {}
              }
            ],
            "_view_module": "@jupyter-widgets/output",
            "_model_module_version": "1.0.0",
            "_view_count": null,
            "_view_module_version": "1.0.0",
            "layout": "IPY_MODEL_684229b0dd6343bdb2329370eeba2c97",
            "_model_module": "@jupyter-widgets/output"
          }
        },
        "3472ac84744e4e78ba331a483f28aa08": {
          "model_module": "@jupyter-widgets/controls",
          "model_name": "DescriptionStyleModel",
          "model_module_version": "1.5.0",
          "state": {
            "_view_name": "StyleView",
            "_model_name": "DescriptionStyleModel",
            "description_width": "",
            "_view_module": "@jupyter-widgets/base",
            "_model_module_version": "1.5.0",
            "_view_count": null,
            "_view_module_version": "1.2.0",
            "_model_module": "@jupyter-widgets/controls"
          }
        },
        "f5f13104d50e4a8f9111acc7fa5b139c": {
          "model_module": "@jupyter-widgets/base",
          "model_name": "LayoutModel",
          "model_module_version": "1.2.0",
          "state": {
            "_view_name": "LayoutView",
            "grid_template_rows": null,
            "right": null,
            "justify_content": null,
            "_view_module": "@jupyter-widgets/base",
            "overflow": null,
            "_model_module_version": "1.2.0",
            "_view_count": null,
            "flex_flow": null,
            "width": null,
            "min_width": null,
            "border": null,
            "align_items": null,
            "bottom": null,
            "_model_module": "@jupyter-widgets/base",
            "top": null,
            "grid_column": null,
            "overflow_y": null,
            "overflow_x": null,
            "grid_auto_flow": null,
            "grid_area": null,
            "grid_template_columns": null,
            "flex": null,
            "_model_name": "LayoutModel",
            "justify_items": null,
            "grid_row": null,
            "max_height": null,
            "align_content": null,
            "visibility": null,
            "align_self": null,
            "height": null,
            "min_height": null,
            "padding": null,
            "grid_auto_rows": null,
            "grid_gap": null,
            "max_width": null,
            "order": null,
            "_view_module_version": "1.2.0",
            "grid_template_areas": null,
            "object_position": null,
            "object_fit": null,
            "grid_auto_columns": null,
            "margin": null,
            "display": null,
            "left": null
          }
        },
        "684229b0dd6343bdb2329370eeba2c97": {
          "model_module": "@jupyter-widgets/base",
          "model_name": "LayoutModel",
          "model_module_version": "1.2.0",
          "state": {
            "_view_name": "LayoutView",
            "grid_template_rows": null,
            "right": null,
            "justify_content": null,
            "_view_module": "@jupyter-widgets/base",
            "overflow": null,
            "_model_module_version": "1.2.0",
            "_view_count": null,
            "flex_flow": null,
            "width": null,
            "min_width": null,
            "border": null,
            "align_items": null,
            "bottom": null,
            "_model_module": "@jupyter-widgets/base",
            "top": null,
            "grid_column": null,
            "overflow_y": null,
            "overflow_x": null,
            "grid_auto_flow": null,
            "grid_area": null,
            "grid_template_columns": null,
            "flex": null,
            "_model_name": "LayoutModel",
            "justify_items": null,
            "grid_row": null,
            "max_height": null,
            "align_content": null,
            "visibility": null,
            "align_self": null,
            "height": null,
            "min_height": null,
            "padding": null,
            "grid_auto_rows": null,
            "grid_gap": null,
            "max_width": null,
            "order": null,
            "_view_module_version": "1.2.0",
            "grid_template_areas": null,
            "object_position": null,
            "object_fit": null,
            "grid_auto_columns": null,
            "margin": null,
            "display": null,
            "left": null
          }
        },
        "c6df485287d948fda66c764c312c23c2": {
          "model_module": "@jupyter-widgets/controls",
          "model_name": "VBoxModel",
          "model_module_version": "1.5.0",
          "state": {
            "_view_name": "VBoxView",
            "_dom_classes": [
              "widget-interact"
            ],
            "_model_name": "VBoxModel",
            "_view_module": "@jupyter-widgets/controls",
            "_model_module_version": "1.5.0",
            "_view_count": null,
            "_view_module_version": "1.5.0",
            "box_style": "",
            "layout": "IPY_MODEL_7d7f25a8aa3c4c02a7811984cd909271",
            "_model_module": "@jupyter-widgets/controls",
            "children": [
              "IPY_MODEL_56a6337be23043cd93dac4dca9756e64",
              "IPY_MODEL_7c1b0c803a954b82be713c42a069aa21"
            ]
          }
        },
        "7d7f25a8aa3c4c02a7811984cd909271": {
          "model_module": "@jupyter-widgets/base",
          "model_name": "LayoutModel",
          "model_module_version": "1.2.0",
          "state": {
            "_view_name": "LayoutView",
            "grid_template_rows": null,
            "right": null,
            "justify_content": null,
            "_view_module": "@jupyter-widgets/base",
            "overflow": null,
            "_model_module_version": "1.2.0",
            "_view_count": null,
            "flex_flow": null,
            "width": null,
            "min_width": null,
            "border": null,
            "align_items": null,
            "bottom": null,
            "_model_module": "@jupyter-widgets/base",
            "top": null,
            "grid_column": null,
            "overflow_y": null,
            "overflow_x": null,
            "grid_auto_flow": null,
            "grid_area": null,
            "grid_template_columns": null,
            "flex": null,
            "_model_name": "LayoutModel",
            "justify_items": null,
            "grid_row": null,
            "max_height": null,
            "align_content": null,
            "visibility": null,
            "align_self": null,
            "height": null,
            "min_height": null,
            "padding": null,
            "grid_auto_rows": null,
            "grid_gap": null,
            "max_width": null,
            "order": null,
            "_view_module_version": "1.2.0",
            "grid_template_areas": null,
            "object_position": null,
            "object_fit": null,
            "grid_auto_columns": null,
            "margin": null,
            "display": null,
            "left": null
          }
        },
        "56a6337be23043cd93dac4dca9756e64": {
          "model_module": "@jupyter-widgets/controls",
          "model_name": "DropdownModel",
          "model_module_version": "1.5.0",
          "state": {
            "_options_labels": [
              "South Korea",
              "Japan",
              "Thailand",
              "Myanmar",
              "Nepal"
            ],
            "_view_name": "DropdownView",
            "style": "IPY_MODEL_56c2d34d1d0e4047b69edbf7c2941628",
            "_dom_classes": [],
            "description": "country",
            "_model_name": "DropdownModel",
            "index": 0,
            "_view_module": "@jupyter-widgets/controls",
            "_model_module_version": "1.5.0",
            "_view_count": null,
            "disabled": false,
            "_view_module_version": "1.5.0",
            "description_tooltip": null,
            "_model_module": "@jupyter-widgets/controls",
            "layout": "IPY_MODEL_02dce111104c4e19b07a8076ef4b13be"
          }
        },
        "7c1b0c803a954b82be713c42a069aa21": {
          "model_module": "@jupyter-widgets/output",
          "model_name": "OutputModel",
          "model_module_version": "1.0.0",
          "state": {
            "_view_name": "OutputView",
            "msg_id": "",
            "_dom_classes": [],
            "_model_name": "OutputModel",
            "outputs": [
              {
                "output_type": "stream",
                "name": "stdout",
                "text": [
                  "\n",
                  "The median age of your country is:  43.4 \n",
                  "\n"
                ]
              },
              {
                "output_type": "display_data",
                "data": {
                  "text/plain": "alt.Chart(...)",
                  "text/html": "\n<div id=\"altair-viz-52022172f64f4e288f468fe8158499c3\"></div>\n<script type=\"text/javascript\">\n  var VEGA_DEBUG = (typeof VEGA_DEBUG == \"undefined\") ? {} : VEGA_DEBUG;\n  (function(spec, embedOpt){\n    let outputDiv = document.currentScript.previousElementSibling;\n    if (outputDiv.id !== \"altair-viz-52022172f64f4e288f468fe8158499c3\") {\n      outputDiv = document.getElementById(\"altair-viz-52022172f64f4e288f468fe8158499c3\");\n    }\n    const paths = {\n      \"vega\": \"https://cdn.jsdelivr.net/npm//vega@5?noext\",\n      \"vega-lib\": \"https://cdn.jsdelivr.net/npm//vega-lib?noext\",\n      \"vega-lite\": \"https://cdn.jsdelivr.net/npm//vega-lite@4.17.0?noext\",\n      \"vega-embed\": \"https://cdn.jsdelivr.net/npm//vega-embed@6?noext\",\n    };\n\n    function maybeLoadScript(lib, version) {\n      var key = `${lib.replace(\"-\", \"\")}_version`;\n      return (VEGA_DEBUG[key] == version) ?\n        Promise.resolve(paths[lib]) :\n        new Promise(function(resolve, reject) {\n          var s = document.createElement('script');\n          document.getElementsByTagName(\"head\")[0].appendChild(s);\n          s.async = true;\n          s.onload = () => {\n            VEGA_DEBUG[key] = version;\n            return resolve(paths[lib]);\n          };\n          s.onerror = () => reject(`Error loading script: ${paths[lib]}`);\n          s.src = paths[lib];\n        });\n    }\n\n    function showError(err) {\n      outputDiv.innerHTML = `<div class=\"error\" style=\"color:red;\">${err}</div>`;\n      throw err;\n    }\n\n    function displayChart(vegaEmbed) {\n      vegaEmbed(outputDiv, spec, embedOpt)\n        .catch(err => showError(`Javascript Error: ${err.message}<br>This usually means there's a typo in your chart specification. See the javascript console for the full traceback.`));\n    }\n\n    if(typeof define === \"function\" && define.amd) {\n      requirejs.config({paths});\n      require([\"vega-embed\"], displayChart, err => showError(`Error loading script: ${err.message}`));\n    } else {\n      maybeLoadScript(\"vega\", \"5\")\n        .then(() => maybeLoadScript(\"vega-lite\", \"4.17.0\"))\n        .then(() => maybeLoadScript(\"vega-embed\", \"6\"))\n        .catch(showError)\n        .then(() => displayChart(vegaEmbed));\n    }\n  })({\"config\": {\"view\": {\"continuousWidth\": 400, \"continuousHeight\": 300}}, \"data\": {\"name\": \"data-f82c16857cbbaa54893b46f525bba36b\"}, \"mark\": \"line\", \"encoding\": {\"color\": {\"aggregate\": \"median\", \"field\": \"median_age\", \"type\": \"quantitative\"}, \"column\": {\"field\": \"location\", \"type\": \"nominal\"}, \"x\": {\"field\": \"date\", \"title\": \"Time (days)\", \"type\": \"temporal\"}, \"y\": {\"aggregate\": \"mean\", \"field\": \"people_fully_vaccinated_per_hundred\", \"title\": \"Mean of fully vaccinated people per 100\", \"type\": \"quantitative\"}}, \"title\": \"Mean of people vaccinated per 100 people over time, starting from 1st Jan 2022\", \"$schema\": \"https://vega.github.io/schema/vega-lite/v4.17.0.json\", \"datasets\": {\"data-f82c16857cbbaa54893b46f525bba36b\": [{\"date\": \"2021-02-26T00:00:00\", \"location\": \"South Korea\", \"median_age\": 43.4, \"people_fully_vaccinated_per_hundred\": 0.02}, {\"date\": \"2021-02-27T00:00:00\", \"location\": \"South Korea\", \"median_age\": 43.4, \"people_fully_vaccinated_per_hundred\": 0.02}, {\"date\": \"2021-02-28T00:00:00\", \"location\": \"South Korea\", \"median_age\": 43.4, \"people_fully_vaccinated_per_hundred\": 0.02}, {\"date\": \"2021-03-01T00:00:00\", \"location\": \"South Korea\", \"median_age\": 43.4, \"people_fully_vaccinated_per_hundred\": 0.02}, {\"date\": \"2021-03-02T00:00:00\", \"location\": \"South Korea\", \"median_age\": 43.4, \"people_fully_vaccinated_per_hundred\": 0.02}, {\"date\": \"2021-03-03T00:00:00\", \"location\": \"South Korea\", \"median_age\": 43.4, \"people_fully_vaccinated_per_hundred\": 0.02}, {\"date\": \"2021-03-04T00:00:00\", \"location\": \"South Korea\", \"median_age\": 43.4, \"people_fully_vaccinated_per_hundred\": 0.02}, {\"date\": \"2021-03-05T00:00:00\", \"location\": \"South Korea\", \"median_age\": 43.4, \"people_fully_vaccinated_per_hundred\": 0.02}, {\"date\": \"2021-03-06T00:00:00\", \"location\": \"South Korea\", \"median_age\": 43.4, \"people_fully_vaccinated_per_hundred\": 0.02}, {\"date\": \"2021-03-07T00:00:00\", \"location\": \"South Korea\", \"median_age\": 43.4, \"people_fully_vaccinated_per_hundred\": 0.02}, {\"date\": \"2021-03-08T00:00:00\", \"location\": \"South Korea\", \"median_age\": 43.4, \"people_fully_vaccinated_per_hundred\": 0.02}, {\"date\": \"2021-03-09T00:00:00\", \"location\": \"South Korea\", \"median_age\": 43.4, \"people_fully_vaccinated_per_hundred\": 0.02}, {\"date\": \"2021-03-10T00:00:00\", \"location\": \"South Korea\", \"median_age\": 43.4, \"people_fully_vaccinated_per_hundred\": 0.02}, {\"date\": \"2021-03-11T00:00:00\", \"location\": \"South Korea\", \"median_age\": 43.4, \"people_fully_vaccinated_per_hundred\": 0.03}, {\"date\": \"2021-03-12T00:00:00\", \"location\": \"South Korea\", \"median_age\": 43.4, \"people_fully_vaccinated_per_hundred\": 0.03}, {\"date\": \"2021-03-13T00:00:00\", \"location\": \"South Korea\", \"median_age\": 43.4, \"people_fully_vaccinated_per_hundred\": 0.03}, {\"date\": \"2021-03-14T00:00:00\", \"location\": \"South Korea\", \"median_age\": 43.4, \"people_fully_vaccinated_per_hundred\": 0.03}, {\"date\": \"2021-03-15T00:00:00\", \"location\": \"South Korea\", \"median_age\": 43.4, \"people_fully_vaccinated_per_hundred\": 0.03}, {\"date\": \"2021-03-16T00:00:00\", \"location\": \"South Korea\", \"median_age\": 43.4, \"people_fully_vaccinated_per_hundred\": 0.03}, {\"date\": \"2021-03-17T00:00:00\", \"location\": \"South Korea\", \"median_age\": 43.4, \"people_fully_vaccinated_per_hundred\": 0.03}, {\"date\": \"2021-03-18T00:00:00\", \"location\": \"South Korea\", \"median_age\": 43.4, \"people_fully_vaccinated_per_hundred\": 0.03}, {\"date\": \"2021-03-19T00:00:00\", \"location\": \"South Korea\", \"median_age\": 43.4, \"people_fully_vaccinated_per_hundred\": 0.04}, {\"date\": \"2021-03-20T00:00:00\", \"location\": \"South Korea\", \"median_age\": 43.4, \"people_fully_vaccinated_per_hundred\": 0.04}, {\"date\": \"2021-03-21T00:00:00\", \"location\": \"South Korea\", \"median_age\": 43.4, \"people_fully_vaccinated_per_hundred\": 0.04}, {\"date\": \"2021-03-22T00:00:00\", \"location\": \"South Korea\", \"median_age\": 43.4, \"people_fully_vaccinated_per_hundred\": 0.04}, {\"date\": \"2021-03-23T00:00:00\", \"location\": \"South Korea\", \"median_age\": 43.4, \"people_fully_vaccinated_per_hundred\": 0.04}, {\"date\": \"2021-03-24T00:00:00\", \"location\": \"South Korea\", \"median_age\": 43.4, \"people_fully_vaccinated_per_hundred\": 0.05}, {\"date\": \"2021-03-25T00:00:00\", \"location\": \"South Korea\", \"median_age\": 43.4, \"people_fully_vaccinated_per_hundred\": 0.05}, {\"date\": \"2021-03-26T00:00:00\", \"location\": \"South Korea\", \"median_age\": 43.4, \"people_fully_vaccinated_per_hundred\": 0.05}, {\"date\": \"2021-03-27T00:00:00\", \"location\": \"South Korea\", \"median_age\": 43.4, \"people_fully_vaccinated_per_hundred\": 0.05}, {\"date\": \"2021-03-28T00:00:00\", \"location\": \"South Korea\", \"median_age\": 43.4, \"people_fully_vaccinated_per_hundred\": 0.05}, {\"date\": \"2021-03-29T00:00:00\", \"location\": \"South Korea\", \"median_age\": 43.4, \"people_fully_vaccinated_per_hundred\": 0.06}, {\"date\": \"2021-03-30T00:00:00\", \"location\": \"South Korea\", \"median_age\": 43.4, \"people_fully_vaccinated_per_hundred\": 0.06}, {\"date\": \"2021-03-31T00:00:00\", \"location\": \"South Korea\", \"median_age\": 43.4, \"people_fully_vaccinated_per_hundred\": 0.07}, {\"date\": \"2021-04-01T00:00:00\", \"location\": \"South Korea\", \"median_age\": 43.4, \"people_fully_vaccinated_per_hundred\": 0.09}, {\"date\": \"2021-04-02T00:00:00\", \"location\": \"South Korea\", \"median_age\": 43.4, \"people_fully_vaccinated_per_hundred\": 0.1}, {\"date\": \"2021-04-03T00:00:00\", \"location\": \"South Korea\", \"median_age\": 43.4, \"people_fully_vaccinated_per_hundred\": 0.1}, {\"date\": \"2021-04-04T00:00:00\", \"location\": \"South Korea\", \"median_age\": 43.4, \"people_fully_vaccinated_per_hundred\": 0.1}, {\"date\": \"2021-04-05T00:00:00\", \"location\": \"South Korea\", \"median_age\": 43.4, \"people_fully_vaccinated_per_hundred\": 0.11}, {\"date\": \"2021-04-06T00:00:00\", \"location\": \"South Korea\", \"median_age\": 43.4, \"people_fully_vaccinated_per_hundred\": 0.12}, {\"date\": \"2021-04-07T00:00:00\", \"location\": \"South Korea\", \"median_age\": 43.4, \"people_fully_vaccinated_per_hundred\": 0.14}, {\"date\": \"2021-04-08T00:00:00\", \"location\": \"South Korea\", \"median_age\": 43.4, \"people_fully_vaccinated_per_hundred\": 0.17}, {\"date\": \"2021-04-09T00:00:00\", \"location\": \"South Korea\", \"median_age\": 43.4, \"people_fully_vaccinated_per_hundred\": 0.19}, {\"date\": \"2021-04-10T00:00:00\", \"location\": \"South Korea\", \"median_age\": 43.4, \"people_fully_vaccinated_per_hundred\": 0.19}, {\"date\": \"2021-04-11T00:00:00\", \"location\": \"South Korea\", \"median_age\": 43.4, \"people_fully_vaccinated_per_hundred\": 0.19}, {\"date\": \"2021-04-12T00:00:00\", \"location\": \"South Korea\", \"median_age\": 43.4, \"people_fully_vaccinated_per_hundred\": 0.2}, {\"date\": \"2021-04-13T00:00:00\", \"location\": \"South Korea\", \"median_age\": 43.4, \"people_fully_vaccinated_per_hundred\": 0.2}, {\"date\": \"2021-04-14T00:00:00\", \"location\": \"South Korea\", \"median_age\": 43.4, \"people_fully_vaccinated_per_hundred\": 0.2}, {\"date\": \"2021-04-15T00:00:00\", \"location\": \"South Korea\", \"median_age\": 43.4, \"people_fully_vaccinated_per_hundred\": 0.2}, {\"date\": \"2021-04-16T00:00:00\", \"location\": \"South Korea\", \"median_age\": 43.4, \"people_fully_vaccinated_per_hundred\": 0.2}, {\"date\": \"2021-04-17T00:00:00\", \"location\": \"South Korea\", \"median_age\": 43.4, \"people_fully_vaccinated_per_hundred\": 0.21}, {\"date\": \"2021-04-18T00:00:00\", \"location\": \"South Korea\", \"median_age\": 43.4, \"people_fully_vaccinated_per_hundred\": 0.21}, {\"date\": \"2021-04-19T00:00:00\", \"location\": \"South Korea\", \"median_age\": 43.4, \"people_fully_vaccinated_per_hundred\": 0.21}, {\"date\": \"2021-04-20T00:00:00\", \"location\": \"South Korea\", \"median_age\": 43.4, \"people_fully_vaccinated_per_hundred\": 0.21}, {\"date\": \"2021-04-21T00:00:00\", \"location\": \"South Korea\", \"median_age\": 43.4, \"people_fully_vaccinated_per_hundred\": 0.21}, {\"date\": \"2021-04-22T00:00:00\", \"location\": \"South Korea\", \"median_age\": 43.4, \"people_fully_vaccinated_per_hundred\": 0.25}, {\"date\": \"2021-04-23T00:00:00\", \"location\": \"South Korea\", \"median_age\": 43.4, \"people_fully_vaccinated_per_hundred\": 0.29}, {\"date\": \"2021-04-24T00:00:00\", \"location\": \"South Korea\", \"median_age\": 43.4, \"people_fully_vaccinated_per_hundred\": 0.3}, {\"date\": \"2021-04-25T00:00:00\", \"location\": \"South Korea\", \"median_age\": 43.4, \"people_fully_vaccinated_per_hundred\": 0.31}, {\"date\": \"2021-04-26T00:00:00\", \"location\": \"South Korea\", \"median_age\": 43.4, \"people_fully_vaccinated_per_hundred\": 0.35}, {\"date\": \"2021-04-27T00:00:00\", \"location\": \"South Korea\", \"median_age\": 43.4, \"people_fully_vaccinated_per_hundred\": 0.39}, {\"date\": \"2021-04-28T00:00:00\", \"location\": \"South Korea\", \"median_age\": 43.4, \"people_fully_vaccinated_per_hundred\": 0.43}, {\"date\": \"2021-04-29T00:00:00\", \"location\": \"South Korea\", \"median_age\": 43.4, \"people_fully_vaccinated_per_hundred\": 0.5}, {\"date\": \"2021-04-30T00:00:00\", \"location\": \"South Korea\", \"median_age\": 43.4, \"people_fully_vaccinated_per_hundred\": 0.56}, {\"date\": \"2021-05-01T00:00:00\", \"location\": \"South Korea\", \"median_age\": 43.4, \"people_fully_vaccinated_per_hundred\": 0.57}, {\"date\": \"2021-05-02T00:00:00\", \"location\": \"South Korea\", \"median_age\": 43.4, \"people_fully_vaccinated_per_hundred\": 0.58}, {\"date\": \"2021-05-03T00:00:00\", \"location\": \"South Korea\", \"median_age\": 43.4, \"people_fully_vaccinated_per_hundred\": 0.64}, {\"date\": \"2021-05-04T00:00:00\", \"location\": \"South Korea\", \"median_age\": 43.4, \"people_fully_vaccinated_per_hundred\": 0.7}, {\"date\": \"2021-05-05T00:00:00\", \"location\": \"South Korea\", \"median_age\": 43.4, \"people_fully_vaccinated_per_hundred\": 0.75}, {\"date\": \"2021-05-06T00:00:00\", \"location\": \"South Korea\", \"median_age\": 43.4, \"people_fully_vaccinated_per_hundred\": 0.9}, {\"date\": \"2021-05-07T00:00:00\", \"location\": \"South Korea\", \"median_age\": 43.4, \"people_fully_vaccinated_per_hundred\": 1.05}, {\"date\": \"2021-05-08T00:00:00\", \"location\": \"South Korea\", \"median_age\": 43.4, \"people_fully_vaccinated_per_hundred\": 1.11}, {\"date\": \"2021-05-09T00:00:00\", \"location\": \"South Korea\", \"median_age\": 43.4, \"people_fully_vaccinated_per_hundred\": 1.12}, {\"date\": \"2021-05-10T00:00:00\", \"location\": \"South Korea\", \"median_age\": 43.4, \"people_fully_vaccinated_per_hundred\": 1.27}, {\"date\": \"2021-05-11T00:00:00\", \"location\": \"South Korea\", \"median_age\": 43.4, \"people_fully_vaccinated_per_hundred\": 1.43}, {\"date\": \"2021-05-12T00:00:00\", \"location\": \"South Korea\", \"median_age\": 43.4, \"people_fully_vaccinated_per_hundred\": 1.59}, {\"date\": \"2021-05-13T00:00:00\", \"location\": \"South Korea\", \"median_age\": 43.4, \"people_fully_vaccinated_per_hundred\": 1.75}, {\"date\": \"2021-05-14T00:00:00\", \"location\": \"South Korea\", \"median_age\": 43.4, \"people_fully_vaccinated_per_hundred\": 1.9}, {\"date\": \"2021-05-15T00:00:00\", \"location\": \"South Korea\", \"median_age\": 43.4, \"people_fully_vaccinated_per_hundred\": 1.96}, {\"date\": \"2021-05-16T00:00:00\", \"location\": \"South Korea\", \"median_age\": 43.4, \"people_fully_vaccinated_per_hundred\": 1.98}, {\"date\": \"2021-05-17T00:00:00\", \"location\": \"South Korea\", \"median_age\": 43.4, \"people_fully_vaccinated_per_hundred\": 2.17}, {\"date\": \"2021-05-18T00:00:00\", \"location\": \"South Korea\", \"median_age\": 43.4, \"people_fully_vaccinated_per_hundred\": 2.45}, {\"date\": \"2021-05-19T00:00:00\", \"location\": \"South Korea\", \"median_age\": 43.4, \"people_fully_vaccinated_per_hundred\": 2.63}, {\"date\": \"2021-05-20T00:00:00\", \"location\": \"South Korea\", \"median_age\": 43.4, \"people_fully_vaccinated_per_hundred\": 3.04}, {\"date\": \"2021-05-21T00:00:00\", \"location\": \"South Korea\", \"median_age\": 43.4, \"people_fully_vaccinated_per_hundred\": 3.48}, {\"date\": \"2021-05-22T00:00:00\", \"location\": \"South Korea\", \"median_age\": 43.4, \"people_fully_vaccinated_per_hundred\": 3.55}, {\"date\": \"2021-05-23T00:00:00\", \"location\": \"South Korea\", \"median_age\": 43.4, \"people_fully_vaccinated_per_hundred\": 3.56}, {\"date\": \"2021-05-24T00:00:00\", \"location\": \"South Korea\", \"median_age\": 43.4, \"people_fully_vaccinated_per_hundred\": 3.76}, {\"date\": \"2021-05-25T00:00:00\", \"location\": \"South Korea\", \"median_age\": 43.4, \"people_fully_vaccinated_per_hundred\": 3.95}, {\"date\": \"2021-05-26T00:00:00\", \"location\": \"South Korea\", \"median_age\": 43.4, \"people_fully_vaccinated_per_hundred\": 4.08}, {\"date\": \"2021-05-27T00:00:00\", \"location\": \"South Korea\", \"median_age\": 43.4, \"people_fully_vaccinated_per_hundred\": 4.19}, {\"date\": \"2021-05-28T00:00:00\", \"location\": \"South Korea\", \"median_age\": 43.4, \"people_fully_vaccinated_per_hundred\": 4.32}, {\"date\": \"2021-05-29T00:00:00\", \"location\": \"South Korea\", \"median_age\": 43.4, \"people_fully_vaccinated_per_hundred\": 4.34}, {\"date\": \"2021-05-30T00:00:00\", \"location\": \"South Korea\", \"median_age\": 43.4, \"people_fully_vaccinated_per_hundred\": 4.34}, {\"date\": \"2021-05-31T00:00:00\", \"location\": \"South Korea\", \"median_age\": 43.4, \"people_fully_vaccinated_per_hundred\": 4.39}, {\"date\": \"2021-06-01T00:00:00\", \"location\": \"South Korea\", \"median_age\": 43.4, \"people_fully_vaccinated_per_hundred\": 4.44}, {\"date\": \"2021-06-02T00:00:00\", \"location\": \"South Korea\", \"median_age\": 43.4, \"people_fully_vaccinated_per_hundred\": 4.49}, {\"date\": \"2021-06-03T00:00:00\", \"location\": \"South Korea\", \"median_age\": 43.4, \"people_fully_vaccinated_per_hundred\": 4.54}, {\"date\": \"2021-06-04T00:00:00\", \"location\": \"South Korea\", \"median_age\": 43.4, \"people_fully_vaccinated_per_hundred\": 4.6}, {\"date\": \"2021-06-05T00:00:00\", \"location\": \"South Korea\", \"median_age\": 43.4, \"people_fully_vaccinated_per_hundred\": 4.61}, {\"date\": \"2021-06-06T00:00:00\", \"location\": \"South Korea\", \"median_age\": 43.4, \"people_fully_vaccinated_per_hundred\": 4.61}, {\"date\": \"2021-06-07T00:00:00\", \"location\": \"South Korea\", \"median_age\": 43.4, \"people_fully_vaccinated_per_hundred\": 4.65}, {\"date\": \"2021-06-08T00:00:00\", \"location\": \"South Korea\", \"median_age\": 43.4, \"people_fully_vaccinated_per_hundred\": 4.71}, {\"date\": \"2021-06-09T00:00:00\", \"location\": \"South Korea\", \"median_age\": 43.4, \"people_fully_vaccinated_per_hundred\": 4.75}, {\"date\": \"2021-06-10T00:00:00\", \"location\": \"South Korea\", \"median_age\": 43.4, \"people_fully_vaccinated_per_hundred\": 5.32}, {\"date\": \"2021-06-11T00:00:00\", \"location\": \"South Korea\", \"median_age\": 43.4, \"people_fully_vaccinated_per_hundred\": 5.78}, {\"date\": \"2021-06-12T00:00:00\", \"location\": \"South Korea\", \"median_age\": 43.4, \"people_fully_vaccinated_per_hundred\": 6.02}, {\"date\": \"2021-06-13T00:00:00\", \"location\": \"South Korea\", \"median_age\": 43.4, \"people_fully_vaccinated_per_hundred\": 6.04}, {\"date\": \"2021-06-14T00:00:00\", \"location\": \"South Korea\", \"median_age\": 43.4, \"people_fully_vaccinated_per_hundred\": 6.55}, {\"date\": \"2021-06-15T00:00:00\", \"location\": \"South Korea\", \"median_age\": 43.4, \"people_fully_vaccinated_per_hundred\": 6.96}, {\"date\": \"2021-06-16T00:00:00\", \"location\": \"South Korea\", \"median_age\": 43.4, \"people_fully_vaccinated_per_hundred\": 7.51}, {\"date\": \"2021-06-17T00:00:00\", \"location\": \"South Korea\", \"median_age\": 43.4, \"people_fully_vaccinated_per_hundred\": 7.76}, {\"date\": \"2021-06-18T00:00:00\", \"location\": \"South Korea\", \"median_age\": 43.4, \"people_fully_vaccinated_per_hundred\": 8.01}, {\"date\": \"2021-06-19T00:00:00\", \"location\": \"South Korea\", \"median_age\": 43.4, \"people_fully_vaccinated_per_hundred\": 8.08}, {\"date\": \"2021-06-20T00:00:00\", \"location\": \"South Korea\", \"median_age\": 43.4, \"people_fully_vaccinated_per_hundred\": 8.09}, {\"date\": \"2021-06-21T00:00:00\", \"location\": \"South Korea\", \"median_age\": 43.4, \"people_fully_vaccinated_per_hundred\": 8.32}, {\"date\": \"2021-06-22T00:00:00\", \"location\": \"South Korea\", \"median_age\": 43.4, \"people_fully_vaccinated_per_hundred\": 8.56}, {\"date\": \"2021-06-23T00:00:00\", \"location\": \"South Korea\", \"median_age\": 43.4, \"people_fully_vaccinated_per_hundred\": 8.8}, {\"date\": \"2021-06-24T00:00:00\", \"location\": \"South Korea\", \"median_age\": 43.4, \"people_fully_vaccinated_per_hundred\": 9.01}, {\"date\": \"2021-06-25T00:00:00\", \"location\": \"South Korea\", \"median_age\": 43.4, \"people_fully_vaccinated_per_hundred\": 9.2}, {\"date\": \"2021-06-26T00:00:00\", \"location\": \"South Korea\", \"median_age\": 43.4, \"people_fully_vaccinated_per_hundred\": 9.25}, {\"date\": \"2021-06-27T00:00:00\", \"location\": \"South Korea\", \"median_age\": 43.4, \"people_fully_vaccinated_per_hundred\": 9.25}, {\"date\": \"2021-06-28T00:00:00\", \"location\": \"South Korea\", \"median_age\": 43.4, \"people_fully_vaccinated_per_hundred\": 9.54}, {\"date\": \"2021-06-29T00:00:00\", \"location\": \"South Korea\", \"median_age\": 43.4, \"people_fully_vaccinated_per_hundred\": 9.82}, {\"date\": \"2021-06-30T00:00:00\", \"location\": \"South Korea\", \"median_age\": 43.4, \"people_fully_vaccinated_per_hundred\": 10.09}, {\"date\": \"2021-07-01T00:00:00\", \"location\": \"South Korea\", \"median_age\": 43.4, \"people_fully_vaccinated_per_hundred\": 10.33}, {\"date\": \"2021-07-02T00:00:00\", \"location\": \"South Korea\", \"median_age\": 43.4, \"people_fully_vaccinated_per_hundred\": 10.57}, {\"date\": \"2021-07-03T00:00:00\", \"location\": \"South Korea\", \"median_age\": 43.4, \"people_fully_vaccinated_per_hundred\": 10.6}, {\"date\": \"2021-07-04T00:00:00\", \"location\": \"South Korea\", \"median_age\": 43.4, \"people_fully_vaccinated_per_hundred\": 10.6}, {\"date\": \"2021-07-05T00:00:00\", \"location\": \"South Korea\", \"median_age\": 43.4, \"people_fully_vaccinated_per_hundred\": 10.75}, {\"date\": \"2021-07-06T00:00:00\", \"location\": \"South Korea\", \"median_age\": 43.4, \"people_fully_vaccinated_per_hundred\": 10.93}, {\"date\": \"2021-07-07T00:00:00\", \"location\": \"South Korea\", \"median_age\": 43.4, \"people_fully_vaccinated_per_hundred\": 11.11}, {\"date\": \"2021-07-08T00:00:00\", \"location\": \"South Korea\", \"median_age\": 43.4, \"people_fully_vaccinated_per_hundred\": 11.32}, {\"date\": \"2021-07-09T00:00:00\", \"location\": \"South Korea\", \"median_age\": 43.4, \"people_fully_vaccinated_per_hundred\": 11.61}, {\"date\": \"2021-07-10T00:00:00\", \"location\": \"South Korea\", \"median_age\": 43.4, \"people_fully_vaccinated_per_hundred\": 11.69}, {\"date\": \"2021-07-11T00:00:00\", \"location\": \"South Korea\", \"median_age\": 43.4, \"people_fully_vaccinated_per_hundred\": 11.69}, {\"date\": \"2021-07-12T00:00:00\", \"location\": \"South Korea\", \"median_age\": 43.4, \"people_fully_vaccinated_per_hundred\": 11.88}, {\"date\": \"2021-07-13T00:00:00\", \"location\": \"South Korea\", \"median_age\": 43.4, \"people_fully_vaccinated_per_hundred\": 12.1}, {\"date\": \"2021-07-14T00:00:00\", \"location\": \"South Korea\", \"median_age\": 43.4, \"people_fully_vaccinated_per_hundred\": 12.34}, {\"date\": \"2021-07-15T00:00:00\", \"location\": \"South Korea\", \"median_age\": 43.4, \"people_fully_vaccinated_per_hundred\": 12.62}, {\"date\": \"2021-07-16T00:00:00\", \"location\": \"South Korea\", \"median_age\": 43.4, \"people_fully_vaccinated_per_hundred\": 12.98}, {\"date\": \"2021-07-17T00:00:00\", \"location\": \"South Korea\", \"median_age\": 43.4, \"people_fully_vaccinated_per_hundred\": 13.05}, {\"date\": \"2021-07-18T00:00:00\", \"location\": \"South Korea\", \"median_age\": 43.4, \"people_fully_vaccinated_per_hundred\": 13.06}, {\"date\": \"2021-07-19T00:00:00\", \"location\": \"South Korea\", \"median_age\": 43.4, \"people_fully_vaccinated_per_hundred\": 13.2}, {\"date\": \"2021-07-20T00:00:00\", \"location\": \"South Korea\", \"median_age\": 43.4, \"people_fully_vaccinated_per_hundred\": 13.32}, {\"date\": \"2021-07-21T00:00:00\", \"location\": \"South Korea\", \"median_age\": 43.4, \"people_fully_vaccinated_per_hundred\": 13.4}, {\"date\": \"2021-07-22T00:00:00\", \"location\": \"South Korea\", \"median_age\": 43.4, \"people_fully_vaccinated_per_hundred\": 13.52}, {\"date\": \"2021-07-23T00:00:00\", \"location\": \"South Korea\", \"median_age\": 43.4, \"people_fully_vaccinated_per_hundred\": 13.64}, {\"date\": \"2021-07-24T00:00:00\", \"location\": \"South Korea\", \"median_age\": 43.4, \"people_fully_vaccinated_per_hundred\": 13.67}, {\"date\": \"2021-07-25T00:00:00\", \"location\": \"South Korea\", \"median_age\": 43.4, \"people_fully_vaccinated_per_hundred\": 13.67}, {\"date\": \"2021-07-26T00:00:00\", \"location\": \"South Korea\", \"median_age\": 43.4, \"people_fully_vaccinated_per_hundred\": 13.8}, {\"date\": \"2021-07-27T00:00:00\", \"location\": \"South Korea\", \"median_age\": 43.4, \"people_fully_vaccinated_per_hundred\": 13.9}, {\"date\": \"2021-07-28T00:00:00\", \"location\": \"South Korea\", \"median_age\": 43.4, \"people_fully_vaccinated_per_hundred\": 13.98}, {\"date\": \"2021-07-29T00:00:00\", \"location\": \"South Korea\", \"median_age\": 43.4, \"people_fully_vaccinated_per_hundred\": 14.07}, {\"date\": \"2021-07-30T00:00:00\", \"location\": \"South Korea\", \"median_age\": 43.4, \"people_fully_vaccinated_per_hundred\": 14.19}, {\"date\": \"2021-07-31T00:00:00\", \"location\": \"South Korea\", \"median_age\": 43.4, \"people_fully_vaccinated_per_hundred\": 14.22}, {\"date\": \"2021-08-01T00:00:00\", \"location\": \"South Korea\", \"median_age\": 43.4, \"people_fully_vaccinated_per_hundred\": 14.22}, {\"date\": \"2021-08-02T00:00:00\", \"location\": \"South Korea\", \"median_age\": 43.4, \"people_fully_vaccinated_per_hundred\": 14.3}, {\"date\": \"2021-08-03T00:00:00\", \"location\": \"South Korea\", \"median_age\": 43.4, \"people_fully_vaccinated_per_hundred\": 14.51}, {\"date\": \"2021-08-04T00:00:00\", \"location\": \"South Korea\", \"median_age\": 43.4, \"people_fully_vaccinated_per_hundred\": 14.73}, {\"date\": \"2021-08-05T00:00:00\", \"location\": \"South Korea\", \"median_age\": 43.4, \"people_fully_vaccinated_per_hundred\": 14.98}, {\"date\": \"2021-08-06T00:00:00\", \"location\": \"South Korea\", \"median_age\": 43.4, \"people_fully_vaccinated_per_hundred\": 15.29}, {\"date\": \"2021-08-07T00:00:00\", \"location\": \"South Korea\", \"median_age\": 43.4, \"people_fully_vaccinated_per_hundred\": 15.36}, {\"date\": \"2021-08-08T00:00:00\", \"location\": \"South Korea\", \"median_age\": 43.4, \"people_fully_vaccinated_per_hundred\": 15.36}, {\"date\": \"2021-08-09T00:00:00\", \"location\": \"South Korea\", \"median_age\": 43.4, \"people_fully_vaccinated_per_hundred\": 15.71}, {\"date\": \"2021-08-10T00:00:00\", \"location\": \"South Korea\", \"median_age\": 43.4, \"people_fully_vaccinated_per_hundred\": 16.04}, {\"date\": \"2021-08-11T00:00:00\", \"location\": \"South Korea\", \"median_age\": 43.4, \"people_fully_vaccinated_per_hundred\": 16.36}, {\"date\": \"2021-08-12T00:00:00\", \"location\": \"South Korea\", \"median_age\": 43.4, \"people_fully_vaccinated_per_hundred\": 17.74}, {\"date\": \"2021-08-13T00:00:00\", \"location\": \"South Korea\", \"median_age\": 43.4, \"people_fully_vaccinated_per_hundred\": 18.95}, {\"date\": \"2021-08-14T00:00:00\", \"location\": \"South Korea\", \"median_age\": 43.4, \"people_fully_vaccinated_per_hundred\": 19.31}, {\"date\": \"2021-08-15T00:00:00\", \"location\": \"South Korea\", \"median_age\": 43.4, \"people_fully_vaccinated_per_hundred\": 19.32}, {\"date\": \"2021-08-16T00:00:00\", \"location\": \"South Korea\", \"median_age\": 43.4, \"people_fully_vaccinated_per_hundred\": 19.82}, {\"date\": \"2021-08-17T00:00:00\", \"location\": \"South Korea\", \"median_age\": 43.4, \"people_fully_vaccinated_per_hundred\": 20.79}, {\"date\": \"2021-08-18T00:00:00\", \"location\": \"South Korea\", \"median_age\": 43.4, \"people_fully_vaccinated_per_hundred\": 21.41}, {\"date\": \"2021-08-19T00:00:00\", \"location\": \"South Korea\", \"median_age\": 43.4, \"people_fully_vaccinated_per_hundred\": 21.99}, {\"date\": \"2021-08-20T00:00:00\", \"location\": \"South Korea\", \"median_age\": 43.4, \"people_fully_vaccinated_per_hundred\": 22.64}, {\"date\": \"2021-08-21T00:00:00\", \"location\": \"South Korea\", \"median_age\": 43.4, \"people_fully_vaccinated_per_hundred\": 22.88}, {\"date\": \"2021-08-22T00:00:00\", \"location\": \"South Korea\", \"median_age\": 43.4, \"people_fully_vaccinated_per_hundred\": 22.89}, {\"date\": \"2021-08-23T00:00:00\", \"location\": \"South Korea\", \"median_age\": 43.4, \"people_fully_vaccinated_per_hundred\": 24.29}, {\"date\": \"2021-08-24T00:00:00\", \"location\": \"South Korea\", \"median_age\": 43.4, \"people_fully_vaccinated_per_hundred\": 25.47}, {\"date\": \"2021-08-25T00:00:00\", \"location\": \"South Korea\", \"median_age\": 43.4, \"people_fully_vaccinated_per_hundred\": 26.41}, {\"date\": \"2021-08-26T00:00:00\", \"location\": \"South Korea\", \"median_age\": 43.4, \"people_fully_vaccinated_per_hundred\": 27.24}, {\"date\": \"2021-08-27T00:00:00\", \"location\": \"South Korea\", \"median_age\": 43.4, \"people_fully_vaccinated_per_hundred\": 28.31}, {\"date\": \"2021-08-28T00:00:00\", \"location\": \"South Korea\", \"median_age\": 43.4, \"people_fully_vaccinated_per_hundred\": 28.81}, {\"date\": \"2021-08-29T00:00:00\", \"location\": \"South Korea\", \"median_age\": 43.4, \"people_fully_vaccinated_per_hundred\": 28.84}, {\"date\": \"2021-08-30T00:00:00\", \"location\": \"South Korea\", \"median_age\": 43.4, \"people_fully_vaccinated_per_hundred\": 30.01}, {\"date\": \"2021-08-31T00:00:00\", \"location\": \"South Korea\", \"median_age\": 43.4, \"people_fully_vaccinated_per_hundred\": 31.05}, {\"date\": \"2021-09-01T00:00:00\", \"location\": \"South Korea\", \"median_age\": 43.4, \"people_fully_vaccinated_per_hundred\": 32.09}, {\"date\": \"2021-09-02T00:00:00\", \"location\": \"South Korea\", \"median_age\": 43.4, \"people_fully_vaccinated_per_hundred\": 33.07}, {\"date\": \"2021-09-03T00:00:00\", \"location\": \"South Korea\", \"median_age\": 43.4, \"people_fully_vaccinated_per_hundred\": 34.43}, {\"date\": \"2021-09-04T00:00:00\", \"location\": \"South Korea\", \"median_age\": 43.4, \"people_fully_vaccinated_per_hundred\": 34.94}, {\"date\": \"2021-09-05T00:00:00\", \"location\": \"South Korea\", \"median_age\": 43.4, \"people_fully_vaccinated_per_hundred\": 34.96}, {\"date\": \"2021-09-06T00:00:00\", \"location\": \"South Korea\", \"median_age\": 43.4, \"people_fully_vaccinated_per_hundred\": 36.2}, {\"date\": \"2021-09-07T00:00:00\", \"location\": \"South Korea\", \"median_age\": 43.4, \"people_fully_vaccinated_per_hundred\": 37.02}, {\"date\": \"2021-09-08T00:00:00\", \"location\": \"South Korea\", \"median_age\": 43.4, \"people_fully_vaccinated_per_hundred\": 37.62}, {\"date\": \"2021-09-09T00:00:00\", \"location\": \"South Korea\", \"median_age\": 43.4, \"people_fully_vaccinated_per_hundred\": 38.19}, {\"date\": \"2021-09-10T00:00:00\", \"location\": \"South Korea\", \"median_age\": 43.4, \"people_fully_vaccinated_per_hundred\": 39.01}, {\"date\": \"2021-09-11T00:00:00\", \"location\": \"South Korea\", \"median_age\": 43.4, \"people_fully_vaccinated_per_hundred\": 39.42}, {\"date\": \"2021-09-12T00:00:00\", \"location\": \"South Korea\", \"median_age\": 43.4, \"people_fully_vaccinated_per_hundred\": 39.47}, {\"date\": \"2021-09-13T00:00:00\", \"location\": \"South Korea\", \"median_age\": 43.4, \"people_fully_vaccinated_per_hundred\": 40.3}, {\"date\": \"2021-09-14T00:00:00\", \"location\": \"South Korea\", \"median_age\": 43.4, \"people_fully_vaccinated_per_hundred\": 40.74}, {\"date\": \"2021-09-15T00:00:00\", \"location\": \"South Korea\", \"median_age\": 43.4, \"people_fully_vaccinated_per_hundred\": 41.6}, {\"date\": \"2021-09-16T00:00:00\", \"location\": \"South Korea\", \"median_age\": 43.4, \"people_fully_vaccinated_per_hundred\": 42.21}, {\"date\": \"2021-09-17T00:00:00\", \"location\": \"South Korea\", \"median_age\": 43.4, \"people_fully_vaccinated_per_hundred\": 43.08}, {\"date\": \"2021-09-18T00:00:00\", \"location\": \"South Korea\", \"median_age\": 43.4, \"people_fully_vaccinated_per_hundred\": 43.45}, {\"date\": \"2021-09-19T00:00:00\", \"location\": \"South Korea\", \"median_age\": 43.4, \"people_fully_vaccinated_per_hundred\": 43.5}, {\"date\": \"2021-09-20T00:00:00\", \"location\": \"South Korea\", \"median_age\": 43.4, \"people_fully_vaccinated_per_hundred\": 43.53}, {\"date\": \"2021-09-21T00:00:00\", \"location\": \"South Korea\", \"median_age\": 43.4, \"people_fully_vaccinated_per_hundred\": 43.54}, {\"date\": \"2021-09-22T00:00:00\", \"location\": \"South Korea\", \"median_age\": 43.4, \"people_fully_vaccinated_per_hundred\": 43.57}, {\"date\": \"2021-09-23T00:00:00\", \"location\": \"South Korea\", \"median_age\": 43.4, \"people_fully_vaccinated_per_hundred\": 44.31}, {\"date\": \"2021-09-24T00:00:00\", \"location\": \"South Korea\", \"median_age\": 43.4, \"people_fully_vaccinated_per_hundred\": 45.12}, {\"date\": \"2021-09-25T00:00:00\", \"location\": \"South Korea\", \"median_age\": 43.4, \"people_fully_vaccinated_per_hundred\": 45.54}, {\"date\": \"2021-09-26T00:00:00\", \"location\": \"South Korea\", \"median_age\": 43.4, \"people_fully_vaccinated_per_hundred\": 45.59}, {\"date\": \"2021-09-27T00:00:00\", \"location\": \"South Korea\", \"median_age\": 43.4, \"people_fully_vaccinated_per_hundred\": 46.98}, {\"date\": \"2021-09-28T00:00:00\", \"location\": \"South Korea\", \"median_age\": 43.4, \"people_fully_vaccinated_per_hundred\": 48.32}, {\"date\": \"2021-09-29T00:00:00\", \"location\": \"South Korea\", \"median_age\": 43.4, \"people_fully_vaccinated_per_hundred\": 49.35}, {\"date\": \"2021-09-30T00:00:00\", \"location\": \"South Korea\", \"median_age\": 43.4, \"people_fully_vaccinated_per_hundred\": 50.41}, {\"date\": \"2021-10-01T00:00:00\", \"location\": \"South Korea\", \"median_age\": 43.4, \"people_fully_vaccinated_per_hundred\": 52.09}, {\"date\": \"2021-10-02T00:00:00\", \"location\": \"South Korea\", \"median_age\": 43.4, \"people_fully_vaccinated_per_hundred\": 52.89}, {\"date\": \"2021-10-03T00:00:00\", \"location\": \"South Korea\", \"median_age\": 43.4, \"people_fully_vaccinated_per_hundred\": 52.95}, {\"date\": \"2021-10-04T00:00:00\", \"location\": \"South Korea\", \"median_age\": 43.4, \"people_fully_vaccinated_per_hundred\": 53.36}, {\"date\": \"2021-10-05T00:00:00\", \"location\": \"South Korea\", \"median_age\": 43.4, \"people_fully_vaccinated_per_hundred\": 54.86}, {\"date\": \"2021-10-06T00:00:00\", \"location\": \"South Korea\", \"median_age\": 43.4, \"people_fully_vaccinated_per_hundred\": 55.86}, {\"date\": \"2021-10-07T00:00:00\", \"location\": \"South Korea\", \"median_age\": 43.4, \"people_fully_vaccinated_per_hundred\": 57.24}, {\"date\": \"2021-10-08T00:00:00\", \"location\": \"South Korea\", \"median_age\": 43.4, \"people_fully_vaccinated_per_hundred\": 59.39}, {\"date\": \"2021-10-09T00:00:00\", \"location\": \"South Korea\", \"median_age\": 43.4, \"people_fully_vaccinated_per_hundred\": 59.59}, {\"date\": \"2021-10-10T00:00:00\", \"location\": \"South Korea\", \"median_age\": 43.4, \"people_fully_vaccinated_per_hundred\": 59.63}, {\"date\": \"2021-10-11T00:00:00\", \"location\": \"South Korea\", \"median_age\": 43.4, \"people_fully_vaccinated_per_hundred\": 59.95}, {\"date\": \"2021-10-12T00:00:00\", \"location\": \"South Korea\", \"median_age\": 43.4, \"people_fully_vaccinated_per_hundred\": 61.13}, {\"date\": \"2021-10-13T00:00:00\", \"location\": \"South Korea\", \"median_age\": 43.4, \"people_fully_vaccinated_per_hundred\": 61.93}, {\"date\": \"2021-10-14T00:00:00\", \"location\": \"South Korea\", \"median_age\": 43.4, \"people_fully_vaccinated_per_hundred\": 62.82}, {\"date\": \"2021-10-15T00:00:00\", \"location\": \"South Korea\", \"median_age\": 43.4, \"people_fully_vaccinated_per_hundred\": 64.23}, {\"date\": \"2021-10-16T00:00:00\", \"location\": \"South Korea\", \"median_age\": 43.4, \"people_fully_vaccinated_per_hundred\": 64.93}, {\"date\": \"2021-10-17T00:00:00\", \"location\": \"South Korea\", \"median_age\": 43.4, \"people_fully_vaccinated_per_hundred\": 64.96}, {\"date\": \"2021-10-18T00:00:00\", \"location\": \"South Korea\", \"median_age\": 43.4, \"people_fully_vaccinated_per_hundred\": 66.19}, {\"date\": \"2021-10-19T00:00:00\", \"location\": \"South Korea\", \"median_age\": 43.4, \"people_fully_vaccinated_per_hundred\": 67.07}, {\"date\": \"2021-10-20T00:00:00\", \"location\": \"South Korea\", \"median_age\": 43.4, \"people_fully_vaccinated_per_hundred\": 67.7}, {\"date\": \"2021-10-21T00:00:00\", \"location\": \"South Korea\", \"median_age\": 43.4, \"people_fully_vaccinated_per_hundred\": 68.5}, {\"date\": \"2021-10-22T00:00:00\", \"location\": \"South Korea\", \"median_age\": 43.4, \"people_fully_vaccinated_per_hundred\": 69.74}, {\"date\": \"2021-10-23T00:00:00\", \"location\": \"South Korea\", \"median_age\": 43.4, \"people_fully_vaccinated_per_hundred\": 70.39}, {\"date\": \"2021-10-24T00:00:00\", \"location\": \"South Korea\", \"median_age\": 43.4, \"people_fully_vaccinated_per_hundred\": 70.42}, {\"date\": \"2021-10-25T00:00:00\", \"location\": \"South Korea\", \"median_age\": 43.4, \"people_fully_vaccinated_per_hundred\": 71.27}, {\"date\": \"2021-10-26T00:00:00\", \"location\": \"South Korea\", \"median_age\": 43.4, \"people_fully_vaccinated_per_hundred\": 71.82}, {\"date\": \"2021-10-27T00:00:00\", \"location\": \"South Korea\", \"median_age\": 43.4, \"people_fully_vaccinated_per_hundred\": 72.32}, {\"date\": \"2021-10-28T00:00:00\", \"location\": \"South Korea\", \"median_age\": 43.4, \"people_fully_vaccinated_per_hundred\": 73.54}, {\"date\": \"2021-10-29T00:00:00\", \"location\": \"South Korea\", \"median_age\": 43.4, \"people_fully_vaccinated_per_hundred\": 74.91}, {\"date\": \"2021-10-30T00:00:00\", \"location\": \"South Korea\", \"median_age\": 43.4, \"people_fully_vaccinated_per_hundred\": 75.61}, {\"date\": \"2021-10-31T00:00:00\", \"location\": \"South Korea\", \"median_age\": 43.4, \"people_fully_vaccinated_per_hundred\": 75.65}, {\"date\": \"2021-11-01T00:00:00\", \"location\": \"South Korea\", \"median_age\": 43.4, \"people_fully_vaccinated_per_hundred\": 75.88}, {\"date\": \"2021-11-02T00:00:00\", \"location\": \"South Korea\", \"median_age\": 43.4, \"people_fully_vaccinated_per_hundred\": 76.06}, {\"date\": \"2021-11-03T00:00:00\", \"location\": \"South Korea\", \"median_age\": 43.4, \"people_fully_vaccinated_per_hundred\": 76.2}, {\"date\": \"2021-11-04T00:00:00\", \"location\": \"South Korea\", \"median_age\": 43.4, \"people_fully_vaccinated_per_hundred\": 76.45}, {\"date\": \"2021-11-05T00:00:00\", \"location\": \"South Korea\", \"median_age\": 43.4, \"people_fully_vaccinated_per_hundred\": 76.77}, {\"date\": \"2021-11-06T00:00:00\", \"location\": \"South Korea\", \"median_age\": 43.4, \"people_fully_vaccinated_per_hundred\": 76.89}, {\"date\": \"2021-11-07T00:00:00\", \"location\": \"South Korea\", \"median_age\": 43.4, \"people_fully_vaccinated_per_hundred\": 76.9}, {\"date\": \"2021-11-08T00:00:00\", \"location\": \"South Korea\", \"median_age\": 43.4, \"people_fully_vaccinated_per_hundred\": 77.22}, {\"date\": \"2021-11-09T00:00:00\", \"location\": \"South Korea\", \"median_age\": 43.4, \"people_fully_vaccinated_per_hundred\": 77.46}, {\"date\": \"2021-11-10T00:00:00\", \"location\": \"South Korea\", \"median_age\": 43.4, \"people_fully_vaccinated_per_hundred\": 77.67}, {\"date\": \"2021-11-11T00:00:00\", \"location\": \"South Korea\", \"median_age\": 43.4, \"people_fully_vaccinated_per_hundred\": 77.89}, {\"date\": \"2021-11-12T00:00:00\", \"location\": \"South Korea\", \"median_age\": 43.4, \"people_fully_vaccinated_per_hundred\": 78.18}, {\"date\": \"2021-11-13T00:00:00\", \"location\": \"South Korea\", \"median_age\": 43.4, \"people_fully_vaccinated_per_hundred\": 78.38}, {\"date\": \"2021-11-14T00:00:00\", \"location\": \"South Korea\", \"median_age\": 43.4, \"people_fully_vaccinated_per_hundred\": 78.38}, {\"date\": \"2021-11-15T00:00:00\", \"location\": \"South Korea\", \"median_age\": 43.4, \"people_fully_vaccinated_per_hundred\": 78.56}, {\"date\": \"2021-11-16T00:00:00\", \"location\": \"South Korea\", \"median_age\": 43.4, \"people_fully_vaccinated_per_hundred\": 78.65}, {\"date\": \"2021-11-17T00:00:00\", \"location\": \"South Korea\", \"median_age\": 43.4, \"people_fully_vaccinated_per_hundred\": 78.78}, {\"date\": \"2021-11-18T00:00:00\", \"location\": \"South Korea\", \"median_age\": 43.4, \"people_fully_vaccinated_per_hundred\": 78.9}, {\"date\": \"2021-11-19T00:00:00\", \"location\": \"South Korea\", \"median_age\": 43.4, \"people_fully_vaccinated_per_hundred\": 79.05}, {\"date\": \"2021-11-20T00:00:00\", \"location\": \"South Korea\", \"median_age\": 43.4, \"people_fully_vaccinated_per_hundred\": 79.13}, {\"date\": \"2021-11-21T00:00:00\", \"location\": \"South Korea\", \"median_age\": 43.4, \"people_fully_vaccinated_per_hundred\": 79.13}, {\"date\": \"2021-11-22T00:00:00\", \"location\": \"South Korea\", \"median_age\": 43.4, \"people_fully_vaccinated_per_hundred\": 79.31}, {\"date\": \"2021-11-23T00:00:00\", \"location\": \"South Korea\", \"median_age\": 43.4, \"people_fully_vaccinated_per_hundred\": 79.39}, {\"date\": \"2021-11-24T00:00:00\", \"location\": \"South Korea\", \"median_age\": 43.4, \"people_fully_vaccinated_per_hundred\": 79.51}, {\"date\": \"2021-11-25T00:00:00\", \"location\": \"South Korea\", \"median_age\": 43.4, \"people_fully_vaccinated_per_hundred\": 79.65}, {\"date\": \"2021-11-26T00:00:00\", \"location\": \"South Korea\", \"median_age\": 43.4, \"people_fully_vaccinated_per_hundred\": 79.82}, {\"date\": \"2021-11-27T00:00:00\", \"location\": \"South Korea\", \"median_age\": 43.4, \"people_fully_vaccinated_per_hundred\": 79.91}, {\"date\": \"2021-11-28T00:00:00\", \"location\": \"South Korea\", \"median_age\": 43.4, \"people_fully_vaccinated_per_hundred\": 79.91}, {\"date\": \"2021-11-29T00:00:00\", \"location\": \"South Korea\", \"median_age\": 43.4, \"people_fully_vaccinated_per_hundred\": 80.12}, {\"date\": \"2021-11-30T00:00:00\", \"location\": \"South Korea\", \"median_age\": 43.4, \"people_fully_vaccinated_per_hundred\": 80.21}, {\"date\": \"2021-12-01T00:00:00\", \"location\": \"South Korea\", \"median_age\": 43.4, \"people_fully_vaccinated_per_hundred\": 80.34}, {\"date\": \"2021-12-02T00:00:00\", \"location\": \"South Korea\", \"median_age\": 43.4, \"people_fully_vaccinated_per_hundred\": 80.46}, {\"date\": \"2021-12-03T00:00:00\", \"location\": \"South Korea\", \"median_age\": 43.4, \"people_fully_vaccinated_per_hundred\": 80.64}, {\"date\": \"2021-12-04T00:00:00\", \"location\": \"South Korea\", \"median_age\": 43.4, \"people_fully_vaccinated_per_hundred\": 80.75}, {\"date\": \"2021-12-05T00:00:00\", \"location\": \"South Korea\", \"median_age\": 43.4, \"people_fully_vaccinated_per_hundred\": 80.75}, {\"date\": \"2021-12-06T00:00:00\", \"location\": \"South Korea\", \"median_age\": 43.4, \"people_fully_vaccinated_per_hundred\": 80.88}, {\"date\": \"2021-12-07T00:00:00\", \"location\": \"South Korea\", \"median_age\": 43.4, \"people_fully_vaccinated_per_hundred\": 80.96}, {\"date\": \"2021-12-08T00:00:00\", \"location\": \"South Korea\", \"median_age\": 43.4, \"people_fully_vaccinated_per_hundred\": 81.06}, {\"date\": \"2021-12-09T00:00:00\", \"location\": \"South Korea\", \"median_age\": 43.4, \"people_fully_vaccinated_per_hundred\": 81.17}, {\"date\": \"2021-12-10T00:00:00\", \"location\": \"South Korea\", \"median_age\": 43.4, \"people_fully_vaccinated_per_hundred\": 81.32}, {\"date\": \"2021-12-11T00:00:00\", \"location\": \"South Korea\", \"median_age\": 43.4, \"people_fully_vaccinated_per_hundred\": 81.39}, {\"date\": \"2021-12-12T00:00:00\", \"location\": \"South Korea\", \"median_age\": 43.4, \"people_fully_vaccinated_per_hundred\": 81.39}, {\"date\": \"2021-12-13T00:00:00\", \"location\": \"South Korea\", \"median_age\": 43.4, \"people_fully_vaccinated_per_hundred\": 81.52}, {\"date\": \"2021-12-14T00:00:00\", \"location\": \"South Korea\", \"median_age\": 43.4, \"people_fully_vaccinated_per_hundred\": 81.6}, {\"date\": \"2021-12-15T00:00:00\", \"location\": \"South Korea\", \"median_age\": 43.4, \"people_fully_vaccinated_per_hundred\": 81.72}, {\"date\": \"2021-12-16T00:00:00\", \"location\": \"South Korea\", \"median_age\": 43.4, \"people_fully_vaccinated_per_hundred\": 81.84}, {\"date\": \"2021-12-17T00:00:00\", \"location\": \"South Korea\", \"median_age\": 43.4, \"people_fully_vaccinated_per_hundred\": 82.0}, {\"date\": \"2021-12-18T00:00:00\", \"location\": \"South Korea\", \"median_age\": 43.4, \"people_fully_vaccinated_per_hundred\": 82.07}, {\"date\": \"2021-12-19T00:00:00\", \"location\": \"South Korea\", \"median_age\": 43.4, \"people_fully_vaccinated_per_hundred\": 82.08}, {\"date\": \"2021-12-20T00:00:00\", \"location\": \"South Korea\", \"median_age\": 43.4, \"people_fully_vaccinated_per_hundred\": 82.18}, {\"date\": \"2021-12-21T00:00:00\", \"location\": \"South Korea\", \"median_age\": 43.4, \"people_fully_vaccinated_per_hundred\": 82.26}, {\"date\": \"2021-12-22T00:00:00\", \"location\": \"South Korea\", \"median_age\": 43.4, \"people_fully_vaccinated_per_hundred\": 82.33}, {\"date\": \"2021-12-23T00:00:00\", \"location\": \"South Korea\", \"median_age\": 43.4, \"people_fully_vaccinated_per_hundred\": 82.4}, {\"date\": \"2021-12-24T00:00:00\", \"location\": \"South Korea\", \"median_age\": 43.4, \"people_fully_vaccinated_per_hundred\": 82.49}, {\"date\": \"2021-12-25T00:00:00\", \"location\": \"South Korea\", \"median_age\": 43.4, \"people_fully_vaccinated_per_hundred\": 82.5}, {\"date\": \"2021-12-26T00:00:00\", \"location\": \"South Korea\", \"median_age\": 43.4, \"people_fully_vaccinated_per_hundred\": 82.5}, {\"date\": \"2021-12-27T00:00:00\", \"location\": \"South Korea\", \"median_age\": 43.4, \"people_fully_vaccinated_per_hundred\": 82.63}, {\"date\": \"2021-12-28T00:00:00\", \"location\": \"South Korea\", \"median_age\": 43.4, \"people_fully_vaccinated_per_hundred\": 82.71}, {\"date\": \"2021-12-29T00:00:00\", \"location\": \"South Korea\", \"median_age\": 43.4, \"people_fully_vaccinated_per_hundred\": 82.8}, {\"date\": \"2021-12-30T00:00:00\", \"location\": \"South Korea\", \"median_age\": 43.4, \"people_fully_vaccinated_per_hundred\": 82.89}, {\"date\": \"2021-12-31T00:00:00\", \"location\": \"South Korea\", \"median_age\": 43.4, \"people_fully_vaccinated_per_hundred\": 83.01}, {\"date\": \"2022-01-01T00:00:00\", \"location\": \"South Korea\", \"median_age\": 43.4, \"people_fully_vaccinated_per_hundred\": 83.02}, {\"date\": \"2022-01-02T00:00:00\", \"location\": \"South Korea\", \"median_age\": 43.4, \"people_fully_vaccinated_per_hundred\": 83.02}, {\"date\": \"2022-01-03T00:00:00\", \"location\": \"South Korea\", \"median_age\": 43.4, \"people_fully_vaccinated_per_hundred\": 83.18}, {\"date\": \"2022-01-04T00:00:00\", \"location\": \"South Korea\", \"median_age\": 43.4, \"people_fully_vaccinated_per_hundred\": 83.29}, {\"date\": \"2022-01-05T00:00:00\", \"location\": \"South Korea\", \"median_age\": 43.4, \"people_fully_vaccinated_per_hundred\": 83.43}, {\"date\": \"2022-01-06T00:00:00\", \"location\": \"South Korea\", \"median_age\": 43.4, \"people_fully_vaccinated_per_hundred\": 83.6}, {\"date\": \"2022-01-07T00:00:00\", \"location\": \"South Korea\", \"median_age\": 43.4, \"people_fully_vaccinated_per_hundred\": 83.81}, {\"date\": \"2022-01-08T00:00:00\", \"location\": \"South Korea\", \"median_age\": 43.4, \"people_fully_vaccinated_per_hundred\": 83.95}, {\"date\": \"2022-01-09T00:00:00\", \"location\": \"South Korea\", \"median_age\": 43.4, \"people_fully_vaccinated_per_hundred\": 83.96}, {\"date\": \"2022-01-10T00:00:00\", \"location\": \"South Korea\", \"median_age\": 43.4, \"people_fully_vaccinated_per_hundred\": 84.17}, {\"date\": \"2022-01-11T00:00:00\", \"location\": \"South Korea\", \"median_age\": 43.4, \"people_fully_vaccinated_per_hundred\": 84.31}, {\"date\": \"2022-01-12T00:00:00\", \"location\": \"South Korea\", \"median_age\": 43.4, \"people_fully_vaccinated_per_hundred\": 84.47}, {\"date\": \"2022-01-13T00:00:00\", \"location\": \"South Korea\", \"median_age\": 43.4, \"people_fully_vaccinated_per_hundred\": 84.62}, {\"date\": \"2022-01-14T00:00:00\", \"location\": \"South Korea\", \"median_age\": 43.4, \"people_fully_vaccinated_per_hundred\": 84.8}, {\"date\": \"2022-01-15T00:00:00\", \"location\": \"South Korea\", \"median_age\": 43.4, \"people_fully_vaccinated_per_hundred\": 84.86}, {\"date\": \"2022-01-16T00:00:00\", \"location\": \"South Korea\", \"median_age\": 43.4, \"people_fully_vaccinated_per_hundred\": 84.86}, {\"date\": \"2022-01-17T00:00:00\", \"location\": \"South Korea\", \"median_age\": 43.4, \"people_fully_vaccinated_per_hundred\": 85.0}, {\"date\": \"2022-01-18T00:00:00\", \"location\": \"South Korea\", \"median_age\": 43.4, \"people_fully_vaccinated_per_hundred\": 85.09}, {\"date\": \"2022-01-19T00:00:00\", \"location\": \"South Korea\", \"median_age\": 43.4, \"people_fully_vaccinated_per_hundred\": 85.18}, {\"date\": \"2022-01-20T00:00:00\", \"location\": \"South Korea\", \"median_age\": 43.4, \"people_fully_vaccinated_per_hundred\": 85.27}, {\"date\": \"2022-01-21T00:00:00\", \"location\": \"South Korea\", \"median_age\": 43.4, \"people_fully_vaccinated_per_hundred\": 85.38}, {\"date\": \"2022-01-22T00:00:00\", \"location\": \"South Korea\", \"median_age\": 43.4, \"people_fully_vaccinated_per_hundred\": 85.42}, {\"date\": \"2022-01-23T00:00:00\", \"location\": \"South Korea\", \"median_age\": 43.4, \"people_fully_vaccinated_per_hundred\": 85.42}, {\"date\": \"2022-01-24T00:00:00\", \"location\": \"South Korea\", \"median_age\": 43.4, \"people_fully_vaccinated_per_hundred\": 85.5}, {\"date\": \"2022-01-25T00:00:00\", \"location\": \"South Korea\", \"median_age\": 43.4, \"people_fully_vaccinated_per_hundred\": 85.56}, {\"date\": \"2022-01-26T00:00:00\", \"location\": \"South Korea\", \"median_age\": 43.4, \"people_fully_vaccinated_per_hundred\": 85.61}, {\"date\": \"2022-01-27T00:00:00\", \"location\": \"South Korea\", \"median_age\": 43.4, \"people_fully_vaccinated_per_hundred\": 85.66}, {\"date\": \"2022-01-28T00:00:00\", \"location\": \"South Korea\", \"median_age\": 43.4, \"people_fully_vaccinated_per_hundred\": 85.73}, {\"date\": \"2022-01-29T00:00:00\", \"location\": \"South Korea\", \"median_age\": 43.4, \"people_fully_vaccinated_per_hundred\": 85.77}, {\"date\": \"2022-01-30T00:00:00\", \"location\": \"South Korea\", \"median_age\": 43.4, \"people_fully_vaccinated_per_hundred\": 85.77}, {\"date\": \"2022-01-31T00:00:00\", \"location\": \"South Korea\", \"median_age\": 43.4, \"people_fully_vaccinated_per_hundred\": 85.78}, {\"date\": \"2022-02-01T00:00:00\", \"location\": \"South Korea\", \"median_age\": 43.4, \"people_fully_vaccinated_per_hundred\": 85.78}, {\"date\": \"2022-02-02T00:00:00\", \"location\": \"South Korea\", \"median_age\": 43.4, \"people_fully_vaccinated_per_hundred\": 85.78}, {\"date\": \"2022-02-03T00:00:00\", \"location\": \"South Korea\", \"median_age\": 43.4, \"people_fully_vaccinated_per_hundred\": 85.88}, {\"date\": \"2022-02-04T00:00:00\", \"location\": \"South Korea\", \"median_age\": 43.4, \"people_fully_vaccinated_per_hundred\": 85.95}, {\"date\": \"2022-02-05T00:00:00\", \"location\": \"South Korea\", \"median_age\": 43.4, \"people_fully_vaccinated_per_hundred\": 85.99}, {\"date\": \"2022-02-06T00:00:00\", \"location\": \"South Korea\", \"median_age\": 43.4, \"people_fully_vaccinated_per_hundred\": 85.99}, {\"date\": \"2022-02-07T00:00:00\", \"location\": \"South Korea\", \"median_age\": 43.4, \"people_fully_vaccinated_per_hundred\": 86.03}]}}, {\"mode\": \"vega-lite\"});\n</script>"
                },
                "metadata": {}
              }
            ],
            "_view_module": "@jupyter-widgets/output",
            "_model_module_version": "1.0.0",
            "_view_count": null,
            "_view_module_version": "1.0.0",
            "layout": "IPY_MODEL_78498501c79840feb1454a4d82472c47",
            "_model_module": "@jupyter-widgets/output"
          }
        },
        "56c2d34d1d0e4047b69edbf7c2941628": {
          "model_module": "@jupyter-widgets/controls",
          "model_name": "DescriptionStyleModel",
          "model_module_version": "1.5.0",
          "state": {
            "_view_name": "StyleView",
            "_model_name": "DescriptionStyleModel",
            "description_width": "",
            "_view_module": "@jupyter-widgets/base",
            "_model_module_version": "1.5.0",
            "_view_count": null,
            "_view_module_version": "1.2.0",
            "_model_module": "@jupyter-widgets/controls"
          }
        },
        "02dce111104c4e19b07a8076ef4b13be": {
          "model_module": "@jupyter-widgets/base",
          "model_name": "LayoutModel",
          "model_module_version": "1.2.0",
          "state": {
            "_view_name": "LayoutView",
            "grid_template_rows": null,
            "right": null,
            "justify_content": null,
            "_view_module": "@jupyter-widgets/base",
            "overflow": null,
            "_model_module_version": "1.2.0",
            "_view_count": null,
            "flex_flow": null,
            "width": null,
            "min_width": null,
            "border": null,
            "align_items": null,
            "bottom": null,
            "_model_module": "@jupyter-widgets/base",
            "top": null,
            "grid_column": null,
            "overflow_y": null,
            "overflow_x": null,
            "grid_auto_flow": null,
            "grid_area": null,
            "grid_template_columns": null,
            "flex": null,
            "_model_name": "LayoutModel",
            "justify_items": null,
            "grid_row": null,
            "max_height": null,
            "align_content": null,
            "visibility": null,
            "align_self": null,
            "height": null,
            "min_height": null,
            "padding": null,
            "grid_auto_rows": null,
            "grid_gap": null,
            "max_width": null,
            "order": null,
            "_view_module_version": "1.2.0",
            "grid_template_areas": null,
            "object_position": null,
            "object_fit": null,
            "grid_auto_columns": null,
            "margin": null,
            "display": null,
            "left": null
          }
        },
        "78498501c79840feb1454a4d82472c47": {
          "model_module": "@jupyter-widgets/base",
          "model_name": "LayoutModel",
          "model_module_version": "1.2.0",
          "state": {
            "_view_name": "LayoutView",
            "grid_template_rows": null,
            "right": null,
            "justify_content": null,
            "_view_module": "@jupyter-widgets/base",
            "overflow": null,
            "_model_module_version": "1.2.0",
            "_view_count": null,
            "flex_flow": null,
            "width": null,
            "min_width": null,
            "border": null,
            "align_items": null,
            "bottom": null,
            "_model_module": "@jupyter-widgets/base",
            "top": null,
            "grid_column": null,
            "overflow_y": null,
            "overflow_x": null,
            "grid_auto_flow": null,
            "grid_area": null,
            "grid_template_columns": null,
            "flex": null,
            "_model_name": "LayoutModel",
            "justify_items": null,
            "grid_row": null,
            "max_height": null,
            "align_content": null,
            "visibility": null,
            "align_self": null,
            "height": null,
            "min_height": null,
            "padding": null,
            "grid_auto_rows": null,
            "grid_gap": null,
            "max_width": null,
            "order": null,
            "_view_module_version": "1.2.0",
            "grid_template_areas": null,
            "object_position": null,
            "object_fit": null,
            "grid_auto_columns": null,
            "margin": null,
            "display": null,
            "left": null
          }
        },
        "ee73db732fc14b17b1b5e8b41e58e64c": {
          "model_module": "@jupyter-widgets/controls",
          "model_name": "VBoxModel",
          "model_module_version": "1.5.0",
          "state": {
            "_view_name": "VBoxView",
            "_dom_classes": [
              "widget-interact"
            ],
            "_model_name": "VBoxModel",
            "_view_module": "@jupyter-widgets/controls",
            "_model_module_version": "1.5.0",
            "_view_count": null,
            "_view_module_version": "1.5.0",
            "box_style": "",
            "layout": "IPY_MODEL_1071eaf0d8ec41ed93e9c6a821bf8731",
            "_model_module": "@jupyter-widgets/controls",
            "children": [
              "IPY_MODEL_bd2e83cd0471466b8fd374448cffdc1d",
              "IPY_MODEL_9a0e2f9268d24ab5b4dc16b7437662b2"
            ]
          }
        },
        "1071eaf0d8ec41ed93e9c6a821bf8731": {
          "model_module": "@jupyter-widgets/base",
          "model_name": "LayoutModel",
          "model_module_version": "1.2.0",
          "state": {
            "_view_name": "LayoutView",
            "grid_template_rows": null,
            "right": null,
            "justify_content": null,
            "_view_module": "@jupyter-widgets/base",
            "overflow": null,
            "_model_module_version": "1.2.0",
            "_view_count": null,
            "flex_flow": null,
            "width": null,
            "min_width": null,
            "border": null,
            "align_items": null,
            "bottom": null,
            "_model_module": "@jupyter-widgets/base",
            "top": null,
            "grid_column": null,
            "overflow_y": null,
            "overflow_x": null,
            "grid_auto_flow": null,
            "grid_area": null,
            "grid_template_columns": null,
            "flex": null,
            "_model_name": "LayoutModel",
            "justify_items": null,
            "grid_row": null,
            "max_height": null,
            "align_content": null,
            "visibility": null,
            "align_self": null,
            "height": null,
            "min_height": null,
            "padding": null,
            "grid_auto_rows": null,
            "grid_gap": null,
            "max_width": null,
            "order": null,
            "_view_module_version": "1.2.0",
            "grid_template_areas": null,
            "object_position": null,
            "object_fit": null,
            "grid_auto_columns": null,
            "margin": null,
            "display": null,
            "left": null
          }
        },
        "bd2e83cd0471466b8fd374448cffdc1d": {
          "model_module": "@jupyter-widgets/controls",
          "model_name": "DropdownModel",
          "model_module_version": "1.5.0",
          "state": {
            "_options_labels": [
              "Zimbabwe",
              "Zambia",
              "Kenya",
              "Liberia"
            ],
            "_view_name": "DropdownView",
            "style": "IPY_MODEL_d17c0f9dcd494d95a0c2a10b81fa16f5",
            "_dom_classes": [],
            "description": "country",
            "_model_name": "DropdownModel",
            "index": 0,
            "_view_module": "@jupyter-widgets/controls",
            "_model_module_version": "1.5.0",
            "_view_count": null,
            "disabled": false,
            "_view_module_version": "1.5.0",
            "description_tooltip": null,
            "_model_module": "@jupyter-widgets/controls",
            "layout": "IPY_MODEL_e362048cd886478ea0432136ea4aada6"
          }
        },
        "9a0e2f9268d24ab5b4dc16b7437662b2": {
          "model_module": "@jupyter-widgets/output",
          "model_name": "OutputModel",
          "model_module_version": "1.0.0",
          "state": {
            "_view_name": "OutputView",
            "msg_id": "",
            "_dom_classes": [],
            "_model_name": "OutputModel",
            "outputs": [
              {
                "output_type": "stream",
                "name": "stdout",
                "text": [
                  "\n",
                  "The median age of your country is:  19.6 \n",
                  "\n"
                ]
              },
              {
                "output_type": "display_data",
                "data": {
                  "text/plain": "alt.Chart(...)",
                  "text/html": "\n<div id=\"altair-viz-4d64e88e23b44b14af8da7e547ac40ea\"></div>\n<script type=\"text/javascript\">\n  var VEGA_DEBUG = (typeof VEGA_DEBUG == \"undefined\") ? {} : VEGA_DEBUG;\n  (function(spec, embedOpt){\n    let outputDiv = document.currentScript.previousElementSibling;\n    if (outputDiv.id !== \"altair-viz-4d64e88e23b44b14af8da7e547ac40ea\") {\n      outputDiv = document.getElementById(\"altair-viz-4d64e88e23b44b14af8da7e547ac40ea\");\n    }\n    const paths = {\n      \"vega\": \"https://cdn.jsdelivr.net/npm//vega@5?noext\",\n      \"vega-lib\": \"https://cdn.jsdelivr.net/npm//vega-lib?noext\",\n      \"vega-lite\": \"https://cdn.jsdelivr.net/npm//vega-lite@4.17.0?noext\",\n      \"vega-embed\": \"https://cdn.jsdelivr.net/npm//vega-embed@6?noext\",\n    };\n\n    function maybeLoadScript(lib, version) {\n      var key = `${lib.replace(\"-\", \"\")}_version`;\n      return (VEGA_DEBUG[key] == version) ?\n        Promise.resolve(paths[lib]) :\n        new Promise(function(resolve, reject) {\n          var s = document.createElement('script');\n          document.getElementsByTagName(\"head\")[0].appendChild(s);\n          s.async = true;\n          s.onload = () => {\n            VEGA_DEBUG[key] = version;\n            return resolve(paths[lib]);\n          };\n          s.onerror = () => reject(`Error loading script: ${paths[lib]}`);\n          s.src = paths[lib];\n        });\n    }\n\n    function showError(err) {\n      outputDiv.innerHTML = `<div class=\"error\" style=\"color:red;\">${err}</div>`;\n      throw err;\n    }\n\n    function displayChart(vegaEmbed) {\n      vegaEmbed(outputDiv, spec, embedOpt)\n        .catch(err => showError(`Javascript Error: ${err.message}<br>This usually means there's a typo in your chart specification. See the javascript console for the full traceback.`));\n    }\n\n    if(typeof define === \"function\" && define.amd) {\n      requirejs.config({paths});\n      require([\"vega-embed\"], displayChart, err => showError(`Error loading script: ${err.message}`));\n    } else {\n      maybeLoadScript(\"vega\", \"5\")\n        .then(() => maybeLoadScript(\"vega-lite\", \"4.17.0\"))\n        .then(() => maybeLoadScript(\"vega-embed\", \"6\"))\n        .catch(showError)\n        .then(() => displayChart(vegaEmbed));\n    }\n  })({\"config\": {\"view\": {\"continuousWidth\": 400, \"continuousHeight\": 300}}, \"data\": {\"name\": \"data-f0a36c7b0ba16c33f68d4426a91d0ebf\"}, \"mark\": \"line\", \"encoding\": {\"color\": {\"aggregate\": \"median\", \"field\": \"median_age\", \"type\": \"quantitative\"}, \"column\": {\"field\": \"location\", \"type\": \"nominal\"}, \"x\": {\"field\": \"date\", \"title\": \"Time (days)\", \"type\": \"temporal\"}, \"y\": {\"aggregate\": \"mean\", \"field\": \"people_fully_vaccinated_per_hundred\", \"title\": \"Mean of fully vaccinated people per 100\", \"type\": \"quantitative\"}}, \"title\": \"Mean of people vaccinated per 100 people over time, starting from 1st Jan 2022\", \"$schema\": \"https://vega.github.io/schema/vega-lite/v4.17.0.json\", \"datasets\": {\"data-f0a36c7b0ba16c33f68d4426a91d0ebf\": [{\"date\": \"2021-03-22T00:00:00\", \"location\": \"Zimbabwe\", \"median_age\": 19.6, \"people_fully_vaccinated_per_hundred\": 0.0}, {\"date\": \"2021-03-23T00:00:00\", \"location\": \"Zimbabwe\", \"median_age\": 19.6, \"people_fully_vaccinated_per_hundred\": 0.01}, {\"date\": \"2021-03-24T00:00:00\", \"location\": \"Zimbabwe\", \"median_age\": 19.6, \"people_fully_vaccinated_per_hundred\": 0.02}, {\"date\": \"2021-03-25T00:00:00\", \"location\": \"Zimbabwe\", \"median_age\": 19.6, \"people_fully_vaccinated_per_hundred\": 0.03}, {\"date\": \"2021-03-26T00:00:00\", \"location\": \"Zimbabwe\", \"median_age\": 19.6, \"people_fully_vaccinated_per_hundred\": 0.04}, {\"date\": \"2021-03-27T00:00:00\", \"location\": \"Zimbabwe\", \"median_age\": 19.6, \"people_fully_vaccinated_per_hundred\": 0.05}, {\"date\": \"2021-03-28T00:00:00\", \"location\": \"Zimbabwe\", \"median_age\": 19.6, \"people_fully_vaccinated_per_hundred\": 0.07}, {\"date\": \"2021-03-29T00:00:00\", \"location\": \"Zimbabwe\", \"median_age\": 19.6, \"people_fully_vaccinated_per_hundred\": 0.08}, {\"date\": \"2021-03-30T00:00:00\", \"location\": \"Zimbabwe\", \"median_age\": 19.6, \"people_fully_vaccinated_per_hundred\": 0.09}, {\"date\": \"2021-03-31T00:00:00\", \"location\": \"Zimbabwe\", \"median_age\": 19.6, \"people_fully_vaccinated_per_hundred\": 0.1}, {\"date\": \"2021-04-01T00:00:00\", \"location\": \"Zimbabwe\", \"median_age\": 19.6, \"people_fully_vaccinated_per_hundred\": 0.12}, {\"date\": \"2021-04-02T00:00:00\", \"location\": \"Zimbabwe\", \"median_age\": 19.6, \"people_fully_vaccinated_per_hundred\": 0.14}, {\"date\": \"2021-04-03T00:00:00\", \"location\": \"Zimbabwe\", \"median_age\": 19.6, \"people_fully_vaccinated_per_hundred\": 0.14}, {\"date\": \"2021-04-04T00:00:00\", \"location\": \"Zimbabwe\", \"median_age\": 19.6, \"people_fully_vaccinated_per_hundred\": 0.14}, {\"date\": \"2021-04-05T00:00:00\", \"location\": \"Zimbabwe\", \"median_age\": 19.6, \"people_fully_vaccinated_per_hundred\": 0.15}, {\"date\": \"2021-04-06T00:00:00\", \"location\": \"Zimbabwe\", \"median_age\": 19.6, \"people_fully_vaccinated_per_hundred\": 0.16}, {\"date\": \"2021-04-07T00:00:00\", \"location\": \"Zimbabwe\", \"median_age\": 19.6, \"people_fully_vaccinated_per_hundred\": 0.17}, {\"date\": \"2021-04-08T00:00:00\", \"location\": \"Zimbabwe\", \"median_age\": 19.6, \"people_fully_vaccinated_per_hundred\": 0.18}, {\"date\": \"2021-04-09T00:00:00\", \"location\": \"Zimbabwe\", \"median_age\": 19.6, \"people_fully_vaccinated_per_hundred\": 0.19}, {\"date\": \"2021-04-10T00:00:00\", \"location\": \"Zimbabwe\", \"median_age\": 19.6, \"people_fully_vaccinated_per_hundred\": 0.19}, {\"date\": \"2021-04-11T00:00:00\", \"location\": \"Zimbabwe\", \"median_age\": 19.6, \"people_fully_vaccinated_per_hundred\": 0.19}, {\"date\": \"2021-04-12T00:00:00\", \"location\": \"Zimbabwe\", \"median_age\": 19.6, \"people_fully_vaccinated_per_hundred\": 0.19}, {\"date\": \"2021-04-13T00:00:00\", \"location\": \"Zimbabwe\", \"median_age\": 19.6, \"people_fully_vaccinated_per_hundred\": 0.2}, {\"date\": \"2021-04-15T00:00:00\", \"location\": \"Zimbabwe\", \"median_age\": 19.6, \"people_fully_vaccinated_per_hundred\": 0.23}, {\"date\": \"2021-04-17T00:00:00\", \"location\": \"Zimbabwe\", \"median_age\": 19.6, \"people_fully_vaccinated_per_hundred\": 0.24}, {\"date\": \"2021-04-18T00:00:00\", \"location\": \"Zimbabwe\", \"median_age\": 19.6, \"people_fully_vaccinated_per_hundred\": 0.24}, {\"date\": \"2021-04-20T00:00:00\", \"location\": \"Zimbabwe\", \"median_age\": 19.6, \"people_fully_vaccinated_per_hundred\": 0.24}, {\"date\": \"2021-04-21T00:00:00\", \"location\": \"Zimbabwe\", \"median_age\": 19.6, \"people_fully_vaccinated_per_hundred\": 0.25}, {\"date\": \"2021-04-22T00:00:00\", \"location\": \"Zimbabwe\", \"median_age\": 19.6, \"people_fully_vaccinated_per_hundred\": 0.25}, {\"date\": \"2021-04-23T00:00:00\", \"location\": \"Zimbabwe\", \"median_age\": 19.6, \"people_fully_vaccinated_per_hundred\": 0.26}, {\"date\": \"2021-04-24T00:00:00\", \"location\": \"Zimbabwe\", \"median_age\": 19.6, \"people_fully_vaccinated_per_hundred\": 0.31}, {\"date\": \"2021-04-25T00:00:00\", \"location\": \"Zimbabwe\", \"median_age\": 19.6, \"people_fully_vaccinated_per_hundred\": 0.35}, {\"date\": \"2021-04-26T00:00:00\", \"location\": \"Zimbabwe\", \"median_age\": 19.6, \"people_fully_vaccinated_per_hundred\": 0.38}, {\"date\": \"2021-04-27T00:00:00\", \"location\": \"Zimbabwe\", \"median_age\": 19.6, \"people_fully_vaccinated_per_hundred\": 0.42}, {\"date\": \"2021-04-28T00:00:00\", \"location\": \"Zimbabwe\", \"median_age\": 19.6, \"people_fully_vaccinated_per_hundred\": 0.46}, {\"date\": \"2021-04-29T00:00:00\", \"location\": \"Zimbabwe\", \"median_age\": 19.6, \"people_fully_vaccinated_per_hundred\": 0.57}, {\"date\": \"2021-05-01T00:00:00\", \"location\": \"Zimbabwe\", \"median_age\": 19.6, \"people_fully_vaccinated_per_hundred\": 0.61}, {\"date\": \"2021-05-02T00:00:00\", \"location\": \"Zimbabwe\", \"median_age\": 19.6, \"people_fully_vaccinated_per_hundred\": 0.62}, {\"date\": \"2021-05-03T00:00:00\", \"location\": \"Zimbabwe\", \"median_age\": 19.6, \"people_fully_vaccinated_per_hundred\": 0.66}, {\"date\": \"2021-05-04T00:00:00\", \"location\": \"Zimbabwe\", \"median_age\": 19.6, \"people_fully_vaccinated_per_hundred\": 0.71}, {\"date\": \"2021-05-05T00:00:00\", \"location\": \"Zimbabwe\", \"median_age\": 19.6, \"people_fully_vaccinated_per_hundred\": 0.76}, {\"date\": \"2021-05-06T00:00:00\", \"location\": \"Zimbabwe\", \"median_age\": 19.6, \"people_fully_vaccinated_per_hundred\": 0.86}, {\"date\": \"2021-05-07T00:00:00\", \"location\": \"Zimbabwe\", \"median_age\": 19.6, \"people_fully_vaccinated_per_hundred\": 0.93}, {\"date\": \"2021-05-08T00:00:00\", \"location\": \"Zimbabwe\", \"median_age\": 19.6, \"people_fully_vaccinated_per_hundred\": 0.98}, {\"date\": \"2021-05-09T00:00:00\", \"location\": \"Zimbabwe\", \"median_age\": 19.6, \"people_fully_vaccinated_per_hundred\": 1.05}, {\"date\": \"2021-05-10T00:00:00\", \"location\": \"Zimbabwe\", \"median_age\": 19.6, \"people_fully_vaccinated_per_hundred\": 1.07}, {\"date\": \"2021-05-11T00:00:00\", \"location\": \"Zimbabwe\", \"median_age\": 19.6, \"people_fully_vaccinated_per_hundred\": 1.13}, {\"date\": \"2021-05-12T00:00:00\", \"location\": \"Zimbabwe\", \"median_age\": 19.6, \"people_fully_vaccinated_per_hundred\": 1.2}, {\"date\": \"2021-05-13T00:00:00\", \"location\": \"Zimbabwe\", \"median_age\": 19.6, \"people_fully_vaccinated_per_hundred\": 1.27}, {\"date\": \"2021-05-14T00:00:00\", \"location\": \"Zimbabwe\", \"median_age\": 19.6, \"people_fully_vaccinated_per_hundred\": 1.35}, {\"date\": \"2021-05-15T00:00:00\", \"location\": \"Zimbabwe\", \"median_age\": 19.6, \"people_fully_vaccinated_per_hundred\": 1.41}, {\"date\": \"2021-05-16T00:00:00\", \"location\": \"Zimbabwe\", \"median_age\": 19.6, \"people_fully_vaccinated_per_hundred\": 1.43}, {\"date\": \"2021-05-17T00:00:00\", \"location\": \"Zimbabwe\", \"median_age\": 19.6, \"people_fully_vaccinated_per_hundred\": 1.47}, {\"date\": \"2021-05-18T00:00:00\", \"location\": \"Zimbabwe\", \"median_age\": 19.6, \"people_fully_vaccinated_per_hundred\": 1.53}, {\"date\": \"2021-05-19T00:00:00\", \"location\": \"Zimbabwe\", \"median_age\": 19.6, \"people_fully_vaccinated_per_hundred\": 1.67}, {\"date\": \"2021-05-21T00:00:00\", \"location\": \"Zimbabwe\", \"median_age\": 19.6, \"people_fully_vaccinated_per_hundred\": 1.81}, {\"date\": \"2021-05-23T00:00:00\", \"location\": \"Zimbabwe\", \"median_age\": 19.6, \"people_fully_vaccinated_per_hundred\": 1.85}, {\"date\": \"2021-05-24T00:00:00\", \"location\": \"Zimbabwe\", \"median_age\": 19.6, \"people_fully_vaccinated_per_hundred\": 1.91}, {\"date\": \"2021-05-26T00:00:00\", \"location\": \"Zimbabwe\", \"median_age\": 19.6, \"people_fully_vaccinated_per_hundred\": 1.94}, {\"date\": \"2021-05-27T00:00:00\", \"location\": \"Zimbabwe\", \"median_age\": 19.6, \"people_fully_vaccinated_per_hundred\": 2.02}, {\"date\": \"2021-05-28T00:00:00\", \"location\": \"Zimbabwe\", \"median_age\": 19.6, \"people_fully_vaccinated_per_hundred\": 2.12}, {\"date\": \"2021-05-29T00:00:00\", \"location\": \"Zimbabwe\", \"median_age\": 19.6, \"people_fully_vaccinated_per_hundred\": 2.22}, {\"date\": \"2021-05-30T00:00:00\", \"location\": \"Zimbabwe\", \"median_age\": 19.6, \"people_fully_vaccinated_per_hundred\": 2.26}, {\"date\": \"2021-05-31T00:00:00\", \"location\": \"Zimbabwe\", \"median_age\": 19.6, \"people_fully_vaccinated_per_hundred\": 2.28}, {\"date\": \"2021-06-01T00:00:00\", \"location\": \"Zimbabwe\", \"median_age\": 19.6, \"people_fully_vaccinated_per_hundred\": 2.34}, {\"date\": \"2021-06-02T00:00:00\", \"location\": \"Zimbabwe\", \"median_age\": 19.6, \"people_fully_vaccinated_per_hundred\": 2.37}, {\"date\": \"2021-06-03T00:00:00\", \"location\": \"Zimbabwe\", \"median_age\": 19.6, \"people_fully_vaccinated_per_hundred\": 2.41}, {\"date\": \"2021-06-04T00:00:00\", \"location\": \"Zimbabwe\", \"median_age\": 19.6, \"people_fully_vaccinated_per_hundred\": 2.46}, {\"date\": \"2021-06-05T00:00:00\", \"location\": \"Zimbabwe\", \"median_age\": 19.6, \"people_fully_vaccinated_per_hundred\": 2.49}, {\"date\": \"2021-06-06T00:00:00\", \"location\": \"Zimbabwe\", \"median_age\": 19.6, \"people_fully_vaccinated_per_hundred\": 2.52}, {\"date\": \"2021-06-07T00:00:00\", \"location\": \"Zimbabwe\", \"median_age\": 19.6, \"people_fully_vaccinated_per_hundred\": 2.55}, {\"date\": \"2021-06-08T00:00:00\", \"location\": \"Zimbabwe\", \"median_age\": 19.6, \"people_fully_vaccinated_per_hundred\": 2.58}, {\"date\": \"2021-06-09T00:00:00\", \"location\": \"Zimbabwe\", \"median_age\": 19.6, \"people_fully_vaccinated_per_hundred\": 2.61}, {\"date\": \"2021-06-10T00:00:00\", \"location\": \"Zimbabwe\", \"median_age\": 19.6, \"people_fully_vaccinated_per_hundred\": 2.64}, {\"date\": \"2021-06-11T00:00:00\", \"location\": \"Zimbabwe\", \"median_age\": 19.6, \"people_fully_vaccinated_per_hundred\": 2.72}, {\"date\": \"2021-06-13T00:00:00\", \"location\": \"Zimbabwe\", \"median_age\": 19.6, \"people_fully_vaccinated_per_hundred\": 2.74}, {\"date\": \"2021-06-14T00:00:00\", \"location\": \"Zimbabwe\", \"median_age\": 19.6, \"people_fully_vaccinated_per_hundred\": 2.75}, {\"date\": \"2021-06-15T00:00:00\", \"location\": \"Zimbabwe\", \"median_age\": 19.6, \"people_fully_vaccinated_per_hundred\": 2.77}, {\"date\": \"2021-06-16T00:00:00\", \"location\": \"Zimbabwe\", \"median_age\": 19.6, \"people_fully_vaccinated_per_hundred\": 2.81}, {\"date\": \"2021-06-17T00:00:00\", \"location\": \"Zimbabwe\", \"median_age\": 19.6, \"people_fully_vaccinated_per_hundred\": 2.83}, {\"date\": \"2021-06-18T00:00:00\", \"location\": \"Zimbabwe\", \"median_age\": 19.6, \"people_fully_vaccinated_per_hundred\": 2.87}, {\"date\": \"2021-06-20T00:00:00\", \"location\": \"Zimbabwe\", \"median_age\": 19.6, \"people_fully_vaccinated_per_hundred\": 2.89}, {\"date\": \"2021-06-21T00:00:00\", \"location\": \"Zimbabwe\", \"median_age\": 19.6, \"people_fully_vaccinated_per_hundred\": 2.89}, {\"date\": \"2021-06-22T00:00:00\", \"location\": \"Zimbabwe\", \"median_age\": 19.6, \"people_fully_vaccinated_per_hundred\": 2.92}, {\"date\": \"2021-06-23T00:00:00\", \"location\": \"Zimbabwe\", \"median_age\": 19.6, \"people_fully_vaccinated_per_hundred\": 2.99}, {\"date\": \"2021-06-24T00:00:00\", \"location\": \"Zimbabwe\", \"median_age\": 19.6, \"people_fully_vaccinated_per_hundred\": 3.1}, {\"date\": \"2021-06-25T00:00:00\", \"location\": \"Zimbabwe\", \"median_age\": 19.6, \"people_fully_vaccinated_per_hundred\": 3.21}, {\"date\": \"2021-06-26T00:00:00\", \"location\": \"Zimbabwe\", \"median_age\": 19.6, \"people_fully_vaccinated_per_hundred\": 3.33}, {\"date\": \"2021-06-27T00:00:00\", \"location\": \"Zimbabwe\", \"median_age\": 19.6, \"people_fully_vaccinated_per_hundred\": 3.44}, {\"date\": \"2021-06-28T00:00:00\", \"location\": \"Zimbabwe\", \"median_age\": 19.6, \"people_fully_vaccinated_per_hundred\": 3.54}, {\"date\": \"2021-06-29T00:00:00\", \"location\": \"Zimbabwe\", \"median_age\": 19.6, \"people_fully_vaccinated_per_hundred\": 3.61}, {\"date\": \"2021-06-30T00:00:00\", \"location\": \"Zimbabwe\", \"median_age\": 19.6, \"people_fully_vaccinated_per_hundred\": 3.68}, {\"date\": \"2021-07-01T00:00:00\", \"location\": \"Zimbabwe\", \"median_age\": 19.6, \"people_fully_vaccinated_per_hundred\": 3.71}, {\"date\": \"2021-07-02T00:00:00\", \"location\": \"Zimbabwe\", \"median_age\": 19.6, \"people_fully_vaccinated_per_hundred\": 3.74}, {\"date\": \"2021-07-03T00:00:00\", \"location\": \"Zimbabwe\", \"median_age\": 19.6, \"people_fully_vaccinated_per_hundred\": 3.76}, {\"date\": \"2021-07-04T00:00:00\", \"location\": \"Zimbabwe\", \"median_age\": 19.6, \"people_fully_vaccinated_per_hundred\": 3.76}, {\"date\": \"2021-07-05T00:00:00\", \"location\": \"Zimbabwe\", \"median_age\": 19.6, \"people_fully_vaccinated_per_hundred\": 3.79}, {\"date\": \"2021-07-06T00:00:00\", \"location\": \"Zimbabwe\", \"median_age\": 19.6, \"people_fully_vaccinated_per_hundred\": 3.81}, {\"date\": \"2021-07-07T00:00:00\", \"location\": \"Zimbabwe\", \"median_age\": 19.6, \"people_fully_vaccinated_per_hundred\": 3.84}, {\"date\": \"2021-07-08T00:00:00\", \"location\": \"Zimbabwe\", \"median_age\": 19.6, \"people_fully_vaccinated_per_hundred\": 3.9}, {\"date\": \"2021-07-10T00:00:00\", \"location\": \"Zimbabwe\", \"median_age\": 19.6, \"people_fully_vaccinated_per_hundred\": 3.91}, {\"date\": \"2021-07-11T00:00:00\", \"location\": \"Zimbabwe\", \"median_age\": 19.6, \"people_fully_vaccinated_per_hundred\": 3.95}, {\"date\": \"2021-07-12T00:00:00\", \"location\": \"Zimbabwe\", \"median_age\": 19.6, \"people_fully_vaccinated_per_hundred\": 4.01}, {\"date\": \"2021-07-13T00:00:00\", \"location\": \"Zimbabwe\", \"median_age\": 19.6, \"people_fully_vaccinated_per_hundred\": 4.14}, {\"date\": \"2021-07-15T00:00:00\", \"location\": \"Zimbabwe\", \"median_age\": 19.6, \"people_fully_vaccinated_per_hundred\": 4.21}, {\"date\": \"2021-07-17T00:00:00\", \"location\": \"Zimbabwe\", \"median_age\": 19.6, \"people_fully_vaccinated_per_hundred\": 4.24}, {\"date\": \"2021-07-18T00:00:00\", \"location\": \"Zimbabwe\", \"median_age\": 19.6, \"people_fully_vaccinated_per_hundred\": 4.25}, {\"date\": \"2021-07-19T00:00:00\", \"location\": \"Zimbabwe\", \"median_age\": 19.6, \"people_fully_vaccinated_per_hundred\": 4.26}, {\"date\": \"2021-07-20T00:00:00\", \"location\": \"Zimbabwe\", \"median_age\": 19.6, \"people_fully_vaccinated_per_hundred\": 4.31}, {\"date\": \"2021-07-21T00:00:00\", \"location\": \"Zimbabwe\", \"median_age\": 19.6, \"people_fully_vaccinated_per_hundred\": 4.35}, {\"date\": \"2021-07-22T00:00:00\", \"location\": \"Zimbabwe\", \"median_age\": 19.6, \"people_fully_vaccinated_per_hundred\": 4.4}, {\"date\": \"2021-07-23T00:00:00\", \"location\": \"Zimbabwe\", \"median_age\": 19.6, \"people_fully_vaccinated_per_hundred\": 4.49}, {\"date\": \"2021-07-25T00:00:00\", \"location\": \"Zimbabwe\", \"median_age\": 19.6, \"people_fully_vaccinated_per_hundred\": 4.55}, {\"date\": \"2021-07-26T00:00:00\", \"location\": \"Zimbabwe\", \"median_age\": 19.6, \"people_fully_vaccinated_per_hundred\": 4.55}, {\"date\": \"2021-07-27T00:00:00\", \"location\": \"Zimbabwe\", \"median_age\": 19.6, \"people_fully_vaccinated_per_hundred\": 4.73}, {\"date\": \"2021-07-28T00:00:00\", \"location\": \"Zimbabwe\", \"median_age\": 19.6, \"people_fully_vaccinated_per_hundred\": 4.84}, {\"date\": \"2021-07-29T00:00:00\", \"location\": \"Zimbabwe\", \"median_age\": 19.6, \"people_fully_vaccinated_per_hundred\": 4.98}, {\"date\": \"2021-07-30T00:00:00\", \"location\": \"Zimbabwe\", \"median_age\": 19.6, \"people_fully_vaccinated_per_hundred\": 5.09}, {\"date\": \"2021-07-31T00:00:00\", \"location\": \"Zimbabwe\", \"median_age\": 19.6, \"people_fully_vaccinated_per_hundred\": 5.16}, {\"date\": \"2021-08-02T00:00:00\", \"location\": \"Zimbabwe\", \"median_age\": 19.6, \"people_fully_vaccinated_per_hundred\": 5.29}, {\"date\": \"2021-08-03T00:00:00\", \"location\": \"Zimbabwe\", \"median_age\": 19.6, \"people_fully_vaccinated_per_hundred\": 5.72}, {\"date\": \"2021-08-04T00:00:00\", \"location\": \"Zimbabwe\", \"median_age\": 19.6, \"people_fully_vaccinated_per_hundred\": 5.72}, {\"date\": \"2021-08-05T00:00:00\", \"location\": \"Zimbabwe\", \"median_age\": 19.6, \"people_fully_vaccinated_per_hundred\": 6.41}, {\"date\": \"2021-08-07T00:00:00\", \"location\": \"Zimbabwe\", \"median_age\": 19.6, \"people_fully_vaccinated_per_hundred\": 6.64}, {\"date\": \"2021-08-08T00:00:00\", \"location\": \"Zimbabwe\", \"median_age\": 19.6, \"people_fully_vaccinated_per_hundred\": 6.78}, {\"date\": \"2021-08-09T00:00:00\", \"location\": \"Zimbabwe\", \"median_age\": 19.6, \"people_fully_vaccinated_per_hundred\": 6.92}, {\"date\": \"2021-08-10T00:00:00\", \"location\": \"Zimbabwe\", \"median_age\": 19.6, \"people_fully_vaccinated_per_hundred\": 7.03}, {\"date\": \"2021-08-11T00:00:00\", \"location\": \"Zimbabwe\", \"median_age\": 19.6, \"people_fully_vaccinated_per_hundred\": 7.19}, {\"date\": \"2021-08-12T00:00:00\", \"location\": \"Zimbabwe\", \"median_age\": 19.6, \"people_fully_vaccinated_per_hundred\": 7.82}, {\"date\": \"2021-08-14T00:00:00\", \"location\": \"Zimbabwe\", \"median_age\": 19.6, \"people_fully_vaccinated_per_hundred\": 7.94}, {\"date\": \"2021-08-15T00:00:00\", \"location\": \"Zimbabwe\", \"median_age\": 19.6, \"people_fully_vaccinated_per_hundred\": 8.12}, {\"date\": \"2021-08-16T00:00:00\", \"location\": \"Zimbabwe\", \"median_age\": 19.6, \"people_fully_vaccinated_per_hundred\": 8.31}, {\"date\": \"2021-08-17T00:00:00\", \"location\": \"Zimbabwe\", \"median_age\": 19.6, \"people_fully_vaccinated_per_hundred\": 8.65}, {\"date\": \"2021-08-18T00:00:00\", \"location\": \"Zimbabwe\", \"median_age\": 19.6, \"people_fully_vaccinated_per_hundred\": 8.94}, {\"date\": \"2021-08-19T00:00:00\", \"location\": \"Zimbabwe\", \"median_age\": 19.6, \"people_fully_vaccinated_per_hundred\": 9.19}, {\"date\": \"2021-08-20T00:00:00\", \"location\": \"Zimbabwe\", \"median_age\": 19.6, \"people_fully_vaccinated_per_hundred\": 9.46}, {\"date\": \"2021-08-21T00:00:00\", \"location\": \"Zimbabwe\", \"median_age\": 19.6, \"people_fully_vaccinated_per_hundred\": 9.62}, {\"date\": \"2021-08-22T00:00:00\", \"location\": \"Zimbabwe\", \"median_age\": 19.6, \"people_fully_vaccinated_per_hundred\": 9.68}, {\"date\": \"2021-08-23T00:00:00\", \"location\": \"Zimbabwe\", \"median_age\": 19.6, \"people_fully_vaccinated_per_hundred\": 9.83}, {\"date\": \"2021-08-24T00:00:00\", \"location\": \"Zimbabwe\", \"median_age\": 19.6, \"people_fully_vaccinated_per_hundred\": 9.99}, {\"date\": \"2021-08-25T00:00:00\", \"location\": \"Zimbabwe\", \"median_age\": 19.6, \"people_fully_vaccinated_per_hundred\": 10.35}, {\"date\": \"2021-08-27T00:00:00\", \"location\": \"Zimbabwe\", \"median_age\": 19.6, \"people_fully_vaccinated_per_hundred\": 10.5}, {\"date\": \"2021-08-28T00:00:00\", \"location\": \"Zimbabwe\", \"median_age\": 19.6, \"people_fully_vaccinated_per_hundred\": 10.58}, {\"date\": \"2021-08-29T00:00:00\", \"location\": \"Zimbabwe\", \"median_age\": 19.6, \"people_fully_vaccinated_per_hundred\": 10.65}, {\"date\": \"2021-08-30T00:00:00\", \"location\": \"Zimbabwe\", \"median_age\": 19.6, \"people_fully_vaccinated_per_hundred\": 10.74}, {\"date\": \"2021-08-31T00:00:00\", \"location\": \"Zimbabwe\", \"median_age\": 19.6, \"people_fully_vaccinated_per_hundred\": 10.85}, {\"date\": \"2021-09-01T00:00:00\", \"location\": \"Zimbabwe\", \"median_age\": 19.6, \"people_fully_vaccinated_per_hundred\": 10.97}, {\"date\": \"2021-09-02T00:00:00\", \"location\": \"Zimbabwe\", \"median_age\": 19.6, \"people_fully_vaccinated_per_hundred\": 11.09}, {\"date\": \"2021-09-03T00:00:00\", \"location\": \"Zimbabwe\", \"median_age\": 19.6, \"people_fully_vaccinated_per_hundred\": 11.2}, {\"date\": \"2021-09-04T00:00:00\", \"location\": \"Zimbabwe\", \"median_age\": 19.6, \"people_fully_vaccinated_per_hundred\": 11.28}, {\"date\": \"2021-09-05T00:00:00\", \"location\": \"Zimbabwe\", \"median_age\": 19.6, \"people_fully_vaccinated_per_hundred\": 11.39}, {\"date\": \"2021-09-07T00:00:00\", \"location\": \"Zimbabwe\", \"median_age\": 19.6, \"people_fully_vaccinated_per_hundred\": 11.55}, {\"date\": \"2021-09-08T00:00:00\", \"location\": \"Zimbabwe\", \"median_age\": 19.6, \"people_fully_vaccinated_per_hundred\": 11.74}, {\"date\": \"2021-09-09T00:00:00\", \"location\": \"Zimbabwe\", \"median_age\": 19.6, \"people_fully_vaccinated_per_hundred\": 11.91}, {\"date\": \"2021-09-10T00:00:00\", \"location\": \"Zimbabwe\", \"median_age\": 19.6, \"people_fully_vaccinated_per_hundred\": 12.14}, {\"date\": \"2021-09-11T00:00:00\", \"location\": \"Zimbabwe\", \"median_age\": 19.6, \"people_fully_vaccinated_per_hundred\": 12.35}, {\"date\": \"2021-09-13T00:00:00\", \"location\": \"Zimbabwe\", \"median_age\": 19.6, \"people_fully_vaccinated_per_hundred\": 12.56}, {\"date\": \"2021-09-14T00:00:00\", \"location\": \"Zimbabwe\", \"median_age\": 19.6, \"people_fully_vaccinated_per_hundred\": 12.77}, {\"date\": \"2021-09-15T00:00:00\", \"location\": \"Zimbabwe\", \"median_age\": 19.6, \"people_fully_vaccinated_per_hundred\": 13.01}, {\"date\": \"2021-09-16T00:00:00\", \"location\": \"Zimbabwe\", \"median_age\": 19.6, \"people_fully_vaccinated_per_hundred\": 13.48}, {\"date\": \"2021-09-18T00:00:00\", \"location\": \"Zimbabwe\", \"median_age\": 19.6, \"people_fully_vaccinated_per_hundred\": 13.59}, {\"date\": \"2021-09-19T00:00:00\", \"location\": \"Zimbabwe\", \"median_age\": 19.6, \"people_fully_vaccinated_per_hundred\": 13.69}, {\"date\": \"2021-09-20T00:00:00\", \"location\": \"Zimbabwe\", \"median_age\": 19.6, \"people_fully_vaccinated_per_hundred\": 13.8}, {\"date\": \"2021-09-21T00:00:00\", \"location\": \"Zimbabwe\", \"median_age\": 19.6, \"people_fully_vaccinated_per_hundred\": 13.97}, {\"date\": \"2021-09-22T00:00:00\", \"location\": \"Zimbabwe\", \"median_age\": 19.6, \"people_fully_vaccinated_per_hundred\": 14.12}, {\"date\": \"2021-09-23T00:00:00\", \"location\": \"Zimbabwe\", \"median_age\": 19.6, \"people_fully_vaccinated_per_hundred\": 14.3}, {\"date\": \"2021-09-24T00:00:00\", \"location\": \"Zimbabwe\", \"median_age\": 19.6, \"people_fully_vaccinated_per_hundred\": 14.42}, {\"date\": \"2021-09-25T00:00:00\", \"location\": \"Zimbabwe\", \"median_age\": 19.6, \"people_fully_vaccinated_per_hundred\": 14.5}, {\"date\": \"2021-09-26T00:00:00\", \"location\": \"Zimbabwe\", \"median_age\": 19.6, \"people_fully_vaccinated_per_hundred\": 14.57}, {\"date\": \"2021-09-27T00:00:00\", \"location\": \"Zimbabwe\", \"median_age\": 19.6, \"people_fully_vaccinated_per_hundred\": 14.66}, {\"date\": \"2021-09-28T00:00:00\", \"location\": \"Zimbabwe\", \"median_age\": 19.6, \"people_fully_vaccinated_per_hundred\": 14.78}, {\"date\": \"2021-09-29T00:00:00\", \"location\": \"Zimbabwe\", \"median_age\": 19.6, \"people_fully_vaccinated_per_hundred\": 14.9}, {\"date\": \"2021-09-30T00:00:00\", \"location\": \"Zimbabwe\", \"median_age\": 19.6, \"people_fully_vaccinated_per_hundred\": 15.05}, {\"date\": \"2021-10-01T00:00:00\", \"location\": \"Zimbabwe\", \"median_age\": 19.6, \"people_fully_vaccinated_per_hundred\": 15.16}, {\"date\": \"2021-10-02T00:00:00\", \"location\": \"Zimbabwe\", \"median_age\": 19.6, \"people_fully_vaccinated_per_hundred\": 15.23}, {\"date\": \"2021-10-03T00:00:00\", \"location\": \"Zimbabwe\", \"median_age\": 19.6, \"people_fully_vaccinated_per_hundred\": 15.3}, {\"date\": \"2021-10-04T00:00:00\", \"location\": \"Zimbabwe\", \"median_age\": 19.6, \"people_fully_vaccinated_per_hundred\": 15.34}, {\"date\": \"2021-10-05T00:00:00\", \"location\": \"Zimbabwe\", \"median_age\": 19.6, \"people_fully_vaccinated_per_hundred\": 15.48}, {\"date\": \"2021-10-06T00:00:00\", \"location\": \"Zimbabwe\", \"median_age\": 19.6, \"people_fully_vaccinated_per_hundred\": 15.58}, {\"date\": \"2021-10-07T00:00:00\", \"location\": \"Zimbabwe\", \"median_age\": 19.6, \"people_fully_vaccinated_per_hundred\": 15.68}, {\"date\": \"2021-10-08T00:00:00\", \"location\": \"Zimbabwe\", \"median_age\": 19.6, \"people_fully_vaccinated_per_hundred\": 15.81}, {\"date\": \"2021-10-09T00:00:00\", \"location\": \"Zimbabwe\", \"median_age\": 19.6, \"people_fully_vaccinated_per_hundred\": 15.87}, {\"date\": \"2021-10-10T00:00:00\", \"location\": \"Zimbabwe\", \"median_age\": 19.6, \"people_fully_vaccinated_per_hundred\": 15.91}, {\"date\": \"2021-10-11T00:00:00\", \"location\": \"Zimbabwe\", \"median_age\": 19.6, \"people_fully_vaccinated_per_hundred\": 15.97}, {\"date\": \"2021-10-12T00:00:00\", \"location\": \"Zimbabwe\", \"median_age\": 19.6, \"people_fully_vaccinated_per_hundred\": 16.04}, {\"date\": \"2021-10-13T00:00:00\", \"location\": \"Zimbabwe\", \"median_age\": 19.6, \"people_fully_vaccinated_per_hundred\": 16.12}, {\"date\": \"2021-10-14T00:00:00\", \"location\": \"Zimbabwe\", \"median_age\": 19.6, \"people_fully_vaccinated_per_hundred\": 16.2}, {\"date\": \"2021-10-15T00:00:00\", \"location\": \"Zimbabwe\", \"median_age\": 19.6, \"people_fully_vaccinated_per_hundred\": 16.28}, {\"date\": \"2021-10-16T00:00:00\", \"location\": \"Zimbabwe\", \"median_age\": 19.6, \"people_fully_vaccinated_per_hundred\": 16.33}, {\"date\": \"2021-10-17T00:00:00\", \"location\": \"Zimbabwe\", \"median_age\": 19.6, \"people_fully_vaccinated_per_hundred\": 16.37}, {\"date\": \"2021-10-18T00:00:00\", \"location\": \"Zimbabwe\", \"median_age\": 19.6, \"people_fully_vaccinated_per_hundred\": 16.51}, {\"date\": \"2021-10-19T00:00:00\", \"location\": \"Zimbabwe\", \"median_age\": 19.6, \"people_fully_vaccinated_per_hundred\": 16.56}, {\"date\": \"2021-10-20T00:00:00\", \"location\": \"Zimbabwe\", \"median_age\": 19.6, \"people_fully_vaccinated_per_hundred\": 16.63}, {\"date\": \"2021-10-21T00:00:00\", \"location\": \"Zimbabwe\", \"median_age\": 19.6, \"people_fully_vaccinated_per_hundred\": 16.69}, {\"date\": \"2021-10-22T00:00:00\", \"location\": \"Zimbabwe\", \"median_age\": 19.6, \"people_fully_vaccinated_per_hundred\": 16.76}, {\"date\": \"2021-10-23T00:00:00\", \"location\": \"Zimbabwe\", \"median_age\": 19.6, \"people_fully_vaccinated_per_hundred\": 16.81}, {\"date\": \"2021-10-24T00:00:00\", \"location\": \"Zimbabwe\", \"median_age\": 19.6, \"people_fully_vaccinated_per_hundred\": 16.84}, {\"date\": \"2021-10-25T00:00:00\", \"location\": \"Zimbabwe\", \"median_age\": 19.6, \"people_fully_vaccinated_per_hundred\": 16.88}, {\"date\": \"2021-10-26T00:00:00\", \"location\": \"Zimbabwe\", \"median_age\": 19.6, \"people_fully_vaccinated_per_hundred\": 16.94}, {\"date\": \"2021-10-27T00:00:00\", \"location\": \"Zimbabwe\", \"median_age\": 19.6, \"people_fully_vaccinated_per_hundred\": 17.0}, {\"date\": \"2021-10-28T00:00:00\", \"location\": \"Zimbabwe\", \"median_age\": 19.6, \"people_fully_vaccinated_per_hundred\": 17.06}, {\"date\": \"2021-10-29T00:00:00\", \"location\": \"Zimbabwe\", \"median_age\": 19.6, \"people_fully_vaccinated_per_hundred\": 17.12}, {\"date\": \"2021-10-30T00:00:00\", \"location\": \"Zimbabwe\", \"median_age\": 19.6, \"people_fully_vaccinated_per_hundred\": 17.17}, {\"date\": \"2021-10-31T00:00:00\", \"location\": \"Zimbabwe\", \"median_age\": 19.6, \"people_fully_vaccinated_per_hundred\": 17.2}, {\"date\": \"2021-11-01T00:00:00\", \"location\": \"Zimbabwe\", \"median_age\": 19.6, \"people_fully_vaccinated_per_hundred\": 17.23}, {\"date\": \"2021-11-02T00:00:00\", \"location\": \"Zimbabwe\", \"median_age\": 19.6, \"people_fully_vaccinated_per_hundred\": 17.3}, {\"date\": \"2021-11-03T00:00:00\", \"location\": \"Zimbabwe\", \"median_age\": 19.6, \"people_fully_vaccinated_per_hundred\": 17.35}, {\"date\": \"2021-11-04T00:00:00\", \"location\": \"Zimbabwe\", \"median_age\": 19.6, \"people_fully_vaccinated_per_hundred\": 17.4}, {\"date\": \"2021-11-05T00:00:00\", \"location\": \"Zimbabwe\", \"median_age\": 19.6, \"people_fully_vaccinated_per_hundred\": 17.45}, {\"date\": \"2021-11-06T00:00:00\", \"location\": \"Zimbabwe\", \"median_age\": 19.6, \"people_fully_vaccinated_per_hundred\": 17.51}, {\"date\": \"2021-11-07T00:00:00\", \"location\": \"Zimbabwe\", \"median_age\": 19.6, \"people_fully_vaccinated_per_hundred\": 17.55}, {\"date\": \"2021-11-08T00:00:00\", \"location\": \"Zimbabwe\", \"median_age\": 19.6, \"people_fully_vaccinated_per_hundred\": 17.59}, {\"date\": \"2021-11-09T00:00:00\", \"location\": \"Zimbabwe\", \"median_age\": 19.6, \"people_fully_vaccinated_per_hundred\": 17.64}, {\"date\": \"2021-11-10T00:00:00\", \"location\": \"Zimbabwe\", \"median_age\": 19.6, \"people_fully_vaccinated_per_hundred\": 17.69}, {\"date\": \"2021-11-11T00:00:00\", \"location\": \"Zimbabwe\", \"median_age\": 19.6, \"people_fully_vaccinated_per_hundred\": 17.74}, {\"date\": \"2021-11-12T00:00:00\", \"location\": \"Zimbabwe\", \"median_age\": 19.6, \"people_fully_vaccinated_per_hundred\": 17.8}, {\"date\": \"2021-11-13T00:00:00\", \"location\": \"Zimbabwe\", \"median_age\": 19.6, \"people_fully_vaccinated_per_hundred\": 17.84}, {\"date\": \"2021-11-14T00:00:00\", \"location\": \"Zimbabwe\", \"median_age\": 19.6, \"people_fully_vaccinated_per_hundred\": 17.87}, {\"date\": \"2021-11-15T00:00:00\", \"location\": \"Zimbabwe\", \"median_age\": 19.6, \"people_fully_vaccinated_per_hundred\": 17.93}, {\"date\": \"2021-11-16T00:00:00\", \"location\": \"Zimbabwe\", \"median_age\": 19.6, \"people_fully_vaccinated_per_hundred\": 17.98}, {\"date\": \"2021-11-18T00:00:00\", \"location\": \"Zimbabwe\", \"median_age\": 19.6, \"people_fully_vaccinated_per_hundred\": 18.07}, {\"date\": \"2021-11-19T00:00:00\", \"location\": \"Zimbabwe\", \"median_age\": 19.6, \"people_fully_vaccinated_per_hundred\": 18.14}, {\"date\": \"2021-11-20T00:00:00\", \"location\": \"Zimbabwe\", \"median_age\": 19.6, \"people_fully_vaccinated_per_hundred\": 18.18}, {\"date\": \"2021-11-21T00:00:00\", \"location\": \"Zimbabwe\", \"median_age\": 19.6, \"people_fully_vaccinated_per_hundred\": 18.21}, {\"date\": \"2021-11-22T00:00:00\", \"location\": \"Zimbabwe\", \"median_age\": 19.6, \"people_fully_vaccinated_per_hundred\": 18.24}, {\"date\": \"2021-11-23T00:00:00\", \"location\": \"Zimbabwe\", \"median_age\": 19.6, \"people_fully_vaccinated_per_hundred\": 18.27}, {\"date\": \"2021-11-24T00:00:00\", \"location\": \"Zimbabwe\", \"median_age\": 19.6, \"people_fully_vaccinated_per_hundred\": 18.34}, {\"date\": \"2021-11-25T00:00:00\", \"location\": \"Zimbabwe\", \"median_age\": 19.6, \"people_fully_vaccinated_per_hundred\": 18.39}, {\"date\": \"2021-11-26T00:00:00\", \"location\": \"Zimbabwe\", \"median_age\": 19.6, \"people_fully_vaccinated_per_hundred\": 18.47}, {\"date\": \"2021-11-27T00:00:00\", \"location\": \"Zimbabwe\", \"median_age\": 19.6, \"people_fully_vaccinated_per_hundred\": 18.52}, {\"date\": \"2021-11-28T00:00:00\", \"location\": \"Zimbabwe\", \"median_age\": 19.6, \"people_fully_vaccinated_per_hundred\": 18.54}, {\"date\": \"2021-11-29T00:00:00\", \"location\": \"Zimbabwe\", \"median_age\": 19.6, \"people_fully_vaccinated_per_hundred\": 18.58}, {\"date\": \"2021-11-30T00:00:00\", \"location\": \"Zimbabwe\", \"median_age\": 19.6, \"people_fully_vaccinated_per_hundred\": 18.66}, {\"date\": \"2021-12-01T00:00:00\", \"location\": \"Zimbabwe\", \"median_age\": 19.6, \"people_fully_vaccinated_per_hundred\": 18.76}, {\"date\": \"2021-12-02T00:00:00\", \"location\": \"Zimbabwe\", \"median_age\": 19.6, \"people_fully_vaccinated_per_hundred\": 18.89}, {\"date\": \"2021-12-03T00:00:00\", \"location\": \"Zimbabwe\", \"median_age\": 19.6, \"people_fully_vaccinated_per_hundred\": 18.98}, {\"date\": \"2021-12-04T00:00:00\", \"location\": \"Zimbabwe\", \"median_age\": 19.6, \"people_fully_vaccinated_per_hundred\": 19.06}, {\"date\": \"2021-12-05T00:00:00\", \"location\": \"Zimbabwe\", \"median_age\": 19.6, \"people_fully_vaccinated_per_hundred\": 19.11}, {\"date\": \"2021-12-06T00:00:00\", \"location\": \"Zimbabwe\", \"median_age\": 19.6, \"people_fully_vaccinated_per_hundred\": 19.16}, {\"date\": \"2021-12-07T00:00:00\", \"location\": \"Zimbabwe\", \"median_age\": 19.6, \"people_fully_vaccinated_per_hundred\": 19.29}, {\"date\": \"2021-12-08T00:00:00\", \"location\": \"Zimbabwe\", \"median_age\": 19.6, \"people_fully_vaccinated_per_hundred\": 19.39}, {\"date\": \"2021-12-09T00:00:00\", \"location\": \"Zimbabwe\", \"median_age\": 19.6, \"people_fully_vaccinated_per_hundred\": 19.52}, {\"date\": \"2021-12-10T00:00:00\", \"location\": \"Zimbabwe\", \"median_age\": 19.6, \"people_fully_vaccinated_per_hundred\": 19.62}, {\"date\": \"2021-12-11T00:00:00\", \"location\": \"Zimbabwe\", \"median_age\": 19.6, \"people_fully_vaccinated_per_hundred\": 19.66}, {\"date\": \"2021-12-12T00:00:00\", \"location\": \"Zimbabwe\", \"median_age\": 19.6, \"people_fully_vaccinated_per_hundred\": 19.73}, {\"date\": \"2021-12-13T00:00:00\", \"location\": \"Zimbabwe\", \"median_age\": 19.6, \"people_fully_vaccinated_per_hundred\": 19.8}, {\"date\": \"2021-12-14T00:00:00\", \"location\": \"Zimbabwe\", \"median_age\": 19.6, \"people_fully_vaccinated_per_hundred\": 19.87}, {\"date\": \"2021-12-15T00:00:00\", \"location\": \"Zimbabwe\", \"median_age\": 19.6, \"people_fully_vaccinated_per_hundred\": 19.97}, {\"date\": \"2021-12-16T00:00:00\", \"location\": \"Zimbabwe\", \"median_age\": 19.6, \"people_fully_vaccinated_per_hundred\": 20.11}, {\"date\": \"2021-12-17T00:00:00\", \"location\": \"Zimbabwe\", \"median_age\": 19.6, \"people_fully_vaccinated_per_hundred\": 20.23}, {\"date\": \"2021-12-18T00:00:00\", \"location\": \"Zimbabwe\", \"median_age\": 19.6, \"people_fully_vaccinated_per_hundred\": 20.3}, {\"date\": \"2021-12-19T00:00:00\", \"location\": \"Zimbabwe\", \"median_age\": 19.6, \"people_fully_vaccinated_per_hundred\": 20.34}, {\"date\": \"2021-12-20T00:00:00\", \"location\": \"Zimbabwe\", \"median_age\": 19.6, \"people_fully_vaccinated_per_hundred\": 20.37}, {\"date\": \"2021-12-21T00:00:00\", \"location\": \"Zimbabwe\", \"median_age\": 19.6, \"people_fully_vaccinated_per_hundred\": 20.43}, {\"date\": \"2021-12-22T00:00:00\", \"location\": \"Zimbabwe\", \"median_age\": 19.6, \"people_fully_vaccinated_per_hundred\": 20.47}, {\"date\": \"2021-12-23T00:00:00\", \"location\": \"Zimbabwe\", \"median_age\": 19.6, \"people_fully_vaccinated_per_hundred\": 20.53}, {\"date\": \"2021-12-24T00:00:00\", \"location\": \"Zimbabwe\", \"median_age\": 19.6, \"people_fully_vaccinated_per_hundred\": 20.57}, {\"date\": \"2021-12-25T00:00:00\", \"location\": \"Zimbabwe\", \"median_age\": 19.6, \"people_fully_vaccinated_per_hundred\": 20.6}, {\"date\": \"2021-12-26T00:00:00\", \"location\": \"Zimbabwe\", \"median_age\": 19.6, \"people_fully_vaccinated_per_hundred\": 20.62}, {\"date\": \"2021-12-27T00:00:00\", \"location\": \"Zimbabwe\", \"median_age\": 19.6, \"people_fully_vaccinated_per_hundred\": 20.63}, {\"date\": \"2021-12-28T00:00:00\", \"location\": \"Zimbabwe\", \"median_age\": 19.6, \"people_fully_vaccinated_per_hundred\": 20.64}, {\"date\": \"2021-12-29T00:00:00\", \"location\": \"Zimbabwe\", \"median_age\": 19.6, \"people_fully_vaccinated_per_hundred\": 20.68}, {\"date\": \"2021-12-31T00:00:00\", \"location\": \"Zimbabwe\", \"median_age\": 19.6, \"people_fully_vaccinated_per_hundred\": 20.77}, {\"date\": \"2022-01-01T00:00:00\", \"location\": \"Zimbabwe\", \"median_age\": 19.6, \"people_fully_vaccinated_per_hundred\": 20.81}, {\"date\": \"2022-01-02T00:00:00\", \"location\": \"Zimbabwe\", \"median_age\": 19.6, \"people_fully_vaccinated_per_hundred\": 20.83}, {\"date\": \"2022-01-03T00:00:00\", \"location\": \"Zimbabwe\", \"median_age\": 19.6, \"people_fully_vaccinated_per_hundred\": 20.86}, {\"date\": \"2022-01-04T00:00:00\", \"location\": \"Zimbabwe\", \"median_age\": 19.6, \"people_fully_vaccinated_per_hundred\": 20.89}, {\"date\": \"2022-01-05T00:00:00\", \"location\": \"Zimbabwe\", \"median_age\": 19.6, \"people_fully_vaccinated_per_hundred\": 20.95}, {\"date\": \"2022-01-06T00:00:00\", \"location\": \"Zimbabwe\", \"median_age\": 19.6, \"people_fully_vaccinated_per_hundred\": 21.0}, {\"date\": \"2022-01-07T00:00:00\", \"location\": \"Zimbabwe\", \"median_age\": 19.6, \"people_fully_vaccinated_per_hundred\": 21.06}, {\"date\": \"2022-01-08T00:00:00\", \"location\": \"Zimbabwe\", \"median_age\": 19.6, \"people_fully_vaccinated_per_hundred\": 21.08}, {\"date\": \"2022-01-09T00:00:00\", \"location\": \"Zimbabwe\", \"median_age\": 19.6, \"people_fully_vaccinated_per_hundred\": 21.11}, {\"date\": \"2022-01-10T00:00:00\", \"location\": \"Zimbabwe\", \"median_age\": 19.6, \"people_fully_vaccinated_per_hundred\": 21.15}, {\"date\": \"2022-01-11T00:00:00\", \"location\": \"Zimbabwe\", \"median_age\": 19.6, \"people_fully_vaccinated_per_hundred\": 21.18}, {\"date\": \"2022-01-12T00:00:00\", \"location\": \"Zimbabwe\", \"median_age\": 19.6, \"people_fully_vaccinated_per_hundred\": 21.25}, {\"date\": \"2022-01-13T00:00:00\", \"location\": \"Zimbabwe\", \"median_age\": 19.6, \"people_fully_vaccinated_per_hundred\": 21.31}, {\"date\": \"2022-01-14T00:00:00\", \"location\": \"Zimbabwe\", \"median_age\": 19.6, \"people_fully_vaccinated_per_hundred\": 21.37}, {\"date\": \"2022-01-15T00:00:00\", \"location\": \"Zimbabwe\", \"median_age\": 19.6, \"people_fully_vaccinated_per_hundred\": 21.39}, {\"date\": \"2022-01-16T00:00:00\", \"location\": \"Zimbabwe\", \"median_age\": 19.6, \"people_fully_vaccinated_per_hundred\": 21.42}, {\"date\": \"2022-01-17T00:00:00\", \"location\": \"Zimbabwe\", \"median_age\": 19.6, \"people_fully_vaccinated_per_hundred\": 21.44}, {\"date\": \"2022-01-18T00:00:00\", \"location\": \"Zimbabwe\", \"median_age\": 19.6, \"people_fully_vaccinated_per_hundred\": 21.48}, {\"date\": \"2022-01-19T00:00:00\", \"location\": \"Zimbabwe\", \"median_age\": 19.6, \"people_fully_vaccinated_per_hundred\": 21.53}, {\"date\": \"2022-01-20T00:00:00\", \"location\": \"Zimbabwe\", \"median_age\": 19.6, \"people_fully_vaccinated_per_hundred\": 21.56}, {\"date\": \"2022-01-21T00:00:00\", \"location\": \"Zimbabwe\", \"median_age\": 19.6, \"people_fully_vaccinated_per_hundred\": 21.62}, {\"date\": \"2022-01-22T00:00:00\", \"location\": \"Zimbabwe\", \"median_age\": 19.6, \"people_fully_vaccinated_per_hundred\": 21.65}, {\"date\": \"2022-01-23T00:00:00\", \"location\": \"Zimbabwe\", \"median_age\": 19.6, \"people_fully_vaccinated_per_hundred\": 21.67}, {\"date\": \"2022-01-24T00:00:00\", \"location\": \"Zimbabwe\", \"median_age\": 19.6, \"people_fully_vaccinated_per_hundred\": 21.69}, {\"date\": \"2022-01-25T00:00:00\", \"location\": \"Zimbabwe\", \"median_age\": 19.6, \"people_fully_vaccinated_per_hundred\": 21.71}, {\"date\": \"2022-01-26T00:00:00\", \"location\": \"Zimbabwe\", \"median_age\": 19.6, \"people_fully_vaccinated_per_hundred\": 21.74}, {\"date\": \"2022-01-27T00:00:00\", \"location\": \"Zimbabwe\", \"median_age\": 19.6, \"people_fully_vaccinated_per_hundred\": 21.77}, {\"date\": \"2022-01-28T00:00:00\", \"location\": \"Zimbabwe\", \"median_age\": 19.6, \"people_fully_vaccinated_per_hundred\": 21.81}, {\"date\": \"2022-01-29T00:00:00\", \"location\": \"Zimbabwe\", \"median_age\": 19.6, \"people_fully_vaccinated_per_hundred\": 21.83}, {\"date\": \"2022-01-30T00:00:00\", \"location\": \"Zimbabwe\", \"median_age\": 19.6, \"people_fully_vaccinated_per_hundred\": 21.84}, {\"date\": \"2022-01-31T00:00:00\", \"location\": \"Zimbabwe\", \"median_age\": 19.6, \"people_fully_vaccinated_per_hundred\": 21.86}, {\"date\": \"2022-02-01T00:00:00\", \"location\": \"Zimbabwe\", \"median_age\": 19.6, \"people_fully_vaccinated_per_hundred\": 21.89}, {\"date\": \"2022-02-02T00:00:00\", \"location\": \"Zimbabwe\", \"median_age\": 19.6, \"people_fully_vaccinated_per_hundred\": 21.94}, {\"date\": \"2022-02-03T00:00:00\", \"location\": \"Zimbabwe\", \"median_age\": 19.6, \"people_fully_vaccinated_per_hundred\": 21.96}, {\"date\": \"2022-02-04T00:00:00\", \"location\": \"Zimbabwe\", \"median_age\": 19.6, \"people_fully_vaccinated_per_hundred\": 22.0}, {\"date\": \"2022-02-05T00:00:00\", \"location\": \"Zimbabwe\", \"median_age\": 19.6, \"people_fully_vaccinated_per_hundred\": 22.02}, {\"date\": \"2022-02-06T00:00:00\", \"location\": \"Zimbabwe\", \"median_age\": 19.6, \"people_fully_vaccinated_per_hundred\": 22.03}, {\"date\": \"2022-02-07T00:00:00\", \"location\": \"Zimbabwe\", \"median_age\": 19.6, \"people_fully_vaccinated_per_hundred\": 22.05}]}}, {\"mode\": \"vega-lite\"});\n</script>"
                },
                "metadata": {}
              }
            ],
            "_view_module": "@jupyter-widgets/output",
            "_model_module_version": "1.0.0",
            "_view_count": null,
            "_view_module_version": "1.0.0",
            "layout": "IPY_MODEL_c58d7a76bb5948c0a31cd70daa7d250f",
            "_model_module": "@jupyter-widgets/output"
          }
        },
        "d17c0f9dcd494d95a0c2a10b81fa16f5": {
          "model_module": "@jupyter-widgets/controls",
          "model_name": "DescriptionStyleModel",
          "model_module_version": "1.5.0",
          "state": {
            "_view_name": "StyleView",
            "_model_name": "DescriptionStyleModel",
            "description_width": "",
            "_view_module": "@jupyter-widgets/base",
            "_model_module_version": "1.5.0",
            "_view_count": null,
            "_view_module_version": "1.2.0",
            "_model_module": "@jupyter-widgets/controls"
          }
        },
        "e362048cd886478ea0432136ea4aada6": {
          "model_module": "@jupyter-widgets/base",
          "model_name": "LayoutModel",
          "model_module_version": "1.2.0",
          "state": {
            "_view_name": "LayoutView",
            "grid_template_rows": null,
            "right": null,
            "justify_content": null,
            "_view_module": "@jupyter-widgets/base",
            "overflow": null,
            "_model_module_version": "1.2.0",
            "_view_count": null,
            "flex_flow": null,
            "width": null,
            "min_width": null,
            "border": null,
            "align_items": null,
            "bottom": null,
            "_model_module": "@jupyter-widgets/base",
            "top": null,
            "grid_column": null,
            "overflow_y": null,
            "overflow_x": null,
            "grid_auto_flow": null,
            "grid_area": null,
            "grid_template_columns": null,
            "flex": null,
            "_model_name": "LayoutModel",
            "justify_items": null,
            "grid_row": null,
            "max_height": null,
            "align_content": null,
            "visibility": null,
            "align_self": null,
            "height": null,
            "min_height": null,
            "padding": null,
            "grid_auto_rows": null,
            "grid_gap": null,
            "max_width": null,
            "order": null,
            "_view_module_version": "1.2.0",
            "grid_template_areas": null,
            "object_position": null,
            "object_fit": null,
            "grid_auto_columns": null,
            "margin": null,
            "display": null,
            "left": null
          }
        },
        "c58d7a76bb5948c0a31cd70daa7d250f": {
          "model_module": "@jupyter-widgets/base",
          "model_name": "LayoutModel",
          "model_module_version": "1.2.0",
          "state": {
            "_view_name": "LayoutView",
            "grid_template_rows": null,
            "right": null,
            "justify_content": null,
            "_view_module": "@jupyter-widgets/base",
            "overflow": null,
            "_model_module_version": "1.2.0",
            "_view_count": null,
            "flex_flow": null,
            "width": null,
            "min_width": null,
            "border": null,
            "align_items": null,
            "bottom": null,
            "_model_module": "@jupyter-widgets/base",
            "top": null,
            "grid_column": null,
            "overflow_y": null,
            "overflow_x": null,
            "grid_auto_flow": null,
            "grid_area": null,
            "grid_template_columns": null,
            "flex": null,
            "_model_name": "LayoutModel",
            "justify_items": null,
            "grid_row": null,
            "max_height": null,
            "align_content": null,
            "visibility": null,
            "align_self": null,
            "height": null,
            "min_height": null,
            "padding": null,
            "grid_auto_rows": null,
            "grid_gap": null,
            "max_width": null,
            "order": null,
            "_view_module_version": "1.2.0",
            "grid_template_areas": null,
            "object_position": null,
            "object_fit": null,
            "grid_auto_columns": null,
            "margin": null,
            "display": null,
            "left": null
          }
        },
        "bdbae2aa06954dadb04cdc3fa4966acb": {
          "model_module": "@jupyter-widgets/controls",
          "model_name": "VBoxModel",
          "model_module_version": "1.5.0",
          "state": {
            "_view_name": "VBoxView",
            "_dom_classes": [
              "widget-interact"
            ],
            "_model_name": "VBoxModel",
            "_view_module": "@jupyter-widgets/controls",
            "_model_module_version": "1.5.0",
            "_view_count": null,
            "_view_module_version": "1.5.0",
            "box_style": "",
            "layout": "IPY_MODEL_294f1a8af1d94bf49891675f2808bcc4",
            "_model_module": "@jupyter-widgets/controls",
            "children": [
              "IPY_MODEL_b869a724171c46efa904bdf2cc200ed3",
              "IPY_MODEL_bb1d096ca37e421ba6d2114480ced6b9"
            ]
          }
        },
        "294f1a8af1d94bf49891675f2808bcc4": {
          "model_module": "@jupyter-widgets/base",
          "model_name": "LayoutModel",
          "model_module_version": "1.2.0",
          "state": {
            "_view_name": "LayoutView",
            "grid_template_rows": null,
            "right": null,
            "justify_content": null,
            "_view_module": "@jupyter-widgets/base",
            "overflow": null,
            "_model_module_version": "1.2.0",
            "_view_count": null,
            "flex_flow": null,
            "width": null,
            "min_width": null,
            "border": null,
            "align_items": null,
            "bottom": null,
            "_model_module": "@jupyter-widgets/base",
            "top": null,
            "grid_column": null,
            "overflow_y": null,
            "overflow_x": null,
            "grid_auto_flow": null,
            "grid_area": null,
            "grid_template_columns": null,
            "flex": null,
            "_model_name": "LayoutModel",
            "justify_items": null,
            "grid_row": null,
            "max_height": null,
            "align_content": null,
            "visibility": null,
            "align_self": null,
            "height": null,
            "min_height": null,
            "padding": null,
            "grid_auto_rows": null,
            "grid_gap": null,
            "max_width": null,
            "order": null,
            "_view_module_version": "1.2.0",
            "grid_template_areas": null,
            "object_position": null,
            "object_fit": null,
            "grid_auto_columns": null,
            "margin": null,
            "display": null,
            "left": null
          }
        },
        "b869a724171c46efa904bdf2cc200ed3": {
          "model_module": "@jupyter-widgets/controls",
          "model_name": "DropdownModel",
          "model_module_version": "1.5.0",
          "state": {
            "_options_labels": [
              "Colombia",
              "Venezuela",
              "Ecuador",
              "Bolivia"
            ],
            "_view_name": "DropdownView",
            "style": "IPY_MODEL_f7a8307550c74f2b94d69a405ae77b63",
            "_dom_classes": [],
            "description": "country",
            "_model_name": "DropdownModel",
            "index": 0,
            "_view_module": "@jupyter-widgets/controls",
            "_model_module_version": "1.5.0",
            "_view_count": null,
            "disabled": false,
            "_view_module_version": "1.5.0",
            "description_tooltip": null,
            "_model_module": "@jupyter-widgets/controls",
            "layout": "IPY_MODEL_41dbd4c45ea541b18e846115490a0d3f"
          }
        },
        "bb1d096ca37e421ba6d2114480ced6b9": {
          "model_module": "@jupyter-widgets/output",
          "model_name": "OutputModel",
          "model_module_version": "1.0.0",
          "state": {
            "_view_name": "OutputView",
            "msg_id": "",
            "_dom_classes": [],
            "_model_name": "OutputModel",
            "outputs": [
              {
                "output_type": "stream",
                "name": "stdout",
                "text": [
                  "\n",
                  "The median age of your country is:  32.2 \n",
                  "\n"
                ]
              },
              {
                "output_type": "display_data",
                "data": {
                  "text/plain": "alt.Chart(...)",
                  "text/html": "\n<div id=\"altair-viz-a883cc59d3c843faa54174c67e8b547e\"></div>\n<script type=\"text/javascript\">\n  var VEGA_DEBUG = (typeof VEGA_DEBUG == \"undefined\") ? {} : VEGA_DEBUG;\n  (function(spec, embedOpt){\n    let outputDiv = document.currentScript.previousElementSibling;\n    if (outputDiv.id !== \"altair-viz-a883cc59d3c843faa54174c67e8b547e\") {\n      outputDiv = document.getElementById(\"altair-viz-a883cc59d3c843faa54174c67e8b547e\");\n    }\n    const paths = {\n      \"vega\": \"https://cdn.jsdelivr.net/npm//vega@5?noext\",\n      \"vega-lib\": \"https://cdn.jsdelivr.net/npm//vega-lib?noext\",\n      \"vega-lite\": \"https://cdn.jsdelivr.net/npm//vega-lite@4.17.0?noext\",\n      \"vega-embed\": \"https://cdn.jsdelivr.net/npm//vega-embed@6?noext\",\n    };\n\n    function maybeLoadScript(lib, version) {\n      var key = `${lib.replace(\"-\", \"\")}_version`;\n      return (VEGA_DEBUG[key] == version) ?\n        Promise.resolve(paths[lib]) :\n        new Promise(function(resolve, reject) {\n          var s = document.createElement('script');\n          document.getElementsByTagName(\"head\")[0].appendChild(s);\n          s.async = true;\n          s.onload = () => {\n            VEGA_DEBUG[key] = version;\n            return resolve(paths[lib]);\n          };\n          s.onerror = () => reject(`Error loading script: ${paths[lib]}`);\n          s.src = paths[lib];\n        });\n    }\n\n    function showError(err) {\n      outputDiv.innerHTML = `<div class=\"error\" style=\"color:red;\">${err}</div>`;\n      throw err;\n    }\n\n    function displayChart(vegaEmbed) {\n      vegaEmbed(outputDiv, spec, embedOpt)\n        .catch(err => showError(`Javascript Error: ${err.message}<br>This usually means there's a typo in your chart specification. See the javascript console for the full traceback.`));\n    }\n\n    if(typeof define === \"function\" && define.amd) {\n      requirejs.config({paths});\n      require([\"vega-embed\"], displayChart, err => showError(`Error loading script: ${err.message}`));\n    } else {\n      maybeLoadScript(\"vega\", \"5\")\n        .then(() => maybeLoadScript(\"vega-lite\", \"4.17.0\"))\n        .then(() => maybeLoadScript(\"vega-embed\", \"6\"))\n        .catch(showError)\n        .then(() => displayChart(vegaEmbed));\n    }\n  })({\"config\": {\"view\": {\"continuousWidth\": 400, \"continuousHeight\": 300}}, \"data\": {\"name\": \"data-c4b5850ab95c758b88cca4497f49af2e\"}, \"mark\": \"line\", \"encoding\": {\"color\": {\"aggregate\": \"median\", \"field\": \"median_age\", \"type\": \"quantitative\"}, \"column\": {\"field\": \"location\", \"type\": \"nominal\"}, \"x\": {\"field\": \"date\", \"title\": \"Time (days)\", \"type\": \"temporal\"}, \"y\": {\"aggregate\": \"mean\", \"field\": \"people_fully_vaccinated_per_hundred\", \"title\": \"Mean of fully vaccinated people per 100\", \"type\": \"quantitative\"}}, \"title\": \"Mean of people vaccinated per 100 people over time, starting from 1st Jan 2022\", \"$schema\": \"https://vega.github.io/schema/vega-lite/v4.17.0.json\", \"datasets\": {\"data-c4b5850ab95c758b88cca4497f49af2e\": [{\"date\": \"2021-03-13T00:00:00\", \"location\": \"Colombia\", \"median_age\": 32.2, \"people_fully_vaccinated_per_hundred\": 0.06}, {\"date\": \"2021-03-14T00:00:00\", \"location\": \"Colombia\", \"median_age\": 32.2, \"people_fully_vaccinated_per_hundred\": 0.08}, {\"date\": \"2021-03-15T00:00:00\", \"location\": \"Colombia\", \"median_age\": 32.2, \"people_fully_vaccinated_per_hundred\": 0.09}, {\"date\": \"2021-03-16T00:00:00\", \"location\": \"Colombia\", \"median_age\": 32.2, \"people_fully_vaccinated_per_hundred\": 0.09}, {\"date\": \"2021-03-17T00:00:00\", \"location\": \"Colombia\", \"median_age\": 32.2, \"people_fully_vaccinated_per_hundred\": 0.1}, {\"date\": \"2021-03-18T00:00:00\", \"location\": \"Colombia\", \"median_age\": 32.2, \"people_fully_vaccinated_per_hundred\": 0.11}, {\"date\": \"2021-03-19T00:00:00\", \"location\": \"Colombia\", \"median_age\": 32.2, \"people_fully_vaccinated_per_hundred\": 0.11}, {\"date\": \"2021-03-20T00:00:00\", \"location\": \"Colombia\", \"median_age\": 32.2, \"people_fully_vaccinated_per_hundred\": 0.11}, {\"date\": \"2021-03-21T00:00:00\", \"location\": \"Colombia\", \"median_age\": 32.2, \"people_fully_vaccinated_per_hundred\": 0.11}, {\"date\": \"2021-03-22T00:00:00\", \"location\": \"Colombia\", \"median_age\": 32.2, \"people_fully_vaccinated_per_hundred\": 0.12}, {\"date\": \"2021-03-23T00:00:00\", \"location\": \"Colombia\", \"median_age\": 32.2, \"people_fully_vaccinated_per_hundred\": 0.12}, {\"date\": \"2021-03-24T00:00:00\", \"location\": \"Colombia\", \"median_age\": 32.2, \"people_fully_vaccinated_per_hundred\": 0.14}, {\"date\": \"2021-03-25T00:00:00\", \"location\": \"Colombia\", \"median_age\": 32.2, \"people_fully_vaccinated_per_hundred\": 0.23}, {\"date\": \"2021-03-26T00:00:00\", \"location\": \"Colombia\", \"median_age\": 32.2, \"people_fully_vaccinated_per_hundred\": 0.29}, {\"date\": \"2021-03-27T00:00:00\", \"location\": \"Colombia\", \"median_age\": 32.2, \"people_fully_vaccinated_per_hundred\": 0.34}, {\"date\": \"2021-03-28T00:00:00\", \"location\": \"Colombia\", \"median_age\": 32.2, \"people_fully_vaccinated_per_hundred\": 0.38}, {\"date\": \"2021-03-29T00:00:00\", \"location\": \"Colombia\", \"median_age\": 32.2, \"people_fully_vaccinated_per_hundred\": 0.45}, {\"date\": \"2021-03-30T00:00:00\", \"location\": \"Colombia\", \"median_age\": 32.2, \"people_fully_vaccinated_per_hundred\": 0.51}, {\"date\": \"2021-03-31T00:00:00\", \"location\": \"Colombia\", \"median_age\": 32.2, \"people_fully_vaccinated_per_hundred\": 0.56}, {\"date\": \"2021-04-01T00:00:00\", \"location\": \"Colombia\", \"median_age\": 32.2, \"people_fully_vaccinated_per_hundred\": 0.65}, {\"date\": \"2021-04-02T00:00:00\", \"location\": \"Colombia\", \"median_age\": 32.2, \"people_fully_vaccinated_per_hundred\": 0.71}, {\"date\": \"2021-04-03T00:00:00\", \"location\": \"Colombia\", \"median_age\": 32.2, \"people_fully_vaccinated_per_hundred\": 0.76}, {\"date\": \"2021-04-04T00:00:00\", \"location\": \"Colombia\", \"median_age\": 32.2, \"people_fully_vaccinated_per_hundred\": 0.78}, {\"date\": \"2021-04-05T00:00:00\", \"location\": \"Colombia\", \"median_age\": 32.2, \"people_fully_vaccinated_per_hundred\": 0.83}, {\"date\": \"2021-04-07T00:00:00\", \"location\": \"Colombia\", \"median_age\": 32.2, \"people_fully_vaccinated_per_hundred\": 1.06}, {\"date\": \"2021-04-08T00:00:00\", \"location\": \"Colombia\", \"median_age\": 32.2, \"people_fully_vaccinated_per_hundred\": 1.25}, {\"date\": \"2021-04-09T00:00:00\", \"location\": \"Colombia\", \"median_age\": 32.2, \"people_fully_vaccinated_per_hundred\": 1.45}, {\"date\": \"2021-04-10T00:00:00\", \"location\": \"Colombia\", \"median_age\": 32.2, \"people_fully_vaccinated_per_hundred\": 1.58}, {\"date\": \"2021-04-12T00:00:00\", \"location\": \"Colombia\", \"median_age\": 32.2, \"people_fully_vaccinated_per_hundred\": 1.78}, {\"date\": \"2021-04-13T00:00:00\", \"location\": \"Colombia\", \"median_age\": 32.2, \"people_fully_vaccinated_per_hundred\": 1.97}, {\"date\": \"2021-04-14T00:00:00\", \"location\": \"Colombia\", \"median_age\": 32.2, \"people_fully_vaccinated_per_hundred\": 2.04}, {\"date\": \"2021-04-16T00:00:00\", \"location\": \"Colombia\", \"median_age\": 32.2, \"people_fully_vaccinated_per_hundred\": 2.13}, {\"date\": \"2021-04-17T00:00:00\", \"location\": \"Colombia\", \"median_age\": 32.2, \"people_fully_vaccinated_per_hundred\": 2.22}, {\"date\": \"2021-04-18T00:00:00\", \"location\": \"Colombia\", \"median_age\": 32.2, \"people_fully_vaccinated_per_hundred\": 2.25}, {\"date\": \"2021-04-19T00:00:00\", \"location\": \"Colombia\", \"median_age\": 32.2, \"people_fully_vaccinated_per_hundred\": 2.32}, {\"date\": \"2021-04-20T00:00:00\", \"location\": \"Colombia\", \"median_age\": 32.2, \"people_fully_vaccinated_per_hundred\": 2.4}, {\"date\": \"2021-04-21T00:00:00\", \"location\": \"Colombia\", \"median_age\": 32.2, \"people_fully_vaccinated_per_hundred\": 2.5}, {\"date\": \"2021-04-22T00:00:00\", \"location\": \"Colombia\", \"median_age\": 32.2, \"people_fully_vaccinated_per_hundred\": 2.58}, {\"date\": \"2021-04-23T00:00:00\", \"location\": \"Colombia\", \"median_age\": 32.2, \"people_fully_vaccinated_per_hundred\": 2.65}, {\"date\": \"2021-04-24T00:00:00\", \"location\": \"Colombia\", \"median_age\": 32.2, \"people_fully_vaccinated_per_hundred\": 2.72}, {\"date\": \"2021-04-25T00:00:00\", \"location\": \"Colombia\", \"median_age\": 32.2, \"people_fully_vaccinated_per_hundred\": 2.75}, {\"date\": \"2021-04-27T00:00:00\", \"location\": \"Colombia\", \"median_age\": 32.2, \"people_fully_vaccinated_per_hundred\": 2.88}, {\"date\": \"2021-04-28T00:00:00\", \"location\": \"Colombia\", \"median_age\": 32.2, \"people_fully_vaccinated_per_hundred\": 2.94}, {\"date\": \"2021-04-29T00:00:00\", \"location\": \"Colombia\", \"median_age\": 32.2, \"people_fully_vaccinated_per_hundred\": 3.02}, {\"date\": \"2021-04-30T00:00:00\", \"location\": \"Colombia\", \"median_age\": 32.2, \"people_fully_vaccinated_per_hundred\": 3.17}, {\"date\": \"2021-05-01T00:00:00\", \"location\": \"Colombia\", \"median_age\": 32.2, \"people_fully_vaccinated_per_hundred\": 3.32}, {\"date\": \"2021-05-02T00:00:00\", \"location\": \"Colombia\", \"median_age\": 32.2, \"people_fully_vaccinated_per_hundred\": 3.44}, {\"date\": \"2021-05-07T00:00:00\", \"location\": \"Colombia\", \"median_age\": 32.2, \"people_fully_vaccinated_per_hundred\": 4.36}, {\"date\": \"2021-05-10T00:00:00\", \"location\": \"Colombia\", \"median_age\": 32.2, \"people_fully_vaccinated_per_hundred\": 4.76}, {\"date\": \"2021-05-11T00:00:00\", \"location\": \"Colombia\", \"median_age\": 32.2, \"people_fully_vaccinated_per_hundred\": 4.94}, {\"date\": \"2021-05-12T00:00:00\", \"location\": \"Colombia\", \"median_age\": 32.2, \"people_fully_vaccinated_per_hundred\": 5.1}, {\"date\": \"2021-05-13T00:00:00\", \"location\": \"Colombia\", \"median_age\": 32.2, \"people_fully_vaccinated_per_hundred\": 5.25}, {\"date\": \"2021-05-15T00:00:00\", \"location\": \"Colombia\", \"median_age\": 32.2, \"people_fully_vaccinated_per_hundred\": 5.51}, {\"date\": \"2021-05-16T00:00:00\", \"location\": \"Colombia\", \"median_age\": 32.2, \"people_fully_vaccinated_per_hundred\": 5.57}, {\"date\": \"2021-05-17T00:00:00\", \"location\": \"Colombia\", \"median_age\": 32.2, \"people_fully_vaccinated_per_hundred\": 5.63}, {\"date\": \"2021-05-18T00:00:00\", \"location\": \"Colombia\", \"median_age\": 32.2, \"people_fully_vaccinated_per_hundred\": 5.77}, {\"date\": \"2021-05-19T00:00:00\", \"location\": \"Colombia\", \"median_age\": 32.2, \"people_fully_vaccinated_per_hundred\": 5.85}, {\"date\": \"2021-05-20T00:00:00\", \"location\": \"Colombia\", \"median_age\": 32.2, \"people_fully_vaccinated_per_hundred\": 5.95}, {\"date\": \"2021-05-22T00:00:00\", \"location\": \"Colombia\", \"median_age\": 32.2, \"people_fully_vaccinated_per_hundred\": 6.07}, {\"date\": \"2021-05-23T00:00:00\", \"location\": \"Colombia\", \"median_age\": 32.2, \"people_fully_vaccinated_per_hundred\": 6.1}, {\"date\": \"2021-05-24T00:00:00\", \"location\": \"Colombia\", \"median_age\": 32.2, \"people_fully_vaccinated_per_hundred\": 6.14}, {\"date\": \"2021-05-25T00:00:00\", \"location\": \"Colombia\", \"median_age\": 32.2, \"people_fully_vaccinated_per_hundred\": 6.19}, {\"date\": \"2021-05-26T00:00:00\", \"location\": \"Colombia\", \"median_age\": 32.2, \"people_fully_vaccinated_per_hundred\": 6.23}, {\"date\": \"2021-05-29T00:00:00\", \"location\": \"Colombia\", \"median_age\": 32.2, \"people_fully_vaccinated_per_hundred\": 6.36}, {\"date\": \"2021-05-30T00:00:00\", \"location\": \"Colombia\", \"median_age\": 32.2, \"people_fully_vaccinated_per_hundred\": 6.39}, {\"date\": \"2021-05-31T00:00:00\", \"location\": \"Colombia\", \"median_age\": 32.2, \"people_fully_vaccinated_per_hundred\": 6.42}, {\"date\": \"2021-06-01T00:00:00\", \"location\": \"Colombia\", \"median_age\": 32.2, \"people_fully_vaccinated_per_hundred\": 6.47}, {\"date\": \"2021-06-02T00:00:00\", \"location\": \"Colombia\", \"median_age\": 32.2, \"people_fully_vaccinated_per_hundred\": 6.51}, {\"date\": \"2021-06-03T00:00:00\", \"location\": \"Colombia\", \"median_age\": 32.2, \"people_fully_vaccinated_per_hundred\": 6.57}, {\"date\": \"2021-06-04T00:00:00\", \"location\": \"Colombia\", \"median_age\": 32.2, \"people_fully_vaccinated_per_hundred\": 6.64}, {\"date\": \"2021-06-05T00:00:00\", \"location\": \"Colombia\", \"median_age\": 32.2, \"people_fully_vaccinated_per_hundred\": 6.7}, {\"date\": \"2021-06-06T00:00:00\", \"location\": \"Colombia\", \"median_age\": 32.2, \"people_fully_vaccinated_per_hundred\": 6.73}, {\"date\": \"2021-06-07T00:00:00\", \"location\": \"Colombia\", \"median_age\": 32.2, \"people_fully_vaccinated_per_hundred\": 6.77}, {\"date\": \"2021-06-08T00:00:00\", \"location\": \"Colombia\", \"median_age\": 32.2, \"people_fully_vaccinated_per_hundred\": 6.9}, {\"date\": \"2021-06-09T00:00:00\", \"location\": \"Colombia\", \"median_age\": 32.2, \"people_fully_vaccinated_per_hundred\": 7.01}, {\"date\": \"2021-06-11T00:00:00\", \"location\": \"Colombia\", \"median_age\": 32.2, \"people_fully_vaccinated_per_hundred\": 7.29}, {\"date\": \"2021-06-12T00:00:00\", \"location\": \"Colombia\", \"median_age\": 32.2, \"people_fully_vaccinated_per_hundred\": 7.41}, {\"date\": \"2021-06-13T00:00:00\", \"location\": \"Colombia\", \"median_age\": 32.2, \"people_fully_vaccinated_per_hundred\": 7.47}, {\"date\": \"2021-06-14T00:00:00\", \"location\": \"Colombia\", \"median_age\": 32.2, \"people_fully_vaccinated_per_hundred\": 7.56}, {\"date\": \"2021-06-17T00:00:00\", \"location\": \"Colombia\", \"median_age\": 32.2, \"people_fully_vaccinated_per_hundred\": 8.44}, {\"date\": \"2021-06-19T00:00:00\", \"location\": \"Colombia\", \"median_age\": 32.2, \"people_fully_vaccinated_per_hundred\": 9.08}, {\"date\": \"2021-06-20T00:00:00\", \"location\": \"Colombia\", \"median_age\": 32.2, \"people_fully_vaccinated_per_hundred\": 9.33}, {\"date\": \"2021-06-21T00:00:00\", \"location\": \"Colombia\", \"median_age\": 32.2, \"people_fully_vaccinated_per_hundred\": 9.71}, {\"date\": \"2021-06-22T00:00:00\", \"location\": \"Colombia\", \"median_age\": 32.2, \"people_fully_vaccinated_per_hundred\": 10.12}, {\"date\": \"2021-06-23T00:00:00\", \"location\": \"Colombia\", \"median_age\": 32.2, \"people_fully_vaccinated_per_hundred\": 10.5}, {\"date\": \"2021-06-24T00:00:00\", \"location\": \"Colombia\", \"median_age\": 32.2, \"people_fully_vaccinated_per_hundred\": 10.86}, {\"date\": \"2021-06-25T00:00:00\", \"location\": \"Colombia\", \"median_age\": 32.2, \"people_fully_vaccinated_per_hundred\": 11.23}, {\"date\": \"2021-06-26T00:00:00\", \"location\": \"Colombia\", \"median_age\": 32.2, \"people_fully_vaccinated_per_hundred\": 11.6}, {\"date\": \"2021-06-27T00:00:00\", \"location\": \"Colombia\", \"median_age\": 32.2, \"people_fully_vaccinated_per_hundred\": 11.97}, {\"date\": \"2021-06-28T00:00:00\", \"location\": \"Colombia\", \"median_age\": 32.2, \"people_fully_vaccinated_per_hundred\": 12.45}, {\"date\": \"2021-06-29T00:00:00\", \"location\": \"Colombia\", \"median_age\": 32.2, \"people_fully_vaccinated_per_hundred\": 12.98}, {\"date\": \"2021-06-30T00:00:00\", \"location\": \"Colombia\", \"median_age\": 32.2, \"people_fully_vaccinated_per_hundred\": 13.45}, {\"date\": \"2021-07-01T00:00:00\", \"location\": \"Colombia\", \"median_age\": 32.2, \"people_fully_vaccinated_per_hundred\": 13.85}, {\"date\": \"2021-07-02T00:00:00\", \"location\": \"Colombia\", \"median_age\": 32.2, \"people_fully_vaccinated_per_hundred\": 14.23}, {\"date\": \"2021-07-03T00:00:00\", \"location\": \"Colombia\", \"median_age\": 32.2, \"people_fully_vaccinated_per_hundred\": 14.51}, {\"date\": \"2021-07-04T00:00:00\", \"location\": \"Colombia\", \"median_age\": 32.2, \"people_fully_vaccinated_per_hundred\": 14.67}, {\"date\": \"2021-07-05T00:00:00\", \"location\": \"Colombia\", \"median_age\": 32.2, \"people_fully_vaccinated_per_hundred\": 14.87}, {\"date\": \"2021-07-07T00:00:00\", \"location\": \"Colombia\", \"median_age\": 32.2, \"people_fully_vaccinated_per_hundred\": 15.72}, {\"date\": \"2021-07-10T00:00:00\", \"location\": \"Colombia\", \"median_age\": 32.2, \"people_fully_vaccinated_per_hundred\": 16.2}, {\"date\": \"2021-07-11T00:00:00\", \"location\": \"Colombia\", \"median_age\": 32.2, \"people_fully_vaccinated_per_hundred\": 17.54}, {\"date\": \"2021-07-12T00:00:00\", \"location\": \"Colombia\", \"median_age\": 32.2, \"people_fully_vaccinated_per_hundred\": 17.9}, {\"date\": \"2021-07-14T00:00:00\", \"location\": \"Colombia\", \"median_age\": 32.2, \"people_fully_vaccinated_per_hundred\": 18.79}, {\"date\": \"2021-07-15T00:00:00\", \"location\": \"Colombia\", \"median_age\": 32.2, \"people_fully_vaccinated_per_hundred\": 19.26}, {\"date\": \"2021-07-17T00:00:00\", \"location\": \"Colombia\", \"median_age\": 32.2, \"people_fully_vaccinated_per_hundred\": 20.0}, {\"date\": \"2021-07-18T00:00:00\", \"location\": \"Colombia\", \"median_age\": 32.2, \"people_fully_vaccinated_per_hundred\": 20.17}, {\"date\": \"2021-07-19T00:00:00\", \"location\": \"Colombia\", \"median_age\": 32.2, \"people_fully_vaccinated_per_hundred\": 20.43}, {\"date\": \"2021-07-20T00:00:00\", \"location\": \"Colombia\", \"median_age\": 32.2, \"people_fully_vaccinated_per_hundred\": 20.59}, {\"date\": \"2021-07-22T00:00:00\", \"location\": \"Colombia\", \"median_age\": 32.2, \"people_fully_vaccinated_per_hundred\": 21.24}, {\"date\": \"2021-07-23T00:00:00\", \"location\": \"Colombia\", \"median_age\": 32.2, \"people_fully_vaccinated_per_hundred\": 21.54}, {\"date\": \"2021-07-25T00:00:00\", \"location\": \"Colombia\", \"median_age\": 32.2, \"people_fully_vaccinated_per_hundred\": 22.08}, {\"date\": \"2021-07-26T00:00:00\", \"location\": \"Colombia\", \"median_age\": 32.2, \"people_fully_vaccinated_per_hundred\": 22.35}, {\"date\": \"2021-07-28T00:00:00\", \"location\": \"Colombia\", \"median_age\": 32.2, \"people_fully_vaccinated_per_hundred\": 22.94}, {\"date\": \"2021-07-29T00:00:00\", \"location\": \"Colombia\", \"median_age\": 32.2, \"people_fully_vaccinated_per_hundred\": 23.2}, {\"date\": \"2021-07-31T00:00:00\", \"location\": \"Colombia\", \"median_age\": 32.2, \"people_fully_vaccinated_per_hundred\": 23.76}, {\"date\": \"2021-08-01T00:00:00\", \"location\": \"Colombia\", \"median_age\": 32.2, \"people_fully_vaccinated_per_hundred\": 23.9}, {\"date\": \"2021-08-02T00:00:00\", \"location\": \"Colombia\", \"median_age\": 32.2, \"people_fully_vaccinated_per_hundred\": 24.14}, {\"date\": \"2021-08-03T00:00:00\", \"location\": \"Colombia\", \"median_age\": 32.2, \"people_fully_vaccinated_per_hundred\": 24.46}, {\"date\": \"2021-08-04T00:00:00\", \"location\": \"Colombia\", \"median_age\": 32.2, \"people_fully_vaccinated_per_hundred\": 24.77}, {\"date\": \"2021-08-05T00:00:00\", \"location\": \"Colombia\", \"median_age\": 32.2, \"people_fully_vaccinated_per_hundred\": 25.07}, {\"date\": \"2021-08-07T00:00:00\", \"location\": \"Colombia\", \"median_age\": 32.2, \"people_fully_vaccinated_per_hundred\": 25.71}, {\"date\": \"2021-08-08T00:00:00\", \"location\": \"Colombia\", \"median_age\": 32.2, \"people_fully_vaccinated_per_hundred\": 25.79}, {\"date\": \"2021-08-09T00:00:00\", \"location\": \"Colombia\", \"median_age\": 32.2, \"people_fully_vaccinated_per_hundred\": 25.97}, {\"date\": \"2021-08-10T00:00:00\", \"location\": \"Colombia\", \"median_age\": 32.2, \"people_fully_vaccinated_per_hundred\": 26.14}, {\"date\": \"2021-08-11T00:00:00\", \"location\": \"Colombia\", \"median_age\": 32.2, \"people_fully_vaccinated_per_hundred\": 26.34}, {\"date\": \"2021-08-12T00:00:00\", \"location\": \"Colombia\", \"median_age\": 32.2, \"people_fully_vaccinated_per_hundred\": 26.51}, {\"date\": \"2021-08-13T00:00:00\", \"location\": \"Colombia\", \"median_age\": 32.2, \"people_fully_vaccinated_per_hundred\": 26.68}, {\"date\": \"2021-08-14T00:00:00\", \"location\": \"Colombia\", \"median_age\": 32.2, \"people_fully_vaccinated_per_hundred\": 26.82}, {\"date\": \"2021-08-15T00:00:00\", \"location\": \"Colombia\", \"median_age\": 32.2, \"people_fully_vaccinated_per_hundred\": 26.87}, {\"date\": \"2021-08-17T00:00:00\", \"location\": \"Colombia\", \"median_age\": 32.2, \"people_fully_vaccinated_per_hundred\": 27.08}, {\"date\": \"2021-08-18T00:00:00\", \"location\": \"Colombia\", \"median_age\": 32.2, \"people_fully_vaccinated_per_hundred\": 27.23}, {\"date\": \"2021-08-19T00:00:00\", \"location\": \"Colombia\", \"median_age\": 32.2, \"people_fully_vaccinated_per_hundred\": 27.41}, {\"date\": \"2021-08-20T00:00:00\", \"location\": \"Colombia\", \"median_age\": 32.2, \"people_fully_vaccinated_per_hundred\": 27.62}, {\"date\": \"2021-08-21T00:00:00\", \"location\": \"Colombia\", \"median_age\": 32.2, \"people_fully_vaccinated_per_hundred\": 27.72}, {\"date\": \"2021-08-22T00:00:00\", \"location\": \"Colombia\", \"median_age\": 32.2, \"people_fully_vaccinated_per_hundred\": 27.8}, {\"date\": \"2021-08-23T00:00:00\", \"location\": \"Colombia\", \"median_age\": 32.2, \"people_fully_vaccinated_per_hundred\": 27.94}, {\"date\": \"2021-08-24T00:00:00\", \"location\": \"Colombia\", \"median_age\": 32.2, \"people_fully_vaccinated_per_hundred\": 28.07}, {\"date\": \"2021-08-25T00:00:00\", \"location\": \"Colombia\", \"median_age\": 32.2, \"people_fully_vaccinated_per_hundred\": 28.18}, {\"date\": \"2021-08-27T00:00:00\", \"location\": \"Colombia\", \"median_age\": 32.2, \"people_fully_vaccinated_per_hundred\": 28.46}, {\"date\": \"2021-08-28T00:00:00\", \"location\": \"Colombia\", \"median_age\": 32.2, \"people_fully_vaccinated_per_hundred\": 28.56}, {\"date\": \"2021-08-29T00:00:00\", \"location\": \"Colombia\", \"median_age\": 32.2, \"people_fully_vaccinated_per_hundred\": 28.58}, {\"date\": \"2021-08-30T00:00:00\", \"location\": \"Colombia\", \"median_age\": 32.2, \"people_fully_vaccinated_per_hundred\": 28.65}, {\"date\": \"2021-08-31T00:00:00\", \"location\": \"Colombia\", \"median_age\": 32.2, \"people_fully_vaccinated_per_hundred\": 28.72}, {\"date\": \"2021-09-02T00:00:00\", \"location\": \"Colombia\", \"median_age\": 32.2, \"people_fully_vaccinated_per_hundred\": 28.81}, {\"date\": \"2021-09-03T00:00:00\", \"location\": \"Colombia\", \"median_age\": 32.2, \"people_fully_vaccinated_per_hundred\": 29.01}, {\"date\": \"2021-09-04T00:00:00\", \"location\": \"Colombia\", \"median_age\": 32.2, \"people_fully_vaccinated_per_hundred\": 29.09}, {\"date\": \"2021-09-09T00:00:00\", \"location\": \"Colombia\", \"median_age\": 32.2, \"people_fully_vaccinated_per_hundred\": 30.38}, {\"date\": \"2021-09-10T00:00:00\", \"location\": \"Colombia\", \"median_age\": 32.2, \"people_fully_vaccinated_per_hundred\": 30.65}, {\"date\": \"2021-09-12T00:00:00\", \"location\": \"Colombia\", \"median_age\": 32.2, \"people_fully_vaccinated_per_hundred\": 30.71}, {\"date\": \"2021-09-13T00:00:00\", \"location\": \"Colombia\", \"median_age\": 32.2, \"people_fully_vaccinated_per_hundred\": 30.85}, {\"date\": \"2021-09-14T00:00:00\", \"location\": \"Colombia\", \"median_age\": 32.2, \"people_fully_vaccinated_per_hundred\": 31.02}, {\"date\": \"2021-09-15T00:00:00\", \"location\": \"Colombia\", \"median_age\": 32.2, \"people_fully_vaccinated_per_hundred\": 31.15}, {\"date\": \"2021-09-17T00:00:00\", \"location\": \"Colombia\", \"median_age\": 32.2, \"people_fully_vaccinated_per_hundred\": 31.4}, {\"date\": \"2021-09-18T00:00:00\", \"location\": \"Colombia\", \"median_age\": 32.2, \"people_fully_vaccinated_per_hundred\": 31.48}, {\"date\": \"2021-09-19T00:00:00\", \"location\": \"Colombia\", \"median_age\": 32.2, \"people_fully_vaccinated_per_hundred\": 31.52}, {\"date\": \"2021-09-20T00:00:00\", \"location\": \"Colombia\", \"median_age\": 32.2, \"people_fully_vaccinated_per_hundred\": 31.65}, {\"date\": \"2021-09-22T00:00:00\", \"location\": \"Colombia\", \"median_age\": 32.2, \"people_fully_vaccinated_per_hundred\": 31.9}, {\"date\": \"2021-09-23T00:00:00\", \"location\": \"Colombia\", \"median_age\": 32.2, \"people_fully_vaccinated_per_hundred\": 32.04}, {\"date\": \"2021-09-25T00:00:00\", \"location\": \"Colombia\", \"median_age\": 32.2, \"people_fully_vaccinated_per_hundred\": 32.26}, {\"date\": \"2021-09-26T00:00:00\", \"location\": \"Colombia\", \"median_age\": 32.2, \"people_fully_vaccinated_per_hundred\": 32.54}, {\"date\": \"2021-09-27T00:00:00\", \"location\": \"Colombia\", \"median_age\": 32.2, \"people_fully_vaccinated_per_hundred\": 32.79}, {\"date\": \"2021-09-29T00:00:00\", \"location\": \"Colombia\", \"median_age\": 32.2, \"people_fully_vaccinated_per_hundred\": 33.02}, {\"date\": \"2021-10-01T00:00:00\", \"location\": \"Colombia\", \"median_age\": 32.2, \"people_fully_vaccinated_per_hundred\": 33.56}, {\"date\": \"2021-10-04T00:00:00\", \"location\": \"Colombia\", \"median_age\": 32.2, \"people_fully_vaccinated_per_hundred\": 34.12}, {\"date\": \"2021-10-06T00:00:00\", \"location\": \"Colombia\", \"median_age\": 32.2, \"people_fully_vaccinated_per_hundred\": 34.85}, {\"date\": \"2021-10-07T00:00:00\", \"location\": \"Colombia\", \"median_age\": 32.2, \"people_fully_vaccinated_per_hundred\": 35.3}, {\"date\": \"2021-10-08T00:00:00\", \"location\": \"Colombia\", \"median_age\": 32.2, \"people_fully_vaccinated_per_hundred\": 35.71}, {\"date\": \"2021-10-09T00:00:00\", \"location\": \"Colombia\", \"median_age\": 32.2, \"people_fully_vaccinated_per_hundred\": 36.09}, {\"date\": \"2021-10-10T00:00:00\", \"location\": \"Colombia\", \"median_age\": 32.2, \"people_fully_vaccinated_per_hundred\": 36.27}, {\"date\": \"2021-10-11T00:00:00\", \"location\": \"Colombia\", \"median_age\": 32.2, \"people_fully_vaccinated_per_hundred\": 36.7}, {\"date\": \"2021-10-12T00:00:00\", \"location\": \"Colombia\", \"median_age\": 32.2, \"people_fully_vaccinated_per_hundred\": 37.08}, {\"date\": \"2021-10-13T00:00:00\", \"location\": \"Colombia\", \"median_age\": 32.2, \"people_fully_vaccinated_per_hundred\": 37.45}, {\"date\": \"2021-10-14T00:00:00\", \"location\": \"Colombia\", \"median_age\": 32.2, \"people_fully_vaccinated_per_hundred\": 37.79}, {\"date\": \"2021-10-15T00:00:00\", \"location\": \"Colombia\", \"median_age\": 32.2, \"people_fully_vaccinated_per_hundred\": 37.79}, {\"date\": \"2021-10-17T00:00:00\", \"location\": \"Colombia\", \"median_age\": 32.2, \"people_fully_vaccinated_per_hundred\": 38.48}, {\"date\": \"2021-10-18T00:00:00\", \"location\": \"Colombia\", \"median_age\": 32.2, \"people_fully_vaccinated_per_hundred\": 38.57}, {\"date\": \"2021-10-22T00:00:00\", \"location\": \"Colombia\", \"median_age\": 32.2, \"people_fully_vaccinated_per_hundred\": 39.74}, {\"date\": \"2021-10-23T00:00:00\", \"location\": \"Colombia\", \"median_age\": 32.2, \"people_fully_vaccinated_per_hundred\": 39.98}, {\"date\": \"2021-10-24T00:00:00\", \"location\": \"Colombia\", \"median_age\": 32.2, \"people_fully_vaccinated_per_hundred\": 40.16}, {\"date\": \"2021-10-25T00:00:00\", \"location\": \"Colombia\", \"median_age\": 32.2, \"people_fully_vaccinated_per_hundred\": 40.42}, {\"date\": \"2021-10-26T00:00:00\", \"location\": \"Colombia\", \"median_age\": 32.2, \"people_fully_vaccinated_per_hundred\": 40.69}, {\"date\": \"2021-10-27T00:00:00\", \"location\": \"Colombia\", \"median_age\": 32.2, \"people_fully_vaccinated_per_hundred\": 40.97}, {\"date\": \"2021-10-28T00:00:00\", \"location\": \"Colombia\", \"median_age\": 32.2, \"people_fully_vaccinated_per_hundred\": 41.24}, {\"date\": \"2021-10-30T00:00:00\", \"location\": \"Colombia\", \"median_age\": 32.2, \"people_fully_vaccinated_per_hundred\": 41.66}, {\"date\": \"2021-10-31T00:00:00\", \"location\": \"Colombia\", \"median_age\": 32.2, \"people_fully_vaccinated_per_hundred\": 41.74}, {\"date\": \"2021-11-02T00:00:00\", \"location\": \"Colombia\", \"median_age\": 32.2, \"people_fully_vaccinated_per_hundred\": 42.06}, {\"date\": \"2021-11-03T00:00:00\", \"location\": \"Colombia\", \"median_age\": 32.2, \"people_fully_vaccinated_per_hundred\": 42.29}, {\"date\": \"2021-11-04T00:00:00\", \"location\": \"Colombia\", \"median_age\": 32.2, \"people_fully_vaccinated_per_hundred\": 42.55}, {\"date\": \"2021-11-06T00:00:00\", \"location\": \"Colombia\", \"median_age\": 32.2, \"people_fully_vaccinated_per_hundred\": 43.05}, {\"date\": \"2021-11-07T00:00:00\", \"location\": \"Colombia\", \"median_age\": 32.2, \"people_fully_vaccinated_per_hundred\": 43.19}, {\"date\": \"2021-11-08T00:00:00\", \"location\": \"Colombia\", \"median_age\": 32.2, \"people_fully_vaccinated_per_hundred\": 43.4}, {\"date\": \"2021-11-10T00:00:00\", \"location\": \"Colombia\", \"median_age\": 32.2, \"people_fully_vaccinated_per_hundred\": 43.89}, {\"date\": \"2021-11-11T00:00:00\", \"location\": \"Colombia\", \"median_age\": 32.2, \"people_fully_vaccinated_per_hundred\": 44.14}, {\"date\": \"2021-11-12T00:00:00\", \"location\": \"Colombia\", \"median_age\": 32.2, \"people_fully_vaccinated_per_hundred\": 44.39}, {\"date\": \"2021-11-14T00:00:00\", \"location\": \"Colombia\", \"median_age\": 32.2, \"people_fully_vaccinated_per_hundred\": 44.75}, {\"date\": \"2021-11-15T00:00:00\", \"location\": \"Colombia\", \"median_age\": 32.2, \"people_fully_vaccinated_per_hundred\": 44.84}, {\"date\": \"2021-11-16T00:00:00\", \"location\": \"Colombia\", \"median_age\": 32.2, \"people_fully_vaccinated_per_hundred\": 45.09}, {\"date\": \"2021-11-17T00:00:00\", \"location\": \"Colombia\", \"median_age\": 32.2, \"people_fully_vaccinated_per_hundred\": 45.38}, {\"date\": \"2021-11-18T00:00:00\", \"location\": \"Colombia\", \"median_age\": 32.2, \"people_fully_vaccinated_per_hundred\": 45.66}, {\"date\": \"2021-11-19T00:00:00\", \"location\": \"Colombia\", \"median_age\": 32.2, \"people_fully_vaccinated_per_hundred\": 45.93}, {\"date\": \"2021-11-20T00:00:00\", \"location\": \"Colombia\", \"median_age\": 32.2, \"people_fully_vaccinated_per_hundred\": 46.16}, {\"date\": \"2021-11-21T00:00:00\", \"location\": \"Colombia\", \"median_age\": 32.2, \"people_fully_vaccinated_per_hundred\": 46.27}, {\"date\": \"2021-11-22T00:00:00\", \"location\": \"Colombia\", \"median_age\": 32.2, \"people_fully_vaccinated_per_hundred\": 46.52}, {\"date\": \"2021-11-23T00:00:00\", \"location\": \"Colombia\", \"median_age\": 32.2, \"people_fully_vaccinated_per_hundred\": 46.75}, {\"date\": \"2021-11-24T00:00:00\", \"location\": \"Colombia\", \"median_age\": 32.2, \"people_fully_vaccinated_per_hundred\": 46.99}, {\"date\": \"2021-11-26T00:00:00\", \"location\": \"Colombia\", \"median_age\": 32.2, \"people_fully_vaccinated_per_hundred\": 47.46}, {\"date\": \"2021-11-27T00:00:00\", \"location\": \"Colombia\", \"median_age\": 32.2, \"people_fully_vaccinated_per_hundred\": 47.64}, {\"date\": \"2021-11-28T00:00:00\", \"location\": \"Colombia\", \"median_age\": 32.2, \"people_fully_vaccinated_per_hundred\": 47.75}, {\"date\": \"2021-11-29T00:00:00\", \"location\": \"Colombia\", \"median_age\": 32.2, \"people_fully_vaccinated_per_hundred\": 47.98}, {\"date\": \"2021-11-30T00:00:00\", \"location\": \"Colombia\", \"median_age\": 32.2, \"people_fully_vaccinated_per_hundred\": 48.27}, {\"date\": \"2021-12-01T00:00:00\", \"location\": \"Colombia\", \"median_age\": 32.2, \"people_fully_vaccinated_per_hundred\": 48.82}, {\"date\": \"2021-12-03T00:00:00\", \"location\": \"Colombia\", \"median_age\": 32.2, \"people_fully_vaccinated_per_hundred\": 49.1}, {\"date\": \"2021-12-05T00:00:00\", \"location\": \"Colombia\", \"median_age\": 32.2, \"people_fully_vaccinated_per_hundred\": 49.49}, {\"date\": \"2021-12-06T00:00:00\", \"location\": \"Colombia\", \"median_age\": 32.2, \"people_fully_vaccinated_per_hundred\": 49.78}, {\"date\": \"2021-12-07T00:00:00\", \"location\": \"Colombia\", \"median_age\": 32.2, \"people_fully_vaccinated_per_hundred\": 50.03}, {\"date\": \"2021-12-09T00:00:00\", \"location\": \"Colombia\", \"median_age\": 32.2, \"people_fully_vaccinated_per_hundred\": 50.45}, {\"date\": \"2021-12-10T00:00:00\", \"location\": \"Colombia\", \"median_age\": 32.2, \"people_fully_vaccinated_per_hundred\": 50.8}, {\"date\": \"2021-12-11T00:00:00\", \"location\": \"Colombia\", \"median_age\": 32.2, \"people_fully_vaccinated_per_hundred\": 51.04}, {\"date\": \"2021-12-12T00:00:00\", \"location\": \"Colombia\", \"median_age\": 32.2, \"people_fully_vaccinated_per_hundred\": 51.19}, {\"date\": \"2021-12-13T00:00:00\", \"location\": \"Colombia\", \"median_age\": 32.2, \"people_fully_vaccinated_per_hundred\": 51.49}, {\"date\": \"2021-12-14T00:00:00\", \"location\": \"Colombia\", \"median_age\": 32.2, \"people_fully_vaccinated_per_hundred\": 51.82}, {\"date\": \"2021-12-15T00:00:00\", \"location\": \"Colombia\", \"median_age\": 32.2, \"people_fully_vaccinated_per_hundred\": 52.15}, {\"date\": \"2021-12-17T00:00:00\", \"location\": \"Colombia\", \"median_age\": 32.2, \"people_fully_vaccinated_per_hundred\": 52.82}, {\"date\": \"2021-12-18T00:00:00\", \"location\": \"Colombia\", \"median_age\": 32.2, \"people_fully_vaccinated_per_hundred\": 53.06}, {\"date\": \"2021-12-19T00:00:00\", \"location\": \"Colombia\", \"median_age\": 32.2, \"people_fully_vaccinated_per_hundred\": 53.19}, {\"date\": \"2021-12-22T00:00:00\", \"location\": \"Colombia\", \"median_age\": 32.2, \"people_fully_vaccinated_per_hundred\": 54.08}, {\"date\": \"2021-12-24T00:00:00\", \"location\": \"Colombia\", \"median_age\": 32.2, \"people_fully_vaccinated_per_hundred\": 54.33}, {\"date\": \"2021-12-26T00:00:00\", \"location\": \"Colombia\", \"median_age\": 32.2, \"people_fully_vaccinated_per_hundred\": 54.37}, {\"date\": \"2021-12-27T00:00:00\", \"location\": \"Colombia\", \"median_age\": 32.2, \"people_fully_vaccinated_per_hundred\": 54.6}, {\"date\": \"2021-12-29T00:00:00\", \"location\": \"Colombia\", \"median_age\": 32.2, \"people_fully_vaccinated_per_hundred\": 55.03}, {\"date\": \"2021-12-30T00:00:00\", \"location\": \"Colombia\", \"median_age\": 32.2, \"people_fully_vaccinated_per_hundred\": 55.2}, {\"date\": \"2021-12-31T00:00:00\", \"location\": \"Colombia\", \"median_age\": 32.2, \"people_fully_vaccinated_per_hundred\": 55.25}, {\"date\": \"2022-01-02T00:00:00\", \"location\": \"Colombia\", \"median_age\": 32.2, \"people_fully_vaccinated_per_hundred\": 55.29}, {\"date\": \"2022-01-03T00:00:00\", \"location\": \"Colombia\", \"median_age\": 32.2, \"people_fully_vaccinated_per_hundred\": 55.52}, {\"date\": \"2022-01-04T00:00:00\", \"location\": \"Colombia\", \"median_age\": 32.2, \"people_fully_vaccinated_per_hundred\": 55.79}, {\"date\": \"2022-01-05T00:00:00\", \"location\": \"Colombia\", \"median_age\": 32.2, \"people_fully_vaccinated_per_hundred\": 56.06}, {\"date\": \"2022-01-06T00:00:00\", \"location\": \"Colombia\", \"median_age\": 32.2, \"people_fully_vaccinated_per_hundred\": 56.38}, {\"date\": \"2022-01-08T00:00:00\", \"location\": \"Colombia\", \"median_age\": 32.2, \"people_fully_vaccinated_per_hundred\": 56.88}, {\"date\": \"2022-01-09T00:00:00\", \"location\": \"Colombia\", \"median_age\": 32.2, \"people_fully_vaccinated_per_hundred\": 56.99}, {\"date\": \"2022-01-10T00:00:00\", \"location\": \"Colombia\", \"median_age\": 32.2, \"people_fully_vaccinated_per_hundred\": 57.09}, {\"date\": \"2022-01-11T00:00:00\", \"location\": \"Colombia\", \"median_age\": 32.2, \"people_fully_vaccinated_per_hundred\": 57.36}, {\"date\": \"2022-01-12T00:00:00\", \"location\": \"Colombia\", \"median_age\": 32.2, \"people_fully_vaccinated_per_hundred\": 57.65}, {\"date\": \"2022-01-13T00:00:00\", \"location\": \"Colombia\", \"median_age\": 32.2, \"people_fully_vaccinated_per_hundred\": 57.93}, {\"date\": \"2022-01-14T00:00:00\", \"location\": \"Colombia\", \"median_age\": 32.2, \"people_fully_vaccinated_per_hundred\": 58.18}, {\"date\": \"2022-01-15T00:00:00\", \"location\": \"Colombia\", \"median_age\": 32.2, \"people_fully_vaccinated_per_hundred\": 58.39}, {\"date\": \"2022-01-17T00:00:00\", \"location\": \"Colombia\", \"median_age\": 32.2, \"people_fully_vaccinated_per_hundred\": 58.76}, {\"date\": \"2022-01-18T00:00:00\", \"location\": \"Colombia\", \"median_age\": 32.2, \"people_fully_vaccinated_per_hundred\": 59.01}, {\"date\": \"2022-01-19T00:00:00\", \"location\": \"Colombia\", \"median_age\": 32.2, \"people_fully_vaccinated_per_hundred\": 59.29}, {\"date\": \"2022-01-21T00:00:00\", \"location\": \"Colombia\", \"median_age\": 32.2, \"people_fully_vaccinated_per_hundred\": 59.85}, {\"date\": \"2022-01-23T00:00:00\", \"location\": \"Colombia\", \"median_age\": 32.2, \"people_fully_vaccinated_per_hundred\": 60.13}, {\"date\": \"2022-01-24T00:00:00\", \"location\": \"Colombia\", \"median_age\": 32.2, \"people_fully_vaccinated_per_hundred\": 60.36}, {\"date\": \"2022-01-25T00:00:00\", \"location\": \"Colombia\", \"median_age\": 32.2, \"people_fully_vaccinated_per_hundred\": 60.59}, {\"date\": \"2022-01-27T00:00:00\", \"location\": \"Colombia\", \"median_age\": 32.2, \"people_fully_vaccinated_per_hundred\": 61.05}, {\"date\": \"2022-01-28T00:00:00\", \"location\": \"Colombia\", \"median_age\": 32.2, \"people_fully_vaccinated_per_hundred\": 61.25}, {\"date\": \"2022-01-29T00:00:00\", \"location\": \"Colombia\", \"median_age\": 32.2, \"people_fully_vaccinated_per_hundred\": 61.49}, {\"date\": \"2022-01-30T00:00:00\", \"location\": \"Colombia\", \"median_age\": 32.2, \"people_fully_vaccinated_per_hundred\": 61.58}, {\"date\": \"2022-01-31T00:00:00\", \"location\": \"Colombia\", \"median_age\": 32.2, \"people_fully_vaccinated_per_hundred\": 61.77}, {\"date\": \"2022-02-01T00:00:00\", \"location\": \"Colombia\", \"median_age\": 32.2, \"people_fully_vaccinated_per_hundred\": 61.96}, {\"date\": \"2022-02-02T00:00:00\", \"location\": \"Colombia\", \"median_age\": 32.2, \"people_fully_vaccinated_per_hundred\": 62.34}, {\"date\": \"2022-02-04T00:00:00\", \"location\": \"Colombia\", \"median_age\": 32.2, \"people_fully_vaccinated_per_hundred\": 62.57}, {\"date\": \"2022-02-05T00:00:00\", \"location\": \"Colombia\", \"median_age\": 32.2, \"people_fully_vaccinated_per_hundred\": 62.72}]}}, {\"mode\": \"vega-lite\"});\n</script>"
                },
                "metadata": {}
              }
            ],
            "_view_module": "@jupyter-widgets/output",
            "_model_module_version": "1.0.0",
            "_view_count": null,
            "_view_module_version": "1.0.0",
            "layout": "IPY_MODEL_f7c03a026f054dc1978b4596fa3bd971",
            "_model_module": "@jupyter-widgets/output"
          }
        },
        "f7a8307550c74f2b94d69a405ae77b63": {
          "model_module": "@jupyter-widgets/controls",
          "model_name": "DescriptionStyleModel",
          "model_module_version": "1.5.0",
          "state": {
            "_view_name": "StyleView",
            "_model_name": "DescriptionStyleModel",
            "description_width": "",
            "_view_module": "@jupyter-widgets/base",
            "_model_module_version": "1.5.0",
            "_view_count": null,
            "_view_module_version": "1.2.0",
            "_model_module": "@jupyter-widgets/controls"
          }
        },
        "41dbd4c45ea541b18e846115490a0d3f": {
          "model_module": "@jupyter-widgets/base",
          "model_name": "LayoutModel",
          "model_module_version": "1.2.0",
          "state": {
            "_view_name": "LayoutView",
            "grid_template_rows": null,
            "right": null,
            "justify_content": null,
            "_view_module": "@jupyter-widgets/base",
            "overflow": null,
            "_model_module_version": "1.2.0",
            "_view_count": null,
            "flex_flow": null,
            "width": null,
            "min_width": null,
            "border": null,
            "align_items": null,
            "bottom": null,
            "_model_module": "@jupyter-widgets/base",
            "top": null,
            "grid_column": null,
            "overflow_y": null,
            "overflow_x": null,
            "grid_auto_flow": null,
            "grid_area": null,
            "grid_template_columns": null,
            "flex": null,
            "_model_name": "LayoutModel",
            "justify_items": null,
            "grid_row": null,
            "max_height": null,
            "align_content": null,
            "visibility": null,
            "align_self": null,
            "height": null,
            "min_height": null,
            "padding": null,
            "grid_auto_rows": null,
            "grid_gap": null,
            "max_width": null,
            "order": null,
            "_view_module_version": "1.2.0",
            "grid_template_areas": null,
            "object_position": null,
            "object_fit": null,
            "grid_auto_columns": null,
            "margin": null,
            "display": null,
            "left": null
          }
        },
        "f7c03a026f054dc1978b4596fa3bd971": {
          "model_module": "@jupyter-widgets/base",
          "model_name": "LayoutModel",
          "model_module_version": "1.2.0",
          "state": {
            "_view_name": "LayoutView",
            "grid_template_rows": null,
            "right": null,
            "justify_content": null,
            "_view_module": "@jupyter-widgets/base",
            "overflow": null,
            "_model_module_version": "1.2.0",
            "_view_count": null,
            "flex_flow": null,
            "width": null,
            "min_width": null,
            "border": null,
            "align_items": null,
            "bottom": null,
            "_model_module": "@jupyter-widgets/base",
            "top": null,
            "grid_column": null,
            "overflow_y": null,
            "overflow_x": null,
            "grid_auto_flow": null,
            "grid_area": null,
            "grid_template_columns": null,
            "flex": null,
            "_model_name": "LayoutModel",
            "justify_items": null,
            "grid_row": null,
            "max_height": null,
            "align_content": null,
            "visibility": null,
            "align_self": null,
            "height": null,
            "min_height": null,
            "padding": null,
            "grid_auto_rows": null,
            "grid_gap": null,
            "max_width": null,
            "order": null,
            "_view_module_version": "1.2.0",
            "grid_template_areas": null,
            "object_position": null,
            "object_fit": null,
            "grid_auto_columns": null,
            "margin": null,
            "display": null,
            "left": null
          }
        },
        "e82e72fb1a764b2ab583deb5e85ec7bb": {
          "model_module": "@jupyter-widgets/controls",
          "model_name": "VBoxModel",
          "model_module_version": "1.5.0",
          "state": {
            "_view_name": "VBoxView",
            "_dom_classes": [
              "widget-interact"
            ],
            "_model_name": "VBoxModel",
            "_view_module": "@jupyter-widgets/controls",
            "_model_module_version": "1.5.0",
            "_view_count": null,
            "_view_module_version": "1.5.0",
            "box_style": "",
            "layout": "IPY_MODEL_89c205c3d5744633a4b9d277cfbd5740",
            "_model_module": "@jupyter-widgets/controls",
            "children": [
              "IPY_MODEL_3cd9482547b94adf97d2ad8e9f11e8fe",
              "IPY_MODEL_f8efccc834ab4442ab66ad6d2c943714",
              "IPY_MODEL_1d9f0779d3fe4ed686c908438dd96506",
              "IPY_MODEL_a8619a417ea74c4085c340583c64925f",
              "IPY_MODEL_d720c241f3e84615bb9bcca1ad5b335e"
            ]
          }
        },
        "89c205c3d5744633a4b9d277cfbd5740": {
          "model_module": "@jupyter-widgets/base",
          "model_name": "LayoutModel",
          "model_module_version": "1.2.0",
          "state": {
            "_view_name": "LayoutView",
            "grid_template_rows": null,
            "right": null,
            "justify_content": null,
            "_view_module": "@jupyter-widgets/base",
            "overflow": null,
            "_model_module_version": "1.2.0",
            "_view_count": null,
            "flex_flow": null,
            "width": null,
            "min_width": null,
            "border": null,
            "align_items": null,
            "bottom": null,
            "_model_module": "@jupyter-widgets/base",
            "top": null,
            "grid_column": null,
            "overflow_y": null,
            "overflow_x": null,
            "grid_auto_flow": null,
            "grid_area": null,
            "grid_template_columns": null,
            "flex": null,
            "_model_name": "LayoutModel",
            "justify_items": null,
            "grid_row": null,
            "max_height": null,
            "align_content": null,
            "visibility": null,
            "align_self": null,
            "height": null,
            "min_height": null,
            "padding": null,
            "grid_auto_rows": null,
            "grid_gap": null,
            "max_width": null,
            "order": null,
            "_view_module_version": "1.2.0",
            "grid_template_areas": null,
            "object_position": null,
            "object_fit": null,
            "grid_auto_columns": null,
            "margin": null,
            "display": null,
            "left": null
          }
        },
        "3cd9482547b94adf97d2ad8e9f11e8fe": {
          "model_module": "@jupyter-widgets/controls",
          "model_name": "DropdownModel",
          "model_module_version": "1.5.0",
          "state": {
            "_options_labels": [
              "Belgium",
              "Zambia",
              "Colombia",
              "Netherlands",
              "Canada",
              "South Korea"
            ],
            "_view_name": "DropdownView",
            "style": "IPY_MODEL_3a4a003a33fb455896f560495517f941",
            "_dom_classes": [],
            "description": "country1",
            "_model_name": "DropdownModel",
            "index": 0,
            "_view_module": "@jupyter-widgets/controls",
            "_model_module_version": "1.5.0",
            "_view_count": null,
            "disabled": false,
            "_view_module_version": "1.5.0",
            "description_tooltip": null,
            "_model_module": "@jupyter-widgets/controls",
            "layout": "IPY_MODEL_b632452ae1bf4c8a9c5e3b7a44789c42"
          }
        },
        "f8efccc834ab4442ab66ad6d2c943714": {
          "model_module": "@jupyter-widgets/controls",
          "model_name": "DropdownModel",
          "model_module_version": "1.5.0",
          "state": {
            "_options_labels": [
              "Zambia",
              "Belgium",
              "Colombia",
              "Netherlands",
              "Canada",
              "South Korea"
            ],
            "_view_name": "DropdownView",
            "style": "IPY_MODEL_d84302b6ded146f38bb0ec4ff87f4f6d",
            "_dom_classes": [],
            "description": "country2",
            "_model_name": "DropdownModel",
            "index": 0,
            "_view_module": "@jupyter-widgets/controls",
            "_model_module_version": "1.5.0",
            "_view_count": null,
            "disabled": false,
            "_view_module_version": "1.5.0",
            "description_tooltip": null,
            "_model_module": "@jupyter-widgets/controls",
            "layout": "IPY_MODEL_509aaeb56d97483a911a83daf0bf7e3f"
          }
        },
        "1d9f0779d3fe4ed686c908438dd96506": {
          "model_module": "@jupyter-widgets/controls",
          "model_name": "DropdownModel",
          "model_module_version": "1.5.0",
          "state": {
            "_options_labels": [
              "Colombia",
              "Belgium",
              "Zambia",
              "Netherlands",
              "Canada",
              "South Korea"
            ],
            "_view_name": "DropdownView",
            "style": "IPY_MODEL_59e7c2df2f094f679b76e3c3d313172d",
            "_dom_classes": [],
            "description": "country3",
            "_model_name": "DropdownModel",
            "index": 0,
            "_view_module": "@jupyter-widgets/controls",
            "_model_module_version": "1.5.0",
            "_view_count": null,
            "disabled": false,
            "_view_module_version": "1.5.0",
            "description_tooltip": null,
            "_model_module": "@jupyter-widgets/controls",
            "layout": "IPY_MODEL_ac1887f700014093a8ab8c4f66014b2c"
          }
        },
        "a8619a417ea74c4085c340583c64925f": {
          "model_module": "@jupyter-widgets/controls",
          "model_name": "DropdownModel",
          "model_module_version": "1.5.0",
          "state": {
            "_options_labels": [
              "Netherlands",
              "Belgium",
              "Zambia",
              "Colombia",
              "Canada",
              "South Korea"
            ],
            "_view_name": "DropdownView",
            "style": "IPY_MODEL_3d0e6e77e084427d9e5f780541190a2b",
            "_dom_classes": [],
            "description": "country4",
            "_model_name": "DropdownModel",
            "index": 0,
            "_view_module": "@jupyter-widgets/controls",
            "_model_module_version": "1.5.0",
            "_view_count": null,
            "disabled": false,
            "_view_module_version": "1.5.0",
            "description_tooltip": null,
            "_model_module": "@jupyter-widgets/controls",
            "layout": "IPY_MODEL_1453f8e602fa44ff80d6f4b1164ca47f"
          }
        },
        "d720c241f3e84615bb9bcca1ad5b335e": {
          "model_module": "@jupyter-widgets/output",
          "model_name": "OutputModel",
          "model_module_version": "1.0.0",
          "state": {
            "_view_name": "OutputView",
            "msg_id": "",
            "_dom_classes": [],
            "_model_name": "OutputModel",
            "outputs": [
              {
                "output_type": "display_data",
                "data": {
                  "text/plain": "alt.LayerChart(...)",
                  "text/html": "\n<div id=\"altair-viz-8e8f00ceabf2443896222ef7a70cdaa2\"></div>\n<script type=\"text/javascript\">\n  var VEGA_DEBUG = (typeof VEGA_DEBUG == \"undefined\") ? {} : VEGA_DEBUG;\n  (function(spec, embedOpt){\n    let outputDiv = document.currentScript.previousElementSibling;\n    if (outputDiv.id !== \"altair-viz-8e8f00ceabf2443896222ef7a70cdaa2\") {\n      outputDiv = document.getElementById(\"altair-viz-8e8f00ceabf2443896222ef7a70cdaa2\");\n    }\n    const paths = {\n      \"vega\": \"https://cdn.jsdelivr.net/npm//vega@5?noext\",\n      \"vega-lib\": \"https://cdn.jsdelivr.net/npm//vega-lib?noext\",\n      \"vega-lite\": \"https://cdn.jsdelivr.net/npm//vega-lite@4.17.0?noext\",\n      \"vega-embed\": \"https://cdn.jsdelivr.net/npm//vega-embed@6?noext\",\n    };\n\n    function maybeLoadScript(lib, version) {\n      var key = `${lib.replace(\"-\", \"\")}_version`;\n      return (VEGA_DEBUG[key] == version) ?\n        Promise.resolve(paths[lib]) :\n        new Promise(function(resolve, reject) {\n          var s = document.createElement('script');\n          document.getElementsByTagName(\"head\")[0].appendChild(s);\n          s.async = true;\n          s.onload = () => {\n            VEGA_DEBUG[key] = version;\n            return resolve(paths[lib]);\n          };\n          s.onerror = () => reject(`Error loading script: ${paths[lib]}`);\n          s.src = paths[lib];\n        });\n    }\n\n    function showError(err) {\n      outputDiv.innerHTML = `<div class=\"error\" style=\"color:red;\">${err}</div>`;\n      throw err;\n    }\n\n    function displayChart(vegaEmbed) {\n      vegaEmbed(outputDiv, spec, embedOpt)\n        .catch(err => showError(`Javascript Error: ${err.message}<br>This usually means there's a typo in your chart specification. See the javascript console for the full traceback.`));\n    }\n\n    if(typeof define === \"function\" && define.amd) {\n      requirejs.config({paths});\n      require([\"vega-embed\"], displayChart, err => showError(`Error loading script: ${err.message}`));\n    } else {\n      maybeLoadScript(\"vega\", \"5\")\n        .then(() => maybeLoadScript(\"vega-lite\", \"4.17.0\"))\n        .then(() => maybeLoadScript(\"vega-embed\", \"6\"))\n        .catch(showError)\n        .then(() => displayChart(vegaEmbed));\n    }\n  })({\"config\": {\"view\": {\"continuousWidth\": 400, \"continuousHeight\": 300}}, \"layer\": [{\"data\": {\"name\": \"data-421839a6e1899e39b6beb5d767a61cee\"}, \"mark\": \"line\", \"encoding\": {\"color\": {\"field\": \"location\", \"type\": \"nominal\"}, \"tooltip\": [{\"field\": \"median_age\", \"type\": \"quantitative\"}], \"x\": {\"field\": \"date\", \"title\": \"Time (days)\", \"type\": \"temporal\"}, \"y\": {\"aggregate\": \"mean\", \"field\": \"people_fully_vaccinated_per_hundred\", \"title\": \"Mean of fully vaccinated people per 100\", \"type\": \"quantitative\"}}, \"title\": \"Mean of people vaccinated per 100 people over time, starting from 1st Jan 2021\"}, {\"data\": {\"name\": \"data-086aa175580f375bcee0a38b2e58d33b\"}, \"mark\": \"line\", \"encoding\": {\"color\": {\"field\": \"location\", \"type\": \"nominal\"}, \"tooltip\": [{\"field\": \"median_age\", \"type\": \"quantitative\"}], \"x\": {\"field\": \"date\", \"title\": \"Time (days)\", \"type\": \"temporal\"}, \"y\": {\"aggregate\": \"mean\", \"field\": \"people_fully_vaccinated_per_hundred\", \"title\": \"Mean of fully vaccinated people per 100\", \"type\": \"quantitative\"}}, \"title\": \"Mean of people vaccinated per 100 people over time, starting from 1st Jan 2021\"}, {\"data\": {\"name\": \"data-c4b5850ab95c758b88cca4497f49af2e\"}, \"mark\": \"line\", \"encoding\": {\"color\": {\"field\": \"location\", \"type\": \"nominal\"}, \"tooltip\": [{\"field\": \"median_age\", \"type\": \"quantitative\"}], \"x\": {\"field\": \"date\", \"title\": \"Time (days)\", \"type\": \"temporal\"}, \"y\": {\"aggregate\": \"mean\", \"field\": \"people_fully_vaccinated_per_hundred\", \"title\": \"Mean of fully vaccinated people per 100\", \"type\": \"quantitative\"}}, \"title\": \"Mean of people vaccinated per 100 people over time, starting from 1st Jan 2021\"}, {\"data\": {\"name\": \"data-be862655c8958ce43bd0c1fb710c12ba\"}, \"mark\": \"line\", \"encoding\": {\"color\": {\"field\": \"location\", \"type\": \"nominal\"}, \"tooltip\": [{\"field\": \"median_age\", \"type\": \"quantitative\"}], \"x\": {\"field\": \"date\", \"title\": \"Time (days)\", \"type\": \"temporal\"}, \"y\": {\"aggregate\": \"mean\", \"field\": \"people_fully_vaccinated_per_hundred\", \"title\": \"Mean of fully vaccinated people per 100\", \"type\": \"quantitative\"}}, \"title\": \"Mean of people vaccinated per 100 people over time, starting from 1st Jan 2021\"}], \"$schema\": \"https://vega.github.io/schema/vega-lite/v4.17.0.json\", \"datasets\": {\"data-421839a6e1899e39b6beb5d767a61cee\": [{\"date\": \"2021-01-02T00:00:00\", \"location\": \"Belgium\", \"median_age\": 41.8, \"people_fully_vaccinated_per_hundred\": 0.0}, {\"date\": \"2021-01-03T00:00:00\", \"location\": \"Belgium\", \"median_age\": 41.8, \"people_fully_vaccinated_per_hundred\": 0.0}, {\"date\": \"2021-01-04T00:00:00\", \"location\": \"Belgium\", \"median_age\": 41.8, \"people_fully_vaccinated_per_hundred\": 0.0}, {\"date\": \"2021-01-05T00:00:00\", \"location\": \"Belgium\", \"median_age\": 41.8, \"people_fully_vaccinated_per_hundred\": 0.0}, {\"date\": \"2021-01-06T00:00:00\", \"location\": \"Belgium\", \"median_age\": 41.8, \"people_fully_vaccinated_per_hundred\": 0.0}, {\"date\": \"2021-01-07T00:00:00\", \"location\": \"Belgium\", \"median_age\": 41.8, \"people_fully_vaccinated_per_hundred\": 0.0}, {\"date\": \"2021-01-08T00:00:00\", \"location\": \"Belgium\", \"median_age\": 41.8, \"people_fully_vaccinated_per_hundred\": 0.0}, {\"date\": \"2021-01-09T00:00:00\", \"location\": \"Belgium\", \"median_age\": 41.8, \"people_fully_vaccinated_per_hundred\": 0.0}, {\"date\": \"2021-01-10T00:00:00\", \"location\": \"Belgium\", \"median_age\": 41.8, \"people_fully_vaccinated_per_hundred\": 0.0}, {\"date\": \"2021-01-11T00:00:00\", \"location\": \"Belgium\", \"median_age\": 41.8, \"people_fully_vaccinated_per_hundred\": 0.0}, {\"date\": \"2021-01-12T00:00:00\", \"location\": \"Belgium\", \"median_age\": 41.8, \"people_fully_vaccinated_per_hundred\": 0.0}, {\"date\": \"2021-01-13T00:00:00\", \"location\": \"Belgium\", \"median_age\": 41.8, \"people_fully_vaccinated_per_hundred\": 0.0}, {\"date\": \"2021-01-14T00:00:00\", \"location\": \"Belgium\", \"median_age\": 41.8, \"people_fully_vaccinated_per_hundred\": 0.0}, {\"date\": \"2021-01-15T00:00:00\", \"location\": \"Belgium\", \"median_age\": 41.8, \"people_fully_vaccinated_per_hundred\": 0.0}, {\"date\": \"2021-01-16T00:00:00\", \"location\": \"Belgium\", \"median_age\": 41.8, \"people_fully_vaccinated_per_hundred\": 0.0}, {\"date\": \"2021-01-17T00:00:00\", \"location\": \"Belgium\", \"median_age\": 41.8, \"people_fully_vaccinated_per_hundred\": 0.0}, {\"date\": \"2021-01-18T00:00:00\", \"location\": \"Belgium\", \"median_age\": 41.8, \"people_fully_vaccinated_per_hundred\": 0.01}, {\"date\": \"2021-01-19T00:00:00\", \"location\": \"Belgium\", \"median_age\": 41.8, \"people_fully_vaccinated_per_hundred\": 0.01}, {\"date\": \"2021-01-20T00:00:00\", \"location\": \"Belgium\", \"median_age\": 41.8, \"people_fully_vaccinated_per_hundred\": 0.01}, {\"date\": \"2021-01-21T00:00:00\", \"location\": \"Belgium\", \"median_age\": 41.8, \"people_fully_vaccinated_per_hundred\": 0.01}, {\"date\": \"2021-01-22T00:00:00\", \"location\": \"Belgium\", \"median_age\": 41.8, \"people_fully_vaccinated_per_hundred\": 0.01}, {\"date\": \"2021-01-23T00:00:00\", \"location\": \"Belgium\", \"median_age\": 41.8, \"people_fully_vaccinated_per_hundred\": 0.01}, {\"date\": \"2021-01-24T00:00:00\", \"location\": \"Belgium\", \"median_age\": 41.8, \"people_fully_vaccinated_per_hundred\": 0.01}, {\"date\": \"2021-01-25T00:00:00\", \"location\": \"Belgium\", \"median_age\": 41.8, \"people_fully_vaccinated_per_hundred\": 0.01}, {\"date\": \"2021-01-26T00:00:00\", \"location\": \"Belgium\", \"median_age\": 41.8, \"people_fully_vaccinated_per_hundred\": 0.03}, {\"date\": \"2021-01-27T00:00:00\", \"location\": \"Belgium\", \"median_age\": 41.8, \"people_fully_vaccinated_per_hundred\": 0.06}, {\"date\": \"2021-01-28T00:00:00\", \"location\": \"Belgium\", \"median_age\": 41.8, \"people_fully_vaccinated_per_hundred\": 0.13}, {\"date\": \"2021-01-29T00:00:00\", \"location\": \"Belgium\", \"median_age\": 41.8, \"people_fully_vaccinated_per_hundred\": 0.21}, {\"date\": \"2021-01-30T00:00:00\", \"location\": \"Belgium\", \"median_age\": 41.8, \"people_fully_vaccinated_per_hundred\": 0.23}, {\"date\": \"2021-01-31T00:00:00\", \"location\": \"Belgium\", \"median_age\": 41.8, \"people_fully_vaccinated_per_hundred\": 0.24}, {\"date\": \"2021-02-01T00:00:00\", \"location\": \"Belgium\", \"median_age\": 41.8, \"people_fully_vaccinated_per_hundred\": 0.27}, {\"date\": \"2021-02-02T00:00:00\", \"location\": \"Belgium\", \"median_age\": 41.8, \"people_fully_vaccinated_per_hundred\": 0.4}, {\"date\": \"2021-02-03T00:00:00\", \"location\": \"Belgium\", \"median_age\": 41.8, \"people_fully_vaccinated_per_hundred\": 0.57}, {\"date\": \"2021-02-04T00:00:00\", \"location\": \"Belgium\", \"median_age\": 41.8, \"people_fully_vaccinated_per_hundred\": 0.79}, {\"date\": \"2021-02-05T00:00:00\", \"location\": \"Belgium\", \"median_age\": 41.8, \"people_fully_vaccinated_per_hundred\": 0.98}, {\"date\": \"2021-02-06T00:00:00\", \"location\": \"Belgium\", \"median_age\": 41.8, \"people_fully_vaccinated_per_hundred\": 1.03}, {\"date\": \"2021-02-07T00:00:00\", \"location\": \"Belgium\", \"median_age\": 41.8, \"people_fully_vaccinated_per_hundred\": 1.06}, {\"date\": \"2021-02-08T00:00:00\", \"location\": \"Belgium\", \"median_age\": 41.8, \"people_fully_vaccinated_per_hundred\": 1.13}, {\"date\": \"2021-02-09T00:00:00\", \"location\": \"Belgium\", \"median_age\": 41.8, \"people_fully_vaccinated_per_hundred\": 1.3}, {\"date\": \"2021-02-10T00:00:00\", \"location\": \"Belgium\", \"median_age\": 41.8, \"people_fully_vaccinated_per_hundred\": 1.46}, {\"date\": \"2021-02-11T00:00:00\", \"location\": \"Belgium\", \"median_age\": 41.8, \"people_fully_vaccinated_per_hundred\": 1.71}, {\"date\": \"2021-02-12T00:00:00\", \"location\": \"Belgium\", \"median_age\": 41.8, \"people_fully_vaccinated_per_hundred\": 1.95}, {\"date\": \"2021-02-13T00:00:00\", \"location\": \"Belgium\", \"median_age\": 41.8, \"people_fully_vaccinated_per_hundred\": 2.02}, {\"date\": \"2021-02-14T00:00:00\", \"location\": \"Belgium\", \"median_age\": 41.8, \"people_fully_vaccinated_per_hundred\": 2.04}, {\"date\": \"2021-02-15T00:00:00\", \"location\": \"Belgium\", \"median_age\": 41.8, \"people_fully_vaccinated_per_hundred\": 2.14}, {\"date\": \"2021-02-16T00:00:00\", \"location\": \"Belgium\", \"median_age\": 41.8, \"people_fully_vaccinated_per_hundred\": 2.23}, {\"date\": \"2021-02-17T00:00:00\", \"location\": \"Belgium\", \"median_age\": 41.8, \"people_fully_vaccinated_per_hundred\": 2.35}, {\"date\": \"2021-02-18T00:00:00\", \"location\": \"Belgium\", \"median_age\": 41.8, \"people_fully_vaccinated_per_hundred\": 2.5}, {\"date\": \"2021-02-19T00:00:00\", \"location\": \"Belgium\", \"median_age\": 41.8, \"people_fully_vaccinated_per_hundred\": 2.61}, {\"date\": \"2021-02-20T00:00:00\", \"location\": \"Belgium\", \"median_age\": 41.8, \"people_fully_vaccinated_per_hundred\": 2.63}, {\"date\": \"2021-02-21T00:00:00\", \"location\": \"Belgium\", \"median_age\": 41.8, \"people_fully_vaccinated_per_hundred\": 2.63}, {\"date\": \"2021-02-22T00:00:00\", \"location\": \"Belgium\", \"median_age\": 41.8, \"people_fully_vaccinated_per_hundred\": 2.65}, {\"date\": \"2021-02-23T00:00:00\", \"location\": \"Belgium\", \"median_age\": 41.8, \"people_fully_vaccinated_per_hundred\": 2.73}, {\"date\": \"2021-02-24T00:00:00\", \"location\": \"Belgium\", \"median_age\": 41.8, \"people_fully_vaccinated_per_hundred\": 2.8}, {\"date\": \"2021-02-25T00:00:00\", \"location\": \"Belgium\", \"median_age\": 41.8, \"people_fully_vaccinated_per_hundred\": 2.88}, {\"date\": \"2021-02-26T00:00:00\", \"location\": \"Belgium\", \"median_age\": 41.8, \"people_fully_vaccinated_per_hundred\": 2.94}, {\"date\": \"2021-02-27T00:00:00\", \"location\": \"Belgium\", \"median_age\": 41.8, \"people_fully_vaccinated_per_hundred\": 2.95}, {\"date\": \"2021-02-28T00:00:00\", \"location\": \"Belgium\", \"median_age\": 41.8, \"people_fully_vaccinated_per_hundred\": 2.95}, {\"date\": \"2021-03-01T00:00:00\", \"location\": \"Belgium\", \"median_age\": 41.8, \"people_fully_vaccinated_per_hundred\": 2.98}, {\"date\": \"2021-03-02T00:00:00\", \"location\": \"Belgium\", \"median_age\": 41.8, \"people_fully_vaccinated_per_hundred\": 3.04}, {\"date\": \"2021-03-03T00:00:00\", \"location\": \"Belgium\", \"median_age\": 41.8, \"people_fully_vaccinated_per_hundred\": 3.09}, {\"date\": \"2021-03-04T00:00:00\", \"location\": \"Belgium\", \"median_age\": 41.8, \"people_fully_vaccinated_per_hundred\": 3.17}, {\"date\": \"2021-03-05T00:00:00\", \"location\": \"Belgium\", \"median_age\": 41.8, \"people_fully_vaccinated_per_hundred\": 3.23}, {\"date\": \"2021-03-06T00:00:00\", \"location\": \"Belgium\", \"median_age\": 41.8, \"people_fully_vaccinated_per_hundred\": 3.23}, {\"date\": \"2021-03-07T00:00:00\", \"location\": \"Belgium\", \"median_age\": 41.8, \"people_fully_vaccinated_per_hundred\": 3.23}, {\"date\": \"2021-03-08T00:00:00\", \"location\": \"Belgium\", \"median_age\": 41.8, \"people_fully_vaccinated_per_hundred\": 3.25}, {\"date\": \"2021-03-09T00:00:00\", \"location\": \"Belgium\", \"median_age\": 41.8, \"people_fully_vaccinated_per_hundred\": 3.32}, {\"date\": \"2021-03-10T00:00:00\", \"location\": \"Belgium\", \"median_age\": 41.8, \"people_fully_vaccinated_per_hundred\": 3.4}, {\"date\": \"2021-03-11T00:00:00\", \"location\": \"Belgium\", \"median_age\": 41.8, \"people_fully_vaccinated_per_hundred\": 3.49}, {\"date\": \"2021-03-12T00:00:00\", \"location\": \"Belgium\", \"median_age\": 41.8, \"people_fully_vaccinated_per_hundred\": 3.6}, {\"date\": \"2021-03-13T00:00:00\", \"location\": \"Belgium\", \"median_age\": 41.8, \"people_fully_vaccinated_per_hundred\": 3.62}, {\"date\": \"2021-03-14T00:00:00\", \"location\": \"Belgium\", \"median_age\": 41.8, \"people_fully_vaccinated_per_hundred\": 3.64}, {\"date\": \"2021-03-15T00:00:00\", \"location\": \"Belgium\", \"median_age\": 41.8, \"people_fully_vaccinated_per_hundred\": 3.68}, {\"date\": \"2021-03-16T00:00:00\", \"location\": \"Belgium\", \"median_age\": 41.8, \"people_fully_vaccinated_per_hundred\": 3.71}, {\"date\": \"2021-03-17T00:00:00\", \"location\": \"Belgium\", \"median_age\": 41.8, \"people_fully_vaccinated_per_hundred\": 3.79}, {\"date\": \"2021-03-18T00:00:00\", \"location\": \"Belgium\", \"median_age\": 41.8, \"people_fully_vaccinated_per_hundred\": 3.94}, {\"date\": \"2021-03-19T00:00:00\", \"location\": \"Belgium\", \"median_age\": 41.8, \"people_fully_vaccinated_per_hundred\": 4.1}, {\"date\": \"2021-03-20T00:00:00\", \"location\": \"Belgium\", \"median_age\": 41.8, \"people_fully_vaccinated_per_hundred\": 4.11}, {\"date\": \"2021-03-21T00:00:00\", \"location\": \"Belgium\", \"median_age\": 41.8, \"people_fully_vaccinated_per_hundred\": 4.12}, {\"date\": \"2021-03-22T00:00:00\", \"location\": \"Belgium\", \"median_age\": 41.8, \"people_fully_vaccinated_per_hundred\": 4.17}, {\"date\": \"2021-03-23T00:00:00\", \"location\": \"Belgium\", \"median_age\": 41.8, \"people_fully_vaccinated_per_hundred\": 4.22}, {\"date\": \"2021-03-24T00:00:00\", \"location\": \"Belgium\", \"median_age\": 41.8, \"people_fully_vaccinated_per_hundred\": 4.31}, {\"date\": \"2021-03-25T00:00:00\", \"location\": \"Belgium\", \"median_age\": 41.8, \"people_fully_vaccinated_per_hundred\": 4.48}, {\"date\": \"2021-03-26T00:00:00\", \"location\": \"Belgium\", \"median_age\": 41.8, \"people_fully_vaccinated_per_hundred\": 4.66}, {\"date\": \"2021-03-27T00:00:00\", \"location\": \"Belgium\", \"median_age\": 41.8, \"people_fully_vaccinated_per_hundred\": 4.69}, {\"date\": \"2021-03-28T00:00:00\", \"location\": \"Belgium\", \"median_age\": 41.8, \"people_fully_vaccinated_per_hundred\": 4.7}, {\"date\": \"2021-03-29T00:00:00\", \"location\": \"Belgium\", \"median_age\": 41.8, \"people_fully_vaccinated_per_hundred\": 4.74}, {\"date\": \"2021-03-30T00:00:00\", \"location\": \"Belgium\", \"median_age\": 41.8, \"people_fully_vaccinated_per_hundred\": 4.79}, {\"date\": \"2021-03-31T00:00:00\", \"location\": \"Belgium\", \"median_age\": 41.8, \"people_fully_vaccinated_per_hundred\": 4.89}, {\"date\": \"2021-04-01T00:00:00\", \"location\": \"Belgium\", \"median_age\": 41.8, \"people_fully_vaccinated_per_hundred\": 5.11}, {\"date\": \"2021-04-02T00:00:00\", \"location\": \"Belgium\", \"median_age\": 41.8, \"people_fully_vaccinated_per_hundred\": 5.28}, {\"date\": \"2021-04-03T00:00:00\", \"location\": \"Belgium\", \"median_age\": 41.8, \"people_fully_vaccinated_per_hundred\": 5.29}, {\"date\": \"2021-04-04T00:00:00\", \"location\": \"Belgium\", \"median_age\": 41.8, \"people_fully_vaccinated_per_hundred\": 5.29}, {\"date\": \"2021-04-05T00:00:00\", \"location\": \"Belgium\", \"median_age\": 41.8, \"people_fully_vaccinated_per_hundred\": 5.31}, {\"date\": \"2021-04-06T00:00:00\", \"location\": \"Belgium\", \"median_age\": 41.8, \"people_fully_vaccinated_per_hundred\": 5.39}, {\"date\": \"2021-04-07T00:00:00\", \"location\": \"Belgium\", \"median_age\": 41.8, \"people_fully_vaccinated_per_hundred\": 5.48}, {\"date\": \"2021-04-08T00:00:00\", \"location\": \"Belgium\", \"median_age\": 41.8, \"people_fully_vaccinated_per_hundred\": 5.63}, {\"date\": \"2021-04-09T00:00:00\", \"location\": \"Belgium\", \"median_age\": 41.8, \"people_fully_vaccinated_per_hundred\": 5.76}, {\"date\": \"2021-04-10T00:00:00\", \"location\": \"Belgium\", \"median_age\": 41.8, \"people_fully_vaccinated_per_hundred\": 5.8}, {\"date\": \"2021-04-11T00:00:00\", \"location\": \"Belgium\", \"median_age\": 41.8, \"people_fully_vaccinated_per_hundred\": 5.8}, {\"date\": \"2021-04-12T00:00:00\", \"location\": \"Belgium\", \"median_age\": 41.8, \"people_fully_vaccinated_per_hundred\": 5.88}, {\"date\": \"2021-04-13T00:00:00\", \"location\": \"Belgium\", \"median_age\": 41.8, \"people_fully_vaccinated_per_hundred\": 5.96}, {\"date\": \"2021-04-14T00:00:00\", \"location\": \"Belgium\", \"median_age\": 41.8, \"people_fully_vaccinated_per_hundred\": 6.17}, {\"date\": \"2021-04-15T00:00:00\", \"location\": \"Belgium\", \"median_age\": 41.8, \"people_fully_vaccinated_per_hundred\": 6.4}, {\"date\": \"2021-04-16T00:00:00\", \"location\": \"Belgium\", \"median_age\": 41.8, \"people_fully_vaccinated_per_hundred\": 6.55}, {\"date\": \"2021-04-17T00:00:00\", \"location\": \"Belgium\", \"median_age\": 41.8, \"people_fully_vaccinated_per_hundred\": 6.6}, {\"date\": \"2021-04-18T00:00:00\", \"location\": \"Belgium\", \"median_age\": 41.8, \"people_fully_vaccinated_per_hundred\": 6.61}, {\"date\": \"2021-04-19T00:00:00\", \"location\": \"Belgium\", \"median_age\": 41.8, \"people_fully_vaccinated_per_hundred\": 6.64}, {\"date\": \"2021-04-20T00:00:00\", \"location\": \"Belgium\", \"median_age\": 41.8, \"people_fully_vaccinated_per_hundred\": 6.67}, {\"date\": \"2021-04-21T00:00:00\", \"location\": \"Belgium\", \"median_age\": 41.8, \"people_fully_vaccinated_per_hundred\": 6.71}, {\"date\": \"2021-04-22T00:00:00\", \"location\": \"Belgium\", \"median_age\": 41.8, \"people_fully_vaccinated_per_hundred\": 6.77}, {\"date\": \"2021-04-23T00:00:00\", \"location\": \"Belgium\", \"median_age\": 41.8, \"people_fully_vaccinated_per_hundred\": 6.83}, {\"date\": \"2021-04-24T00:00:00\", \"location\": \"Belgium\", \"median_age\": 41.8, \"people_fully_vaccinated_per_hundred\": 6.85}, {\"date\": \"2021-04-25T00:00:00\", \"location\": \"Belgium\", \"median_age\": 41.8, \"people_fully_vaccinated_per_hundred\": 6.85}, {\"date\": \"2021-04-26T00:00:00\", \"location\": \"Belgium\", \"median_age\": 41.8, \"people_fully_vaccinated_per_hundred\": 6.91}, {\"date\": \"2021-04-27T00:00:00\", \"location\": \"Belgium\", \"median_age\": 41.8, \"people_fully_vaccinated_per_hundred\": 7.04}, {\"date\": \"2021-04-28T00:00:00\", \"location\": \"Belgium\", \"median_age\": 41.8, \"people_fully_vaccinated_per_hundred\": 7.17}, {\"date\": \"2021-04-29T00:00:00\", \"location\": \"Belgium\", \"median_age\": 41.8, \"people_fully_vaccinated_per_hundred\": 7.35}, {\"date\": \"2021-04-30T00:00:00\", \"location\": \"Belgium\", \"median_age\": 41.8, \"people_fully_vaccinated_per_hundred\": 7.54}, {\"date\": \"2021-05-01T00:00:00\", \"location\": \"Belgium\", \"median_age\": 41.8, \"people_fully_vaccinated_per_hundred\": 7.62}, {\"date\": \"2021-05-02T00:00:00\", \"location\": \"Belgium\", \"median_age\": 41.8, \"people_fully_vaccinated_per_hundred\": 7.62}, {\"date\": \"2021-05-03T00:00:00\", \"location\": \"Belgium\", \"median_age\": 41.8, \"people_fully_vaccinated_per_hundred\": 7.75}, {\"date\": \"2021-05-04T00:00:00\", \"location\": \"Belgium\", \"median_age\": 41.8, \"people_fully_vaccinated_per_hundred\": 7.91}, {\"date\": \"2021-05-05T00:00:00\", \"location\": \"Belgium\", \"median_age\": 41.8, \"people_fully_vaccinated_per_hundred\": 8.56}, {\"date\": \"2021-05-06T00:00:00\", \"location\": \"Belgium\", \"median_age\": 41.8, \"people_fully_vaccinated_per_hundred\": 9.23}, {\"date\": \"2021-05-07T00:00:00\", \"location\": \"Belgium\", \"median_age\": 41.8, \"people_fully_vaccinated_per_hundred\": 9.75}, {\"date\": \"2021-05-08T00:00:00\", \"location\": \"Belgium\", \"median_age\": 41.8, \"people_fully_vaccinated_per_hundred\": 9.85}, {\"date\": \"2021-05-09T00:00:00\", \"location\": \"Belgium\", \"median_age\": 41.8, \"people_fully_vaccinated_per_hundred\": 9.85}, {\"date\": \"2021-05-10T00:00:00\", \"location\": \"Belgium\", \"median_age\": 41.8, \"people_fully_vaccinated_per_hundred\": 9.9}, {\"date\": \"2021-05-11T00:00:00\", \"location\": \"Belgium\", \"median_age\": 41.8, \"people_fully_vaccinated_per_hundred\": 10.0}, {\"date\": \"2021-05-12T00:00:00\", \"location\": \"Belgium\", \"median_age\": 41.8, \"people_fully_vaccinated_per_hundred\": 10.26}, {\"date\": \"2021-05-13T00:00:00\", \"location\": \"Belgium\", \"median_age\": 41.8, \"people_fully_vaccinated_per_hundred\": 10.95}, {\"date\": \"2021-05-14T00:00:00\", \"location\": \"Belgium\", \"median_age\": 41.8, \"people_fully_vaccinated_per_hundred\": 11.85}, {\"date\": \"2021-05-15T00:00:00\", \"location\": \"Belgium\", \"median_age\": 41.8, \"people_fully_vaccinated_per_hundred\": 12.33}, {\"date\": \"2021-05-16T00:00:00\", \"location\": \"Belgium\", \"median_age\": 41.8, \"people_fully_vaccinated_per_hundred\": 12.37}, {\"date\": \"2021-05-17T00:00:00\", \"location\": \"Belgium\", \"median_age\": 41.8, \"people_fully_vaccinated_per_hundred\": 12.59}, {\"date\": \"2021-05-18T00:00:00\", \"location\": \"Belgium\", \"median_age\": 41.8, \"people_fully_vaccinated_per_hundred\": 12.89}, {\"date\": \"2021-05-19T00:00:00\", \"location\": \"Belgium\", \"median_age\": 41.8, \"people_fully_vaccinated_per_hundred\": 13.47}, {\"date\": \"2021-05-20T00:00:00\", \"location\": \"Belgium\", \"median_age\": 41.8, \"people_fully_vaccinated_per_hundred\": 14.19}, {\"date\": \"2021-05-21T00:00:00\", \"location\": \"Belgium\", \"median_age\": 41.8, \"people_fully_vaccinated_per_hundred\": 14.72}, {\"date\": \"2021-05-22T00:00:00\", \"location\": \"Belgium\", \"median_age\": 41.8, \"people_fully_vaccinated_per_hundred\": 15.12}, {\"date\": \"2021-05-23T00:00:00\", \"location\": \"Belgium\", \"median_age\": 41.8, \"people_fully_vaccinated_per_hundred\": 15.14}, {\"date\": \"2021-05-24T00:00:00\", \"location\": \"Belgium\", \"median_age\": 41.8, \"people_fully_vaccinated_per_hundred\": 15.46}, {\"date\": \"2021-05-25T00:00:00\", \"location\": \"Belgium\", \"median_age\": 41.8, \"people_fully_vaccinated_per_hundred\": 15.87}, {\"date\": \"2021-05-26T00:00:00\", \"location\": \"Belgium\", \"median_age\": 41.8, \"people_fully_vaccinated_per_hundred\": 16.66}, {\"date\": \"2021-05-27T00:00:00\", \"location\": \"Belgium\", \"median_age\": 41.8, \"people_fully_vaccinated_per_hundred\": 17.55}, {\"date\": \"2021-05-28T00:00:00\", \"location\": \"Belgium\", \"median_age\": 41.8, \"people_fully_vaccinated_per_hundred\": 18.22}, {\"date\": \"2021-05-29T00:00:00\", \"location\": \"Belgium\", \"median_age\": 41.8, \"people_fully_vaccinated_per_hundred\": 18.65}, {\"date\": \"2021-05-30T00:00:00\", \"location\": \"Belgium\", \"median_age\": 41.8, \"people_fully_vaccinated_per_hundred\": 18.72}, {\"date\": \"2021-05-31T00:00:00\", \"location\": \"Belgium\", \"median_age\": 41.8, \"people_fully_vaccinated_per_hundred\": 19.22}, {\"date\": \"2021-06-01T00:00:00\", \"location\": \"Belgium\", \"median_age\": 41.8, \"people_fully_vaccinated_per_hundred\": 19.63}, {\"date\": \"2021-06-02T00:00:00\", \"location\": \"Belgium\", \"median_age\": 41.8, \"people_fully_vaccinated_per_hundred\": 20.41}, {\"date\": \"2021-06-03T00:00:00\", \"location\": \"Belgium\", \"median_age\": 41.8, \"people_fully_vaccinated_per_hundred\": 21.25}, {\"date\": \"2021-06-04T00:00:00\", \"location\": \"Belgium\", \"median_age\": 41.8, \"people_fully_vaccinated_per_hundred\": 21.89}, {\"date\": \"2021-06-05T00:00:00\", \"location\": \"Belgium\", \"median_age\": 41.8, \"people_fully_vaccinated_per_hundred\": 22.34}, {\"date\": \"2021-06-06T00:00:00\", \"location\": \"Belgium\", \"median_age\": 41.8, \"people_fully_vaccinated_per_hundred\": 22.39}, {\"date\": \"2021-06-07T00:00:00\", \"location\": \"Belgium\", \"median_age\": 41.8, \"people_fully_vaccinated_per_hundred\": 23.06}, {\"date\": \"2021-06-08T00:00:00\", \"location\": \"Belgium\", \"median_age\": 41.8, \"people_fully_vaccinated_per_hundred\": 23.76}, {\"date\": \"2021-06-09T00:00:00\", \"location\": \"Belgium\", \"median_age\": 41.8, \"people_fully_vaccinated_per_hundred\": 24.71}, {\"date\": \"2021-06-10T00:00:00\", \"location\": \"Belgium\", \"median_age\": 41.8, \"people_fully_vaccinated_per_hundred\": 25.73}, {\"date\": \"2021-06-11T00:00:00\", \"location\": \"Belgium\", \"median_age\": 41.8, \"people_fully_vaccinated_per_hundred\": 26.69}, {\"date\": \"2021-06-12T00:00:00\", \"location\": \"Belgium\", \"median_age\": 41.8, \"people_fully_vaccinated_per_hundred\": 27.3}, {\"date\": \"2021-06-13T00:00:00\", \"location\": \"Belgium\", \"median_age\": 41.8, \"people_fully_vaccinated_per_hundred\": 27.38}, {\"date\": \"2021-06-14T00:00:00\", \"location\": \"Belgium\", \"median_age\": 41.8, \"people_fully_vaccinated_per_hundred\": 28.15}, {\"date\": \"2021-06-15T00:00:00\", \"location\": \"Belgium\", \"median_age\": 41.8, \"people_fully_vaccinated_per_hundred\": 28.87}, {\"date\": \"2021-06-16T00:00:00\", \"location\": \"Belgium\", \"median_age\": 41.8, \"people_fully_vaccinated_per_hundred\": 29.55}, {\"date\": \"2021-06-17T00:00:00\", \"location\": \"Belgium\", \"median_age\": 41.8, \"people_fully_vaccinated_per_hundred\": 30.04}, {\"date\": \"2021-06-18T00:00:00\", \"location\": \"Belgium\", \"median_age\": 41.8, \"people_fully_vaccinated_per_hundred\": 30.56}, {\"date\": \"2021-06-19T00:00:00\", \"location\": \"Belgium\", \"median_age\": 41.8, \"people_fully_vaccinated_per_hundred\": 30.83}, {\"date\": \"2021-06-20T00:00:00\", \"location\": \"Belgium\", \"median_age\": 41.8, \"people_fully_vaccinated_per_hundred\": 30.85}, {\"date\": \"2021-06-21T00:00:00\", \"location\": \"Belgium\", \"median_age\": 41.8, \"people_fully_vaccinated_per_hundred\": 31.19}, {\"date\": \"2021-06-22T00:00:00\", \"location\": \"Belgium\", \"median_age\": 41.8, \"people_fully_vaccinated_per_hundred\": 31.67}, {\"date\": \"2021-06-23T00:00:00\", \"location\": \"Belgium\", \"median_age\": 41.8, \"people_fully_vaccinated_per_hundred\": 32.23}, {\"date\": \"2021-06-24T00:00:00\", \"location\": \"Belgium\", \"median_age\": 41.8, \"people_fully_vaccinated_per_hundred\": 32.76}, {\"date\": \"2021-06-25T00:00:00\", \"location\": \"Belgium\", \"median_age\": 41.8, \"people_fully_vaccinated_per_hundred\": 33.21}, {\"date\": \"2021-06-26T00:00:00\", \"location\": \"Belgium\", \"median_age\": 41.8, \"people_fully_vaccinated_per_hundred\": 33.64}, {\"date\": \"2021-06-27T00:00:00\", \"location\": \"Belgium\", \"median_age\": 41.8, \"people_fully_vaccinated_per_hundred\": 33.7}, {\"date\": \"2021-06-28T00:00:00\", \"location\": \"Belgium\", \"median_age\": 41.8, \"people_fully_vaccinated_per_hundred\": 34.18}, {\"date\": \"2021-06-29T00:00:00\", \"location\": \"Belgium\", \"median_age\": 41.8, \"people_fully_vaccinated_per_hundred\": 34.78}, {\"date\": \"2021-06-30T00:00:00\", \"location\": \"Belgium\", \"median_age\": 41.8, \"people_fully_vaccinated_per_hundred\": 35.19}, {\"date\": \"2021-07-01T00:00:00\", \"location\": \"Belgium\", \"median_age\": 41.8, \"people_fully_vaccinated_per_hundred\": 35.61}, {\"date\": \"2021-07-02T00:00:00\", \"location\": \"Belgium\", \"median_age\": 41.8, \"people_fully_vaccinated_per_hundred\": 35.98}, {\"date\": \"2021-07-03T00:00:00\", \"location\": \"Belgium\", \"median_age\": 41.8, \"people_fully_vaccinated_per_hundred\": 36.43}, {\"date\": \"2021-07-04T00:00:00\", \"location\": \"Belgium\", \"median_age\": 41.8, \"people_fully_vaccinated_per_hundred\": 36.49}, {\"date\": \"2021-07-05T00:00:00\", \"location\": \"Belgium\", \"median_age\": 41.8, \"people_fully_vaccinated_per_hundred\": 37.34}, {\"date\": \"2021-07-06T00:00:00\", \"location\": \"Belgium\", \"median_age\": 41.8, \"people_fully_vaccinated_per_hundred\": 38.17}, {\"date\": \"2021-07-07T00:00:00\", \"location\": \"Belgium\", \"median_age\": 41.8, \"people_fully_vaccinated_per_hundred\": 39.23}, {\"date\": \"2021-07-08T00:00:00\", \"location\": \"Belgium\", \"median_age\": 41.8, \"people_fully_vaccinated_per_hundred\": 40.37}, {\"date\": \"2021-07-09T00:00:00\", \"location\": \"Belgium\", \"median_age\": 41.8, \"people_fully_vaccinated_per_hundred\": 41.36}, {\"date\": \"2021-07-10T00:00:00\", \"location\": \"Belgium\", \"median_age\": 41.8, \"people_fully_vaccinated_per_hundred\": 42.32}, {\"date\": \"2021-07-11T00:00:00\", \"location\": \"Belgium\", \"median_age\": 41.8, \"people_fully_vaccinated_per_hundred\": 42.55}, {\"date\": \"2021-07-12T00:00:00\", \"location\": \"Belgium\", \"median_age\": 41.8, \"people_fully_vaccinated_per_hundred\": 43.61}, {\"date\": \"2021-07-13T00:00:00\", \"location\": \"Belgium\", \"median_age\": 41.8, \"people_fully_vaccinated_per_hundred\": 44.43}, {\"date\": \"2021-07-14T00:00:00\", \"location\": \"Belgium\", \"median_age\": 41.8, \"people_fully_vaccinated_per_hundred\": 45.42}, {\"date\": \"2021-07-15T00:00:00\", \"location\": \"Belgium\", \"median_age\": 41.8, \"people_fully_vaccinated_per_hundred\": 46.35}, {\"date\": \"2021-07-16T00:00:00\", \"location\": \"Belgium\", \"median_age\": 41.8, \"people_fully_vaccinated_per_hundred\": 47.3}, {\"date\": \"2021-07-17T00:00:00\", \"location\": \"Belgium\", \"median_age\": 41.8, \"people_fully_vaccinated_per_hundred\": 48.04}, {\"date\": \"2021-07-18T00:00:00\", \"location\": \"Belgium\", \"median_age\": 41.8, \"people_fully_vaccinated_per_hundred\": 48.14}, {\"date\": \"2021-07-19T00:00:00\", \"location\": \"Belgium\", \"median_age\": 41.8, \"people_fully_vaccinated_per_hundred\": 49.09}, {\"date\": \"2021-07-20T00:00:00\", \"location\": \"Belgium\", \"median_age\": 41.8, \"people_fully_vaccinated_per_hundred\": 49.94}, {\"date\": \"2021-07-21T00:00:00\", \"location\": \"Belgium\", \"median_age\": 41.8, \"people_fully_vaccinated_per_hundred\": 50.69}, {\"date\": \"2021-07-22T00:00:00\", \"location\": \"Belgium\", \"median_age\": 41.8, \"people_fully_vaccinated_per_hundred\": 52.07}, {\"date\": \"2021-07-23T00:00:00\", \"location\": \"Belgium\", \"median_age\": 41.8, \"people_fully_vaccinated_per_hundred\": 53.28}, {\"date\": \"2021-07-24T00:00:00\", \"location\": \"Belgium\", \"median_age\": 41.8, \"people_fully_vaccinated_per_hundred\": 53.99}, {\"date\": \"2021-07-25T00:00:00\", \"location\": \"Belgium\", \"median_age\": 41.8, \"people_fully_vaccinated_per_hundred\": 54.1}, {\"date\": \"2021-07-26T00:00:00\", \"location\": \"Belgium\", \"median_age\": 41.8, \"people_fully_vaccinated_per_hundred\": 54.96}, {\"date\": \"2021-07-27T00:00:00\", \"location\": \"Belgium\", \"median_age\": 41.8, \"people_fully_vaccinated_per_hundred\": 55.74}, {\"date\": \"2021-07-28T00:00:00\", \"location\": \"Belgium\", \"median_age\": 41.8, \"people_fully_vaccinated_per_hundred\": 56.87}, {\"date\": \"2021-07-29T00:00:00\", \"location\": \"Belgium\", \"median_age\": 41.8, \"people_fully_vaccinated_per_hundred\": 57.94}, {\"date\": \"2021-07-30T00:00:00\", \"location\": \"Belgium\", \"median_age\": 41.8, \"people_fully_vaccinated_per_hundred\": 58.96}, {\"date\": \"2021-07-31T00:00:00\", \"location\": \"Belgium\", \"median_age\": 41.8, \"people_fully_vaccinated_per_hundred\": 59.57}, {\"date\": \"2021-08-01T00:00:00\", \"location\": \"Belgium\", \"median_age\": 41.8, \"people_fully_vaccinated_per_hundred\": 59.66}, {\"date\": \"2021-08-02T00:00:00\", \"location\": \"Belgium\", \"median_age\": 41.8, \"people_fully_vaccinated_per_hundred\": 60.41}, {\"date\": \"2021-08-03T00:00:00\", \"location\": \"Belgium\", \"median_age\": 41.8, \"people_fully_vaccinated_per_hundred\": 61.04}, {\"date\": \"2021-08-04T00:00:00\", \"location\": \"Belgium\", \"median_age\": 41.8, \"people_fully_vaccinated_per_hundred\": 61.79}, {\"date\": \"2021-08-05T00:00:00\", \"location\": \"Belgium\", \"median_age\": 41.8, \"people_fully_vaccinated_per_hundred\": 62.58}, {\"date\": \"2021-08-06T00:00:00\", \"location\": \"Belgium\", \"median_age\": 41.8, \"people_fully_vaccinated_per_hundred\": 63.33}, {\"date\": \"2021-08-07T00:00:00\", \"location\": \"Belgium\", \"median_age\": 41.8, \"people_fully_vaccinated_per_hundred\": 63.67}, {\"date\": \"2021-08-08T00:00:00\", \"location\": \"Belgium\", \"median_age\": 41.8, \"people_fully_vaccinated_per_hundred\": 63.71}, {\"date\": \"2021-08-09T00:00:00\", \"location\": \"Belgium\", \"median_age\": 41.8, \"people_fully_vaccinated_per_hundred\": 64.17}, {\"date\": \"2021-08-10T00:00:00\", \"location\": \"Belgium\", \"median_age\": 41.8, \"people_fully_vaccinated_per_hundred\": 64.74}, {\"date\": \"2021-08-11T00:00:00\", \"location\": \"Belgium\", \"median_age\": 41.8, \"people_fully_vaccinated_per_hundred\": 65.27}, {\"date\": \"2021-08-12T00:00:00\", \"location\": \"Belgium\", \"median_age\": 41.8, \"people_fully_vaccinated_per_hundred\": 65.8}, {\"date\": \"2021-08-13T00:00:00\", \"location\": \"Belgium\", \"median_age\": 41.8, \"people_fully_vaccinated_per_hundred\": 66.21}, {\"date\": \"2021-08-14T00:00:00\", \"location\": \"Belgium\", \"median_age\": 41.8, \"people_fully_vaccinated_per_hundred\": 66.4}, {\"date\": \"2021-08-15T00:00:00\", \"location\": \"Belgium\", \"median_age\": 41.8, \"people_fully_vaccinated_per_hundred\": 66.41}, {\"date\": \"2021-08-16T00:00:00\", \"location\": \"Belgium\", \"median_age\": 41.8, \"people_fully_vaccinated_per_hundred\": 66.69}, {\"date\": \"2021-08-17T00:00:00\", \"location\": \"Belgium\", \"median_age\": 41.8, \"people_fully_vaccinated_per_hundred\": 67.0}, {\"date\": \"2021-08-18T00:00:00\", \"location\": \"Belgium\", \"median_age\": 41.8, \"people_fully_vaccinated_per_hundred\": 67.36}, {\"date\": \"2021-08-19T00:00:00\", \"location\": \"Belgium\", \"median_age\": 41.8, \"people_fully_vaccinated_per_hundred\": 67.7}, {\"date\": \"2021-08-20T00:00:00\", \"location\": \"Belgium\", \"median_age\": 41.8, \"people_fully_vaccinated_per_hundred\": 68.0}, {\"date\": \"2021-08-21T00:00:00\", \"location\": \"Belgium\", \"median_age\": 41.8, \"people_fully_vaccinated_per_hundred\": 68.16}, {\"date\": \"2021-08-22T00:00:00\", \"location\": \"Belgium\", \"median_age\": 41.8, \"people_fully_vaccinated_per_hundred\": 68.19}, {\"date\": \"2021-08-23T00:00:00\", \"location\": \"Belgium\", \"median_age\": 41.8, \"people_fully_vaccinated_per_hundred\": 68.47}, {\"date\": \"2021-08-24T00:00:00\", \"location\": \"Belgium\", \"median_age\": 41.8, \"people_fully_vaccinated_per_hundred\": 68.76}, {\"date\": \"2021-08-25T00:00:00\", \"location\": \"Belgium\", \"median_age\": 41.8, \"people_fully_vaccinated_per_hundred\": 69.06}, {\"date\": \"2021-08-26T00:00:00\", \"location\": \"Belgium\", \"median_age\": 41.8, \"people_fully_vaccinated_per_hundred\": 69.4}, {\"date\": \"2021-08-27T00:00:00\", \"location\": \"Belgium\", \"median_age\": 41.8, \"people_fully_vaccinated_per_hundred\": 69.68}, {\"date\": \"2021-08-28T00:00:00\", \"location\": \"Belgium\", \"median_age\": 41.8, \"people_fully_vaccinated_per_hundred\": 69.92}, {\"date\": \"2021-08-29T00:00:00\", \"location\": \"Belgium\", \"median_age\": 41.8, \"people_fully_vaccinated_per_hundred\": 69.93}, {\"date\": \"2021-08-30T00:00:00\", \"location\": \"Belgium\", \"median_age\": 41.8, \"people_fully_vaccinated_per_hundred\": 70.16}, {\"date\": \"2021-08-31T00:00:00\", \"location\": \"Belgium\", \"median_age\": 41.8, \"people_fully_vaccinated_per_hundred\": 70.42}, {\"date\": \"2021-09-01T00:00:00\", \"location\": \"Belgium\", \"median_age\": 41.8, \"people_fully_vaccinated_per_hundred\": 70.55}, {\"date\": \"2021-09-02T00:00:00\", \"location\": \"Belgium\", \"median_age\": 41.8, \"people_fully_vaccinated_per_hundred\": 70.65}, {\"date\": \"2021-09-03T00:00:00\", \"location\": \"Belgium\", \"median_age\": 41.8, \"people_fully_vaccinated_per_hundred\": 70.81}, {\"date\": \"2021-09-04T00:00:00\", \"location\": \"Belgium\", \"median_age\": 41.8, \"people_fully_vaccinated_per_hundred\": 70.98}, {\"date\": \"2021-09-05T00:00:00\", \"location\": \"Belgium\", \"median_age\": 41.8, \"people_fully_vaccinated_per_hundred\": 70.99}, {\"date\": \"2021-09-06T00:00:00\", \"location\": \"Belgium\", \"median_age\": 41.8, \"people_fully_vaccinated_per_hundred\": 71.02}, {\"date\": \"2021-09-07T00:00:00\", \"location\": \"Belgium\", \"median_age\": 41.8, \"people_fully_vaccinated_per_hundred\": 71.08}, {\"date\": \"2021-09-08T00:00:00\", \"location\": \"Belgium\", \"median_age\": 41.8, \"people_fully_vaccinated_per_hundred\": 71.23}, {\"date\": \"2021-09-09T00:00:00\", \"location\": \"Belgium\", \"median_age\": 41.8, \"people_fully_vaccinated_per_hundred\": 71.29}, {\"date\": \"2021-09-10T00:00:00\", \"location\": \"Belgium\", \"median_age\": 41.8, \"people_fully_vaccinated_per_hundred\": 71.39}, {\"date\": \"2021-09-11T00:00:00\", \"location\": \"Belgium\", \"median_age\": 41.8, \"people_fully_vaccinated_per_hundred\": 71.52}, {\"date\": \"2021-09-12T00:00:00\", \"location\": \"Belgium\", \"median_age\": 41.8, \"people_fully_vaccinated_per_hundred\": 71.52}, {\"date\": \"2021-09-13T00:00:00\", \"location\": \"Belgium\", \"median_age\": 41.8, \"people_fully_vaccinated_per_hundred\": 71.58}, {\"date\": \"2021-09-14T00:00:00\", \"location\": \"Belgium\", \"median_age\": 41.8, \"people_fully_vaccinated_per_hundred\": 71.61}, {\"date\": \"2021-09-15T00:00:00\", \"location\": \"Belgium\", \"median_age\": 41.8, \"people_fully_vaccinated_per_hundred\": 71.7}, {\"date\": \"2021-09-16T00:00:00\", \"location\": \"Belgium\", \"median_age\": 41.8, \"people_fully_vaccinated_per_hundred\": 71.78}, {\"date\": \"2021-09-17T00:00:00\", \"location\": \"Belgium\", \"median_age\": 41.8, \"people_fully_vaccinated_per_hundred\": 71.87}, {\"date\": \"2021-09-18T00:00:00\", \"location\": \"Belgium\", \"median_age\": 41.8, \"people_fully_vaccinated_per_hundred\": 71.99}, {\"date\": \"2021-09-19T00:00:00\", \"location\": \"Belgium\", \"median_age\": 41.8, \"people_fully_vaccinated_per_hundred\": 71.99}, {\"date\": \"2021-09-20T00:00:00\", \"location\": \"Belgium\", \"median_age\": 41.8, \"people_fully_vaccinated_per_hundred\": 72.03}, {\"date\": \"2021-09-21T00:00:00\", \"location\": \"Belgium\", \"median_age\": 41.8, \"people_fully_vaccinated_per_hundred\": 72.08}, {\"date\": \"2021-09-22T00:00:00\", \"location\": \"Belgium\", \"median_age\": 41.8, \"people_fully_vaccinated_per_hundred\": 72.18}, {\"date\": \"2021-09-23T00:00:00\", \"location\": \"Belgium\", \"median_age\": 41.8, \"people_fully_vaccinated_per_hundred\": 72.25}, {\"date\": \"2021-09-24T00:00:00\", \"location\": \"Belgium\", \"median_age\": 41.8, \"people_fully_vaccinated_per_hundred\": 72.32}, {\"date\": \"2021-09-25T00:00:00\", \"location\": \"Belgium\", \"median_age\": 41.8, \"people_fully_vaccinated_per_hundred\": 72.48}, {\"date\": \"2021-09-26T00:00:00\", \"location\": \"Belgium\", \"median_age\": 41.8, \"people_fully_vaccinated_per_hundred\": 72.48}, {\"date\": \"2021-09-27T00:00:00\", \"location\": \"Belgium\", \"median_age\": 41.8, \"people_fully_vaccinated_per_hundred\": 72.52}, {\"date\": \"2021-09-28T00:00:00\", \"location\": \"Belgium\", \"median_age\": 41.8, \"people_fully_vaccinated_per_hundred\": 72.57}, {\"date\": \"2021-09-29T00:00:00\", \"location\": \"Belgium\", \"median_age\": 41.8, \"people_fully_vaccinated_per_hundred\": 72.69}, {\"date\": \"2021-09-30T00:00:00\", \"location\": \"Belgium\", \"median_age\": 41.8, \"people_fully_vaccinated_per_hundred\": 72.75}, {\"date\": \"2021-10-01T00:00:00\", \"location\": \"Belgium\", \"median_age\": 41.8, \"people_fully_vaccinated_per_hundred\": 72.82}, {\"date\": \"2021-10-02T00:00:00\", \"location\": \"Belgium\", \"median_age\": 41.8, \"people_fully_vaccinated_per_hundred\": 72.91}, {\"date\": \"2021-10-03T00:00:00\", \"location\": \"Belgium\", \"median_age\": 41.8, \"people_fully_vaccinated_per_hundred\": 72.91}, {\"date\": \"2021-10-04T00:00:00\", \"location\": \"Belgium\", \"median_age\": 41.8, \"people_fully_vaccinated_per_hundred\": 72.94}, {\"date\": \"2021-10-05T00:00:00\", \"location\": \"Belgium\", \"median_age\": 41.8, \"people_fully_vaccinated_per_hundred\": 72.96}, {\"date\": \"2021-10-06T00:00:00\", \"location\": \"Belgium\", \"median_age\": 41.8, \"people_fully_vaccinated_per_hundred\": 73.01}, {\"date\": \"2021-10-07T00:00:00\", \"location\": \"Belgium\", \"median_age\": 41.8, \"people_fully_vaccinated_per_hundred\": 73.05}, {\"date\": \"2021-10-08T00:00:00\", \"location\": \"Belgium\", \"median_age\": 41.8, \"people_fully_vaccinated_per_hundred\": 73.11}, {\"date\": \"2021-10-09T00:00:00\", \"location\": \"Belgium\", \"median_age\": 41.8, \"people_fully_vaccinated_per_hundred\": 73.2}, {\"date\": \"2021-10-10T00:00:00\", \"location\": \"Belgium\", \"median_age\": 41.8, \"people_fully_vaccinated_per_hundred\": 73.2}, {\"date\": \"2021-10-11T00:00:00\", \"location\": \"Belgium\", \"median_age\": 41.8, \"people_fully_vaccinated_per_hundred\": 73.22}, {\"date\": \"2021-10-12T00:00:00\", \"location\": \"Belgium\", \"median_age\": 41.8, \"people_fully_vaccinated_per_hundred\": 73.26}, {\"date\": \"2021-10-13T00:00:00\", \"location\": \"Belgium\", \"median_age\": 41.8, \"people_fully_vaccinated_per_hundred\": 73.33}, {\"date\": \"2021-10-14T00:00:00\", \"location\": \"Belgium\", \"median_age\": 41.8, \"people_fully_vaccinated_per_hundred\": 73.36}, {\"date\": \"2021-10-15T00:00:00\", \"location\": \"Belgium\", \"median_age\": 41.8, \"people_fully_vaccinated_per_hundred\": 73.43}, {\"date\": \"2021-10-16T00:00:00\", \"location\": \"Belgium\", \"median_age\": 41.8, \"people_fully_vaccinated_per_hundred\": 73.5}, {\"date\": \"2021-10-17T00:00:00\", \"location\": \"Belgium\", \"median_age\": 41.8, \"people_fully_vaccinated_per_hundred\": 73.5}, {\"date\": \"2021-10-18T00:00:00\", \"location\": \"Belgium\", \"median_age\": 41.8, \"people_fully_vaccinated_per_hundred\": 73.52}, {\"date\": \"2021-10-19T00:00:00\", \"location\": \"Belgium\", \"median_age\": 41.8, \"people_fully_vaccinated_per_hundred\": 73.55}, {\"date\": \"2021-10-20T00:00:00\", \"location\": \"Belgium\", \"median_age\": 41.8, \"people_fully_vaccinated_per_hundred\": 73.59}, {\"date\": \"2021-10-21T00:00:00\", \"location\": \"Belgium\", \"median_age\": 41.8, \"people_fully_vaccinated_per_hundred\": 73.62}, {\"date\": \"2021-10-22T00:00:00\", \"location\": \"Belgium\", \"median_age\": 41.8, \"people_fully_vaccinated_per_hundred\": 73.69}, {\"date\": \"2021-10-23T00:00:00\", \"location\": \"Belgium\", \"median_age\": 41.8, \"people_fully_vaccinated_per_hundred\": 73.75}, {\"date\": \"2021-10-24T00:00:00\", \"location\": \"Belgium\", \"median_age\": 41.8, \"people_fully_vaccinated_per_hundred\": 73.75}, {\"date\": \"2021-10-25T00:00:00\", \"location\": \"Belgium\", \"median_age\": 41.8, \"people_fully_vaccinated_per_hundred\": 73.78}, {\"date\": \"2021-10-26T00:00:00\", \"location\": \"Belgium\", \"median_age\": 41.8, \"people_fully_vaccinated_per_hundred\": 73.82}, {\"date\": \"2021-10-27T00:00:00\", \"location\": \"Belgium\", \"median_age\": 41.8, \"people_fully_vaccinated_per_hundred\": 73.87}, {\"date\": \"2021-10-28T00:00:00\", \"location\": \"Belgium\", \"median_age\": 41.8, \"people_fully_vaccinated_per_hundred\": 73.92}, {\"date\": \"2021-10-29T00:00:00\", \"location\": \"Belgium\", \"median_age\": 41.8, \"people_fully_vaccinated_per_hundred\": 73.97}, {\"date\": \"2021-10-30T00:00:00\", \"location\": \"Belgium\", \"median_age\": 41.8, \"people_fully_vaccinated_per_hundred\": 74.02}, {\"date\": \"2021-10-31T00:00:00\", \"location\": \"Belgium\", \"median_age\": 41.8, \"people_fully_vaccinated_per_hundred\": 74.02}, {\"date\": \"2021-11-01T00:00:00\", \"location\": \"Belgium\", \"median_age\": 41.8, \"people_fully_vaccinated_per_hundred\": 74.03}, {\"date\": \"2021-11-02T00:00:00\", \"location\": \"Belgium\", \"median_age\": 41.8, \"people_fully_vaccinated_per_hundred\": 74.06}, {\"date\": \"2021-11-03T00:00:00\", \"location\": \"Belgium\", \"median_age\": 41.8, \"people_fully_vaccinated_per_hundred\": 74.1}, {\"date\": \"2021-11-04T00:00:00\", \"location\": \"Belgium\", \"median_age\": 41.8, \"people_fully_vaccinated_per_hundred\": 74.14}, {\"date\": \"2021-11-05T00:00:00\", \"location\": \"Belgium\", \"median_age\": 41.8, \"people_fully_vaccinated_per_hundred\": 74.19}, {\"date\": \"2021-11-06T00:00:00\", \"location\": \"Belgium\", \"median_age\": 41.8, \"people_fully_vaccinated_per_hundred\": 74.22}, {\"date\": \"2021-11-07T00:00:00\", \"location\": \"Belgium\", \"median_age\": 41.8, \"people_fully_vaccinated_per_hundred\": 74.23}, {\"date\": \"2021-11-08T00:00:00\", \"location\": \"Belgium\", \"median_age\": 41.8, \"people_fully_vaccinated_per_hundred\": 74.25}, {\"date\": \"2021-11-09T00:00:00\", \"location\": \"Belgium\", \"median_age\": 41.8, \"people_fully_vaccinated_per_hundred\": 74.29}, {\"date\": \"2021-11-10T00:00:00\", \"location\": \"Belgium\", \"median_age\": 41.8, \"people_fully_vaccinated_per_hundred\": 74.35}, {\"date\": \"2021-11-11T00:00:00\", \"location\": \"Belgium\", \"median_age\": 41.8, \"people_fully_vaccinated_per_hundred\": 74.36}, {\"date\": \"2021-11-12T00:00:00\", \"location\": \"Belgium\", \"median_age\": 41.8, \"people_fully_vaccinated_per_hundred\": 74.4}, {\"date\": \"2021-11-13T00:00:00\", \"location\": \"Belgium\", \"median_age\": 41.8, \"people_fully_vaccinated_per_hundred\": 74.44}, {\"date\": \"2021-11-14T00:00:00\", \"location\": \"Belgium\", \"median_age\": 41.8, \"people_fully_vaccinated_per_hundred\": 74.44}, {\"date\": \"2021-11-15T00:00:00\", \"location\": \"Belgium\", \"median_age\": 41.8, \"people_fully_vaccinated_per_hundred\": 74.47}, {\"date\": \"2021-11-16T00:00:00\", \"location\": \"Belgium\", \"median_age\": 41.8, \"people_fully_vaccinated_per_hundred\": 74.51}, {\"date\": \"2021-11-17T00:00:00\", \"location\": \"Belgium\", \"median_age\": 41.8, \"people_fully_vaccinated_per_hundred\": 74.57}, {\"date\": \"2021-11-18T00:00:00\", \"location\": \"Belgium\", \"median_age\": 41.8, \"people_fully_vaccinated_per_hundred\": 74.61}, {\"date\": \"2021-11-19T00:00:00\", \"location\": \"Belgium\", \"median_age\": 41.8, \"people_fully_vaccinated_per_hundred\": 74.65}, {\"date\": \"2021-11-20T00:00:00\", \"location\": \"Belgium\", \"median_age\": 41.8, \"people_fully_vaccinated_per_hundred\": 74.69}, {\"date\": \"2021-11-21T00:00:00\", \"location\": \"Belgium\", \"median_age\": 41.8, \"people_fully_vaccinated_per_hundred\": 74.69}, {\"date\": \"2021-11-22T00:00:00\", \"location\": \"Belgium\", \"median_age\": 41.8, \"people_fully_vaccinated_per_hundred\": 74.71}, {\"date\": \"2021-11-23T00:00:00\", \"location\": \"Belgium\", \"median_age\": 41.8, \"people_fully_vaccinated_per_hundred\": 74.75}, {\"date\": \"2021-11-24T00:00:00\", \"location\": \"Belgium\", \"median_age\": 41.8, \"people_fully_vaccinated_per_hundred\": 74.81}, {\"date\": \"2021-11-25T00:00:00\", \"location\": \"Belgium\", \"median_age\": 41.8, \"people_fully_vaccinated_per_hundred\": 74.84}, {\"date\": \"2021-11-26T00:00:00\", \"location\": \"Belgium\", \"median_age\": 41.8, \"people_fully_vaccinated_per_hundred\": 74.88}, {\"date\": \"2021-11-27T00:00:00\", \"location\": \"Belgium\", \"median_age\": 41.8, \"people_fully_vaccinated_per_hundred\": 74.92}, {\"date\": \"2021-11-28T00:00:00\", \"location\": \"Belgium\", \"median_age\": 41.8, \"people_fully_vaccinated_per_hundred\": 74.92}, {\"date\": \"2021-11-29T00:00:00\", \"location\": \"Belgium\", \"median_age\": 41.8, \"people_fully_vaccinated_per_hundred\": 74.95}, {\"date\": \"2021-11-30T00:00:00\", \"location\": \"Belgium\", \"median_age\": 41.8, \"people_fully_vaccinated_per_hundred\": 74.98}, {\"date\": \"2021-12-01T00:00:00\", \"location\": \"Belgium\", \"median_age\": 41.8, \"people_fully_vaccinated_per_hundred\": 75.04}, {\"date\": \"2021-12-02T00:00:00\", \"location\": \"Belgium\", \"median_age\": 41.8, \"people_fully_vaccinated_per_hundred\": 75.06}, {\"date\": \"2021-12-03T00:00:00\", \"location\": \"Belgium\", \"median_age\": 41.8, \"people_fully_vaccinated_per_hundred\": 75.09}, {\"date\": \"2021-12-04T00:00:00\", \"location\": \"Belgium\", \"median_age\": 41.8, \"people_fully_vaccinated_per_hundred\": 75.13}, {\"date\": \"2021-12-05T00:00:00\", \"location\": \"Belgium\", \"median_age\": 41.8, \"people_fully_vaccinated_per_hundred\": 75.13}, {\"date\": \"2021-12-06T00:00:00\", \"location\": \"Belgium\", \"median_age\": 41.8, \"people_fully_vaccinated_per_hundred\": 75.15}, {\"date\": \"2021-12-07T00:00:00\", \"location\": \"Belgium\", \"median_age\": 41.8, \"people_fully_vaccinated_per_hundred\": 75.18}, {\"date\": \"2021-12-08T00:00:00\", \"location\": \"Belgium\", \"median_age\": 41.8, \"people_fully_vaccinated_per_hundred\": 75.24}, {\"date\": \"2021-12-09T00:00:00\", \"location\": \"Belgium\", \"median_age\": 41.8, \"people_fully_vaccinated_per_hundred\": 75.27}, {\"date\": \"2021-12-10T00:00:00\", \"location\": \"Belgium\", \"median_age\": 41.8, \"people_fully_vaccinated_per_hundred\": 75.3}, {\"date\": \"2021-12-11T00:00:00\", \"location\": \"Belgium\", \"median_age\": 41.8, \"people_fully_vaccinated_per_hundred\": 75.33}, {\"date\": \"2021-12-12T00:00:00\", \"location\": \"Belgium\", \"median_age\": 41.8, \"people_fully_vaccinated_per_hundred\": 75.34}, {\"date\": \"2021-12-13T00:00:00\", \"location\": \"Belgium\", \"median_age\": 41.8, \"people_fully_vaccinated_per_hundred\": 75.36}, {\"date\": \"2021-12-14T00:00:00\", \"location\": \"Belgium\", \"median_age\": 41.8, \"people_fully_vaccinated_per_hundred\": 75.39}, {\"date\": \"2021-12-15T00:00:00\", \"location\": \"Belgium\", \"median_age\": 41.8, \"people_fully_vaccinated_per_hundred\": 75.44}, {\"date\": \"2021-12-16T00:00:00\", \"location\": \"Belgium\", \"median_age\": 41.8, \"people_fully_vaccinated_per_hundred\": 75.48}, {\"date\": \"2021-12-17T00:00:00\", \"location\": \"Belgium\", \"median_age\": 41.8, \"people_fully_vaccinated_per_hundred\": 75.51}, {\"date\": \"2021-12-18T00:00:00\", \"location\": \"Belgium\", \"median_age\": 41.8, \"people_fully_vaccinated_per_hundred\": 75.54}, {\"date\": \"2021-12-19T00:00:00\", \"location\": \"Belgium\", \"median_age\": 41.8, \"people_fully_vaccinated_per_hundred\": 75.54}, {\"date\": \"2021-12-20T00:00:00\", \"location\": \"Belgium\", \"median_age\": 41.8, \"people_fully_vaccinated_per_hundred\": 75.56}, {\"date\": \"2021-12-21T00:00:00\", \"location\": \"Belgium\", \"median_age\": 41.8, \"people_fully_vaccinated_per_hundred\": 75.6}, {\"date\": \"2021-12-22T00:00:00\", \"location\": \"Belgium\", \"median_age\": 41.8, \"people_fully_vaccinated_per_hundred\": 75.66}, {\"date\": \"2021-12-23T00:00:00\", \"location\": \"Belgium\", \"median_age\": 41.8, \"people_fully_vaccinated_per_hundred\": 75.69}, {\"date\": \"2021-12-24T00:00:00\", \"location\": \"Belgium\", \"median_age\": 41.8, \"people_fully_vaccinated_per_hundred\": 75.7}, {\"date\": \"2021-12-25T00:00:00\", \"location\": \"Belgium\", \"median_age\": 41.8, \"people_fully_vaccinated_per_hundred\": 75.7}, {\"date\": \"2021-12-26T00:00:00\", \"location\": \"Belgium\", \"median_age\": 41.8, \"people_fully_vaccinated_per_hundred\": 75.7}, {\"date\": \"2021-12-27T00:00:00\", \"location\": \"Belgium\", \"median_age\": 41.8, \"people_fully_vaccinated_per_hundred\": 75.71}, {\"date\": \"2021-12-28T00:00:00\", \"location\": \"Belgium\", \"median_age\": 41.8, \"people_fully_vaccinated_per_hundred\": 75.73}, {\"date\": \"2021-12-29T00:00:00\", \"location\": \"Belgium\", \"median_age\": 41.8, \"people_fully_vaccinated_per_hundred\": 75.74}, {\"date\": \"2021-12-30T00:00:00\", \"location\": \"Belgium\", \"median_age\": 41.8, \"people_fully_vaccinated_per_hundred\": 75.75}, {\"date\": \"2021-12-31T00:00:00\", \"location\": \"Belgium\", \"median_age\": 41.8, \"people_fully_vaccinated_per_hundred\": 75.76}, {\"date\": \"2022-01-01T00:00:00\", \"location\": \"Belgium\", \"median_age\": 41.8, \"people_fully_vaccinated_per_hundred\": 75.76}, {\"date\": \"2022-01-02T00:00:00\", \"location\": \"Belgium\", \"median_age\": 41.8, \"people_fully_vaccinated_per_hundred\": 75.76}, {\"date\": \"2022-01-03T00:00:00\", \"location\": \"Belgium\", \"median_age\": 41.8, \"people_fully_vaccinated_per_hundred\": 75.77}, {\"date\": \"2022-01-04T00:00:00\", \"location\": \"Belgium\", \"median_age\": 41.8, \"people_fully_vaccinated_per_hundred\": 75.79}, {\"date\": \"2022-01-05T00:00:00\", \"location\": \"Belgium\", \"median_age\": 41.8, \"people_fully_vaccinated_per_hundred\": 75.83}, {\"date\": \"2022-01-06T00:00:00\", \"location\": \"Belgium\", \"median_age\": 41.8, \"people_fully_vaccinated_per_hundred\": 75.85}, {\"date\": \"2022-01-07T00:00:00\", \"location\": \"Belgium\", \"median_age\": 41.8, \"people_fully_vaccinated_per_hundred\": 75.87}, {\"date\": \"2022-01-08T00:00:00\", \"location\": \"Belgium\", \"median_age\": 41.8, \"people_fully_vaccinated_per_hundred\": 75.89}, {\"date\": \"2022-01-09T00:00:00\", \"location\": \"Belgium\", \"median_age\": 41.8, \"people_fully_vaccinated_per_hundred\": 75.89}, {\"date\": \"2022-01-10T00:00:00\", \"location\": \"Belgium\", \"median_age\": 41.8, \"people_fully_vaccinated_per_hundred\": 75.9}, {\"date\": \"2022-01-11T00:00:00\", \"location\": \"Belgium\", \"median_age\": 41.8, \"people_fully_vaccinated_per_hundred\": 75.93}, {\"date\": \"2022-01-12T00:00:00\", \"location\": \"Belgium\", \"median_age\": 41.8, \"people_fully_vaccinated_per_hundred\": 75.98}, {\"date\": \"2022-01-13T00:00:00\", \"location\": \"Belgium\", \"median_age\": 41.8, \"people_fully_vaccinated_per_hundred\": 75.99}, {\"date\": \"2022-01-14T00:00:00\", \"location\": \"Belgium\", \"median_age\": 41.8, \"people_fully_vaccinated_per_hundred\": 76.01}, {\"date\": \"2022-01-15T00:00:00\", \"location\": \"Belgium\", \"median_age\": 41.8, \"people_fully_vaccinated_per_hundred\": 76.02}, {\"date\": \"2022-01-16T00:00:00\", \"location\": \"Belgium\", \"median_age\": 41.8, \"people_fully_vaccinated_per_hundred\": 76.02}, {\"date\": \"2022-01-17T00:00:00\", \"location\": \"Belgium\", \"median_age\": 41.8, \"people_fully_vaccinated_per_hundred\": 76.03}, {\"date\": \"2022-01-18T00:00:00\", \"location\": \"Belgium\", \"median_age\": 41.8, \"people_fully_vaccinated_per_hundred\": 76.04}, {\"date\": \"2022-01-19T00:00:00\", \"location\": \"Belgium\", \"median_age\": 41.8, \"people_fully_vaccinated_per_hundred\": 76.06}, {\"date\": \"2022-01-20T00:00:00\", \"location\": \"Belgium\", \"median_age\": 41.8, \"people_fully_vaccinated_per_hundred\": 76.07}, {\"date\": \"2022-01-21T00:00:00\", \"location\": \"Belgium\", \"median_age\": 41.8, \"people_fully_vaccinated_per_hundred\": 76.08}, {\"date\": \"2022-01-22T00:00:00\", \"location\": \"Belgium\", \"median_age\": 41.8, \"people_fully_vaccinated_per_hundred\": 76.09}, {\"date\": \"2022-01-23T00:00:00\", \"location\": \"Belgium\", \"median_age\": 41.8, \"people_fully_vaccinated_per_hundred\": 76.09}, {\"date\": \"2022-01-24T00:00:00\", \"location\": \"Belgium\", \"median_age\": 41.8, \"people_fully_vaccinated_per_hundred\": 76.1}, {\"date\": \"2022-01-25T00:00:00\", \"location\": \"Belgium\", \"median_age\": 41.8, \"people_fully_vaccinated_per_hundred\": 76.11}, {\"date\": \"2022-01-26T00:00:00\", \"location\": \"Belgium\", \"median_age\": 41.8, \"people_fully_vaccinated_per_hundred\": 76.14}, {\"date\": \"2022-01-27T00:00:00\", \"location\": \"Belgium\", \"median_age\": 41.8, \"people_fully_vaccinated_per_hundred\": 76.15}, {\"date\": \"2022-01-28T00:00:00\", \"location\": \"Belgium\", \"median_age\": 41.8, \"people_fully_vaccinated_per_hundred\": 76.16}, {\"date\": \"2022-01-29T00:00:00\", \"location\": \"Belgium\", \"median_age\": 41.8, \"people_fully_vaccinated_per_hundred\": 76.24}, {\"date\": \"2022-01-30T00:00:00\", \"location\": \"Belgium\", \"median_age\": 41.8, \"people_fully_vaccinated_per_hundred\": 76.26}, {\"date\": \"2022-01-31T00:00:00\", \"location\": \"Belgium\", \"median_age\": 41.8, \"people_fully_vaccinated_per_hundred\": 76.27}, {\"date\": \"2022-02-01T00:00:00\", \"location\": \"Belgium\", \"median_age\": 41.8, \"people_fully_vaccinated_per_hundred\": 76.28}, {\"date\": \"2022-02-02T00:00:00\", \"location\": \"Belgium\", \"median_age\": 41.8, \"people_fully_vaccinated_per_hundred\": 76.37}, {\"date\": \"2022-02-03T00:00:00\", \"location\": \"Belgium\", \"median_age\": 41.8, \"people_fully_vaccinated_per_hundred\": 76.38}], \"data-086aa175580f375bcee0a38b2e58d33b\": [{\"date\": \"2021-05-21T00:00:00\", \"location\": \"Zambia\", \"median_age\": 17.7, \"people_fully_vaccinated_per_hundred\": 0.01}, {\"date\": \"2021-05-22T00:00:00\", \"location\": \"Zambia\", \"median_age\": 17.7, \"people_fully_vaccinated_per_hundred\": 0.02}, {\"date\": \"2021-05-23T00:00:00\", \"location\": \"Zambia\", \"median_age\": 17.7, \"people_fully_vaccinated_per_hundred\": 0.03}, {\"date\": \"2021-05-25T00:00:00\", \"location\": \"Zambia\", \"median_age\": 17.7, \"people_fully_vaccinated_per_hundred\": 0.03}, {\"date\": \"2021-05-26T00:00:00\", \"location\": \"Zambia\", \"median_age\": 17.7, \"people_fully_vaccinated_per_hundred\": 0.03}, {\"date\": \"2021-05-27T00:00:00\", \"location\": \"Zambia\", \"median_age\": 17.7, \"people_fully_vaccinated_per_hundred\": 0.03}, {\"date\": \"2021-05-28T00:00:00\", \"location\": \"Zambia\", \"median_age\": 17.7, \"people_fully_vaccinated_per_hundred\": 0.03}, {\"date\": \"2021-05-29T00:00:00\", \"location\": \"Zambia\", \"median_age\": 17.7, \"people_fully_vaccinated_per_hundred\": 0.03}, {\"date\": \"2021-06-02T00:00:00\", \"location\": \"Zambia\", \"median_age\": 17.7, \"people_fully_vaccinated_per_hundred\": 0.03}, {\"date\": \"2021-06-15T00:00:00\", \"location\": \"Zambia\", \"median_age\": 17.7, \"people_fully_vaccinated_per_hundred\": 0.03}, {\"date\": \"2021-06-24T00:00:00\", \"location\": \"Zambia\", \"median_age\": 17.7, \"people_fully_vaccinated_per_hundred\": 0.04}, {\"date\": \"2021-06-25T00:00:00\", \"location\": \"Zambia\", \"median_age\": 17.7, \"people_fully_vaccinated_per_hundred\": 0.04}, {\"date\": \"2021-06-26T00:00:00\", \"location\": \"Zambia\", \"median_age\": 17.7, \"people_fully_vaccinated_per_hundred\": 0.04}, {\"date\": \"2021-06-27T00:00:00\", \"location\": \"Zambia\", \"median_age\": 17.7, \"people_fully_vaccinated_per_hundred\": 0.05}, {\"date\": \"2021-06-29T00:00:00\", \"location\": \"Zambia\", \"median_age\": 17.7, \"people_fully_vaccinated_per_hundred\": 0.06}, {\"date\": \"2021-06-30T00:00:00\", \"location\": \"Zambia\", \"median_age\": 17.7, \"people_fully_vaccinated_per_hundred\": 0.07}, {\"date\": \"2021-07-01T00:00:00\", \"location\": \"Zambia\", \"median_age\": 17.7, \"people_fully_vaccinated_per_hundred\": 0.08}, {\"date\": \"2021-07-02T00:00:00\", \"location\": \"Zambia\", \"median_age\": 17.7, \"people_fully_vaccinated_per_hundred\": 0.09}, {\"date\": \"2021-07-03T00:00:00\", \"location\": \"Zambia\", \"median_age\": 17.7, \"people_fully_vaccinated_per_hundred\": 0.11}, {\"date\": \"2021-07-04T00:00:00\", \"location\": \"Zambia\", \"median_age\": 17.7, \"people_fully_vaccinated_per_hundred\": 0.12}, {\"date\": \"2021-07-07T00:00:00\", \"location\": \"Zambia\", \"median_age\": 17.7, \"people_fully_vaccinated_per_hundred\": 0.15}, {\"date\": \"2021-07-08T00:00:00\", \"location\": \"Zambia\", \"median_age\": 17.7, \"people_fully_vaccinated_per_hundred\": 0.15}, {\"date\": \"2021-07-09T00:00:00\", \"location\": \"Zambia\", \"median_age\": 17.7, \"people_fully_vaccinated_per_hundred\": 0.17}, {\"date\": \"2021-07-10T00:00:00\", \"location\": \"Zambia\", \"median_age\": 17.7, \"people_fully_vaccinated_per_hundred\": 0.19}, {\"date\": \"2021-07-11T00:00:00\", \"location\": \"Zambia\", \"median_age\": 17.7, \"people_fully_vaccinated_per_hundred\": 0.22}, {\"date\": \"2021-07-12T00:00:00\", \"location\": \"Zambia\", \"median_age\": 17.7, \"people_fully_vaccinated_per_hundred\": 0.23}, {\"date\": \"2021-07-13T00:00:00\", \"location\": \"Zambia\", \"median_age\": 17.7, \"people_fully_vaccinated_per_hundred\": 0.25}, {\"date\": \"2021-07-14T00:00:00\", \"location\": \"Zambia\", \"median_age\": 17.7, \"people_fully_vaccinated_per_hundred\": 0.25}, {\"date\": \"2021-07-15T00:00:00\", \"location\": \"Zambia\", \"median_age\": 17.7, \"people_fully_vaccinated_per_hundred\": 0.29}, {\"date\": \"2021-07-16T00:00:00\", \"location\": \"Zambia\", \"median_age\": 17.7, \"people_fully_vaccinated_per_hundred\": 0.31}, {\"date\": \"2021-07-17T00:00:00\", \"location\": \"Zambia\", \"median_age\": 17.7, \"people_fully_vaccinated_per_hundred\": 0.33}, {\"date\": \"2021-07-18T00:00:00\", \"location\": \"Zambia\", \"median_age\": 17.7, \"people_fully_vaccinated_per_hundred\": 0.34}, {\"date\": \"2021-07-19T00:00:00\", \"location\": \"Zambia\", \"median_age\": 17.7, \"people_fully_vaccinated_per_hundred\": 0.35}, {\"date\": \"2021-07-20T00:00:00\", \"location\": \"Zambia\", \"median_age\": 17.7, \"people_fully_vaccinated_per_hundred\": 0.36}, {\"date\": \"2021-07-21T00:00:00\", \"location\": \"Zambia\", \"median_age\": 17.7, \"people_fully_vaccinated_per_hundred\": 0.36}, {\"date\": \"2021-07-22T00:00:00\", \"location\": \"Zambia\", \"median_age\": 17.7, \"people_fully_vaccinated_per_hundred\": 0.4}, {\"date\": \"2021-07-24T00:00:00\", \"location\": \"Zambia\", \"median_age\": 17.7, \"people_fully_vaccinated_per_hundred\": 0.46}, {\"date\": \"2021-07-26T00:00:00\", \"location\": \"Zambia\", \"median_age\": 17.7, \"people_fully_vaccinated_per_hundred\": 0.5}, {\"date\": \"2021-07-27T00:00:00\", \"location\": \"Zambia\", \"median_age\": 17.7, \"people_fully_vaccinated_per_hundred\": 0.59}, {\"date\": \"2021-07-28T00:00:00\", \"location\": \"Zambia\", \"median_age\": 17.7, \"people_fully_vaccinated_per_hundred\": 0.62}, {\"date\": \"2021-07-29T00:00:00\", \"location\": \"Zambia\", \"median_age\": 17.7, \"people_fully_vaccinated_per_hundred\": 0.69}, {\"date\": \"2021-07-30T00:00:00\", \"location\": \"Zambia\", \"median_age\": 17.7, \"people_fully_vaccinated_per_hundred\": 0.74}, {\"date\": \"2021-07-31T00:00:00\", \"location\": \"Zambia\", \"median_age\": 17.7, \"people_fully_vaccinated_per_hundred\": 0.79}, {\"date\": \"2021-08-01T00:00:00\", \"location\": \"Zambia\", \"median_age\": 17.7, \"people_fully_vaccinated_per_hundred\": 0.81}, {\"date\": \"2021-08-02T00:00:00\", \"location\": \"Zambia\", \"median_age\": 17.7, \"people_fully_vaccinated_per_hundred\": 0.82}, {\"date\": \"2021-08-03T00:00:00\", \"location\": \"Zambia\", \"median_age\": 17.7, \"people_fully_vaccinated_per_hundred\": 0.83}, {\"date\": \"2021-08-04T00:00:00\", \"location\": \"Zambia\", \"median_age\": 17.7, \"people_fully_vaccinated_per_hundred\": 0.87}, {\"date\": \"2021-08-05T00:00:00\", \"location\": \"Zambia\", \"median_age\": 17.7, \"people_fully_vaccinated_per_hundred\": 0.91}, {\"date\": \"2021-08-06T00:00:00\", \"location\": \"Zambia\", \"median_age\": 17.7, \"people_fully_vaccinated_per_hundred\": 0.96}, {\"date\": \"2021-08-07T00:00:00\", \"location\": \"Zambia\", \"median_age\": 17.7, \"people_fully_vaccinated_per_hundred\": 0.99}, {\"date\": \"2021-08-09T00:00:00\", \"location\": \"Zambia\", \"median_age\": 17.7, \"people_fully_vaccinated_per_hundred\": 1.02}, {\"date\": \"2021-08-10T00:00:00\", \"location\": \"Zambia\", \"median_age\": 17.7, \"people_fully_vaccinated_per_hundred\": 1.06}, {\"date\": \"2021-08-11T00:00:00\", \"location\": \"Zambia\", \"median_age\": 17.7, \"people_fully_vaccinated_per_hundred\": 1.09}, {\"date\": \"2021-08-13T00:00:00\", \"location\": \"Zambia\", \"median_age\": 17.7, \"people_fully_vaccinated_per_hundred\": 1.12}, {\"date\": \"2021-08-15T00:00:00\", \"location\": \"Zambia\", \"median_age\": 17.7, \"people_fully_vaccinated_per_hundred\": 1.13}, {\"date\": \"2021-08-17T00:00:00\", \"location\": \"Zambia\", \"median_age\": 17.7, \"people_fully_vaccinated_per_hundred\": 1.16}, {\"date\": \"2021-08-18T00:00:00\", \"location\": \"Zambia\", \"median_age\": 17.7, \"people_fully_vaccinated_per_hundred\": 1.18}, {\"date\": \"2021-08-19T00:00:00\", \"location\": \"Zambia\", \"median_age\": 17.7, \"people_fully_vaccinated_per_hundred\": 1.2}, {\"date\": \"2021-08-21T00:00:00\", \"location\": \"Zambia\", \"median_age\": 17.7, \"people_fully_vaccinated_per_hundred\": 1.26}, {\"date\": \"2021-08-23T00:00:00\", \"location\": \"Zambia\", \"median_age\": 17.7, \"people_fully_vaccinated_per_hundred\": 1.28}, {\"date\": \"2021-08-24T00:00:00\", \"location\": \"Zambia\", \"median_age\": 17.7, \"people_fully_vaccinated_per_hundred\": 1.31}, {\"date\": \"2021-08-25T00:00:00\", \"location\": \"Zambia\", \"median_age\": 17.7, \"people_fully_vaccinated_per_hundred\": 1.31}, {\"date\": \"2021-08-26T00:00:00\", \"location\": \"Zambia\", \"median_age\": 17.7, \"people_fully_vaccinated_per_hundred\": 1.34}, {\"date\": \"2021-08-27T00:00:00\", \"location\": \"Zambia\", \"median_age\": 17.7, \"people_fully_vaccinated_per_hundred\": 1.36}, {\"date\": \"2021-08-28T00:00:00\", \"location\": \"Zambia\", \"median_age\": 17.7, \"people_fully_vaccinated_per_hundred\": 1.38}, {\"date\": \"2021-08-30T00:00:00\", \"location\": \"Zambia\", \"median_age\": 17.7, \"people_fully_vaccinated_per_hundred\": 1.4}, {\"date\": \"2021-09-02T00:00:00\", \"location\": \"Zambia\", \"median_age\": 17.7, \"people_fully_vaccinated_per_hundred\": 1.47}, {\"date\": \"2021-09-03T00:00:00\", \"location\": \"Zambia\", \"median_age\": 17.7, \"people_fully_vaccinated_per_hundred\": 1.49}, {\"date\": \"2021-09-07T00:00:00\", \"location\": \"Zambia\", \"median_age\": 17.7, \"people_fully_vaccinated_per_hundred\": 1.54}, {\"date\": \"2021-09-23T00:00:00\", \"location\": \"Zambia\", \"median_age\": 17.7, \"people_fully_vaccinated_per_hundred\": 1.92}, {\"date\": \"2021-09-26T00:00:00\", \"location\": \"Zambia\", \"median_age\": 17.7, \"people_fully_vaccinated_per_hundred\": 2.02}, {\"date\": \"2021-09-27T00:00:00\", \"location\": \"Zambia\", \"median_age\": 17.7, \"people_fully_vaccinated_per_hundred\": 2.04}, {\"date\": \"2021-09-28T00:00:00\", \"location\": \"Zambia\", \"median_age\": 17.7, \"people_fully_vaccinated_per_hundred\": 2.08}, {\"date\": \"2021-09-29T00:00:00\", \"location\": \"Zambia\", \"median_age\": 17.7, \"people_fully_vaccinated_per_hundred\": 2.12}, {\"date\": \"2021-09-30T00:00:00\", \"location\": \"Zambia\", \"median_age\": 17.7, \"people_fully_vaccinated_per_hundred\": 2.16}, {\"date\": \"2021-10-01T00:00:00\", \"location\": \"Zambia\", \"median_age\": 17.7, \"people_fully_vaccinated_per_hundred\": 2.2}, {\"date\": \"2021-10-02T00:00:00\", \"location\": \"Zambia\", \"median_age\": 17.7, \"people_fully_vaccinated_per_hundred\": 2.25}, {\"date\": \"2021-10-07T00:00:00\", \"location\": \"Zambia\", \"median_age\": 17.7, \"people_fully_vaccinated_per_hundred\": 2.36}, {\"date\": \"2021-10-08T00:00:00\", \"location\": \"Zambia\", \"median_age\": 17.7, \"people_fully_vaccinated_per_hundred\": 2.39}, {\"date\": \"2021-10-09T00:00:00\", \"location\": \"Zambia\", \"median_age\": 17.7, \"people_fully_vaccinated_per_hundred\": 2.42}, {\"date\": \"2021-10-11T00:00:00\", \"location\": \"Zambia\", \"median_age\": 17.7, \"people_fully_vaccinated_per_hundred\": 2.45}, {\"date\": \"2021-10-12T00:00:00\", \"location\": \"Zambia\", \"median_age\": 17.7, \"people_fully_vaccinated_per_hundred\": 2.48}, {\"date\": \"2021-10-13T00:00:00\", \"location\": \"Zambia\", \"median_age\": 17.7, \"people_fully_vaccinated_per_hundred\": 2.51}, {\"date\": \"2021-10-14T00:00:00\", \"location\": \"Zambia\", \"median_age\": 17.7, \"people_fully_vaccinated_per_hundred\": 2.54}, {\"date\": \"2021-10-15T00:00:00\", \"location\": \"Zambia\", \"median_age\": 17.7, \"people_fully_vaccinated_per_hundred\": 2.58}, {\"date\": \"2021-10-16T00:00:00\", \"location\": \"Zambia\", \"median_age\": 17.7, \"people_fully_vaccinated_per_hundred\": 2.6}, {\"date\": \"2021-10-18T00:00:00\", \"location\": \"Zambia\", \"median_age\": 17.7, \"people_fully_vaccinated_per_hundred\": 2.62}, {\"date\": \"2021-10-19T00:00:00\", \"location\": \"Zambia\", \"median_age\": 17.7, \"people_fully_vaccinated_per_hundred\": 2.63}, {\"date\": \"2021-10-20T00:00:00\", \"location\": \"Zambia\", \"median_age\": 17.7, \"people_fully_vaccinated_per_hundred\": 2.66}, {\"date\": \"2021-10-21T00:00:00\", \"location\": \"Zambia\", \"median_age\": 17.7, \"people_fully_vaccinated_per_hundred\": 2.68}, {\"date\": \"2021-10-22T00:00:00\", \"location\": \"Zambia\", \"median_age\": 17.7, \"people_fully_vaccinated_per_hundred\": 2.7}, {\"date\": \"2021-10-31T00:00:00\", \"location\": \"Zambia\", \"median_age\": 17.7, \"people_fully_vaccinated_per_hundred\": 2.83}, {\"date\": \"2021-11-01T00:00:00\", \"location\": \"Zambia\", \"median_age\": 17.7, \"people_fully_vaccinated_per_hundred\": 2.85}, {\"date\": \"2021-11-05T00:00:00\", \"location\": \"Zambia\", \"median_age\": 17.7, \"people_fully_vaccinated_per_hundred\": 2.98}, {\"date\": \"2021-11-11T00:00:00\", \"location\": \"Zambia\", \"median_age\": 17.7, \"people_fully_vaccinated_per_hundred\": 3.31}, {\"date\": \"2021-11-18T00:00:00\", \"location\": \"Zambia\", \"median_age\": 17.7, \"people_fully_vaccinated_per_hundred\": 3.31}, {\"date\": \"2021-11-19T00:00:00\", \"location\": \"Zambia\", \"median_age\": 17.7, \"people_fully_vaccinated_per_hundred\": 3.37}, {\"date\": \"2021-11-22T00:00:00\", \"location\": \"Zambia\", \"median_age\": 17.7, \"people_fully_vaccinated_per_hundred\": 3.4}, {\"date\": \"2021-11-23T00:00:00\", \"location\": \"Zambia\", \"median_age\": 17.7, \"people_fully_vaccinated_per_hundred\": 3.42}, {\"date\": \"2021-11-24T00:00:00\", \"location\": \"Zambia\", \"median_age\": 17.7, \"people_fully_vaccinated_per_hundred\": 3.53}, {\"date\": \"2021-11-27T00:00:00\", \"location\": \"Zambia\", \"median_age\": 17.7, \"people_fully_vaccinated_per_hundred\": 3.55}, {\"date\": \"2021-11-29T00:00:00\", \"location\": \"Zambia\", \"median_age\": 17.7, \"people_fully_vaccinated_per_hundred\": 3.66}, {\"date\": \"2021-12-02T00:00:00\", \"location\": \"Zambia\", \"median_age\": 17.7, \"people_fully_vaccinated_per_hundred\": 3.76}, {\"date\": \"2021-12-03T00:00:00\", \"location\": \"Zambia\", \"median_age\": 17.7, \"people_fully_vaccinated_per_hundred\": 3.87}, {\"date\": \"2021-12-06T00:00:00\", \"location\": \"Zambia\", \"median_age\": 17.7, \"people_fully_vaccinated_per_hundred\": 3.92}, {\"date\": \"2021-12-07T00:00:00\", \"location\": \"Zambia\", \"median_age\": 17.7, \"people_fully_vaccinated_per_hundred\": 3.95}, {\"date\": \"2021-12-08T00:00:00\", \"location\": \"Zambia\", \"median_age\": 17.7, \"people_fully_vaccinated_per_hundred\": 4.17}, {\"date\": \"2021-12-11T00:00:00\", \"location\": \"Zambia\", \"median_age\": 17.7, \"people_fully_vaccinated_per_hundred\": 4.34}, {\"date\": \"2021-12-12T00:00:00\", \"location\": \"Zambia\", \"median_age\": 17.7, \"people_fully_vaccinated_per_hundred\": 4.39}, {\"date\": \"2021-12-13T00:00:00\", \"location\": \"Zambia\", \"median_age\": 17.7, \"people_fully_vaccinated_per_hundred\": 4.44}, {\"date\": \"2021-12-14T00:00:00\", \"location\": \"Zambia\", \"median_age\": 17.7, \"people_fully_vaccinated_per_hundred\": 4.52}, {\"date\": \"2021-12-15T00:00:00\", \"location\": \"Zambia\", \"median_age\": 17.7, \"people_fully_vaccinated_per_hundred\": 4.64}, {\"date\": \"2021-12-16T00:00:00\", \"location\": \"Zambia\", \"median_age\": 17.7, \"people_fully_vaccinated_per_hundred\": 4.78}, {\"date\": \"2021-12-18T00:00:00\", \"location\": \"Zambia\", \"median_age\": 17.7, \"people_fully_vaccinated_per_hundred\": 5.06}, {\"date\": \"2021-12-19T00:00:00\", \"location\": \"Zambia\", \"median_age\": 17.7, \"people_fully_vaccinated_per_hundred\": 5.13}, {\"date\": \"2021-12-20T00:00:00\", \"location\": \"Zambia\", \"median_age\": 17.7, \"people_fully_vaccinated_per_hundred\": 5.17}, {\"date\": \"2021-12-21T00:00:00\", \"location\": \"Zambia\", \"median_age\": 17.7, \"people_fully_vaccinated_per_hundred\": 5.32}, {\"date\": \"2021-12-22T00:00:00\", \"location\": \"Zambia\", \"median_age\": 17.7, \"people_fully_vaccinated_per_hundred\": 5.49}, {\"date\": \"2021-12-24T00:00:00\", \"location\": \"Zambia\", \"median_age\": 17.7, \"people_fully_vaccinated_per_hundred\": 5.8}, {\"date\": \"2021-12-29T00:00:00\", \"location\": \"Zambia\", \"median_age\": 17.7, \"people_fully_vaccinated_per_hundred\": 6.19}, {\"date\": \"2021-12-31T00:00:00\", \"location\": \"Zambia\", \"median_age\": 17.7, \"people_fully_vaccinated_per_hundred\": 6.43}, {\"date\": \"2022-01-03T00:00:00\", \"location\": \"Zambia\", \"median_age\": 17.7, \"people_fully_vaccinated_per_hundred\": 6.66}, {\"date\": \"2022-01-05T00:00:00\", \"location\": \"Zambia\", \"median_age\": 17.7, \"people_fully_vaccinated_per_hundred\": 6.74}, {\"date\": \"2022-01-06T00:00:00\", \"location\": \"Zambia\", \"median_age\": 17.7, \"people_fully_vaccinated_per_hundred\": 6.84}, {\"date\": \"2022-01-08T00:00:00\", \"location\": \"Zambia\", \"median_age\": 17.7, \"people_fully_vaccinated_per_hundred\": 7.04}, {\"date\": \"2022-01-10T00:00:00\", \"location\": \"Zambia\", \"median_age\": 17.7, \"people_fully_vaccinated_per_hundred\": 7.12}, {\"date\": \"2022-01-11T00:00:00\", \"location\": \"Zambia\", \"median_age\": 17.7, \"people_fully_vaccinated_per_hundred\": 7.31}, {\"date\": \"2022-01-12T00:00:00\", \"location\": \"Zambia\", \"median_age\": 17.7, \"people_fully_vaccinated_per_hundred\": 7.44}, {\"date\": \"2022-01-13T00:00:00\", \"location\": \"Zambia\", \"median_age\": 17.7, \"people_fully_vaccinated_per_hundred\": 7.58}, {\"date\": \"2022-01-17T00:00:00\", \"location\": \"Zambia\", \"median_age\": 17.7, \"people_fully_vaccinated_per_hundred\": 8.06}, {\"date\": \"2022-01-18T00:00:00\", \"location\": \"Zambia\", \"median_age\": 17.7, \"people_fully_vaccinated_per_hundred\": 8.21}, {\"date\": \"2022-01-19T00:00:00\", \"location\": \"Zambia\", \"median_age\": 17.7, \"people_fully_vaccinated_per_hundred\": 8.29}, {\"date\": \"2022-01-21T00:00:00\", \"location\": \"Zambia\", \"median_age\": 17.7, \"people_fully_vaccinated_per_hundred\": 8.36}, {\"date\": \"2022-01-24T00:00:00\", \"location\": \"Zambia\", \"median_age\": 17.7, \"people_fully_vaccinated_per_hundred\": 8.48}, {\"date\": \"2022-01-25T00:00:00\", \"location\": \"Zambia\", \"median_age\": 17.7, \"people_fully_vaccinated_per_hundred\": 8.52}, {\"date\": \"2022-01-27T00:00:00\", \"location\": \"Zambia\", \"median_age\": 17.7, \"people_fully_vaccinated_per_hundred\": 8.62}, {\"date\": \"2022-01-29T00:00:00\", \"location\": \"Zambia\", \"median_age\": 17.7, \"people_fully_vaccinated_per_hundred\": 8.73}, {\"date\": \"2022-01-31T00:00:00\", \"location\": \"Zambia\", \"median_age\": 17.7, \"people_fully_vaccinated_per_hundred\": 8.78}, {\"date\": \"2022-02-03T00:00:00\", \"location\": \"Zambia\", \"median_age\": 17.7, \"people_fully_vaccinated_per_hundred\": 8.91}, {\"date\": \"2022-02-04T00:00:00\", \"location\": \"Zambia\", \"median_age\": 17.7, \"people_fully_vaccinated_per_hundred\": 8.97}, {\"date\": \"2022-02-07T00:00:00\", \"location\": \"Zambia\", \"median_age\": 17.7, \"people_fully_vaccinated_per_hundred\": 9.06}], \"data-c4b5850ab95c758b88cca4497f49af2e\": [{\"date\": \"2021-03-13T00:00:00\", \"location\": \"Colombia\", \"median_age\": 32.2, \"people_fully_vaccinated_per_hundred\": 0.06}, {\"date\": \"2021-03-14T00:00:00\", \"location\": \"Colombia\", \"median_age\": 32.2, \"people_fully_vaccinated_per_hundred\": 0.08}, {\"date\": \"2021-03-15T00:00:00\", \"location\": \"Colombia\", \"median_age\": 32.2, \"people_fully_vaccinated_per_hundred\": 0.09}, {\"date\": \"2021-03-16T00:00:00\", \"location\": \"Colombia\", \"median_age\": 32.2, \"people_fully_vaccinated_per_hundred\": 0.09}, {\"date\": \"2021-03-17T00:00:00\", \"location\": \"Colombia\", \"median_age\": 32.2, \"people_fully_vaccinated_per_hundred\": 0.1}, {\"date\": \"2021-03-18T00:00:00\", \"location\": \"Colombia\", \"median_age\": 32.2, \"people_fully_vaccinated_per_hundred\": 0.11}, {\"date\": \"2021-03-19T00:00:00\", \"location\": \"Colombia\", \"median_age\": 32.2, \"people_fully_vaccinated_per_hundred\": 0.11}, {\"date\": \"2021-03-20T00:00:00\", \"location\": \"Colombia\", \"median_age\": 32.2, \"people_fully_vaccinated_per_hundred\": 0.11}, {\"date\": \"2021-03-21T00:00:00\", \"location\": \"Colombia\", \"median_age\": 32.2, \"people_fully_vaccinated_per_hundred\": 0.11}, {\"date\": \"2021-03-22T00:00:00\", \"location\": \"Colombia\", \"median_age\": 32.2, \"people_fully_vaccinated_per_hundred\": 0.12}, {\"date\": \"2021-03-23T00:00:00\", \"location\": \"Colombia\", \"median_age\": 32.2, \"people_fully_vaccinated_per_hundred\": 0.12}, {\"date\": \"2021-03-24T00:00:00\", \"location\": \"Colombia\", \"median_age\": 32.2, \"people_fully_vaccinated_per_hundred\": 0.14}, {\"date\": \"2021-03-25T00:00:00\", \"location\": \"Colombia\", \"median_age\": 32.2, \"people_fully_vaccinated_per_hundred\": 0.23}, {\"date\": \"2021-03-26T00:00:00\", \"location\": \"Colombia\", \"median_age\": 32.2, \"people_fully_vaccinated_per_hundred\": 0.29}, {\"date\": \"2021-03-27T00:00:00\", \"location\": \"Colombia\", \"median_age\": 32.2, \"people_fully_vaccinated_per_hundred\": 0.34}, {\"date\": \"2021-03-28T00:00:00\", \"location\": \"Colombia\", \"median_age\": 32.2, \"people_fully_vaccinated_per_hundred\": 0.38}, {\"date\": \"2021-03-29T00:00:00\", \"location\": \"Colombia\", \"median_age\": 32.2, \"people_fully_vaccinated_per_hundred\": 0.45}, {\"date\": \"2021-03-30T00:00:00\", \"location\": \"Colombia\", \"median_age\": 32.2, \"people_fully_vaccinated_per_hundred\": 0.51}, {\"date\": \"2021-03-31T00:00:00\", \"location\": \"Colombia\", \"median_age\": 32.2, \"people_fully_vaccinated_per_hundred\": 0.56}, {\"date\": \"2021-04-01T00:00:00\", \"location\": \"Colombia\", \"median_age\": 32.2, \"people_fully_vaccinated_per_hundred\": 0.65}, {\"date\": \"2021-04-02T00:00:00\", \"location\": \"Colombia\", \"median_age\": 32.2, \"people_fully_vaccinated_per_hundred\": 0.71}, {\"date\": \"2021-04-03T00:00:00\", \"location\": \"Colombia\", \"median_age\": 32.2, \"people_fully_vaccinated_per_hundred\": 0.76}, {\"date\": \"2021-04-04T00:00:00\", \"location\": \"Colombia\", \"median_age\": 32.2, \"people_fully_vaccinated_per_hundred\": 0.78}, {\"date\": \"2021-04-05T00:00:00\", \"location\": \"Colombia\", \"median_age\": 32.2, \"people_fully_vaccinated_per_hundred\": 0.83}, {\"date\": \"2021-04-07T00:00:00\", \"location\": \"Colombia\", \"median_age\": 32.2, \"people_fully_vaccinated_per_hundred\": 1.06}, {\"date\": \"2021-04-08T00:00:00\", \"location\": \"Colombia\", \"median_age\": 32.2, \"people_fully_vaccinated_per_hundred\": 1.25}, {\"date\": \"2021-04-09T00:00:00\", \"location\": \"Colombia\", \"median_age\": 32.2, \"people_fully_vaccinated_per_hundred\": 1.45}, {\"date\": \"2021-04-10T00:00:00\", \"location\": \"Colombia\", \"median_age\": 32.2, \"people_fully_vaccinated_per_hundred\": 1.58}, {\"date\": \"2021-04-12T00:00:00\", \"location\": \"Colombia\", \"median_age\": 32.2, \"people_fully_vaccinated_per_hundred\": 1.78}, {\"date\": \"2021-04-13T00:00:00\", \"location\": \"Colombia\", \"median_age\": 32.2, \"people_fully_vaccinated_per_hundred\": 1.97}, {\"date\": \"2021-04-14T00:00:00\", \"location\": \"Colombia\", \"median_age\": 32.2, \"people_fully_vaccinated_per_hundred\": 2.04}, {\"date\": \"2021-04-16T00:00:00\", \"location\": \"Colombia\", \"median_age\": 32.2, \"people_fully_vaccinated_per_hundred\": 2.13}, {\"date\": \"2021-04-17T00:00:00\", \"location\": \"Colombia\", \"median_age\": 32.2, \"people_fully_vaccinated_per_hundred\": 2.22}, {\"date\": \"2021-04-18T00:00:00\", \"location\": \"Colombia\", \"median_age\": 32.2, \"people_fully_vaccinated_per_hundred\": 2.25}, {\"date\": \"2021-04-19T00:00:00\", \"location\": \"Colombia\", \"median_age\": 32.2, \"people_fully_vaccinated_per_hundred\": 2.32}, {\"date\": \"2021-04-20T00:00:00\", \"location\": \"Colombia\", \"median_age\": 32.2, \"people_fully_vaccinated_per_hundred\": 2.4}, {\"date\": \"2021-04-21T00:00:00\", \"location\": \"Colombia\", \"median_age\": 32.2, \"people_fully_vaccinated_per_hundred\": 2.5}, {\"date\": \"2021-04-22T00:00:00\", \"location\": \"Colombia\", \"median_age\": 32.2, \"people_fully_vaccinated_per_hundred\": 2.58}, {\"date\": \"2021-04-23T00:00:00\", \"location\": \"Colombia\", \"median_age\": 32.2, \"people_fully_vaccinated_per_hundred\": 2.65}, {\"date\": \"2021-04-24T00:00:00\", \"location\": \"Colombia\", \"median_age\": 32.2, \"people_fully_vaccinated_per_hundred\": 2.72}, {\"date\": \"2021-04-25T00:00:00\", \"location\": \"Colombia\", \"median_age\": 32.2, \"people_fully_vaccinated_per_hundred\": 2.75}, {\"date\": \"2021-04-27T00:00:00\", \"location\": \"Colombia\", \"median_age\": 32.2, \"people_fully_vaccinated_per_hundred\": 2.88}, {\"date\": \"2021-04-28T00:00:00\", \"location\": \"Colombia\", \"median_age\": 32.2, \"people_fully_vaccinated_per_hundred\": 2.94}, {\"date\": \"2021-04-29T00:00:00\", \"location\": \"Colombia\", \"median_age\": 32.2, \"people_fully_vaccinated_per_hundred\": 3.02}, {\"date\": \"2021-04-30T00:00:00\", \"location\": \"Colombia\", \"median_age\": 32.2, \"people_fully_vaccinated_per_hundred\": 3.17}, {\"date\": \"2021-05-01T00:00:00\", \"location\": \"Colombia\", \"median_age\": 32.2, \"people_fully_vaccinated_per_hundred\": 3.32}, {\"date\": \"2021-05-02T00:00:00\", \"location\": \"Colombia\", \"median_age\": 32.2, \"people_fully_vaccinated_per_hundred\": 3.44}, {\"date\": \"2021-05-07T00:00:00\", \"location\": \"Colombia\", \"median_age\": 32.2, \"people_fully_vaccinated_per_hundred\": 4.36}, {\"date\": \"2021-05-10T00:00:00\", \"location\": \"Colombia\", \"median_age\": 32.2, \"people_fully_vaccinated_per_hundred\": 4.76}, {\"date\": \"2021-05-11T00:00:00\", \"location\": \"Colombia\", \"median_age\": 32.2, \"people_fully_vaccinated_per_hundred\": 4.94}, {\"date\": \"2021-05-12T00:00:00\", \"location\": \"Colombia\", \"median_age\": 32.2, \"people_fully_vaccinated_per_hundred\": 5.1}, {\"date\": \"2021-05-13T00:00:00\", \"location\": \"Colombia\", \"median_age\": 32.2, \"people_fully_vaccinated_per_hundred\": 5.25}, {\"date\": \"2021-05-15T00:00:00\", \"location\": \"Colombia\", \"median_age\": 32.2, \"people_fully_vaccinated_per_hundred\": 5.51}, {\"date\": \"2021-05-16T00:00:00\", \"location\": \"Colombia\", \"median_age\": 32.2, \"people_fully_vaccinated_per_hundred\": 5.57}, {\"date\": \"2021-05-17T00:00:00\", \"location\": \"Colombia\", \"median_age\": 32.2, \"people_fully_vaccinated_per_hundred\": 5.63}, {\"date\": \"2021-05-18T00:00:00\", \"location\": \"Colombia\", \"median_age\": 32.2, \"people_fully_vaccinated_per_hundred\": 5.77}, {\"date\": \"2021-05-19T00:00:00\", \"location\": \"Colombia\", \"median_age\": 32.2, \"people_fully_vaccinated_per_hundred\": 5.85}, {\"date\": \"2021-05-20T00:00:00\", \"location\": \"Colombia\", \"median_age\": 32.2, \"people_fully_vaccinated_per_hundred\": 5.95}, {\"date\": \"2021-05-22T00:00:00\", \"location\": \"Colombia\", \"median_age\": 32.2, \"people_fully_vaccinated_per_hundred\": 6.07}, {\"date\": \"2021-05-23T00:00:00\", \"location\": \"Colombia\", \"median_age\": 32.2, \"people_fully_vaccinated_per_hundred\": 6.1}, {\"date\": \"2021-05-24T00:00:00\", \"location\": \"Colombia\", \"median_age\": 32.2, \"people_fully_vaccinated_per_hundred\": 6.14}, {\"date\": \"2021-05-25T00:00:00\", \"location\": \"Colombia\", \"median_age\": 32.2, \"people_fully_vaccinated_per_hundred\": 6.19}, {\"date\": \"2021-05-26T00:00:00\", \"location\": \"Colombia\", \"median_age\": 32.2, \"people_fully_vaccinated_per_hundred\": 6.23}, {\"date\": \"2021-05-29T00:00:00\", \"location\": \"Colombia\", \"median_age\": 32.2, \"people_fully_vaccinated_per_hundred\": 6.36}, {\"date\": \"2021-05-30T00:00:00\", \"location\": \"Colombia\", \"median_age\": 32.2, \"people_fully_vaccinated_per_hundred\": 6.39}, {\"date\": \"2021-05-31T00:00:00\", \"location\": \"Colombia\", \"median_age\": 32.2, \"people_fully_vaccinated_per_hundred\": 6.42}, {\"date\": \"2021-06-01T00:00:00\", \"location\": \"Colombia\", \"median_age\": 32.2, \"people_fully_vaccinated_per_hundred\": 6.47}, {\"date\": \"2021-06-02T00:00:00\", \"location\": \"Colombia\", \"median_age\": 32.2, \"people_fully_vaccinated_per_hundred\": 6.51}, {\"date\": \"2021-06-03T00:00:00\", \"location\": \"Colombia\", \"median_age\": 32.2, \"people_fully_vaccinated_per_hundred\": 6.57}, {\"date\": \"2021-06-04T00:00:00\", \"location\": \"Colombia\", \"median_age\": 32.2, \"people_fully_vaccinated_per_hundred\": 6.64}, {\"date\": \"2021-06-05T00:00:00\", \"location\": \"Colombia\", \"median_age\": 32.2, \"people_fully_vaccinated_per_hundred\": 6.7}, {\"date\": \"2021-06-06T00:00:00\", \"location\": \"Colombia\", \"median_age\": 32.2, \"people_fully_vaccinated_per_hundred\": 6.73}, {\"date\": \"2021-06-07T00:00:00\", \"location\": \"Colombia\", \"median_age\": 32.2, \"people_fully_vaccinated_per_hundred\": 6.77}, {\"date\": \"2021-06-08T00:00:00\", \"location\": \"Colombia\", \"median_age\": 32.2, \"people_fully_vaccinated_per_hundred\": 6.9}, {\"date\": \"2021-06-09T00:00:00\", \"location\": \"Colombia\", \"median_age\": 32.2, \"people_fully_vaccinated_per_hundred\": 7.01}, {\"date\": \"2021-06-11T00:00:00\", \"location\": \"Colombia\", \"median_age\": 32.2, \"people_fully_vaccinated_per_hundred\": 7.29}, {\"date\": \"2021-06-12T00:00:00\", \"location\": \"Colombia\", \"median_age\": 32.2, \"people_fully_vaccinated_per_hundred\": 7.41}, {\"date\": \"2021-06-13T00:00:00\", \"location\": \"Colombia\", \"median_age\": 32.2, \"people_fully_vaccinated_per_hundred\": 7.47}, {\"date\": \"2021-06-14T00:00:00\", \"location\": \"Colombia\", \"median_age\": 32.2, \"people_fully_vaccinated_per_hundred\": 7.56}, {\"date\": \"2021-06-17T00:00:00\", \"location\": \"Colombia\", \"median_age\": 32.2, \"people_fully_vaccinated_per_hundred\": 8.44}, {\"date\": \"2021-06-19T00:00:00\", \"location\": \"Colombia\", \"median_age\": 32.2, \"people_fully_vaccinated_per_hundred\": 9.08}, {\"date\": \"2021-06-20T00:00:00\", \"location\": \"Colombia\", \"median_age\": 32.2, \"people_fully_vaccinated_per_hundred\": 9.33}, {\"date\": \"2021-06-21T00:00:00\", \"location\": \"Colombia\", \"median_age\": 32.2, \"people_fully_vaccinated_per_hundred\": 9.71}, {\"date\": \"2021-06-22T00:00:00\", \"location\": \"Colombia\", \"median_age\": 32.2, \"people_fully_vaccinated_per_hundred\": 10.12}, {\"date\": \"2021-06-23T00:00:00\", \"location\": \"Colombia\", \"median_age\": 32.2, \"people_fully_vaccinated_per_hundred\": 10.5}, {\"date\": \"2021-06-24T00:00:00\", \"location\": \"Colombia\", \"median_age\": 32.2, \"people_fully_vaccinated_per_hundred\": 10.86}, {\"date\": \"2021-06-25T00:00:00\", \"location\": \"Colombia\", \"median_age\": 32.2, \"people_fully_vaccinated_per_hundred\": 11.23}, {\"date\": \"2021-06-26T00:00:00\", \"location\": \"Colombia\", \"median_age\": 32.2, \"people_fully_vaccinated_per_hundred\": 11.6}, {\"date\": \"2021-06-27T00:00:00\", \"location\": \"Colombia\", \"median_age\": 32.2, \"people_fully_vaccinated_per_hundred\": 11.97}, {\"date\": \"2021-06-28T00:00:00\", \"location\": \"Colombia\", \"median_age\": 32.2, \"people_fully_vaccinated_per_hundred\": 12.45}, {\"date\": \"2021-06-29T00:00:00\", \"location\": \"Colombia\", \"median_age\": 32.2, \"people_fully_vaccinated_per_hundred\": 12.98}, {\"date\": \"2021-06-30T00:00:00\", \"location\": \"Colombia\", \"median_age\": 32.2, \"people_fully_vaccinated_per_hundred\": 13.45}, {\"date\": \"2021-07-01T00:00:00\", \"location\": \"Colombia\", \"median_age\": 32.2, \"people_fully_vaccinated_per_hundred\": 13.85}, {\"date\": \"2021-07-02T00:00:00\", \"location\": \"Colombia\", \"median_age\": 32.2, \"people_fully_vaccinated_per_hundred\": 14.23}, {\"date\": \"2021-07-03T00:00:00\", \"location\": \"Colombia\", \"median_age\": 32.2, \"people_fully_vaccinated_per_hundred\": 14.51}, {\"date\": \"2021-07-04T00:00:00\", \"location\": \"Colombia\", \"median_age\": 32.2, \"people_fully_vaccinated_per_hundred\": 14.67}, {\"date\": \"2021-07-05T00:00:00\", \"location\": \"Colombia\", \"median_age\": 32.2, \"people_fully_vaccinated_per_hundred\": 14.87}, {\"date\": \"2021-07-07T00:00:00\", \"location\": \"Colombia\", \"median_age\": 32.2, \"people_fully_vaccinated_per_hundred\": 15.72}, {\"date\": \"2021-07-10T00:00:00\", \"location\": \"Colombia\", \"median_age\": 32.2, \"people_fully_vaccinated_per_hundred\": 16.2}, {\"date\": \"2021-07-11T00:00:00\", \"location\": \"Colombia\", \"median_age\": 32.2, \"people_fully_vaccinated_per_hundred\": 17.54}, {\"date\": \"2021-07-12T00:00:00\", \"location\": \"Colombia\", \"median_age\": 32.2, \"people_fully_vaccinated_per_hundred\": 17.9}, {\"date\": \"2021-07-14T00:00:00\", \"location\": \"Colombia\", \"median_age\": 32.2, \"people_fully_vaccinated_per_hundred\": 18.79}, {\"date\": \"2021-07-15T00:00:00\", \"location\": \"Colombia\", \"median_age\": 32.2, \"people_fully_vaccinated_per_hundred\": 19.26}, {\"date\": \"2021-07-17T00:00:00\", \"location\": \"Colombia\", \"median_age\": 32.2, \"people_fully_vaccinated_per_hundred\": 20.0}, {\"date\": \"2021-07-18T00:00:00\", \"location\": \"Colombia\", \"median_age\": 32.2, \"people_fully_vaccinated_per_hundred\": 20.17}, {\"date\": \"2021-07-19T00:00:00\", \"location\": \"Colombia\", \"median_age\": 32.2, \"people_fully_vaccinated_per_hundred\": 20.43}, {\"date\": \"2021-07-20T00:00:00\", \"location\": \"Colombia\", \"median_age\": 32.2, \"people_fully_vaccinated_per_hundred\": 20.59}, {\"date\": \"2021-07-22T00:00:00\", \"location\": \"Colombia\", \"median_age\": 32.2, \"people_fully_vaccinated_per_hundred\": 21.24}, {\"date\": \"2021-07-23T00:00:00\", \"location\": \"Colombia\", \"median_age\": 32.2, \"people_fully_vaccinated_per_hundred\": 21.54}, {\"date\": \"2021-07-25T00:00:00\", \"location\": \"Colombia\", \"median_age\": 32.2, \"people_fully_vaccinated_per_hundred\": 22.08}, {\"date\": \"2021-07-26T00:00:00\", \"location\": \"Colombia\", \"median_age\": 32.2, \"people_fully_vaccinated_per_hundred\": 22.35}, {\"date\": \"2021-07-28T00:00:00\", \"location\": \"Colombia\", \"median_age\": 32.2, \"people_fully_vaccinated_per_hundred\": 22.94}, {\"date\": \"2021-07-29T00:00:00\", \"location\": \"Colombia\", \"median_age\": 32.2, \"people_fully_vaccinated_per_hundred\": 23.2}, {\"date\": \"2021-07-31T00:00:00\", \"location\": \"Colombia\", \"median_age\": 32.2, \"people_fully_vaccinated_per_hundred\": 23.76}, {\"date\": \"2021-08-01T00:00:00\", \"location\": \"Colombia\", \"median_age\": 32.2, \"people_fully_vaccinated_per_hundred\": 23.9}, {\"date\": \"2021-08-02T00:00:00\", \"location\": \"Colombia\", \"median_age\": 32.2, \"people_fully_vaccinated_per_hundred\": 24.14}, {\"date\": \"2021-08-03T00:00:00\", \"location\": \"Colombia\", \"median_age\": 32.2, \"people_fully_vaccinated_per_hundred\": 24.46}, {\"date\": \"2021-08-04T00:00:00\", \"location\": \"Colombia\", \"median_age\": 32.2, \"people_fully_vaccinated_per_hundred\": 24.77}, {\"date\": \"2021-08-05T00:00:00\", \"location\": \"Colombia\", \"median_age\": 32.2, \"people_fully_vaccinated_per_hundred\": 25.07}, {\"date\": \"2021-08-07T00:00:00\", \"location\": \"Colombia\", \"median_age\": 32.2, \"people_fully_vaccinated_per_hundred\": 25.71}, {\"date\": \"2021-08-08T00:00:00\", \"location\": \"Colombia\", \"median_age\": 32.2, \"people_fully_vaccinated_per_hundred\": 25.79}, {\"date\": \"2021-08-09T00:00:00\", \"location\": \"Colombia\", \"median_age\": 32.2, \"people_fully_vaccinated_per_hundred\": 25.97}, {\"date\": \"2021-08-10T00:00:00\", \"location\": \"Colombia\", \"median_age\": 32.2, \"people_fully_vaccinated_per_hundred\": 26.14}, {\"date\": \"2021-08-11T00:00:00\", \"location\": \"Colombia\", \"median_age\": 32.2, \"people_fully_vaccinated_per_hundred\": 26.34}, {\"date\": \"2021-08-12T00:00:00\", \"location\": \"Colombia\", \"median_age\": 32.2, \"people_fully_vaccinated_per_hundred\": 26.51}, {\"date\": \"2021-08-13T00:00:00\", \"location\": \"Colombia\", \"median_age\": 32.2, \"people_fully_vaccinated_per_hundred\": 26.68}, {\"date\": \"2021-08-14T00:00:00\", \"location\": \"Colombia\", \"median_age\": 32.2, \"people_fully_vaccinated_per_hundred\": 26.82}, {\"date\": \"2021-08-15T00:00:00\", \"location\": \"Colombia\", \"median_age\": 32.2, \"people_fully_vaccinated_per_hundred\": 26.87}, {\"date\": \"2021-08-17T00:00:00\", \"location\": \"Colombia\", \"median_age\": 32.2, \"people_fully_vaccinated_per_hundred\": 27.08}, {\"date\": \"2021-08-18T00:00:00\", \"location\": \"Colombia\", \"median_age\": 32.2, \"people_fully_vaccinated_per_hundred\": 27.23}, {\"date\": \"2021-08-19T00:00:00\", \"location\": \"Colombia\", \"median_age\": 32.2, \"people_fully_vaccinated_per_hundred\": 27.41}, {\"date\": \"2021-08-20T00:00:00\", \"location\": \"Colombia\", \"median_age\": 32.2, \"people_fully_vaccinated_per_hundred\": 27.62}, {\"date\": \"2021-08-21T00:00:00\", \"location\": \"Colombia\", \"median_age\": 32.2, \"people_fully_vaccinated_per_hundred\": 27.72}, {\"date\": \"2021-08-22T00:00:00\", \"location\": \"Colombia\", \"median_age\": 32.2, \"people_fully_vaccinated_per_hundred\": 27.8}, {\"date\": \"2021-08-23T00:00:00\", \"location\": \"Colombia\", \"median_age\": 32.2, \"people_fully_vaccinated_per_hundred\": 27.94}, {\"date\": \"2021-08-24T00:00:00\", \"location\": \"Colombia\", \"median_age\": 32.2, \"people_fully_vaccinated_per_hundred\": 28.07}, {\"date\": \"2021-08-25T00:00:00\", \"location\": \"Colombia\", \"median_age\": 32.2, \"people_fully_vaccinated_per_hundred\": 28.18}, {\"date\": \"2021-08-27T00:00:00\", \"location\": \"Colombia\", \"median_age\": 32.2, \"people_fully_vaccinated_per_hundred\": 28.46}, {\"date\": \"2021-08-28T00:00:00\", \"location\": \"Colombia\", \"median_age\": 32.2, \"people_fully_vaccinated_per_hundred\": 28.56}, {\"date\": \"2021-08-29T00:00:00\", \"location\": \"Colombia\", \"median_age\": 32.2, \"people_fully_vaccinated_per_hundred\": 28.58}, {\"date\": \"2021-08-30T00:00:00\", \"location\": \"Colombia\", \"median_age\": 32.2, \"people_fully_vaccinated_per_hundred\": 28.65}, {\"date\": \"2021-08-31T00:00:00\", \"location\": \"Colombia\", \"median_age\": 32.2, \"people_fully_vaccinated_per_hundred\": 28.72}, {\"date\": \"2021-09-02T00:00:00\", \"location\": \"Colombia\", \"median_age\": 32.2, \"people_fully_vaccinated_per_hundred\": 28.81}, {\"date\": \"2021-09-03T00:00:00\", \"location\": \"Colombia\", \"median_age\": 32.2, \"people_fully_vaccinated_per_hundred\": 29.01}, {\"date\": \"2021-09-04T00:00:00\", \"location\": \"Colombia\", \"median_age\": 32.2, \"people_fully_vaccinated_per_hundred\": 29.09}, {\"date\": \"2021-09-09T00:00:00\", \"location\": \"Colombia\", \"median_age\": 32.2, \"people_fully_vaccinated_per_hundred\": 30.38}, {\"date\": \"2021-09-10T00:00:00\", \"location\": \"Colombia\", \"median_age\": 32.2, \"people_fully_vaccinated_per_hundred\": 30.65}, {\"date\": \"2021-09-12T00:00:00\", \"location\": \"Colombia\", \"median_age\": 32.2, \"people_fully_vaccinated_per_hundred\": 30.71}, {\"date\": \"2021-09-13T00:00:00\", \"location\": \"Colombia\", \"median_age\": 32.2, \"people_fully_vaccinated_per_hundred\": 30.85}, {\"date\": \"2021-09-14T00:00:00\", \"location\": \"Colombia\", \"median_age\": 32.2, \"people_fully_vaccinated_per_hundred\": 31.02}, {\"date\": \"2021-09-15T00:00:00\", \"location\": \"Colombia\", \"median_age\": 32.2, \"people_fully_vaccinated_per_hundred\": 31.15}, {\"date\": \"2021-09-17T00:00:00\", \"location\": \"Colombia\", \"median_age\": 32.2, \"people_fully_vaccinated_per_hundred\": 31.4}, {\"date\": \"2021-09-18T00:00:00\", \"location\": \"Colombia\", \"median_age\": 32.2, \"people_fully_vaccinated_per_hundred\": 31.48}, {\"date\": \"2021-09-19T00:00:00\", \"location\": \"Colombia\", \"median_age\": 32.2, \"people_fully_vaccinated_per_hundred\": 31.52}, {\"date\": \"2021-09-20T00:00:00\", \"location\": \"Colombia\", \"median_age\": 32.2, \"people_fully_vaccinated_per_hundred\": 31.65}, {\"date\": \"2021-09-22T00:00:00\", \"location\": \"Colombia\", \"median_age\": 32.2, \"people_fully_vaccinated_per_hundred\": 31.9}, {\"date\": \"2021-09-23T00:00:00\", \"location\": \"Colombia\", \"median_age\": 32.2, \"people_fully_vaccinated_per_hundred\": 32.04}, {\"date\": \"2021-09-25T00:00:00\", \"location\": \"Colombia\", \"median_age\": 32.2, \"people_fully_vaccinated_per_hundred\": 32.26}, {\"date\": \"2021-09-26T00:00:00\", \"location\": \"Colombia\", \"median_age\": 32.2, \"people_fully_vaccinated_per_hundred\": 32.54}, {\"date\": \"2021-09-27T00:00:00\", \"location\": \"Colombia\", \"median_age\": 32.2, \"people_fully_vaccinated_per_hundred\": 32.79}, {\"date\": \"2021-09-29T00:00:00\", \"location\": \"Colombia\", \"median_age\": 32.2, \"people_fully_vaccinated_per_hundred\": 33.02}, {\"date\": \"2021-10-01T00:00:00\", \"location\": \"Colombia\", \"median_age\": 32.2, \"people_fully_vaccinated_per_hundred\": 33.56}, {\"date\": \"2021-10-04T00:00:00\", \"location\": \"Colombia\", \"median_age\": 32.2, \"people_fully_vaccinated_per_hundred\": 34.12}, {\"date\": \"2021-10-06T00:00:00\", \"location\": \"Colombia\", \"median_age\": 32.2, \"people_fully_vaccinated_per_hundred\": 34.85}, {\"date\": \"2021-10-07T00:00:00\", \"location\": \"Colombia\", \"median_age\": 32.2, \"people_fully_vaccinated_per_hundred\": 35.3}, {\"date\": \"2021-10-08T00:00:00\", \"location\": \"Colombia\", \"median_age\": 32.2, \"people_fully_vaccinated_per_hundred\": 35.71}, {\"date\": \"2021-10-09T00:00:00\", \"location\": \"Colombia\", \"median_age\": 32.2, \"people_fully_vaccinated_per_hundred\": 36.09}, {\"date\": \"2021-10-10T00:00:00\", \"location\": \"Colombia\", \"median_age\": 32.2, \"people_fully_vaccinated_per_hundred\": 36.27}, {\"date\": \"2021-10-11T00:00:00\", \"location\": \"Colombia\", \"median_age\": 32.2, \"people_fully_vaccinated_per_hundred\": 36.7}, {\"date\": \"2021-10-12T00:00:00\", \"location\": \"Colombia\", \"median_age\": 32.2, \"people_fully_vaccinated_per_hundred\": 37.08}, {\"date\": \"2021-10-13T00:00:00\", \"location\": \"Colombia\", \"median_age\": 32.2, \"people_fully_vaccinated_per_hundred\": 37.45}, {\"date\": \"2021-10-14T00:00:00\", \"location\": \"Colombia\", \"median_age\": 32.2, \"people_fully_vaccinated_per_hundred\": 37.79}, {\"date\": \"2021-10-15T00:00:00\", \"location\": \"Colombia\", \"median_age\": 32.2, \"people_fully_vaccinated_per_hundred\": 37.79}, {\"date\": \"2021-10-17T00:00:00\", \"location\": \"Colombia\", \"median_age\": 32.2, \"people_fully_vaccinated_per_hundred\": 38.48}, {\"date\": \"2021-10-18T00:00:00\", \"location\": \"Colombia\", \"median_age\": 32.2, \"people_fully_vaccinated_per_hundred\": 38.57}, {\"date\": \"2021-10-22T00:00:00\", \"location\": \"Colombia\", \"median_age\": 32.2, \"people_fully_vaccinated_per_hundred\": 39.74}, {\"date\": \"2021-10-23T00:00:00\", \"location\": \"Colombia\", \"median_age\": 32.2, \"people_fully_vaccinated_per_hundred\": 39.98}, {\"date\": \"2021-10-24T00:00:00\", \"location\": \"Colombia\", \"median_age\": 32.2, \"people_fully_vaccinated_per_hundred\": 40.16}, {\"date\": \"2021-10-25T00:00:00\", \"location\": \"Colombia\", \"median_age\": 32.2, \"people_fully_vaccinated_per_hundred\": 40.42}, {\"date\": \"2021-10-26T00:00:00\", \"location\": \"Colombia\", \"median_age\": 32.2, \"people_fully_vaccinated_per_hundred\": 40.69}, {\"date\": \"2021-10-27T00:00:00\", \"location\": \"Colombia\", \"median_age\": 32.2, \"people_fully_vaccinated_per_hundred\": 40.97}, {\"date\": \"2021-10-28T00:00:00\", \"location\": \"Colombia\", \"median_age\": 32.2, \"people_fully_vaccinated_per_hundred\": 41.24}, {\"date\": \"2021-10-30T00:00:00\", \"location\": \"Colombia\", \"median_age\": 32.2, \"people_fully_vaccinated_per_hundred\": 41.66}, {\"date\": \"2021-10-31T00:00:00\", \"location\": \"Colombia\", \"median_age\": 32.2, \"people_fully_vaccinated_per_hundred\": 41.74}, {\"date\": \"2021-11-02T00:00:00\", \"location\": \"Colombia\", \"median_age\": 32.2, \"people_fully_vaccinated_per_hundred\": 42.06}, {\"date\": \"2021-11-03T00:00:00\", \"location\": \"Colombia\", \"median_age\": 32.2, \"people_fully_vaccinated_per_hundred\": 42.29}, {\"date\": \"2021-11-04T00:00:00\", \"location\": \"Colombia\", \"median_age\": 32.2, \"people_fully_vaccinated_per_hundred\": 42.55}, {\"date\": \"2021-11-06T00:00:00\", \"location\": \"Colombia\", \"median_age\": 32.2, \"people_fully_vaccinated_per_hundred\": 43.05}, {\"date\": \"2021-11-07T00:00:00\", \"location\": \"Colombia\", \"median_age\": 32.2, \"people_fully_vaccinated_per_hundred\": 43.19}, {\"date\": \"2021-11-08T00:00:00\", \"location\": \"Colombia\", \"median_age\": 32.2, \"people_fully_vaccinated_per_hundred\": 43.4}, {\"date\": \"2021-11-10T00:00:00\", \"location\": \"Colombia\", \"median_age\": 32.2, \"people_fully_vaccinated_per_hundred\": 43.89}, {\"date\": \"2021-11-11T00:00:00\", \"location\": \"Colombia\", \"median_age\": 32.2, \"people_fully_vaccinated_per_hundred\": 44.14}, {\"date\": \"2021-11-12T00:00:00\", \"location\": \"Colombia\", \"median_age\": 32.2, \"people_fully_vaccinated_per_hundred\": 44.39}, {\"date\": \"2021-11-14T00:00:00\", \"location\": \"Colombia\", \"median_age\": 32.2, \"people_fully_vaccinated_per_hundred\": 44.75}, {\"date\": \"2021-11-15T00:00:00\", \"location\": \"Colombia\", \"median_age\": 32.2, \"people_fully_vaccinated_per_hundred\": 44.84}, {\"date\": \"2021-11-16T00:00:00\", \"location\": \"Colombia\", \"median_age\": 32.2, \"people_fully_vaccinated_per_hundred\": 45.09}, {\"date\": \"2021-11-17T00:00:00\", \"location\": \"Colombia\", \"median_age\": 32.2, \"people_fully_vaccinated_per_hundred\": 45.38}, {\"date\": \"2021-11-18T00:00:00\", \"location\": \"Colombia\", \"median_age\": 32.2, \"people_fully_vaccinated_per_hundred\": 45.66}, {\"date\": \"2021-11-19T00:00:00\", \"location\": \"Colombia\", \"median_age\": 32.2, \"people_fully_vaccinated_per_hundred\": 45.93}, {\"date\": \"2021-11-20T00:00:00\", \"location\": \"Colombia\", \"median_age\": 32.2, \"people_fully_vaccinated_per_hundred\": 46.16}, {\"date\": \"2021-11-21T00:00:00\", \"location\": \"Colombia\", \"median_age\": 32.2, \"people_fully_vaccinated_per_hundred\": 46.27}, {\"date\": \"2021-11-22T00:00:00\", \"location\": \"Colombia\", \"median_age\": 32.2, \"people_fully_vaccinated_per_hundred\": 46.52}, {\"date\": \"2021-11-23T00:00:00\", \"location\": \"Colombia\", \"median_age\": 32.2, \"people_fully_vaccinated_per_hundred\": 46.75}, {\"date\": \"2021-11-24T00:00:00\", \"location\": \"Colombia\", \"median_age\": 32.2, \"people_fully_vaccinated_per_hundred\": 46.99}, {\"date\": \"2021-11-26T00:00:00\", \"location\": \"Colombia\", \"median_age\": 32.2, \"people_fully_vaccinated_per_hundred\": 47.46}, {\"date\": \"2021-11-27T00:00:00\", \"location\": \"Colombia\", \"median_age\": 32.2, \"people_fully_vaccinated_per_hundred\": 47.64}, {\"date\": \"2021-11-28T00:00:00\", \"location\": \"Colombia\", \"median_age\": 32.2, \"people_fully_vaccinated_per_hundred\": 47.75}, {\"date\": \"2021-11-29T00:00:00\", \"location\": \"Colombia\", \"median_age\": 32.2, \"people_fully_vaccinated_per_hundred\": 47.98}, {\"date\": \"2021-11-30T00:00:00\", \"location\": \"Colombia\", \"median_age\": 32.2, \"people_fully_vaccinated_per_hundred\": 48.27}, {\"date\": \"2021-12-01T00:00:00\", \"location\": \"Colombia\", \"median_age\": 32.2, \"people_fully_vaccinated_per_hundred\": 48.82}, {\"date\": \"2021-12-03T00:00:00\", \"location\": \"Colombia\", \"median_age\": 32.2, \"people_fully_vaccinated_per_hundred\": 49.1}, {\"date\": \"2021-12-05T00:00:00\", \"location\": \"Colombia\", \"median_age\": 32.2, \"people_fully_vaccinated_per_hundred\": 49.49}, {\"date\": \"2021-12-06T00:00:00\", \"location\": \"Colombia\", \"median_age\": 32.2, \"people_fully_vaccinated_per_hundred\": 49.78}, {\"date\": \"2021-12-07T00:00:00\", \"location\": \"Colombia\", \"median_age\": 32.2, \"people_fully_vaccinated_per_hundred\": 50.03}, {\"date\": \"2021-12-09T00:00:00\", \"location\": \"Colombia\", \"median_age\": 32.2, \"people_fully_vaccinated_per_hundred\": 50.45}, {\"date\": \"2021-12-10T00:00:00\", \"location\": \"Colombia\", \"median_age\": 32.2, \"people_fully_vaccinated_per_hundred\": 50.8}, {\"date\": \"2021-12-11T00:00:00\", \"location\": \"Colombia\", \"median_age\": 32.2, \"people_fully_vaccinated_per_hundred\": 51.04}, {\"date\": \"2021-12-12T00:00:00\", \"location\": \"Colombia\", \"median_age\": 32.2, \"people_fully_vaccinated_per_hundred\": 51.19}, {\"date\": \"2021-12-13T00:00:00\", \"location\": \"Colombia\", \"median_age\": 32.2, \"people_fully_vaccinated_per_hundred\": 51.49}, {\"date\": \"2021-12-14T00:00:00\", \"location\": \"Colombia\", \"median_age\": 32.2, \"people_fully_vaccinated_per_hundred\": 51.82}, {\"date\": \"2021-12-15T00:00:00\", \"location\": \"Colombia\", \"median_age\": 32.2, \"people_fully_vaccinated_per_hundred\": 52.15}, {\"date\": \"2021-12-17T00:00:00\", \"location\": \"Colombia\", \"median_age\": 32.2, \"people_fully_vaccinated_per_hundred\": 52.82}, {\"date\": \"2021-12-18T00:00:00\", \"location\": \"Colombia\", \"median_age\": 32.2, \"people_fully_vaccinated_per_hundred\": 53.06}, {\"date\": \"2021-12-19T00:00:00\", \"location\": \"Colombia\", \"median_age\": 32.2, \"people_fully_vaccinated_per_hundred\": 53.19}, {\"date\": \"2021-12-22T00:00:00\", \"location\": \"Colombia\", \"median_age\": 32.2, \"people_fully_vaccinated_per_hundred\": 54.08}, {\"date\": \"2021-12-24T00:00:00\", \"location\": \"Colombia\", \"median_age\": 32.2, \"people_fully_vaccinated_per_hundred\": 54.33}, {\"date\": \"2021-12-26T00:00:00\", \"location\": \"Colombia\", \"median_age\": 32.2, \"people_fully_vaccinated_per_hundred\": 54.37}, {\"date\": \"2021-12-27T00:00:00\", \"location\": \"Colombia\", \"median_age\": 32.2, \"people_fully_vaccinated_per_hundred\": 54.6}, {\"date\": \"2021-12-29T00:00:00\", \"location\": \"Colombia\", \"median_age\": 32.2, \"people_fully_vaccinated_per_hundred\": 55.03}, {\"date\": \"2021-12-30T00:00:00\", \"location\": \"Colombia\", \"median_age\": 32.2, \"people_fully_vaccinated_per_hundred\": 55.2}, {\"date\": \"2021-12-31T00:00:00\", \"location\": \"Colombia\", \"median_age\": 32.2, \"people_fully_vaccinated_per_hundred\": 55.25}, {\"date\": \"2022-01-02T00:00:00\", \"location\": \"Colombia\", \"median_age\": 32.2, \"people_fully_vaccinated_per_hundred\": 55.29}, {\"date\": \"2022-01-03T00:00:00\", \"location\": \"Colombia\", \"median_age\": 32.2, \"people_fully_vaccinated_per_hundred\": 55.52}, {\"date\": \"2022-01-04T00:00:00\", \"location\": \"Colombia\", \"median_age\": 32.2, \"people_fully_vaccinated_per_hundred\": 55.79}, {\"date\": \"2022-01-05T00:00:00\", \"location\": \"Colombia\", \"median_age\": 32.2, \"people_fully_vaccinated_per_hundred\": 56.06}, {\"date\": \"2022-01-06T00:00:00\", \"location\": \"Colombia\", \"median_age\": 32.2, \"people_fully_vaccinated_per_hundred\": 56.38}, {\"date\": \"2022-01-08T00:00:00\", \"location\": \"Colombia\", \"median_age\": 32.2, \"people_fully_vaccinated_per_hundred\": 56.88}, {\"date\": \"2022-01-09T00:00:00\", \"location\": \"Colombia\", \"median_age\": 32.2, \"people_fully_vaccinated_per_hundred\": 56.99}, {\"date\": \"2022-01-10T00:00:00\", \"location\": \"Colombia\", \"median_age\": 32.2, \"people_fully_vaccinated_per_hundred\": 57.09}, {\"date\": \"2022-01-11T00:00:00\", \"location\": \"Colombia\", \"median_age\": 32.2, \"people_fully_vaccinated_per_hundred\": 57.36}, {\"date\": \"2022-01-12T00:00:00\", \"location\": \"Colombia\", \"median_age\": 32.2, \"people_fully_vaccinated_per_hundred\": 57.65}, {\"date\": \"2022-01-13T00:00:00\", \"location\": \"Colombia\", \"median_age\": 32.2, \"people_fully_vaccinated_per_hundred\": 57.93}, {\"date\": \"2022-01-14T00:00:00\", \"location\": \"Colombia\", \"median_age\": 32.2, \"people_fully_vaccinated_per_hundred\": 58.18}, {\"date\": \"2022-01-15T00:00:00\", \"location\": \"Colombia\", \"median_age\": 32.2, \"people_fully_vaccinated_per_hundred\": 58.39}, {\"date\": \"2022-01-17T00:00:00\", \"location\": \"Colombia\", \"median_age\": 32.2, \"people_fully_vaccinated_per_hundred\": 58.76}, {\"date\": \"2022-01-18T00:00:00\", \"location\": \"Colombia\", \"median_age\": 32.2, \"people_fully_vaccinated_per_hundred\": 59.01}, {\"date\": \"2022-01-19T00:00:00\", \"location\": \"Colombia\", \"median_age\": 32.2, \"people_fully_vaccinated_per_hundred\": 59.29}, {\"date\": \"2022-01-21T00:00:00\", \"location\": \"Colombia\", \"median_age\": 32.2, \"people_fully_vaccinated_per_hundred\": 59.85}, {\"date\": \"2022-01-23T00:00:00\", \"location\": \"Colombia\", \"median_age\": 32.2, \"people_fully_vaccinated_per_hundred\": 60.13}, {\"date\": \"2022-01-24T00:00:00\", \"location\": \"Colombia\", \"median_age\": 32.2, \"people_fully_vaccinated_per_hundred\": 60.36}, {\"date\": \"2022-01-25T00:00:00\", \"location\": \"Colombia\", \"median_age\": 32.2, \"people_fully_vaccinated_per_hundred\": 60.59}, {\"date\": \"2022-01-27T00:00:00\", \"location\": \"Colombia\", \"median_age\": 32.2, \"people_fully_vaccinated_per_hundred\": 61.05}, {\"date\": \"2022-01-28T00:00:00\", \"location\": \"Colombia\", \"median_age\": 32.2, \"people_fully_vaccinated_per_hundred\": 61.25}, {\"date\": \"2022-01-29T00:00:00\", \"location\": \"Colombia\", \"median_age\": 32.2, \"people_fully_vaccinated_per_hundred\": 61.49}, {\"date\": \"2022-01-30T00:00:00\", \"location\": \"Colombia\", \"median_age\": 32.2, \"people_fully_vaccinated_per_hundred\": 61.58}, {\"date\": \"2022-01-31T00:00:00\", \"location\": \"Colombia\", \"median_age\": 32.2, \"people_fully_vaccinated_per_hundred\": 61.77}, {\"date\": \"2022-02-01T00:00:00\", \"location\": \"Colombia\", \"median_age\": 32.2, \"people_fully_vaccinated_per_hundred\": 61.96}, {\"date\": \"2022-02-02T00:00:00\", \"location\": \"Colombia\", \"median_age\": 32.2, \"people_fully_vaccinated_per_hundred\": 62.34}, {\"date\": \"2022-02-04T00:00:00\", \"location\": \"Colombia\", \"median_age\": 32.2, \"people_fully_vaccinated_per_hundred\": 62.57}, {\"date\": \"2022-02-05T00:00:00\", \"location\": \"Colombia\", \"median_age\": 32.2, \"people_fully_vaccinated_per_hundred\": 62.72}], \"data-be862655c8958ce43bd0c1fb710c12ba\": [{\"date\": \"2021-01-30T00:00:00\", \"location\": \"Netherlands\", \"median_age\": 43.2, \"people_fully_vaccinated_per_hundred\": 0.01}, {\"date\": \"2021-02-06T00:00:00\", \"location\": \"Netherlands\", \"median_age\": 43.2, \"people_fully_vaccinated_per_hundred\": 0.15}, {\"date\": \"2021-02-13T00:00:00\", \"location\": \"Netherlands\", \"median_age\": 43.2, \"people_fully_vaccinated_per_hundred\": 0.57}, {\"date\": \"2021-02-20T00:00:00\", \"location\": \"Netherlands\", \"median_age\": 43.2, \"people_fully_vaccinated_per_hundred\": 0.96}, {\"date\": \"2021-02-27T00:00:00\", \"location\": \"Netherlands\", \"median_age\": 43.2, \"people_fully_vaccinated_per_hundred\": 1.62}, {\"date\": \"2021-03-06T00:00:00\", \"location\": \"Netherlands\", \"median_age\": 43.2, \"people_fully_vaccinated_per_hundred\": 2.11}, {\"date\": \"2021-03-13T00:00:00\", \"location\": \"Netherlands\", \"median_age\": 43.2, \"people_fully_vaccinated_per_hundred\": 2.62}, {\"date\": \"2021-03-20T00:00:00\", \"location\": \"Netherlands\", \"median_age\": 43.2, \"people_fully_vaccinated_per_hundred\": 3.36}, {\"date\": \"2021-03-27T00:00:00\", \"location\": \"Netherlands\", \"median_age\": 43.2, \"people_fully_vaccinated_per_hundred\": 3.93}, {\"date\": \"2021-04-03T00:00:00\", \"location\": \"Netherlands\", \"median_age\": 43.2, \"people_fully_vaccinated_per_hundred\": 4.57}, {\"date\": \"2021-04-10T00:00:00\", \"location\": \"Netherlands\", \"median_age\": 43.2, \"people_fully_vaccinated_per_hundred\": 5.32}, {\"date\": \"2021-04-17T00:00:00\", \"location\": \"Netherlands\", \"median_age\": 43.2, \"people_fully_vaccinated_per_hundred\": 5.86}, {\"date\": \"2021-04-24T00:00:00\", \"location\": \"Netherlands\", \"median_age\": 43.2, \"people_fully_vaccinated_per_hundred\": 6.6}, {\"date\": \"2021-05-01T00:00:00\", \"location\": \"Netherlands\", \"median_age\": 43.2, \"people_fully_vaccinated_per_hundred\": 7.37}, {\"date\": \"2021-05-08T00:00:00\", \"location\": \"Netherlands\", \"median_age\": 43.2, \"people_fully_vaccinated_per_hundred\": 9.23}, {\"date\": \"2021-05-15T00:00:00\", \"location\": \"Netherlands\", \"median_age\": 43.2, \"people_fully_vaccinated_per_hundred\": 11.25}, {\"date\": \"2021-05-22T00:00:00\", \"location\": \"Netherlands\", \"median_age\": 43.2, \"people_fully_vaccinated_per_hundred\": 14.39}, {\"date\": \"2021-05-29T00:00:00\", \"location\": \"Netherlands\", \"median_age\": 43.2, \"people_fully_vaccinated_per_hundred\": 17.99}, {\"date\": \"2021-06-05T00:00:00\", \"location\": \"Netherlands\", \"median_age\": 43.2, \"people_fully_vaccinated_per_hundred\": 22.37}, {\"date\": \"2021-06-12T00:00:00\", \"location\": \"Netherlands\", \"median_age\": 43.2, \"people_fully_vaccinated_per_hundred\": 26.39}, {\"date\": \"2021-06-19T00:00:00\", \"location\": \"Netherlands\", \"median_age\": 43.2, \"people_fully_vaccinated_per_hundred\": 30.42}, {\"date\": \"2021-06-26T00:00:00\", \"location\": \"Netherlands\", \"median_age\": 43.2, \"people_fully_vaccinated_per_hundred\": 34.48}, {\"date\": \"2021-07-03T00:00:00\", \"location\": \"Netherlands\", \"median_age\": 43.2, \"people_fully_vaccinated_per_hundred\": 38.34}, {\"date\": \"2021-07-10T00:00:00\", \"location\": \"Netherlands\", \"median_age\": 43.2, \"people_fully_vaccinated_per_hundred\": 41.17}, {\"date\": \"2021-07-17T00:00:00\", \"location\": \"Netherlands\", \"median_age\": 43.2, \"people_fully_vaccinated_per_hundred\": 46.34}, {\"date\": \"2021-07-24T00:00:00\", \"location\": \"Netherlands\", \"median_age\": 43.2, \"people_fully_vaccinated_per_hundred\": 50.21}, {\"date\": \"2021-07-31T00:00:00\", \"location\": \"Netherlands\", \"median_age\": 43.2, \"people_fully_vaccinated_per_hundred\": 54.07}, {\"date\": \"2021-08-07T00:00:00\", \"location\": \"Netherlands\", \"median_age\": 43.2, \"people_fully_vaccinated_per_hundred\": 58.39}, {\"date\": \"2021-08-14T00:00:00\", \"location\": \"Netherlands\", \"median_age\": 43.2, \"people_fully_vaccinated_per_hundred\": 62.19}, {\"date\": \"2021-08-21T00:00:00\", \"location\": \"Netherlands\", \"median_age\": 43.2, \"people_fully_vaccinated_per_hundred\": 63.52}, {\"date\": \"2021-08-28T00:00:00\", \"location\": \"Netherlands\", \"median_age\": 43.2, \"people_fully_vaccinated_per_hundred\": 64.73}, {\"date\": \"2021-09-04T00:00:00\", \"location\": \"Netherlands\", \"median_age\": 43.2, \"people_fully_vaccinated_per_hundred\": 65.66}, {\"date\": \"2021-09-11T00:00:00\", \"location\": \"Netherlands\", \"median_age\": 43.2, \"people_fully_vaccinated_per_hundred\": 66.16}, {\"date\": \"2021-09-18T00:00:00\", \"location\": \"Netherlands\", \"median_age\": 43.2, \"people_fully_vaccinated_per_hundred\": 66.66}, {\"date\": \"2021-09-25T00:00:00\", \"location\": \"Netherlands\", \"median_age\": 43.2, \"people_fully_vaccinated_per_hundred\": 67.15}, {\"date\": \"2021-10-02T00:00:00\", \"location\": \"Netherlands\", \"median_age\": 43.2, \"people_fully_vaccinated_per_hundred\": 67.57}, {\"date\": \"2021-10-09T00:00:00\", \"location\": \"Netherlands\", \"median_age\": 43.2, \"people_fully_vaccinated_per_hundred\": 67.95}, {\"date\": \"2021-10-16T00:00:00\", \"location\": \"Netherlands\", \"median_age\": 43.2, \"people_fully_vaccinated_per_hundred\": 68.3}, {\"date\": \"2021-10-23T00:00:00\", \"location\": \"Netherlands\", \"median_age\": 43.2, \"people_fully_vaccinated_per_hundred\": 68.61}, {\"date\": \"2021-10-30T00:00:00\", \"location\": \"Netherlands\", \"median_age\": 43.2, \"people_fully_vaccinated_per_hundred\": 68.93}, {\"date\": \"2021-11-06T00:00:00\", \"location\": \"Netherlands\", \"median_age\": 43.2, \"people_fully_vaccinated_per_hundred\": 69.21}, {\"date\": \"2021-11-13T00:00:00\", \"location\": \"Netherlands\", \"median_age\": 43.2, \"people_fully_vaccinated_per_hundred\": 69.49}, {\"date\": \"2021-11-20T00:00:00\", \"location\": \"Netherlands\", \"median_age\": 43.2, \"people_fully_vaccinated_per_hundred\": 69.77}, {\"date\": \"2021-11-27T00:00:00\", \"location\": \"Netherlands\", \"median_age\": 43.2, \"people_fully_vaccinated_per_hundred\": 70.11}, {\"date\": \"2021-12-04T00:00:00\", \"location\": \"Netherlands\", \"median_age\": 43.2, \"people_fully_vaccinated_per_hundred\": 70.45}, {\"date\": \"2021-12-11T00:00:00\", \"location\": \"Netherlands\", \"median_age\": 43.2, \"people_fully_vaccinated_per_hundred\": 70.77}, {\"date\": \"2021-12-18T00:00:00\", \"location\": \"Netherlands\", \"median_age\": 43.2, \"people_fully_vaccinated_per_hundred\": 71.03}, {\"date\": \"2021-12-25T00:00:00\", \"location\": \"Netherlands\", \"median_age\": 43.2, \"people_fully_vaccinated_per_hundred\": 71.18}, {\"date\": \"2022-01-01T00:00:00\", \"location\": \"Netherlands\", \"median_age\": 43.2, \"people_fully_vaccinated_per_hundred\": 71.32}, {\"date\": \"2022-01-08T00:00:00\", \"location\": \"Netherlands\", \"median_age\": 43.2, \"people_fully_vaccinated_per_hundred\": 71.47}, {\"date\": \"2022-01-15T00:00:00\", \"location\": \"Netherlands\", \"median_age\": 43.2, \"people_fully_vaccinated_per_hundred\": 71.59}, {\"date\": \"2022-01-22T00:00:00\", \"location\": \"Netherlands\", \"median_age\": 43.2, \"people_fully_vaccinated_per_hundred\": 71.68}, {\"date\": \"2022-01-29T00:00:00\", \"location\": \"Netherlands\", \"median_age\": 43.2, \"people_fully_vaccinated_per_hundred\": 71.76}, {\"date\": \"2022-02-05T00:00:00\", \"location\": \"Netherlands\", \"median_age\": 43.2, \"people_fully_vaccinated_per_hundred\": 71.79}]}}, {\"mode\": \"vega-lite\"});\n</script>"
                },
                "metadata": {}
              }
            ],
            "_view_module": "@jupyter-widgets/output",
            "_model_module_version": "1.0.0",
            "_view_count": null,
            "_view_module_version": "1.0.0",
            "layout": "IPY_MODEL_753a33d5094e4194a84ec68a791590e2",
            "_model_module": "@jupyter-widgets/output"
          }
        },
        "3a4a003a33fb455896f560495517f941": {
          "model_module": "@jupyter-widgets/controls",
          "model_name": "DescriptionStyleModel",
          "model_module_version": "1.5.0",
          "state": {
            "_view_name": "StyleView",
            "_model_name": "DescriptionStyleModel",
            "description_width": "",
            "_view_module": "@jupyter-widgets/base",
            "_model_module_version": "1.5.0",
            "_view_count": null,
            "_view_module_version": "1.2.0",
            "_model_module": "@jupyter-widgets/controls"
          }
        },
        "b632452ae1bf4c8a9c5e3b7a44789c42": {
          "model_module": "@jupyter-widgets/base",
          "model_name": "LayoutModel",
          "model_module_version": "1.2.0",
          "state": {
            "_view_name": "LayoutView",
            "grid_template_rows": null,
            "right": null,
            "justify_content": null,
            "_view_module": "@jupyter-widgets/base",
            "overflow": null,
            "_model_module_version": "1.2.0",
            "_view_count": null,
            "flex_flow": null,
            "width": null,
            "min_width": null,
            "border": null,
            "align_items": null,
            "bottom": null,
            "_model_module": "@jupyter-widgets/base",
            "top": null,
            "grid_column": null,
            "overflow_y": null,
            "overflow_x": null,
            "grid_auto_flow": null,
            "grid_area": null,
            "grid_template_columns": null,
            "flex": null,
            "_model_name": "LayoutModel",
            "justify_items": null,
            "grid_row": null,
            "max_height": null,
            "align_content": null,
            "visibility": null,
            "align_self": null,
            "height": null,
            "min_height": null,
            "padding": null,
            "grid_auto_rows": null,
            "grid_gap": null,
            "max_width": null,
            "order": null,
            "_view_module_version": "1.2.0",
            "grid_template_areas": null,
            "object_position": null,
            "object_fit": null,
            "grid_auto_columns": null,
            "margin": null,
            "display": null,
            "left": null
          }
        },
        "d84302b6ded146f38bb0ec4ff87f4f6d": {
          "model_module": "@jupyter-widgets/controls",
          "model_name": "DescriptionStyleModel",
          "model_module_version": "1.5.0",
          "state": {
            "_view_name": "StyleView",
            "_model_name": "DescriptionStyleModel",
            "description_width": "",
            "_view_module": "@jupyter-widgets/base",
            "_model_module_version": "1.5.0",
            "_view_count": null,
            "_view_module_version": "1.2.0",
            "_model_module": "@jupyter-widgets/controls"
          }
        },
        "509aaeb56d97483a911a83daf0bf7e3f": {
          "model_module": "@jupyter-widgets/base",
          "model_name": "LayoutModel",
          "model_module_version": "1.2.0",
          "state": {
            "_view_name": "LayoutView",
            "grid_template_rows": null,
            "right": null,
            "justify_content": null,
            "_view_module": "@jupyter-widgets/base",
            "overflow": null,
            "_model_module_version": "1.2.0",
            "_view_count": null,
            "flex_flow": null,
            "width": null,
            "min_width": null,
            "border": null,
            "align_items": null,
            "bottom": null,
            "_model_module": "@jupyter-widgets/base",
            "top": null,
            "grid_column": null,
            "overflow_y": null,
            "overflow_x": null,
            "grid_auto_flow": null,
            "grid_area": null,
            "grid_template_columns": null,
            "flex": null,
            "_model_name": "LayoutModel",
            "justify_items": null,
            "grid_row": null,
            "max_height": null,
            "align_content": null,
            "visibility": null,
            "align_self": null,
            "height": null,
            "min_height": null,
            "padding": null,
            "grid_auto_rows": null,
            "grid_gap": null,
            "max_width": null,
            "order": null,
            "_view_module_version": "1.2.0",
            "grid_template_areas": null,
            "object_position": null,
            "object_fit": null,
            "grid_auto_columns": null,
            "margin": null,
            "display": null,
            "left": null
          }
        },
        "59e7c2df2f094f679b76e3c3d313172d": {
          "model_module": "@jupyter-widgets/controls",
          "model_name": "DescriptionStyleModel",
          "model_module_version": "1.5.0",
          "state": {
            "_view_name": "StyleView",
            "_model_name": "DescriptionStyleModel",
            "description_width": "",
            "_view_module": "@jupyter-widgets/base",
            "_model_module_version": "1.5.0",
            "_view_count": null,
            "_view_module_version": "1.2.0",
            "_model_module": "@jupyter-widgets/controls"
          }
        },
        "ac1887f700014093a8ab8c4f66014b2c": {
          "model_module": "@jupyter-widgets/base",
          "model_name": "LayoutModel",
          "model_module_version": "1.2.0",
          "state": {
            "_view_name": "LayoutView",
            "grid_template_rows": null,
            "right": null,
            "justify_content": null,
            "_view_module": "@jupyter-widgets/base",
            "overflow": null,
            "_model_module_version": "1.2.0",
            "_view_count": null,
            "flex_flow": null,
            "width": null,
            "min_width": null,
            "border": null,
            "align_items": null,
            "bottom": null,
            "_model_module": "@jupyter-widgets/base",
            "top": null,
            "grid_column": null,
            "overflow_y": null,
            "overflow_x": null,
            "grid_auto_flow": null,
            "grid_area": null,
            "grid_template_columns": null,
            "flex": null,
            "_model_name": "LayoutModel",
            "justify_items": null,
            "grid_row": null,
            "max_height": null,
            "align_content": null,
            "visibility": null,
            "align_self": null,
            "height": null,
            "min_height": null,
            "padding": null,
            "grid_auto_rows": null,
            "grid_gap": null,
            "max_width": null,
            "order": null,
            "_view_module_version": "1.2.0",
            "grid_template_areas": null,
            "object_position": null,
            "object_fit": null,
            "grid_auto_columns": null,
            "margin": null,
            "display": null,
            "left": null
          }
        },
        "3d0e6e77e084427d9e5f780541190a2b": {
          "model_module": "@jupyter-widgets/controls",
          "model_name": "DescriptionStyleModel",
          "model_module_version": "1.5.0",
          "state": {
            "_view_name": "StyleView",
            "_model_name": "DescriptionStyleModel",
            "description_width": "",
            "_view_module": "@jupyter-widgets/base",
            "_model_module_version": "1.5.0",
            "_view_count": null,
            "_view_module_version": "1.2.0",
            "_model_module": "@jupyter-widgets/controls"
          }
        },
        "1453f8e602fa44ff80d6f4b1164ca47f": {
          "model_module": "@jupyter-widgets/base",
          "model_name": "LayoutModel",
          "model_module_version": "1.2.0",
          "state": {
            "_view_name": "LayoutView",
            "grid_template_rows": null,
            "right": null,
            "justify_content": null,
            "_view_module": "@jupyter-widgets/base",
            "overflow": null,
            "_model_module_version": "1.2.0",
            "_view_count": null,
            "flex_flow": null,
            "width": null,
            "min_width": null,
            "border": null,
            "align_items": null,
            "bottom": null,
            "_model_module": "@jupyter-widgets/base",
            "top": null,
            "grid_column": null,
            "overflow_y": null,
            "overflow_x": null,
            "grid_auto_flow": null,
            "grid_area": null,
            "grid_template_columns": null,
            "flex": null,
            "_model_name": "LayoutModel",
            "justify_items": null,
            "grid_row": null,
            "max_height": null,
            "align_content": null,
            "visibility": null,
            "align_self": null,
            "height": null,
            "min_height": null,
            "padding": null,
            "grid_auto_rows": null,
            "grid_gap": null,
            "max_width": null,
            "order": null,
            "_view_module_version": "1.2.0",
            "grid_template_areas": null,
            "object_position": null,
            "object_fit": null,
            "grid_auto_columns": null,
            "margin": null,
            "display": null,
            "left": null
          }
        },
        "753a33d5094e4194a84ec68a791590e2": {
          "model_module": "@jupyter-widgets/base",
          "model_name": "LayoutModel",
          "model_module_version": "1.2.0",
          "state": {
            "_view_name": "LayoutView",
            "grid_template_rows": null,
            "right": null,
            "justify_content": null,
            "_view_module": "@jupyter-widgets/base",
            "overflow": null,
            "_model_module_version": "1.2.0",
            "_view_count": null,
            "flex_flow": null,
            "width": null,
            "min_width": null,
            "border": null,
            "align_items": null,
            "bottom": null,
            "_model_module": "@jupyter-widgets/base",
            "top": null,
            "grid_column": null,
            "overflow_y": null,
            "overflow_x": null,
            "grid_auto_flow": null,
            "grid_area": null,
            "grid_template_columns": null,
            "flex": null,
            "_model_name": "LayoutModel",
            "justify_items": null,
            "grid_row": null,
            "max_height": null,
            "align_content": null,
            "visibility": null,
            "align_self": null,
            "height": null,
            "min_height": null,
            "padding": null,
            "grid_auto_rows": null,
            "grid_gap": null,
            "max_width": null,
            "order": null,
            "_view_module_version": "1.2.0",
            "grid_template_areas": null,
            "object_position": null,
            "object_fit": null,
            "grid_auto_columns": null,
            "margin": null,
            "display": null,
            "left": null
          }
        },
        "c64bc3d77fee419abc8cf6495320268b": {
          "model_module": "@jupyter-widgets/controls",
          "model_name": "VBoxModel",
          "model_module_version": "1.5.0",
          "state": {
            "_view_name": "VBoxView",
            "_dom_classes": [
              "widget-interact"
            ],
            "_model_name": "VBoxModel",
            "_view_module": "@jupyter-widgets/controls",
            "_model_module_version": "1.5.0",
            "_view_count": null,
            "_view_module_version": "1.5.0",
            "box_style": "",
            "layout": "IPY_MODEL_ac09e5adba654259b016febd8fdefcc9",
            "_model_module": "@jupyter-widgets/controls",
            "children": [
              "IPY_MODEL_78d3703101a246e681737ebf0c0883ae",
              "IPY_MODEL_4dd0268fadb14aa794d2fcc1f91a07d8"
            ]
          }
        },
        "ac09e5adba654259b016febd8fdefcc9": {
          "model_module": "@jupyter-widgets/base",
          "model_name": "LayoutModel",
          "model_module_version": "1.2.0",
          "state": {
            "_view_name": "LayoutView",
            "grid_template_rows": null,
            "right": null,
            "justify_content": null,
            "_view_module": "@jupyter-widgets/base",
            "overflow": null,
            "_model_module_version": "1.2.0",
            "_view_count": null,
            "flex_flow": null,
            "width": null,
            "min_width": null,
            "border": null,
            "align_items": null,
            "bottom": null,
            "_model_module": "@jupyter-widgets/base",
            "top": null,
            "grid_column": null,
            "overflow_y": null,
            "overflow_x": null,
            "grid_auto_flow": null,
            "grid_area": null,
            "grid_template_columns": null,
            "flex": null,
            "_model_name": "LayoutModel",
            "justify_items": null,
            "grid_row": null,
            "max_height": null,
            "align_content": null,
            "visibility": null,
            "align_self": null,
            "height": null,
            "min_height": null,
            "padding": null,
            "grid_auto_rows": null,
            "grid_gap": null,
            "max_width": null,
            "order": null,
            "_view_module_version": "1.2.0",
            "grid_template_areas": null,
            "object_position": null,
            "object_fit": null,
            "grid_auto_columns": null,
            "margin": null,
            "display": null,
            "left": null
          }
        },
        "78d3703101a246e681737ebf0c0883ae": {
          "model_module": "@jupyter-widgets/controls",
          "model_name": "DropdownModel",
          "model_module_version": "1.5.0",
          "state": {
            "_options_labels": [
              "Belgium",
              "Canada",
              "Colombia",
              "Netherlands",
              "South Korea",
              "Zambia"
            ],
            "_view_name": "DropdownView",
            "style": "IPY_MODEL_302360e2dc774ee2ba101d63abab0426",
            "_dom_classes": [],
            "description": "country",
            "_model_name": "DropdownModel",
            "index": 2,
            "_view_module": "@jupyter-widgets/controls",
            "_model_module_version": "1.5.0",
            "_view_count": null,
            "disabled": false,
            "_view_module_version": "1.5.0",
            "description_tooltip": null,
            "_model_module": "@jupyter-widgets/controls",
            "layout": "IPY_MODEL_075348ee9282473fb72a16139ccada43"
          }
        },
        "4dd0268fadb14aa794d2fcc1f91a07d8": {
          "model_module": "@jupyter-widgets/output",
          "model_name": "OutputModel",
          "model_module_version": "1.0.0",
          "state": {
            "_view_name": "OutputView",
            "msg_id": "",
            "_dom_classes": [],
            "_model_name": "OutputModel",
            "outputs": [
              {
                "output_type": "stream",
                "name": "stdout",
                "text": [
                  "\n",
                  "The median age in Colombia is: 32.2 \n",
                  "The mean of fully vaccinated people per 100 in Colombia is: 27.32\n"
                ]
              }
            ],
            "_view_module": "@jupyter-widgets/output",
            "_model_module_version": "1.0.0",
            "_view_count": null,
            "_view_module_version": "1.0.0",
            "layout": "IPY_MODEL_ffeb75a33fb14f07992f94fb3f4fba57",
            "_model_module": "@jupyter-widgets/output"
          }
        },
        "302360e2dc774ee2ba101d63abab0426": {
          "model_module": "@jupyter-widgets/controls",
          "model_name": "DescriptionStyleModel",
          "model_module_version": "1.5.0",
          "state": {
            "_view_name": "StyleView",
            "_model_name": "DescriptionStyleModel",
            "description_width": "",
            "_view_module": "@jupyter-widgets/base",
            "_model_module_version": "1.5.0",
            "_view_count": null,
            "_view_module_version": "1.2.0",
            "_model_module": "@jupyter-widgets/controls"
          }
        },
        "075348ee9282473fb72a16139ccada43": {
          "model_module": "@jupyter-widgets/base",
          "model_name": "LayoutModel",
          "model_module_version": "1.2.0",
          "state": {
            "_view_name": "LayoutView",
            "grid_template_rows": null,
            "right": null,
            "justify_content": null,
            "_view_module": "@jupyter-widgets/base",
            "overflow": null,
            "_model_module_version": "1.2.0",
            "_view_count": null,
            "flex_flow": null,
            "width": null,
            "min_width": null,
            "border": null,
            "align_items": null,
            "bottom": null,
            "_model_module": "@jupyter-widgets/base",
            "top": null,
            "grid_column": null,
            "overflow_y": null,
            "overflow_x": null,
            "grid_auto_flow": null,
            "grid_area": null,
            "grid_template_columns": null,
            "flex": null,
            "_model_name": "LayoutModel",
            "justify_items": null,
            "grid_row": null,
            "max_height": null,
            "align_content": null,
            "visibility": null,
            "align_self": null,
            "height": null,
            "min_height": null,
            "padding": null,
            "grid_auto_rows": null,
            "grid_gap": null,
            "max_width": null,
            "order": null,
            "_view_module_version": "1.2.0",
            "grid_template_areas": null,
            "object_position": null,
            "object_fit": null,
            "grid_auto_columns": null,
            "margin": null,
            "display": null,
            "left": null
          }
        },
        "ffeb75a33fb14f07992f94fb3f4fba57": {
          "model_module": "@jupyter-widgets/base",
          "model_name": "LayoutModel",
          "model_module_version": "1.2.0",
          "state": {
            "_view_name": "LayoutView",
            "grid_template_rows": null,
            "right": null,
            "justify_content": null,
            "_view_module": "@jupyter-widgets/base",
            "overflow": null,
            "_model_module_version": "1.2.0",
            "_view_count": null,
            "flex_flow": null,
            "width": null,
            "min_width": null,
            "border": null,
            "align_items": null,
            "bottom": null,
            "_model_module": "@jupyter-widgets/base",
            "top": null,
            "grid_column": null,
            "overflow_y": null,
            "overflow_x": null,
            "grid_auto_flow": null,
            "grid_area": null,
            "grid_template_columns": null,
            "flex": null,
            "_model_name": "LayoutModel",
            "justify_items": null,
            "grid_row": null,
            "max_height": null,
            "align_content": null,
            "visibility": null,
            "align_self": null,
            "height": null,
            "min_height": null,
            "padding": null,
            "grid_auto_rows": null,
            "grid_gap": null,
            "max_width": null,
            "order": null,
            "_view_module_version": "1.2.0",
            "grid_template_areas": null,
            "object_position": null,
            "object_fit": null,
            "grid_auto_columns": null,
            "margin": null,
            "display": null,
            "left": null
          }
        },
        "24d84009fb634435a634132e96886e40": {
          "model_module": "@jupyter-widgets/controls",
          "model_name": "VBoxModel",
          "model_module_version": "1.5.0",
          "state": {
            "_view_name": "VBoxView",
            "_dom_classes": [
              "widget-interact"
            ],
            "_model_name": "VBoxModel",
            "_view_module": "@jupyter-widgets/controls",
            "_model_module_version": "1.5.0",
            "_view_count": null,
            "_view_module_version": "1.5.0",
            "box_style": "",
            "layout": "IPY_MODEL_bfaa47240a894f38b85e7ca92d1dc9d4",
            "_model_module": "@jupyter-widgets/controls",
            "children": [
              "IPY_MODEL_021c0aee762f4fb2a591c77f008b045b",
              "IPY_MODEL_5c31289fc55c4e8bbf0a09a1677ad019"
            ]
          }
        },
        "bfaa47240a894f38b85e7ca92d1dc9d4": {
          "model_module": "@jupyter-widgets/base",
          "model_name": "LayoutModel",
          "model_module_version": "1.2.0",
          "state": {
            "_view_name": "LayoutView",
            "grid_template_rows": null,
            "right": null,
            "justify_content": null,
            "_view_module": "@jupyter-widgets/base",
            "overflow": null,
            "_model_module_version": "1.2.0",
            "_view_count": null,
            "flex_flow": null,
            "width": null,
            "min_width": null,
            "border": null,
            "align_items": null,
            "bottom": null,
            "_model_module": "@jupyter-widgets/base",
            "top": null,
            "grid_column": null,
            "overflow_y": null,
            "overflow_x": null,
            "grid_auto_flow": null,
            "grid_area": null,
            "grid_template_columns": null,
            "flex": null,
            "_model_name": "LayoutModel",
            "justify_items": null,
            "grid_row": null,
            "max_height": null,
            "align_content": null,
            "visibility": null,
            "align_self": null,
            "height": null,
            "min_height": null,
            "padding": null,
            "grid_auto_rows": null,
            "grid_gap": null,
            "max_width": null,
            "order": null,
            "_view_module_version": "1.2.0",
            "grid_template_areas": null,
            "object_position": null,
            "object_fit": null,
            "grid_auto_columns": null,
            "margin": null,
            "display": null,
            "left": null
          }
        },
        "021c0aee762f4fb2a591c77f008b045b": {
          "model_module": "@jupyter-widgets/controls",
          "model_name": "DropdownModel",
          "model_module_version": "1.5.0",
          "state": {
            "_options_labels": [
              "Canada",
              "Belgium",
              "Colombia",
              "Netherlands",
              "South Korea",
              "Zambia"
            ],
            "_view_name": "DropdownView",
            "style": "IPY_MODEL_af03643c217c4412b192cb7766210149",
            "_dom_classes": [],
            "description": "country",
            "_model_name": "DropdownModel",
            "index": 5,
            "_view_module": "@jupyter-widgets/controls",
            "_model_module_version": "1.5.0",
            "_view_count": null,
            "disabled": false,
            "_view_module_version": "1.5.0",
            "description_tooltip": null,
            "_model_module": "@jupyter-widgets/controls",
            "layout": "IPY_MODEL_69f53eaa66d3400a865c34093e39f23b"
          }
        },
        "5c31289fc55c4e8bbf0a09a1677ad019": {
          "model_module": "@jupyter-widgets/output",
          "model_name": "OutputModel",
          "model_module_version": "1.0.0",
          "state": {
            "_view_name": "OutputView",
            "msg_id": "",
            "_dom_classes": [],
            "_model_name": "OutputModel",
            "outputs": [
              {
                "output_type": "stream",
                "name": "stdout",
                "text": [
                  "\n",
                  "The median age in Zambia is: 17.7 \n",
                  "The mean of fully vaccinated people per 100 in Zambia is: 2.02\n"
                ]
              }
            ],
            "_view_module": "@jupyter-widgets/output",
            "_model_module_version": "1.0.0",
            "_view_count": null,
            "_view_module_version": "1.0.0",
            "layout": "IPY_MODEL_2000e26749164d0eb73a42624fadcbaa",
            "_model_module": "@jupyter-widgets/output"
          }
        },
        "af03643c217c4412b192cb7766210149": {
          "model_module": "@jupyter-widgets/controls",
          "model_name": "DescriptionStyleModel",
          "model_module_version": "1.5.0",
          "state": {
            "_view_name": "StyleView",
            "_model_name": "DescriptionStyleModel",
            "description_width": "",
            "_view_module": "@jupyter-widgets/base",
            "_model_module_version": "1.5.0",
            "_view_count": null,
            "_view_module_version": "1.2.0",
            "_model_module": "@jupyter-widgets/controls"
          }
        },
        "69f53eaa66d3400a865c34093e39f23b": {
          "model_module": "@jupyter-widgets/base",
          "model_name": "LayoutModel",
          "model_module_version": "1.2.0",
          "state": {
            "_view_name": "LayoutView",
            "grid_template_rows": null,
            "right": null,
            "justify_content": null,
            "_view_module": "@jupyter-widgets/base",
            "overflow": null,
            "_model_module_version": "1.2.0",
            "_view_count": null,
            "flex_flow": null,
            "width": null,
            "min_width": null,
            "border": null,
            "align_items": null,
            "bottom": null,
            "_model_module": "@jupyter-widgets/base",
            "top": null,
            "grid_column": null,
            "overflow_y": null,
            "overflow_x": null,
            "grid_auto_flow": null,
            "grid_area": null,
            "grid_template_columns": null,
            "flex": null,
            "_model_name": "LayoutModel",
            "justify_items": null,
            "grid_row": null,
            "max_height": null,
            "align_content": null,
            "visibility": null,
            "align_self": null,
            "height": null,
            "min_height": null,
            "padding": null,
            "grid_auto_rows": null,
            "grid_gap": null,
            "max_width": null,
            "order": null,
            "_view_module_version": "1.2.0",
            "grid_template_areas": null,
            "object_position": null,
            "object_fit": null,
            "grid_auto_columns": null,
            "margin": null,
            "display": null,
            "left": null
          }
        },
        "2000e26749164d0eb73a42624fadcbaa": {
          "model_module": "@jupyter-widgets/base",
          "model_name": "LayoutModel",
          "model_module_version": "1.2.0",
          "state": {
            "_view_name": "LayoutView",
            "grid_template_rows": null,
            "right": null,
            "justify_content": null,
            "_view_module": "@jupyter-widgets/base",
            "overflow": null,
            "_model_module_version": "1.2.0",
            "_view_count": null,
            "flex_flow": null,
            "width": null,
            "min_width": null,
            "border": null,
            "align_items": null,
            "bottom": null,
            "_model_module": "@jupyter-widgets/base",
            "top": null,
            "grid_column": null,
            "overflow_y": null,
            "overflow_x": null,
            "grid_auto_flow": null,
            "grid_area": null,
            "grid_template_columns": null,
            "flex": null,
            "_model_name": "LayoutModel",
            "justify_items": null,
            "grid_row": null,
            "max_height": null,
            "align_content": null,
            "visibility": null,
            "align_self": null,
            "height": null,
            "min_height": null,
            "padding": null,
            "grid_auto_rows": null,
            "grid_gap": null,
            "max_width": null,
            "order": null,
            "_view_module_version": "1.2.0",
            "grid_template_areas": null,
            "object_position": null,
            "object_fit": null,
            "grid_auto_columns": null,
            "margin": null,
            "display": null,
            "left": null
          }
        }
      }
    }
  },
  "cells": [
    {
      "cell_type": "markdown",
      "source": [
        "# **Python final project**"
      ],
      "metadata": {
        "id": "Bpxe7QI9crFk"
      }
    },
    {
      "cell_type": "markdown",
      "source": [
        "##**Student info**"
      ],
      "metadata": {
        "id": "bu2qZCvzcQW-"
      }
    },
    {
      "cell_type": "markdown",
      "source": [
        "**Name:** Sander van der Graaf \n",
        "\n",
        "**Student id:** 6210266"
      ],
      "metadata": {
        "id": "kqiAprJGdaMR"
      }
    },
    {
      "cell_type": "code",
      "source": [
        "#assignment\n",
        "\n",
        "#deadline = 9th of february 9:00 am\n",
        "\n",
        "#more info on the covid dataset: https://github.com/owid/covid-19-data/tree/master/public/data\n",
        "\n",
        "#introduction (5 pt):\n",
        "#Formulate a research question that allows for explorations and comparisons. --> how does median_age affect people_fully_vaccinated_per_hundred, and what is the data per country? (split in median age+vaccinated, and per country)\n",
        "#For example: How have vaccinations influenced hospitalizations in different European Union (EU) countries? \n",
        "#You can divide this in two steps: \n",
        "# 1. How vaccinations have influenced hospitalizations in a country (i.e Netherlands or Italy); \n",
        "# 2. How does one country compare to the other countries in the EU?\n",
        "\n",
        "#data preparation:\n",
        "#Load the dataset using this link. Copy the link and load it as you did in the practicals. (5 pt)\n",
        "#Select rows and columns relevant to your research question. (15 pt)\n",
        "\n",
        "#explore and clean the data by:\n",
        "#Explore those data using descriptive statistics or visualisations to get to know the dataset and spot possible issues (such as outliers or typos)(10 pt)\n",
        "#Identify and report issues with missing data. (5 pt)\n",
        "#Resolve issues with missing data and clean other data inconsistencies. Report also if you found no issues and how you verified this. (5 pt)\n",
        "\n",
        "#describe and visualise:\n",
        "#Provide a description of the population for the reader (e.g. countries or continents) relevant to your question using a table with descriptive statistics (i.e. means, medians, standard deviations) and where possible visualisation. (15pt)\n",
        "#Make the report interactive: Create at least one interactive visualisation using input from the user. (20pt)\n",
        "#Turn your interactive report into an application using GitHub, Voila and Binder. (15pt)\n",
        "\n",
        "#conclusion (5 pt):\n",
        "#Summarise the work and the main findings related to the initial research question. (5 pt)"
      ],
      "metadata": {
        "id": "zWrc7ut3Y1yA"
      },
      "execution_count": 1,
      "outputs": []
    },
    {
      "cell_type": "code",
      "source": [
        "print('\\n')"
      ],
      "metadata": {
        "colab": {
          "base_uri": "https://localhost:8080/"
        },
        "id": "TW42C_xCPOoz",
        "outputId": "53fcc85e-273e-4003-9ad0-964c427982bf"
      },
      "execution_count": 2,
      "outputs": [
        {
          "output_type": "stream",
          "name": "stdout",
          "text": [
            "\n",
            "\n"
          ]
        }
      ]
    },
    {
      "cell_type": "markdown",
      "source": [
        "\n",
        "Research question:\n",
        "\n",
        "Is there a relation between people fully vaccinated per 100 people and median age in different countries from different continents, using data from 1st of January 2021 onward?"
      ],
      "metadata": {
        "id": "o1pglcXhMybH"
      }
    },
    {
      "cell_type": "markdown",
      "source": [
        "This could later (after exploration) be restricted to a few countries."
      ],
      "metadata": {
        "id": "SWPOMyw1Nvz_"
      }
    },
    {
      "cell_type": "markdown",
      "source": [
        "##Imports"
      ],
      "metadata": {
        "id": "k52puK8vdmnB"
      }
    },
    {
      "cell_type": "markdown",
      "source": [
        "Covid dataset"
      ],
      "metadata": {
        "id": "es8V7LRFgihU"
      }
    },
    {
      "cell_type": "code",
      "source": [
        "#imports (pandas)\n",
        "#covid data import\n",
        "\n",
        "import pandas as pd\n",
        "import numpy as np\n",
        "import altair as alt\n",
        "\n",
        "covid = pd.read_csv(\"https://covid.ourworldindata.org/data/owid-covid-data.csv\", parse_dates=['date'])\n",
        "\n",
        "covid.tail()"
      ],
      "metadata": {
        "colab": {
          "base_uri": "https://localhost:8080/",
          "height": 357
        },
        "id": "v9e0AhXcdl4q",
        "outputId": "d3579c84-3152-43eb-fef9-027213527231"
      },
      "execution_count": 3,
      "outputs": [
        {
          "output_type": "execute_result",
          "data": {
            "text/html": [
              "\n",
              "  <div id=\"df-c131a4e4-3573-4175-a3a4-290f6f9ba875\">\n",
              "    <div class=\"colab-df-container\">\n",
              "      <div>\n",
              "<style scoped>\n",
              "    .dataframe tbody tr th:only-of-type {\n",
              "        vertical-align: middle;\n",
              "    }\n",
              "\n",
              "    .dataframe tbody tr th {\n",
              "        vertical-align: top;\n",
              "    }\n",
              "\n",
              "    .dataframe thead th {\n",
              "        text-align: right;\n",
              "    }\n",
              "</style>\n",
              "<table border=\"1\" class=\"dataframe\">\n",
              "  <thead>\n",
              "    <tr style=\"text-align: right;\">\n",
              "      <th></th>\n",
              "      <th>iso_code</th>\n",
              "      <th>continent</th>\n",
              "      <th>location</th>\n",
              "      <th>date</th>\n",
              "      <th>total_cases</th>\n",
              "      <th>new_cases</th>\n",
              "      <th>new_cases_smoothed</th>\n",
              "      <th>total_deaths</th>\n",
              "      <th>new_deaths</th>\n",
              "      <th>new_deaths_smoothed</th>\n",
              "      <th>total_cases_per_million</th>\n",
              "      <th>new_cases_per_million</th>\n",
              "      <th>new_cases_smoothed_per_million</th>\n",
              "      <th>total_deaths_per_million</th>\n",
              "      <th>new_deaths_per_million</th>\n",
              "      <th>new_deaths_smoothed_per_million</th>\n",
              "      <th>reproduction_rate</th>\n",
              "      <th>icu_patients</th>\n",
              "      <th>icu_patients_per_million</th>\n",
              "      <th>hosp_patients</th>\n",
              "      <th>hosp_patients_per_million</th>\n",
              "      <th>weekly_icu_admissions</th>\n",
              "      <th>weekly_icu_admissions_per_million</th>\n",
              "      <th>weekly_hosp_admissions</th>\n",
              "      <th>weekly_hosp_admissions_per_million</th>\n",
              "      <th>new_tests</th>\n",
              "      <th>total_tests</th>\n",
              "      <th>total_tests_per_thousand</th>\n",
              "      <th>new_tests_per_thousand</th>\n",
              "      <th>new_tests_smoothed</th>\n",
              "      <th>new_tests_smoothed_per_thousand</th>\n",
              "      <th>positive_rate</th>\n",
              "      <th>tests_per_case</th>\n",
              "      <th>tests_units</th>\n",
              "      <th>total_vaccinations</th>\n",
              "      <th>people_vaccinated</th>\n",
              "      <th>people_fully_vaccinated</th>\n",
              "      <th>total_boosters</th>\n",
              "      <th>new_vaccinations</th>\n",
              "      <th>new_vaccinations_smoothed</th>\n",
              "      <th>total_vaccinations_per_hundred</th>\n",
              "      <th>people_vaccinated_per_hundred</th>\n",
              "      <th>people_fully_vaccinated_per_hundred</th>\n",
              "      <th>total_boosters_per_hundred</th>\n",
              "      <th>new_vaccinations_smoothed_per_million</th>\n",
              "      <th>new_people_vaccinated_smoothed</th>\n",
              "      <th>new_people_vaccinated_smoothed_per_hundred</th>\n",
              "      <th>stringency_index</th>\n",
              "      <th>population</th>\n",
              "      <th>population_density</th>\n",
              "      <th>median_age</th>\n",
              "      <th>aged_65_older</th>\n",
              "      <th>aged_70_older</th>\n",
              "      <th>gdp_per_capita</th>\n",
              "      <th>extreme_poverty</th>\n",
              "      <th>cardiovasc_death_rate</th>\n",
              "      <th>diabetes_prevalence</th>\n",
              "      <th>female_smokers</th>\n",
              "      <th>male_smokers</th>\n",
              "      <th>handwashing_facilities</th>\n",
              "      <th>hospital_beds_per_thousand</th>\n",
              "      <th>life_expectancy</th>\n",
              "      <th>human_development_index</th>\n",
              "      <th>excess_mortality_cumulative_absolute</th>\n",
              "      <th>excess_mortality_cumulative</th>\n",
              "      <th>excess_mortality</th>\n",
              "      <th>excess_mortality_cumulative_per_million</th>\n",
              "    </tr>\n",
              "  </thead>\n",
              "  <tbody>\n",
              "    <tr>\n",
              "      <th>160232</th>\n",
              "      <td>ZWE</td>\n",
              "      <td>Africa</td>\n",
              "      <td>Zimbabwe</td>\n",
              "      <td>2022-02-03</td>\n",
              "      <td>230170.0</td>\n",
              "      <td>158.0</td>\n",
              "      <td>153.429</td>\n",
              "      <td>5357.0</td>\n",
              "      <td>5.0</td>\n",
              "      <td>4.714</td>\n",
              "      <td>15250.954</td>\n",
              "      <td>10.469</td>\n",
              "      <td>10.166</td>\n",
              "      <td>354.952</td>\n",
              "      <td>0.331</td>\n",
              "      <td>0.312</td>\n",
              "      <td>0.45</td>\n",
              "      <td>NaN</td>\n",
              "      <td>NaN</td>\n",
              "      <td>NaN</td>\n",
              "      <td>NaN</td>\n",
              "      <td>NaN</td>\n",
              "      <td>NaN</td>\n",
              "      <td>NaN</td>\n",
              "      <td>NaN</td>\n",
              "      <td>NaN</td>\n",
              "      <td>1994516.0</td>\n",
              "      <td>132.156</td>\n",
              "      <td>NaN</td>\n",
              "      <td>22075.0</td>\n",
              "      <td>1.463</td>\n",
              "      <td>0.0070</td>\n",
              "      <td>143.9</td>\n",
              "      <td>tests performed</td>\n",
              "      <td>7600946.0</td>\n",
              "      <td>4286198.0</td>\n",
              "      <td>3314748.0</td>\n",
              "      <td>NaN</td>\n",
              "      <td>7022.0</td>\n",
              "      <td>8296.0</td>\n",
              "      <td>50.36</td>\n",
              "      <td>28.40</td>\n",
              "      <td>21.96</td>\n",
              "      <td>NaN</td>\n",
              "      <td>550.0</td>\n",
              "      <td>4160.0</td>\n",
              "      <td>0.028</td>\n",
              "      <td>NaN</td>\n",
              "      <td>15092171.0</td>\n",
              "      <td>42.729</td>\n",
              "      <td>19.6</td>\n",
              "      <td>2.822</td>\n",
              "      <td>1.882</td>\n",
              "      <td>1899.775</td>\n",
              "      <td>21.4</td>\n",
              "      <td>307.846</td>\n",
              "      <td>1.82</td>\n",
              "      <td>1.6</td>\n",
              "      <td>30.7</td>\n",
              "      <td>36.791</td>\n",
              "      <td>1.7</td>\n",
              "      <td>61.49</td>\n",
              "      <td>0.571</td>\n",
              "      <td>NaN</td>\n",
              "      <td>NaN</td>\n",
              "      <td>NaN</td>\n",
              "      <td>NaN</td>\n",
              "    </tr>\n",
              "    <tr>\n",
              "      <th>160233</th>\n",
              "      <td>ZWE</td>\n",
              "      <td>Africa</td>\n",
              "      <td>Zimbabwe</td>\n",
              "      <td>2022-02-04</td>\n",
              "      <td>230170.0</td>\n",
              "      <td>0.0</td>\n",
              "      <td>119.571</td>\n",
              "      <td>5357.0</td>\n",
              "      <td>0.0</td>\n",
              "      <td>3.429</td>\n",
              "      <td>15250.954</td>\n",
              "      <td>0.000</td>\n",
              "      <td>7.923</td>\n",
              "      <td>354.952</td>\n",
              "      <td>0.000</td>\n",
              "      <td>0.227</td>\n",
              "      <td>0.44</td>\n",
              "      <td>NaN</td>\n",
              "      <td>NaN</td>\n",
              "      <td>NaN</td>\n",
              "      <td>NaN</td>\n",
              "      <td>NaN</td>\n",
              "      <td>NaN</td>\n",
              "      <td>NaN</td>\n",
              "      <td>NaN</td>\n",
              "      <td>NaN</td>\n",
              "      <td>NaN</td>\n",
              "      <td>NaN</td>\n",
              "      <td>NaN</td>\n",
              "      <td>21994.0</td>\n",
              "      <td>1.457</td>\n",
              "      <td>0.0054</td>\n",
              "      <td>183.9</td>\n",
              "      <td>tests performed</td>\n",
              "      <td>7611929.0</td>\n",
              "      <td>4292012.0</td>\n",
              "      <td>3319917.0</td>\n",
              "      <td>NaN</td>\n",
              "      <td>10983.0</td>\n",
              "      <td>8188.0</td>\n",
              "      <td>50.44</td>\n",
              "      <td>28.44</td>\n",
              "      <td>22.00</td>\n",
              "      <td>NaN</td>\n",
              "      <td>543.0</td>\n",
              "      <td>4094.0</td>\n",
              "      <td>0.027</td>\n",
              "      <td>NaN</td>\n",
              "      <td>15092171.0</td>\n",
              "      <td>42.729</td>\n",
              "      <td>19.6</td>\n",
              "      <td>2.822</td>\n",
              "      <td>1.882</td>\n",
              "      <td>1899.775</td>\n",
              "      <td>21.4</td>\n",
              "      <td>307.846</td>\n",
              "      <td>1.82</td>\n",
              "      <td>1.6</td>\n",
              "      <td>30.7</td>\n",
              "      <td>36.791</td>\n",
              "      <td>1.7</td>\n",
              "      <td>61.49</td>\n",
              "      <td>0.571</td>\n",
              "      <td>NaN</td>\n",
              "      <td>NaN</td>\n",
              "      <td>NaN</td>\n",
              "      <td>NaN</td>\n",
              "    </tr>\n",
              "    <tr>\n",
              "      <th>160234</th>\n",
              "      <td>ZWE</td>\n",
              "      <td>Africa</td>\n",
              "      <td>Zimbabwe</td>\n",
              "      <td>2022-02-05</td>\n",
              "      <td>230402.0</td>\n",
              "      <td>232.0</td>\n",
              "      <td>141.000</td>\n",
              "      <td>5362.0</td>\n",
              "      <td>5.0</td>\n",
              "      <td>4.143</td>\n",
              "      <td>15266.326</td>\n",
              "      <td>15.372</td>\n",
              "      <td>9.343</td>\n",
              "      <td>355.284</td>\n",
              "      <td>0.331</td>\n",
              "      <td>0.275</td>\n",
              "      <td>NaN</td>\n",
              "      <td>NaN</td>\n",
              "      <td>NaN</td>\n",
              "      <td>NaN</td>\n",
              "      <td>NaN</td>\n",
              "      <td>NaN</td>\n",
              "      <td>NaN</td>\n",
              "      <td>NaN</td>\n",
              "      <td>NaN</td>\n",
              "      <td>NaN</td>\n",
              "      <td>2000510.0</td>\n",
              "      <td>132.553</td>\n",
              "      <td>NaN</td>\n",
              "      <td>22058.0</td>\n",
              "      <td>1.462</td>\n",
              "      <td>0.0064</td>\n",
              "      <td>156.4</td>\n",
              "      <td>tests performed</td>\n",
              "      <td>7617184.0</td>\n",
              "      <td>4294561.0</td>\n",
              "      <td>3322623.0</td>\n",
              "      <td>NaN</td>\n",
              "      <td>5255.0</td>\n",
              "      <td>8057.0</td>\n",
              "      <td>50.47</td>\n",
              "      <td>28.46</td>\n",
              "      <td>22.02</td>\n",
              "      <td>NaN</td>\n",
              "      <td>534.0</td>\n",
              "      <td>4077.0</td>\n",
              "      <td>0.027</td>\n",
              "      <td>NaN</td>\n",
              "      <td>15092171.0</td>\n",
              "      <td>42.729</td>\n",
              "      <td>19.6</td>\n",
              "      <td>2.822</td>\n",
              "      <td>1.882</td>\n",
              "      <td>1899.775</td>\n",
              "      <td>21.4</td>\n",
              "      <td>307.846</td>\n",
              "      <td>1.82</td>\n",
              "      <td>1.6</td>\n",
              "      <td>30.7</td>\n",
              "      <td>36.791</td>\n",
              "      <td>1.7</td>\n",
              "      <td>61.49</td>\n",
              "      <td>0.571</td>\n",
              "      <td>NaN</td>\n",
              "      <td>NaN</td>\n",
              "      <td>NaN</td>\n",
              "      <td>NaN</td>\n",
              "    </tr>\n",
              "    <tr>\n",
              "      <th>160235</th>\n",
              "      <td>ZWE</td>\n",
              "      <td>Africa</td>\n",
              "      <td>Zimbabwe</td>\n",
              "      <td>2022-02-06</td>\n",
              "      <td>230402.0</td>\n",
              "      <td>NaN</td>\n",
              "      <td>NaN</td>\n",
              "      <td>5362.0</td>\n",
              "      <td>0.0</td>\n",
              "      <td>3.571</td>\n",
              "      <td>15266.326</td>\n",
              "      <td>NaN</td>\n",
              "      <td>NaN</td>\n",
              "      <td>355.284</td>\n",
              "      <td>0.000</td>\n",
              "      <td>0.237</td>\n",
              "      <td>NaN</td>\n",
              "      <td>NaN</td>\n",
              "      <td>NaN</td>\n",
              "      <td>NaN</td>\n",
              "      <td>NaN</td>\n",
              "      <td>NaN</td>\n",
              "      <td>NaN</td>\n",
              "      <td>NaN</td>\n",
              "      <td>NaN</td>\n",
              "      <td>NaN</td>\n",
              "      <td>NaN</td>\n",
              "      <td>NaN</td>\n",
              "      <td>NaN</td>\n",
              "      <td>NaN</td>\n",
              "      <td>NaN</td>\n",
              "      <td>NaN</td>\n",
              "      <td>NaN</td>\n",
              "      <td>NaN</td>\n",
              "      <td>7620153.0</td>\n",
              "      <td>4295947.0</td>\n",
              "      <td>3324206.0</td>\n",
              "      <td>NaN</td>\n",
              "      <td>2969.0</td>\n",
              "      <td>7995.0</td>\n",
              "      <td>50.49</td>\n",
              "      <td>28.46</td>\n",
              "      <td>22.03</td>\n",
              "      <td>NaN</td>\n",
              "      <td>530.0</td>\n",
              "      <td>4017.0</td>\n",
              "      <td>0.027</td>\n",
              "      <td>NaN</td>\n",
              "      <td>15092171.0</td>\n",
              "      <td>42.729</td>\n",
              "      <td>19.6</td>\n",
              "      <td>2.822</td>\n",
              "      <td>1.882</td>\n",
              "      <td>1899.775</td>\n",
              "      <td>21.4</td>\n",
              "      <td>307.846</td>\n",
              "      <td>1.82</td>\n",
              "      <td>1.6</td>\n",
              "      <td>30.7</td>\n",
              "      <td>36.791</td>\n",
              "      <td>1.7</td>\n",
              "      <td>61.49</td>\n",
              "      <td>0.571</td>\n",
              "      <td>NaN</td>\n",
              "      <td>NaN</td>\n",
              "      <td>NaN</td>\n",
              "      <td>NaN</td>\n",
              "    </tr>\n",
              "    <tr>\n",
              "      <th>160236</th>\n",
              "      <td>ZWE</td>\n",
              "      <td>Africa</td>\n",
              "      <td>Zimbabwe</td>\n",
              "      <td>2022-02-07</td>\n",
              "      <td>230402.0</td>\n",
              "      <td>NaN</td>\n",
              "      <td>NaN</td>\n",
              "      <td>5362.0</td>\n",
              "      <td>0.0</td>\n",
              "      <td>3.429</td>\n",
              "      <td>15266.326</td>\n",
              "      <td>NaN</td>\n",
              "      <td>NaN</td>\n",
              "      <td>355.284</td>\n",
              "      <td>0.000</td>\n",
              "      <td>0.227</td>\n",
              "      <td>NaN</td>\n",
              "      <td>NaN</td>\n",
              "      <td>NaN</td>\n",
              "      <td>NaN</td>\n",
              "      <td>NaN</td>\n",
              "      <td>NaN</td>\n",
              "      <td>NaN</td>\n",
              "      <td>NaN</td>\n",
              "      <td>NaN</td>\n",
              "      <td>NaN</td>\n",
              "      <td>NaN</td>\n",
              "      <td>NaN</td>\n",
              "      <td>NaN</td>\n",
              "      <td>NaN</td>\n",
              "      <td>NaN</td>\n",
              "      <td>NaN</td>\n",
              "      <td>NaN</td>\n",
              "      <td>NaN</td>\n",
              "      <td>7625575.0</td>\n",
              "      <td>4298467.0</td>\n",
              "      <td>3327108.0</td>\n",
              "      <td>NaN</td>\n",
              "      <td>5422.0</td>\n",
              "      <td>7885.0</td>\n",
              "      <td>50.53</td>\n",
              "      <td>28.48</td>\n",
              "      <td>22.05</td>\n",
              "      <td>NaN</td>\n",
              "      <td>522.0</td>\n",
              "      <td>3958.0</td>\n",
              "      <td>0.026</td>\n",
              "      <td>NaN</td>\n",
              "      <td>15092171.0</td>\n",
              "      <td>42.729</td>\n",
              "      <td>19.6</td>\n",
              "      <td>2.822</td>\n",
              "      <td>1.882</td>\n",
              "      <td>1899.775</td>\n",
              "      <td>21.4</td>\n",
              "      <td>307.846</td>\n",
              "      <td>1.82</td>\n",
              "      <td>1.6</td>\n",
              "      <td>30.7</td>\n",
              "      <td>36.791</td>\n",
              "      <td>1.7</td>\n",
              "      <td>61.49</td>\n",
              "      <td>0.571</td>\n",
              "      <td>NaN</td>\n",
              "      <td>NaN</td>\n",
              "      <td>NaN</td>\n",
              "      <td>NaN</td>\n",
              "    </tr>\n",
              "  </tbody>\n",
              "</table>\n",
              "</div>\n",
              "      <button class=\"colab-df-convert\" onclick=\"convertToInteractive('df-c131a4e4-3573-4175-a3a4-290f6f9ba875')\"\n",
              "              title=\"Convert this dataframe to an interactive table.\"\n",
              "              style=\"display:none;\">\n",
              "        \n",
              "  <svg xmlns=\"http://www.w3.org/2000/svg\" height=\"24px\"viewBox=\"0 0 24 24\"\n",
              "       width=\"24px\">\n",
              "    <path d=\"M0 0h24v24H0V0z\" fill=\"none\"/>\n",
              "    <path d=\"M18.56 5.44l.94 2.06.94-2.06 2.06-.94-2.06-.94-.94-2.06-.94 2.06-2.06.94zm-11 1L8.5 8.5l.94-2.06 2.06-.94-2.06-.94L8.5 2.5l-.94 2.06-2.06.94zm10 10l.94 2.06.94-2.06 2.06-.94-2.06-.94-.94-2.06-.94 2.06-2.06.94z\"/><path d=\"M17.41 7.96l-1.37-1.37c-.4-.4-.92-.59-1.43-.59-.52 0-1.04.2-1.43.59L10.3 9.45l-7.72 7.72c-.78.78-.78 2.05 0 2.83L4 21.41c.39.39.9.59 1.41.59.51 0 1.02-.2 1.41-.59l7.78-7.78 2.81-2.81c.8-.78.8-2.07 0-2.86zM5.41 20L4 18.59l7.72-7.72 1.47 1.35L5.41 20z\"/>\n",
              "  </svg>\n",
              "      </button>\n",
              "      \n",
              "  <style>\n",
              "    .colab-df-container {\n",
              "      display:flex;\n",
              "      flex-wrap:wrap;\n",
              "      gap: 12px;\n",
              "    }\n",
              "\n",
              "    .colab-df-convert {\n",
              "      background-color: #E8F0FE;\n",
              "      border: none;\n",
              "      border-radius: 50%;\n",
              "      cursor: pointer;\n",
              "      display: none;\n",
              "      fill: #1967D2;\n",
              "      height: 32px;\n",
              "      padding: 0 0 0 0;\n",
              "      width: 32px;\n",
              "    }\n",
              "\n",
              "    .colab-df-convert:hover {\n",
              "      background-color: #E2EBFA;\n",
              "      box-shadow: 0px 1px 2px rgba(60, 64, 67, 0.3), 0px 1px 3px 1px rgba(60, 64, 67, 0.15);\n",
              "      fill: #174EA6;\n",
              "    }\n",
              "\n",
              "    [theme=dark] .colab-df-convert {\n",
              "      background-color: #3B4455;\n",
              "      fill: #D2E3FC;\n",
              "    }\n",
              "\n",
              "    [theme=dark] .colab-df-convert:hover {\n",
              "      background-color: #434B5C;\n",
              "      box-shadow: 0px 1px 3px 1px rgba(0, 0, 0, 0.15);\n",
              "      filter: drop-shadow(0px 1px 2px rgba(0, 0, 0, 0.3));\n",
              "      fill: #FFFFFF;\n",
              "    }\n",
              "  </style>\n",
              "\n",
              "      <script>\n",
              "        const buttonEl =\n",
              "          document.querySelector('#df-c131a4e4-3573-4175-a3a4-290f6f9ba875 button.colab-df-convert');\n",
              "        buttonEl.style.display =\n",
              "          google.colab.kernel.accessAllowed ? 'block' : 'none';\n",
              "\n",
              "        async function convertToInteractive(key) {\n",
              "          const element = document.querySelector('#df-c131a4e4-3573-4175-a3a4-290f6f9ba875');\n",
              "          const dataTable =\n",
              "            await google.colab.kernel.invokeFunction('convertToInteractive',\n",
              "                                                     [key], {});\n",
              "          if (!dataTable) return;\n",
              "\n",
              "          const docLinkHtml = 'Like what you see? Visit the ' +\n",
              "            '<a target=\"_blank\" href=https://colab.research.google.com/notebooks/data_table.ipynb>data table notebook</a>'\n",
              "            + ' to learn more about interactive tables.';\n",
              "          element.innerHTML = '';\n",
              "          dataTable['output_type'] = 'display_data';\n",
              "          await google.colab.output.renderOutput(dataTable, element);\n",
              "          const docLink = document.createElement('div');\n",
              "          docLink.innerHTML = docLinkHtml;\n",
              "          element.appendChild(docLink);\n",
              "        }\n",
              "      </script>\n",
              "    </div>\n",
              "  </div>\n",
              "  "
            ],
            "text/plain": [
              "       iso_code  ... excess_mortality_cumulative_per_million\n",
              "160232      ZWE  ...                                     NaN\n",
              "160233      ZWE  ...                                     NaN\n",
              "160234      ZWE  ...                                     NaN\n",
              "160235      ZWE  ...                                     NaN\n",
              "160236      ZWE  ...                                     NaN\n",
              "\n",
              "[5 rows x 67 columns]"
            ]
          },
          "metadata": {},
          "execution_count": 3
        }
      ]
    },
    {
      "cell_type": "code",
      "source": [
        "print('\\n')"
      ],
      "metadata": {
        "colab": {
          "base_uri": "https://localhost:8080/"
        },
        "id": "HzhKquFvPUiC",
        "outputId": "539ea91c-9e37-40d4-d50d-47779a30c2ea"
      },
      "execution_count": 4,
      "outputs": [
        {
          "output_type": "stream",
          "name": "stdout",
          "text": [
            "\n",
            "\n"
          ]
        }
      ]
    },
    {
      "cell_type": "markdown",
      "source": [
        "##Data preparation"
      ],
      "metadata": {
        "id": "hTKM-YgdkSG2"
      }
    },
    {
      "cell_type": "markdown",
      "source": [
        "### Identifying errors and data cleanup"
      ],
      "metadata": {
        "id": "ZsLU9_3LnLT3"
      }
    },
    {
      "cell_type": "markdown",
      "source": [
        "Selected columns"
      ],
      "metadata": {
        "id": "RB4eIdsPglX-"
      }
    },
    {
      "cell_type": "code",
      "source": [
        "my_df = covid.loc[:, ['date', 'location', 'median_age', 'people_fully_vaccinated_per_hundred']]\n",
        "my_df"
      ],
      "metadata": {
        "colab": {
          "base_uri": "https://localhost:8080/",
          "height": 424
        },
        "id": "xsYw5HXTtPZK",
        "outputId": "505237d7-046b-4e0b-815f-a2e255b48427"
      },
      "execution_count": 5,
      "outputs": [
        {
          "output_type": "execute_result",
          "data": {
            "text/html": [
              "\n",
              "  <div id=\"df-2d900440-f2a9-4710-9f88-ef7c85a553cd\">\n",
              "    <div class=\"colab-df-container\">\n",
              "      <div>\n",
              "<style scoped>\n",
              "    .dataframe tbody tr th:only-of-type {\n",
              "        vertical-align: middle;\n",
              "    }\n",
              "\n",
              "    .dataframe tbody tr th {\n",
              "        vertical-align: top;\n",
              "    }\n",
              "\n",
              "    .dataframe thead th {\n",
              "        text-align: right;\n",
              "    }\n",
              "</style>\n",
              "<table border=\"1\" class=\"dataframe\">\n",
              "  <thead>\n",
              "    <tr style=\"text-align: right;\">\n",
              "      <th></th>\n",
              "      <th>date</th>\n",
              "      <th>location</th>\n",
              "      <th>median_age</th>\n",
              "      <th>people_fully_vaccinated_per_hundred</th>\n",
              "    </tr>\n",
              "  </thead>\n",
              "  <tbody>\n",
              "    <tr>\n",
              "      <th>0</th>\n",
              "      <td>2020-02-24</td>\n",
              "      <td>Afghanistan</td>\n",
              "      <td>18.6</td>\n",
              "      <td>NaN</td>\n",
              "    </tr>\n",
              "    <tr>\n",
              "      <th>1</th>\n",
              "      <td>2020-02-25</td>\n",
              "      <td>Afghanistan</td>\n",
              "      <td>18.6</td>\n",
              "      <td>NaN</td>\n",
              "    </tr>\n",
              "    <tr>\n",
              "      <th>2</th>\n",
              "      <td>2020-02-26</td>\n",
              "      <td>Afghanistan</td>\n",
              "      <td>18.6</td>\n",
              "      <td>NaN</td>\n",
              "    </tr>\n",
              "    <tr>\n",
              "      <th>3</th>\n",
              "      <td>2020-02-27</td>\n",
              "      <td>Afghanistan</td>\n",
              "      <td>18.6</td>\n",
              "      <td>NaN</td>\n",
              "    </tr>\n",
              "    <tr>\n",
              "      <th>4</th>\n",
              "      <td>2020-02-28</td>\n",
              "      <td>Afghanistan</td>\n",
              "      <td>18.6</td>\n",
              "      <td>NaN</td>\n",
              "    </tr>\n",
              "    <tr>\n",
              "      <th>...</th>\n",
              "      <td>...</td>\n",
              "      <td>...</td>\n",
              "      <td>...</td>\n",
              "      <td>...</td>\n",
              "    </tr>\n",
              "    <tr>\n",
              "      <th>160232</th>\n",
              "      <td>2022-02-03</td>\n",
              "      <td>Zimbabwe</td>\n",
              "      <td>19.6</td>\n",
              "      <td>21.96</td>\n",
              "    </tr>\n",
              "    <tr>\n",
              "      <th>160233</th>\n",
              "      <td>2022-02-04</td>\n",
              "      <td>Zimbabwe</td>\n",
              "      <td>19.6</td>\n",
              "      <td>22.00</td>\n",
              "    </tr>\n",
              "    <tr>\n",
              "      <th>160234</th>\n",
              "      <td>2022-02-05</td>\n",
              "      <td>Zimbabwe</td>\n",
              "      <td>19.6</td>\n",
              "      <td>22.02</td>\n",
              "    </tr>\n",
              "    <tr>\n",
              "      <th>160235</th>\n",
              "      <td>2022-02-06</td>\n",
              "      <td>Zimbabwe</td>\n",
              "      <td>19.6</td>\n",
              "      <td>22.03</td>\n",
              "    </tr>\n",
              "    <tr>\n",
              "      <th>160236</th>\n",
              "      <td>2022-02-07</td>\n",
              "      <td>Zimbabwe</td>\n",
              "      <td>19.6</td>\n",
              "      <td>22.05</td>\n",
              "    </tr>\n",
              "  </tbody>\n",
              "</table>\n",
              "<p>160237 rows × 4 columns</p>\n",
              "</div>\n",
              "      <button class=\"colab-df-convert\" onclick=\"convertToInteractive('df-2d900440-f2a9-4710-9f88-ef7c85a553cd')\"\n",
              "              title=\"Convert this dataframe to an interactive table.\"\n",
              "              style=\"display:none;\">\n",
              "        \n",
              "  <svg xmlns=\"http://www.w3.org/2000/svg\" height=\"24px\"viewBox=\"0 0 24 24\"\n",
              "       width=\"24px\">\n",
              "    <path d=\"M0 0h24v24H0V0z\" fill=\"none\"/>\n",
              "    <path d=\"M18.56 5.44l.94 2.06.94-2.06 2.06-.94-2.06-.94-.94-2.06-.94 2.06-2.06.94zm-11 1L8.5 8.5l.94-2.06 2.06-.94-2.06-.94L8.5 2.5l-.94 2.06-2.06.94zm10 10l.94 2.06.94-2.06 2.06-.94-2.06-.94-.94-2.06-.94 2.06-2.06.94z\"/><path d=\"M17.41 7.96l-1.37-1.37c-.4-.4-.92-.59-1.43-.59-.52 0-1.04.2-1.43.59L10.3 9.45l-7.72 7.72c-.78.78-.78 2.05 0 2.83L4 21.41c.39.39.9.59 1.41.59.51 0 1.02-.2 1.41-.59l7.78-7.78 2.81-2.81c.8-.78.8-2.07 0-2.86zM5.41 20L4 18.59l7.72-7.72 1.47 1.35L5.41 20z\"/>\n",
              "  </svg>\n",
              "      </button>\n",
              "      \n",
              "  <style>\n",
              "    .colab-df-container {\n",
              "      display:flex;\n",
              "      flex-wrap:wrap;\n",
              "      gap: 12px;\n",
              "    }\n",
              "\n",
              "    .colab-df-convert {\n",
              "      background-color: #E8F0FE;\n",
              "      border: none;\n",
              "      border-radius: 50%;\n",
              "      cursor: pointer;\n",
              "      display: none;\n",
              "      fill: #1967D2;\n",
              "      height: 32px;\n",
              "      padding: 0 0 0 0;\n",
              "      width: 32px;\n",
              "    }\n",
              "\n",
              "    .colab-df-convert:hover {\n",
              "      background-color: #E2EBFA;\n",
              "      box-shadow: 0px 1px 2px rgba(60, 64, 67, 0.3), 0px 1px 3px 1px rgba(60, 64, 67, 0.15);\n",
              "      fill: #174EA6;\n",
              "    }\n",
              "\n",
              "    [theme=dark] .colab-df-convert {\n",
              "      background-color: #3B4455;\n",
              "      fill: #D2E3FC;\n",
              "    }\n",
              "\n",
              "    [theme=dark] .colab-df-convert:hover {\n",
              "      background-color: #434B5C;\n",
              "      box-shadow: 0px 1px 3px 1px rgba(0, 0, 0, 0.15);\n",
              "      filter: drop-shadow(0px 1px 2px rgba(0, 0, 0, 0.3));\n",
              "      fill: #FFFFFF;\n",
              "    }\n",
              "  </style>\n",
              "\n",
              "      <script>\n",
              "        const buttonEl =\n",
              "          document.querySelector('#df-2d900440-f2a9-4710-9f88-ef7c85a553cd button.colab-df-convert');\n",
              "        buttonEl.style.display =\n",
              "          google.colab.kernel.accessAllowed ? 'block' : 'none';\n",
              "\n",
              "        async function convertToInteractive(key) {\n",
              "          const element = document.querySelector('#df-2d900440-f2a9-4710-9f88-ef7c85a553cd');\n",
              "          const dataTable =\n",
              "            await google.colab.kernel.invokeFunction('convertToInteractive',\n",
              "                                                     [key], {});\n",
              "          if (!dataTable) return;\n",
              "\n",
              "          const docLinkHtml = 'Like what you see? Visit the ' +\n",
              "            '<a target=\"_blank\" href=https://colab.research.google.com/notebooks/data_table.ipynb>data table notebook</a>'\n",
              "            + ' to learn more about interactive tables.';\n",
              "          element.innerHTML = '';\n",
              "          dataTable['output_type'] = 'display_data';\n",
              "          await google.colab.output.renderOutput(dataTable, element);\n",
              "          const docLink = document.createElement('div');\n",
              "          docLink.innerHTML = docLinkHtml;\n",
              "          element.appendChild(docLink);\n",
              "        }\n",
              "      </script>\n",
              "    </div>\n",
              "  </div>\n",
              "  "
            ],
            "text/plain": [
              "             date     location  median_age  people_fully_vaccinated_per_hundred\n",
              "0      2020-02-24  Afghanistan        18.6                                  NaN\n",
              "1      2020-02-25  Afghanistan        18.6                                  NaN\n",
              "2      2020-02-26  Afghanistan        18.6                                  NaN\n",
              "3      2020-02-27  Afghanistan        18.6                                  NaN\n",
              "4      2020-02-28  Afghanistan        18.6                                  NaN\n",
              "...           ...          ...         ...                                  ...\n",
              "160232 2022-02-03     Zimbabwe        19.6                                21.96\n",
              "160233 2022-02-04     Zimbabwe        19.6                                22.00\n",
              "160234 2022-02-05     Zimbabwe        19.6                                22.02\n",
              "160235 2022-02-06     Zimbabwe        19.6                                22.03\n",
              "160236 2022-02-07     Zimbabwe        19.6                                22.05\n",
              "\n",
              "[160237 rows x 4 columns]"
            ]
          },
          "metadata": {},
          "execution_count": 5
        }
      ]
    },
    {
      "cell_type": "code",
      "source": [
        "print('\\n')"
      ],
      "metadata": {
        "colab": {
          "base_uri": "https://localhost:8080/"
        },
        "id": "iITXR0xbPsn1",
        "outputId": "85c81b4f-87e0-42ee-fd17-b4b4f2ab64a5"
      },
      "execution_count": 6,
      "outputs": [
        {
          "output_type": "stream",
          "name": "stdout",
          "text": [
            "\n",
            "\n"
          ]
        }
      ]
    },
    {
      "cell_type": "markdown",
      "source": [
        "**Data check and cleanup**"
      ],
      "metadata": {
        "id": "xq0S4Gy07TbD"
      }
    },
    {
      "cell_type": "code",
      "source": [
        "hmm = my_df\n",
        "hmm.sort_values('people_fully_vaccinated_per_hundred', ascending = False)\n",
        "hmm.sort_values('people_fully_vaccinated_per_hundred', ascending = True)\n",
        "hmm.sort_values('median_age', ascending = False)\n",
        "hmm.sort_values('median_age', ascending = True)\n",
        "hmm.sort_values('people_fully_vaccinated_per_hundred', ascending = False)\n",
        "hmm.sort_values('people_fully_vaccinated_per_hundred', ascending = True)\n",
        "\n",
        "hmm.dtypes\n",
        "hmm.describe()\n",
        "\n",
        "#all of the above were checked to see if there were any other weird values"
      ],
      "metadata": {
        "colab": {
          "base_uri": "https://localhost:8080/",
          "height": 300
        },
        "id": "67LesqYh7oC7",
        "outputId": "aeebc3bb-eb9e-406d-cb18-f55588a1ca06"
      },
      "execution_count": 7,
      "outputs": [
        {
          "output_type": "execute_result",
          "data": {
            "text/html": [
              "\n",
              "  <div id=\"df-e4b870ac-b9fc-4345-b2f2-fa69466f5def\">\n",
              "    <div class=\"colab-df-container\">\n",
              "      <div>\n",
              "<style scoped>\n",
              "    .dataframe tbody tr th:only-of-type {\n",
              "        vertical-align: middle;\n",
              "    }\n",
              "\n",
              "    .dataframe tbody tr th {\n",
              "        vertical-align: top;\n",
              "    }\n",
              "\n",
              "    .dataframe thead th {\n",
              "        text-align: right;\n",
              "    }\n",
              "</style>\n",
              "<table border=\"1\" class=\"dataframe\">\n",
              "  <thead>\n",
              "    <tr style=\"text-align: right;\">\n",
              "      <th></th>\n",
              "      <th>median_age</th>\n",
              "      <th>people_fully_vaccinated_per_hundred</th>\n",
              "    </tr>\n",
              "  </thead>\n",
              "  <tbody>\n",
              "    <tr>\n",
              "      <th>count</th>\n",
              "      <td>132926.000000</td>\n",
              "      <td>38024.000000</td>\n",
              "    </tr>\n",
              "    <tr>\n",
              "      <th>mean</th>\n",
              "      <td>30.574917</td>\n",
              "      <td>30.603190</td>\n",
              "    </tr>\n",
              "    <tr>\n",
              "      <th>std</th>\n",
              "      <td>9.100855</td>\n",
              "      <td>27.089285</td>\n",
              "    </tr>\n",
              "    <tr>\n",
              "      <th>min</th>\n",
              "      <td>15.100000</td>\n",
              "      <td>0.000000</td>\n",
              "    </tr>\n",
              "    <tr>\n",
              "      <th>25%</th>\n",
              "      <td>22.200000</td>\n",
              "      <td>4.370000</td>\n",
              "    </tr>\n",
              "    <tr>\n",
              "      <th>50%</th>\n",
              "      <td>29.900000</td>\n",
              "      <td>24.300000</td>\n",
              "    </tr>\n",
              "    <tr>\n",
              "      <th>75%</th>\n",
              "      <td>39.100000</td>\n",
              "      <td>55.350000</td>\n",
              "    </tr>\n",
              "    <tr>\n",
              "      <th>max</th>\n",
              "      <td>48.200000</td>\n",
              "      <td>120.950000</td>\n",
              "    </tr>\n",
              "  </tbody>\n",
              "</table>\n",
              "</div>\n",
              "      <button class=\"colab-df-convert\" onclick=\"convertToInteractive('df-e4b870ac-b9fc-4345-b2f2-fa69466f5def')\"\n",
              "              title=\"Convert this dataframe to an interactive table.\"\n",
              "              style=\"display:none;\">\n",
              "        \n",
              "  <svg xmlns=\"http://www.w3.org/2000/svg\" height=\"24px\"viewBox=\"0 0 24 24\"\n",
              "       width=\"24px\">\n",
              "    <path d=\"M0 0h24v24H0V0z\" fill=\"none\"/>\n",
              "    <path d=\"M18.56 5.44l.94 2.06.94-2.06 2.06-.94-2.06-.94-.94-2.06-.94 2.06-2.06.94zm-11 1L8.5 8.5l.94-2.06 2.06-.94-2.06-.94L8.5 2.5l-.94 2.06-2.06.94zm10 10l.94 2.06.94-2.06 2.06-.94-2.06-.94-.94-2.06-.94 2.06-2.06.94z\"/><path d=\"M17.41 7.96l-1.37-1.37c-.4-.4-.92-.59-1.43-.59-.52 0-1.04.2-1.43.59L10.3 9.45l-7.72 7.72c-.78.78-.78 2.05 0 2.83L4 21.41c.39.39.9.59 1.41.59.51 0 1.02-.2 1.41-.59l7.78-7.78 2.81-2.81c.8-.78.8-2.07 0-2.86zM5.41 20L4 18.59l7.72-7.72 1.47 1.35L5.41 20z\"/>\n",
              "  </svg>\n",
              "      </button>\n",
              "      \n",
              "  <style>\n",
              "    .colab-df-container {\n",
              "      display:flex;\n",
              "      flex-wrap:wrap;\n",
              "      gap: 12px;\n",
              "    }\n",
              "\n",
              "    .colab-df-convert {\n",
              "      background-color: #E8F0FE;\n",
              "      border: none;\n",
              "      border-radius: 50%;\n",
              "      cursor: pointer;\n",
              "      display: none;\n",
              "      fill: #1967D2;\n",
              "      height: 32px;\n",
              "      padding: 0 0 0 0;\n",
              "      width: 32px;\n",
              "    }\n",
              "\n",
              "    .colab-df-convert:hover {\n",
              "      background-color: #E2EBFA;\n",
              "      box-shadow: 0px 1px 2px rgba(60, 64, 67, 0.3), 0px 1px 3px 1px rgba(60, 64, 67, 0.15);\n",
              "      fill: #174EA6;\n",
              "    }\n",
              "\n",
              "    [theme=dark] .colab-df-convert {\n",
              "      background-color: #3B4455;\n",
              "      fill: #D2E3FC;\n",
              "    }\n",
              "\n",
              "    [theme=dark] .colab-df-convert:hover {\n",
              "      background-color: #434B5C;\n",
              "      box-shadow: 0px 1px 3px 1px rgba(0, 0, 0, 0.15);\n",
              "      filter: drop-shadow(0px 1px 2px rgba(0, 0, 0, 0.3));\n",
              "      fill: #FFFFFF;\n",
              "    }\n",
              "  </style>\n",
              "\n",
              "      <script>\n",
              "        const buttonEl =\n",
              "          document.querySelector('#df-e4b870ac-b9fc-4345-b2f2-fa69466f5def button.colab-df-convert');\n",
              "        buttonEl.style.display =\n",
              "          google.colab.kernel.accessAllowed ? 'block' : 'none';\n",
              "\n",
              "        async function convertToInteractive(key) {\n",
              "          const element = document.querySelector('#df-e4b870ac-b9fc-4345-b2f2-fa69466f5def');\n",
              "          const dataTable =\n",
              "            await google.colab.kernel.invokeFunction('convertToInteractive',\n",
              "                                                     [key], {});\n",
              "          if (!dataTable) return;\n",
              "\n",
              "          const docLinkHtml = 'Like what you see? Visit the ' +\n",
              "            '<a target=\"_blank\" href=https://colab.research.google.com/notebooks/data_table.ipynb>data table notebook</a>'\n",
              "            + ' to learn more about interactive tables.';\n",
              "          element.innerHTML = '';\n",
              "          dataTable['output_type'] = 'display_data';\n",
              "          await google.colab.output.renderOutput(dataTable, element);\n",
              "          const docLink = document.createElement('div');\n",
              "          docLink.innerHTML = docLinkHtml;\n",
              "          element.appendChild(docLink);\n",
              "        }\n",
              "      </script>\n",
              "    </div>\n",
              "  </div>\n",
              "  "
            ],
            "text/plain": [
              "          median_age  people_fully_vaccinated_per_hundred\n",
              "count  132926.000000                         38024.000000\n",
              "mean       30.574917                            30.603190\n",
              "std         9.100855                            27.089285\n",
              "min        15.100000                             0.000000\n",
              "25%        22.200000                             4.370000\n",
              "50%        29.900000                            24.300000\n",
              "75%        39.100000                            55.350000\n",
              "max        48.200000                           120.950000"
            ]
          },
          "metadata": {},
          "execution_count": 7
        }
      ]
    },
    {
      "cell_type": "code",
      "source": [
        "print('\\n')"
      ],
      "metadata": {
        "colab": {
          "base_uri": "https://localhost:8080/"
        },
        "id": "139GJCsRPvGa",
        "outputId": "8a0d9e86-7bbe-4250-ad0c-7c75e3dd9485"
      },
      "execution_count": 8,
      "outputs": [
        {
          "output_type": "stream",
          "name": "stdout",
          "text": [
            "\n",
            "\n"
          ]
        }
      ]
    },
    {
      "cell_type": "markdown",
      "source": [
        "Identified problems:\n",
        "\n",
        "  -people_fully_vaccinated_per_hundred: has NaN\n",
        "\n",
        "  -location: has 'low income', 'high income'\n",
        "\n",
        "  -median_age: has NaN"
      ],
      "metadata": {
        "id": "nHgNjfdz7jHY"
      }
    },
    {
      "cell_type": "code",
      "source": [
        "print('\\n')"
      ],
      "metadata": {
        "colab": {
          "base_uri": "https://localhost:8080/"
        },
        "id": "KiPggdpGPwcs",
        "outputId": "c166557f-0df5-4add-9f10-ac982f83d9c6"
      },
      "execution_count": 9,
      "outputs": [
        {
          "output_type": "stream",
          "name": "stdout",
          "text": [
            "\n",
            "\n"
          ]
        }
      ]
    },
    {
      "cell_type": "markdown",
      "source": [
        "NaN values identified"
      ],
      "metadata": {
        "id": "LAV01uXY7Jxf"
      }
    },
    {
      "cell_type": "code",
      "source": [
        "my_df.isnull().sum()\n",
        "#there are 'NaN' values in median age and people fully vaccinated"
      ],
      "metadata": {
        "colab": {
          "base_uri": "https://localhost:8080/"
        },
        "id": "2VxepE46v9uA",
        "outputId": "57183dd1-1cc7-4f73-c74a-121a844370f7"
      },
      "execution_count": 10,
      "outputs": [
        {
          "output_type": "execute_result",
          "data": {
            "text/plain": [
              "date                                        0\n",
              "location                                    0\n",
              "median_age                              27311\n",
              "people_fully_vaccinated_per_hundred    122213\n",
              "dtype: int64"
            ]
          },
          "metadata": {},
          "execution_count": 10
        }
      ]
    },
    {
      "cell_type": "code",
      "source": [
        "print('\\n')"
      ],
      "metadata": {
        "colab": {
          "base_uri": "https://localhost:8080/"
        },
        "id": "EYEei-SjPySa",
        "outputId": "ea9d77f9-767c-4933-bbcc-892e146d3170"
      },
      "execution_count": 11,
      "outputs": [
        {
          "output_type": "stream",
          "name": "stdout",
          "text": [
            "\n",
            "\n"
          ]
        }
      ]
    },
    {
      "cell_type": "markdown",
      "source": [
        "NaN values removed"
      ],
      "metadata": {
        "id": "16YVd8GZ7LZE"
      }
    },
    {
      "cell_type": "code",
      "source": [
        "#removing rows with NaN values\n",
        "my_df = my_df.dropna(subset=['median_age', 'people_fully_vaccinated_per_hundred'])\n",
        "my_df.isnull().sum()"
      ],
      "metadata": {
        "colab": {
          "base_uri": "https://localhost:8080/"
        },
        "id": "XqVW51-3BaRq",
        "outputId": "3fb039a7-da82-4d3a-e158-a1055b4124c6"
      },
      "execution_count": 12,
      "outputs": [
        {
          "output_type": "execute_result",
          "data": {
            "text/plain": [
              "date                                   0\n",
              "location                               0\n",
              "median_age                             0\n",
              "people_fully_vaccinated_per_hundred    0\n",
              "dtype: int64"
            ]
          },
          "metadata": {},
          "execution_count": 12
        }
      ]
    },
    {
      "cell_type": "markdown",
      "source": [
        "##Describe and visualise"
      ],
      "metadata": {
        "id": "TMjJfMka5Lbv"
      }
    },
    {
      "cell_type": "markdown",
      "source": [
        "###Describe"
      ],
      "metadata": {
        "id": "GTLpvjxs50im"
      }
    },
    {
      "cell_type": "code",
      "source": [
        "print('\\n')"
      ],
      "metadata": {
        "colab": {
          "base_uri": "https://localhost:8080/"
        },
        "id": "noNtCy2TP0dx",
        "outputId": "382b360b-86d8-4d2a-f9c9-fb570dfd5e34"
      },
      "execution_count": 13,
      "outputs": [
        {
          "output_type": "stream",
          "name": "stdout",
          "text": [
            "\n",
            "\n"
          ]
        }
      ]
    },
    {
      "cell_type": "markdown",
      "source": [
        "Selecting cutoff date and country"
      ],
      "metadata": {
        "id": "dj9S6o-4g6IA"
      }
    },
    {
      "cell_type": "markdown",
      "source": [
        "Data was taken starting from 1st January 2021.\n",
        "\n",
        "This is an example of what data I extracted (here only for Afghanistan):"
      ],
      "metadata": {
        "id": "n1MM-fUV8LLq"
      }
    },
    {
      "cell_type": "code",
      "source": [
        "#these are the columns i chose, with a date cutoff and a country selection\n",
        "my_df2 = my_df\n",
        "my_df2 = my_df2.loc[(my_df2.date > '2021-01-01')]\n",
        "my_df2 = my_df2.loc[(my_df2['location'] == \"Afghanistan\")]\n",
        "my_df2"
      ],
      "metadata": {
        "colab": {
          "base_uri": "https://localhost:8080/",
          "height": 959
        },
        "id": "AHhOD_l0JxKU",
        "outputId": "bcfcd3ff-d766-430a-a0e2-14390177b62b"
      },
      "execution_count": 14,
      "outputs": [
        {
          "output_type": "execute_result",
          "data": {
            "text/html": [
              "\n",
              "  <div id=\"df-04343a60-42be-437b-8e43-9a482486267d\">\n",
              "    <div class=\"colab-df-container\">\n",
              "      <div>\n",
              "<style scoped>\n",
              "    .dataframe tbody tr th:only-of-type {\n",
              "        vertical-align: middle;\n",
              "    }\n",
              "\n",
              "    .dataframe tbody tr th {\n",
              "        vertical-align: top;\n",
              "    }\n",
              "\n",
              "    .dataframe thead th {\n",
              "        text-align: right;\n",
              "    }\n",
              "</style>\n",
              "<table border=\"1\" class=\"dataframe\">\n",
              "  <thead>\n",
              "    <tr style=\"text-align: right;\">\n",
              "      <th></th>\n",
              "      <th>date</th>\n",
              "      <th>location</th>\n",
              "      <th>median_age</th>\n",
              "      <th>people_fully_vaccinated_per_hundred</th>\n",
              "    </tr>\n",
              "  </thead>\n",
              "  <tbody>\n",
              "    <tr>\n",
              "      <th>442</th>\n",
              "      <td>2021-05-11</td>\n",
              "      <td>Afghanistan</td>\n",
              "      <td>18.6</td>\n",
              "      <td>0.14</td>\n",
              "    </tr>\n",
              "    <tr>\n",
              "      <th>451</th>\n",
              "      <td>2021-05-20</td>\n",
              "      <td>Afghanistan</td>\n",
              "      <td>18.6</td>\n",
              "      <td>0.19</td>\n",
              "    </tr>\n",
              "    <tr>\n",
              "      <th>455</th>\n",
              "      <td>2021-05-24</td>\n",
              "      <td>Afghanistan</td>\n",
              "      <td>18.6</td>\n",
              "      <td>0.24</td>\n",
              "    </tr>\n",
              "    <tr>\n",
              "      <th>457</th>\n",
              "      <td>2021-05-26</td>\n",
              "      <td>Afghanistan</td>\n",
              "      <td>18.6</td>\n",
              "      <td>0.28</td>\n",
              "    </tr>\n",
              "    <tr>\n",
              "      <th>458</th>\n",
              "      <td>2021-05-27</td>\n",
              "      <td>Afghanistan</td>\n",
              "      <td>18.6</td>\n",
              "      <td>0.29</td>\n",
              "    </tr>\n",
              "    <tr>\n",
              "      <th>461</th>\n",
              "      <td>2021-05-30</td>\n",
              "      <td>Afghanistan</td>\n",
              "      <td>18.6</td>\n",
              "      <td>0.30</td>\n",
              "    </tr>\n",
              "    <tr>\n",
              "      <th>464</th>\n",
              "      <td>2021-06-02</td>\n",
              "      <td>Afghanistan</td>\n",
              "      <td>18.6</td>\n",
              "      <td>0.36</td>\n",
              "    </tr>\n",
              "    <tr>\n",
              "      <th>465</th>\n",
              "      <td>2021-06-03</td>\n",
              "      <td>Afghanistan</td>\n",
              "      <td>18.6</td>\n",
              "      <td>0.37</td>\n",
              "    </tr>\n",
              "    <tr>\n",
              "      <th>470</th>\n",
              "      <td>2021-06-08</td>\n",
              "      <td>Afghanistan</td>\n",
              "      <td>18.6</td>\n",
              "      <td>0.40</td>\n",
              "    </tr>\n",
              "    <tr>\n",
              "      <th>476</th>\n",
              "      <td>2021-06-14</td>\n",
              "      <td>Afghanistan</td>\n",
              "      <td>18.6</td>\n",
              "      <td>0.44</td>\n",
              "    </tr>\n",
              "    <tr>\n",
              "      <th>484</th>\n",
              "      <td>2021-06-22</td>\n",
              "      <td>Afghanistan</td>\n",
              "      <td>18.6</td>\n",
              "      <td>0.46</td>\n",
              "    </tr>\n",
              "    <tr>\n",
              "      <th>489</th>\n",
              "      <td>2021-06-27</td>\n",
              "      <td>Afghanistan</td>\n",
              "      <td>18.6</td>\n",
              "      <td>0.47</td>\n",
              "    </tr>\n",
              "    <tr>\n",
              "      <th>492</th>\n",
              "      <td>2021-06-30</td>\n",
              "      <td>Afghanistan</td>\n",
              "      <td>18.6</td>\n",
              "      <td>0.47</td>\n",
              "    </tr>\n",
              "    <tr>\n",
              "      <th>497</th>\n",
              "      <td>2021-07-05</td>\n",
              "      <td>Afghanistan</td>\n",
              "      <td>18.6</td>\n",
              "      <td>0.48</td>\n",
              "    </tr>\n",
              "    <tr>\n",
              "      <th>499</th>\n",
              "      <td>2021-07-07</td>\n",
              "      <td>Afghanistan</td>\n",
              "      <td>18.6</td>\n",
              "      <td>0.50</td>\n",
              "    </tr>\n",
              "    <tr>\n",
              "      <th>503</th>\n",
              "      <td>2021-07-11</td>\n",
              "      <td>Afghanistan</td>\n",
              "      <td>18.6</td>\n",
              "      <td>0.55</td>\n",
              "    </tr>\n",
              "    <tr>\n",
              "      <th>543</th>\n",
              "      <td>2021-08-20</td>\n",
              "      <td>Afghanistan</td>\n",
              "      <td>18.6</td>\n",
              "      <td>1.08</td>\n",
              "    </tr>\n",
              "    <tr>\n",
              "      <th>629</th>\n",
              "      <td>2021-11-14</td>\n",
              "      <td>Afghanistan</td>\n",
              "      <td>18.6</td>\n",
              "      <td>8.00</td>\n",
              "    </tr>\n",
              "    <tr>\n",
              "      <th>672</th>\n",
              "      <td>2021-12-27</td>\n",
              "      <td>Afghanistan</td>\n",
              "      <td>18.6</td>\n",
              "      <td>9.42</td>\n",
              "    </tr>\n",
              "    <tr>\n",
              "      <th>685</th>\n",
              "      <td>2022-01-09</td>\n",
              "      <td>Afghanistan</td>\n",
              "      <td>18.6</td>\n",
              "      <td>9.56</td>\n",
              "    </tr>\n",
              "    <tr>\n",
              "      <th>687</th>\n",
              "      <td>2022-01-11</td>\n",
              "      <td>Afghanistan</td>\n",
              "      <td>18.6</td>\n",
              "      <td>9.58</td>\n",
              "    </tr>\n",
              "    <tr>\n",
              "      <th>689</th>\n",
              "      <td>2022-01-13</td>\n",
              "      <td>Afghanistan</td>\n",
              "      <td>18.6</td>\n",
              "      <td>9.60</td>\n",
              "    </tr>\n",
              "    <tr>\n",
              "      <th>693</th>\n",
              "      <td>2022-01-17</td>\n",
              "      <td>Afghanistan</td>\n",
              "      <td>18.6</td>\n",
              "      <td>9.62</td>\n",
              "    </tr>\n",
              "    <tr>\n",
              "      <th>695</th>\n",
              "      <td>2022-01-19</td>\n",
              "      <td>Afghanistan</td>\n",
              "      <td>18.6</td>\n",
              "      <td>9.63</td>\n",
              "    </tr>\n",
              "    <tr>\n",
              "      <th>700</th>\n",
              "      <td>2022-01-24</td>\n",
              "      <td>Afghanistan</td>\n",
              "      <td>18.6</td>\n",
              "      <td>9.67</td>\n",
              "    </tr>\n",
              "    <tr>\n",
              "      <th>702</th>\n",
              "      <td>2022-01-26</td>\n",
              "      <td>Afghanistan</td>\n",
              "      <td>18.6</td>\n",
              "      <td>9.71</td>\n",
              "    </tr>\n",
              "    <tr>\n",
              "      <th>703</th>\n",
              "      <td>2022-01-27</td>\n",
              "      <td>Afghanistan</td>\n",
              "      <td>18.6</td>\n",
              "      <td>9.71</td>\n",
              "    </tr>\n",
              "    <tr>\n",
              "      <th>707</th>\n",
              "      <td>2022-01-31</td>\n",
              "      <td>Afghanistan</td>\n",
              "      <td>18.6</td>\n",
              "      <td>9.77</td>\n",
              "    </tr>\n",
              "    <tr>\n",
              "      <th>709</th>\n",
              "      <td>2022-02-02</td>\n",
              "      <td>Afghanistan</td>\n",
              "      <td>18.6</td>\n",
              "      <td>9.82</td>\n",
              "    </tr>\n",
              "  </tbody>\n",
              "</table>\n",
              "</div>\n",
              "      <button class=\"colab-df-convert\" onclick=\"convertToInteractive('df-04343a60-42be-437b-8e43-9a482486267d')\"\n",
              "              title=\"Convert this dataframe to an interactive table.\"\n",
              "              style=\"display:none;\">\n",
              "        \n",
              "  <svg xmlns=\"http://www.w3.org/2000/svg\" height=\"24px\"viewBox=\"0 0 24 24\"\n",
              "       width=\"24px\">\n",
              "    <path d=\"M0 0h24v24H0V0z\" fill=\"none\"/>\n",
              "    <path d=\"M18.56 5.44l.94 2.06.94-2.06 2.06-.94-2.06-.94-.94-2.06-.94 2.06-2.06.94zm-11 1L8.5 8.5l.94-2.06 2.06-.94-2.06-.94L8.5 2.5l-.94 2.06-2.06.94zm10 10l.94 2.06.94-2.06 2.06-.94-2.06-.94-.94-2.06-.94 2.06-2.06.94z\"/><path d=\"M17.41 7.96l-1.37-1.37c-.4-.4-.92-.59-1.43-.59-.52 0-1.04.2-1.43.59L10.3 9.45l-7.72 7.72c-.78.78-.78 2.05 0 2.83L4 21.41c.39.39.9.59 1.41.59.51 0 1.02-.2 1.41-.59l7.78-7.78 2.81-2.81c.8-.78.8-2.07 0-2.86zM5.41 20L4 18.59l7.72-7.72 1.47 1.35L5.41 20z\"/>\n",
              "  </svg>\n",
              "      </button>\n",
              "      \n",
              "  <style>\n",
              "    .colab-df-container {\n",
              "      display:flex;\n",
              "      flex-wrap:wrap;\n",
              "      gap: 12px;\n",
              "    }\n",
              "\n",
              "    .colab-df-convert {\n",
              "      background-color: #E8F0FE;\n",
              "      border: none;\n",
              "      border-radius: 50%;\n",
              "      cursor: pointer;\n",
              "      display: none;\n",
              "      fill: #1967D2;\n",
              "      height: 32px;\n",
              "      padding: 0 0 0 0;\n",
              "      width: 32px;\n",
              "    }\n",
              "\n",
              "    .colab-df-convert:hover {\n",
              "      background-color: #E2EBFA;\n",
              "      box-shadow: 0px 1px 2px rgba(60, 64, 67, 0.3), 0px 1px 3px 1px rgba(60, 64, 67, 0.15);\n",
              "      fill: #174EA6;\n",
              "    }\n",
              "\n",
              "    [theme=dark] .colab-df-convert {\n",
              "      background-color: #3B4455;\n",
              "      fill: #D2E3FC;\n",
              "    }\n",
              "\n",
              "    [theme=dark] .colab-df-convert:hover {\n",
              "      background-color: #434B5C;\n",
              "      box-shadow: 0px 1px 3px 1px rgba(0, 0, 0, 0.15);\n",
              "      filter: drop-shadow(0px 1px 2px rgba(0, 0, 0, 0.3));\n",
              "      fill: #FFFFFF;\n",
              "    }\n",
              "  </style>\n",
              "\n",
              "      <script>\n",
              "        const buttonEl =\n",
              "          document.querySelector('#df-04343a60-42be-437b-8e43-9a482486267d button.colab-df-convert');\n",
              "        buttonEl.style.display =\n",
              "          google.colab.kernel.accessAllowed ? 'block' : 'none';\n",
              "\n",
              "        async function convertToInteractive(key) {\n",
              "          const element = document.querySelector('#df-04343a60-42be-437b-8e43-9a482486267d');\n",
              "          const dataTable =\n",
              "            await google.colab.kernel.invokeFunction('convertToInteractive',\n",
              "                                                     [key], {});\n",
              "          if (!dataTable) return;\n",
              "\n",
              "          const docLinkHtml = 'Like what you see? Visit the ' +\n",
              "            '<a target=\"_blank\" href=https://colab.research.google.com/notebooks/data_table.ipynb>data table notebook</a>'\n",
              "            + ' to learn more about interactive tables.';\n",
              "          element.innerHTML = '';\n",
              "          dataTable['output_type'] = 'display_data';\n",
              "          await google.colab.output.renderOutput(dataTable, element);\n",
              "          const docLink = document.createElement('div');\n",
              "          docLink.innerHTML = docLinkHtml;\n",
              "          element.appendChild(docLink);\n",
              "        }\n",
              "      </script>\n",
              "    </div>\n",
              "  </div>\n",
              "  "
            ],
            "text/plain": [
              "          date     location  median_age  people_fully_vaccinated_per_hundred\n",
              "442 2021-05-11  Afghanistan        18.6                                 0.14\n",
              "451 2021-05-20  Afghanistan        18.6                                 0.19\n",
              "455 2021-05-24  Afghanistan        18.6                                 0.24\n",
              "457 2021-05-26  Afghanistan        18.6                                 0.28\n",
              "458 2021-05-27  Afghanistan        18.6                                 0.29\n",
              "461 2021-05-30  Afghanistan        18.6                                 0.30\n",
              "464 2021-06-02  Afghanistan        18.6                                 0.36\n",
              "465 2021-06-03  Afghanistan        18.6                                 0.37\n",
              "470 2021-06-08  Afghanistan        18.6                                 0.40\n",
              "476 2021-06-14  Afghanistan        18.6                                 0.44\n",
              "484 2021-06-22  Afghanistan        18.6                                 0.46\n",
              "489 2021-06-27  Afghanistan        18.6                                 0.47\n",
              "492 2021-06-30  Afghanistan        18.6                                 0.47\n",
              "497 2021-07-05  Afghanistan        18.6                                 0.48\n",
              "499 2021-07-07  Afghanistan        18.6                                 0.50\n",
              "503 2021-07-11  Afghanistan        18.6                                 0.55\n",
              "543 2021-08-20  Afghanistan        18.6                                 1.08\n",
              "629 2021-11-14  Afghanistan        18.6                                 8.00\n",
              "672 2021-12-27  Afghanistan        18.6                                 9.42\n",
              "685 2022-01-09  Afghanistan        18.6                                 9.56\n",
              "687 2022-01-11  Afghanistan        18.6                                 9.58\n",
              "689 2022-01-13  Afghanistan        18.6                                 9.60\n",
              "693 2022-01-17  Afghanistan        18.6                                 9.62\n",
              "695 2022-01-19  Afghanistan        18.6                                 9.63\n",
              "700 2022-01-24  Afghanistan        18.6                                 9.67\n",
              "702 2022-01-26  Afghanistan        18.6                                 9.71\n",
              "703 2022-01-27  Afghanistan        18.6                                 9.71\n",
              "707 2022-01-31  Afghanistan        18.6                                 9.77\n",
              "709 2022-02-02  Afghanistan        18.6                                 9.82"
            ]
          },
          "metadata": {},
          "execution_count": 14
        }
      ]
    },
    {
      "cell_type": "markdown",
      "source": [
        "## Visualise"
      ],
      "metadata": {
        "id": "xlxcsn-_TYt4"
      }
    },
    {
      "cell_type": "code",
      "source": [
        "print('\\n')"
      ],
      "metadata": {
        "colab": {
          "base_uri": "https://localhost:8080/"
        },
        "id": "O-Yx0UyaP3w-",
        "outputId": "027426a0-84ec-433d-b165-836a0fc2d352"
      },
      "execution_count": 15,
      "outputs": [
        {
          "output_type": "stream",
          "name": "stdout",
          "text": [
            "\n",
            "\n"
          ]
        }
      ]
    },
    {
      "cell_type": "markdown",
      "source": [
        "### Input (typing) to get line graph"
      ],
      "metadata": {
        "id": "iDLPHcgNR2OR"
      }
    },
    {
      "cell_type": "markdown",
      "source": [
        "Graph with typing input"
      ],
      "metadata": {
        "id": "HBUQPUQfhGNC"
      }
    },
    {
      "cell_type": "code",
      "source": [
        "from ipywidgets import interact\n",
        "from ipywidgets import fixed\n",
        "import statistics\n",
        "\n",
        "def select_country_typing(country):\n",
        "  try:\n",
        "    my_df2 = covid.loc[:, ['date', 'location', 'people_fully_vaccinated_per_hundred', 'median_age']]\n",
        "    my_df2 = my_df2.dropna(subset=['median_age', 'people_fully_vaccinated_per_hundred'])\n",
        "\n",
        "    my_df2 = my_df2.loc[(my_df2.date > '2021-01-01')]\n",
        "    my_df2 = my_df2.loc[(my_df2['location'] == country)]\n",
        "        \n",
        "    alt.data_transformers.disable_max_rows()\n",
        "    result = alt.Chart(my_df2).mark_line().encode(\n",
        "        y= alt.Y('median(people_fully_vaccinated_per_hundred):Q'),\n",
        "        x= alt.X('date:T'),\n",
        "        column = 'location'\n",
        "    )\n",
        "    median_age_v = statistics.median(my_df2.median_age)\n",
        "    print('\\nThe median age of your country is: ', median_age_v, '\\n')\n",
        "    return result\n",
        "  except statistics.StatisticsError:\n",
        "    return print(\"Please enter a valid country\")"
      ],
      "metadata": {
        "id": "F2mTesGpK-z0"
      },
      "execution_count": 16,
      "outputs": []
    },
    {
      "cell_type": "code",
      "source": [
        "interact(select_country_typing, country = 'Afghanistan', df=fixed(my_df2));"
      ],
      "metadata": {
        "colab": {
          "base_uri": "https://localhost:8080/",
          "height": 500,
          "referenced_widgets": [
            "d063b667415841328f0ee646f8eaed8e",
            "45eabf2442fa469e85bf52d8c5f1ff0e",
            "e2540b362ecd414d946e1815cd6f7545",
            "6424ccc1bcde4b6d9ae15ae9fd1b9ab5",
            "cc815cdb4c034000a8693e9b5d60f298",
            "191a9022894448c0958e11a1e60793a4",
            "7b86eee495cd437d96c68be245e38459"
          ]
        },
        "id": "D2nv6N5FLG-T",
        "outputId": "7c3ce942-94d9-411f-80e5-3ddb0e889c8f"
      },
      "execution_count": 17,
      "outputs": [
        {
          "output_type": "display_data",
          "data": {
            "application/vnd.jupyter.widget-view+json": {
              "model_id": "d063b667415841328f0ee646f8eaed8e",
              "version_minor": 0,
              "version_major": 2
            },
            "text/plain": [
              "interactive(children=(Text(value='Afghanistan', description='country'), Output()), _dom_classes=('widget-inter…"
            ]
          },
          "metadata": {}
        }
      ]
    },
    {
      "cell_type": "markdown",
      "source": [
        "### Input (dropdown) to get line graph"
      ],
      "metadata": {
        "id": "z7qdstWHTonk"
      }
    },
    {
      "cell_type": "markdown",
      "source": [
        "Graph with drowndown menu input"
      ],
      "metadata": {
        "id": "A8YXDKx0hKja"
      }
    },
    {
      "cell_type": "markdown",
      "source": [
        "Here was my first idea of visualisation, which I knew was not optimal. However, this helped me compare countries and continents along with their median age which did help with answering the broad research question."
      ],
      "metadata": {
        "id": "ufNOgCRR8vOA"
      }
    },
    {
      "cell_type": "code",
      "source": [
        "print('\\n')"
      ],
      "metadata": {
        "colab": {
          "base_uri": "https://localhost:8080/"
        },
        "id": "zOzGiD5_QIpp",
        "outputId": "7745a08a-f15b-4ab8-92fc-98da877f7cf5"
      },
      "execution_count": 18,
      "outputs": [
        {
          "output_type": "stream",
          "name": "stdout",
          "text": [
            "\n",
            "\n"
          ]
        }
      ]
    },
    {
      "cell_type": "code",
      "source": [
        "from ipywidgets import interact\n",
        "from ipywidgets import fixed\n",
        "\n",
        "def select_country(country):\n",
        "  my_df2 = covid.loc[:, ['date', 'location', 'people_fully_vaccinated_per_hundred']]\n",
        "  my_df2 = my_df.dropna(subset=['median_age', 'people_fully_vaccinated_per_hundred'])\n",
        "\n",
        "  my_df2 = my_df2.loc[(my_df2.date > '2021-01-01')]\n",
        "  my_df2 = my_df2.loc[(my_df2['location'] == country)]\n",
        "  \n",
        "  alt.data_transformers.disable_max_rows()\n",
        "  result = alt.Chart(my_df2).mark_line().encode(\n",
        "      y= alt.Y('mean(people_fully_vaccinated_per_hundred):Q', title='Mean of fully vaccinated people per 100',),\n",
        "      x= alt.X('date:T', title='Time (days)'),\n",
        "      column = 'location',\n",
        "      color = 'median(median_age)'\n",
        "  ).properties(title='Mean of people vaccinated per 100 people over time, starting from 1st Jan 2022')\n",
        "\n",
        "  median_age_v = statistics.median(my_df2.median_age)\n",
        "  print('\\nThe median age of your country is: ', median_age_v, '\\n')\n",
        "  return result"
      ],
      "metadata": {
        "id": "Ioxjw5L3Tn_7"
      },
      "execution_count": 19,
      "outputs": []
    },
    {
      "cell_type": "code",
      "source": [
        "interact(select_country, country = ['Belgium', 'France', 'United Kingdom', 'Germany', 'Netherlands'] , df=fixed(my_df2), description = 'a');\n",
        "print('\\n')\n",
        "print('\\n')\n",
        "interact(select_country, country = ['South Korea', 'Japan', 'Thailand', 'Myanmar', 'Nepal'] , df=fixed(my_df2), description = 'b');\n",
        "print('\\n')\n",
        "print('\\n')\n",
        "interact(select_country, country = ['Zimbabwe', 'Zambia', 'Kenya', 'Liberia'] , df=fixed(my_df2), description = 'c');\n",
        "print('\\n')\n",
        "print('\\n')\n",
        "interact(select_country, country = ['Colombia', 'Venezuela', 'Ecuador', 'Bolivia'] , df=fixed(my_df2), description = 'd');"
      ],
      "metadata": {
        "colab": {
          "base_uri": "https://localhost:8080/",
          "height": 1000,
          "referenced_widgets": [
            "ece959db80ad47959572aaf809fc228d",
            "d32df1a758d4461b9bbcd09374cbadd3",
            "91ad76e0171a49009cb39390af9b6235",
            "ab49f4d3352a442a87d42af5fe78feb8",
            "3472ac84744e4e78ba331a483f28aa08",
            "f5f13104d50e4a8f9111acc7fa5b139c",
            "684229b0dd6343bdb2329370eeba2c97",
            "c6df485287d948fda66c764c312c23c2",
            "7d7f25a8aa3c4c02a7811984cd909271",
            "56a6337be23043cd93dac4dca9756e64",
            "7c1b0c803a954b82be713c42a069aa21",
            "56c2d34d1d0e4047b69edbf7c2941628",
            "02dce111104c4e19b07a8076ef4b13be",
            "78498501c79840feb1454a4d82472c47",
            "ee73db732fc14b17b1b5e8b41e58e64c",
            "1071eaf0d8ec41ed93e9c6a821bf8731",
            "bd2e83cd0471466b8fd374448cffdc1d",
            "9a0e2f9268d24ab5b4dc16b7437662b2",
            "d17c0f9dcd494d95a0c2a10b81fa16f5",
            "e362048cd886478ea0432136ea4aada6",
            "c58d7a76bb5948c0a31cd70daa7d250f",
            "bdbae2aa06954dadb04cdc3fa4966acb",
            "294f1a8af1d94bf49891675f2808bcc4",
            "b869a724171c46efa904bdf2cc200ed3",
            "bb1d096ca37e421ba6d2114480ced6b9",
            "f7a8307550c74f2b94d69a405ae77b63",
            "41dbd4c45ea541b18e846115490a0d3f",
            "f7c03a026f054dc1978b4596fa3bd971"
          ]
        },
        "id": "560uli8ZT3Hd",
        "outputId": "ff49b95d-af78-4b89-c9ba-94f72848f24b"
      },
      "execution_count": 20,
      "outputs": [
        {
          "output_type": "display_data",
          "data": {
            "application/vnd.jupyter.widget-view+json": {
              "model_id": "ece959db80ad47959572aaf809fc228d",
              "version_minor": 0,
              "version_major": 2
            },
            "text/plain": [
              "interactive(children=(Dropdown(description='country', options=('Belgium', 'France', 'United Kingdom', 'Germany…"
            ]
          },
          "metadata": {}
        },
        {
          "output_type": "stream",
          "name": "stdout",
          "text": [
            "\n",
            "\n",
            "\n",
            "\n"
          ]
        },
        {
          "output_type": "display_data",
          "data": {
            "application/vnd.jupyter.widget-view+json": {
              "model_id": "c6df485287d948fda66c764c312c23c2",
              "version_minor": 0,
              "version_major": 2
            },
            "text/plain": [
              "interactive(children=(Dropdown(description='country', options=('South Korea', 'Japan', 'Thailand', 'Myanmar', …"
            ]
          },
          "metadata": {}
        },
        {
          "output_type": "stream",
          "name": "stdout",
          "text": [
            "\n",
            "\n",
            "\n",
            "\n"
          ]
        },
        {
          "output_type": "display_data",
          "data": {
            "application/vnd.jupyter.widget-view+json": {
              "model_id": "ee73db732fc14b17b1b5e8b41e58e64c",
              "version_minor": 0,
              "version_major": 2
            },
            "text/plain": [
              "interactive(children=(Dropdown(description='country', options=('Zimbabwe', 'Zambia', 'Kenya', 'Liberia'), valu…"
            ]
          },
          "metadata": {}
        },
        {
          "output_type": "stream",
          "name": "stdout",
          "text": [
            "\n",
            "\n",
            "\n",
            "\n"
          ]
        },
        {
          "output_type": "display_data",
          "data": {
            "application/vnd.jupyter.widget-view+json": {
              "model_id": "bdbae2aa06954dadb04cdc3fa4966acb",
              "version_minor": 0,
              "version_major": 2
            },
            "text/plain": [
              "interactive(children=(Dropdown(description='country', options=('Colombia', 'Venezuela', 'Ecuador', 'Bolivia'),…"
            ]
          },
          "metadata": {}
        }
      ]
    },
    {
      "cell_type": "markdown",
      "source": [
        "### Graph showing median age (tool tip)"
      ],
      "metadata": {
        "id": "bCPr8svdb4qa"
      }
    },
    {
      "cell_type": "markdown",
      "source": [
        "Graph showing median age"
      ],
      "metadata": {
        "id": "tKc9x7DbhRKj"
      }
    },
    {
      "cell_type": "markdown",
      "source": [
        "This seemed like the best idea to visualise what I wanted."
      ],
      "metadata": {
        "id": "BCOJxGuR81s_"
      }
    },
    {
      "cell_type": "code",
      "source": [
        "from ipywidgets import interact\n",
        "from ipywidgets import fixed\n",
        "\n",
        "my_df2 = covid.loc[:, ['date', 'location', 'people_fully_vaccinated_per_hundred']]\n",
        "my_df2 = my_df.dropna(subset=['median_age', 'people_fully_vaccinated_per_hundred'])\n",
        "\n",
        "country_list = ['Belgium', 'France', 'United Kingdom', 'Germany', 'Netherlands']\n",
        "\n",
        "my_df2 = my_df2.loc[(my_df2.date > '2021-01-01')]\n",
        "my_df3 = my_df2.loc[(my_df2['location'] == 'Belgium')]\n",
        " \n",
        "alt.data_transformers.disable_max_rows()\n",
        "result1 = alt.Chart(my_df3).mark_line().encode(\n",
        "    y= alt.Y('mean(people_fully_vaccinated_per_hundred):Q', title='Mean of fully vaccinated people per 100',),\n",
        "    x= alt.X('date:T', title='Time (days)'),\n",
        "    color = 'location:N',\n",
        "    tooltip = ['median_age']\n",
        ").properties(title='Mean of people vaccinated per 100 people over time, starting from 1st Jan 2022')\n",
        "\n",
        "my_df4 = my_df2.loc[(my_df2['location'] == 'France')]\n",
        "\n",
        "result2 = alt.Chart(my_df4).mark_line().encode(\n",
        "    y= alt.Y('mean(people_fully_vaccinated_per_hundred):Q', title='Mean of fully vaccinated people per 100',),\n",
        "    x= alt.X('date:T', title='Time (days)'),\n",
        "    color = 'location:N',\n",
        "    tooltip = ['median_age']\n",
        ").properties(title='Mean of people vaccinated per 100 people over time, starting from 1st Jan 2021')\n",
        "\n",
        "result = result1 + result2\n",
        "result"
      ],
      "metadata": {
        "colab": {
          "base_uri": "https://localhost:8080/",
          "height": 385
        },
        "id": "FMcXflXKbyzN",
        "outputId": "1c62a78b-d5c8-41b1-f445-34228b160013"
      },
      "execution_count": 21,
      "outputs": [
        {
          "output_type": "execute_result",
          "data": {
            "text/plain": [
              "alt.LayerChart(...)"
            ],
            "text/html": [
              "\n",
              "<div id=\"altair-viz-aa06c4a0fd8f435c9bfa09a4d10cddb7\"></div>\n",
              "<script type=\"text/javascript\">\n",
              "  var VEGA_DEBUG = (typeof VEGA_DEBUG == \"undefined\") ? {} : VEGA_DEBUG;\n",
              "  (function(spec, embedOpt){\n",
              "    let outputDiv = document.currentScript.previousElementSibling;\n",
              "    if (outputDiv.id !== \"altair-viz-aa06c4a0fd8f435c9bfa09a4d10cddb7\") {\n",
              "      outputDiv = document.getElementById(\"altair-viz-aa06c4a0fd8f435c9bfa09a4d10cddb7\");\n",
              "    }\n",
              "    const paths = {\n",
              "      \"vega\": \"https://cdn.jsdelivr.net/npm//vega@5?noext\",\n",
              "      \"vega-lib\": \"https://cdn.jsdelivr.net/npm//vega-lib?noext\",\n",
              "      \"vega-lite\": \"https://cdn.jsdelivr.net/npm//vega-lite@4.17.0?noext\",\n",
              "      \"vega-embed\": \"https://cdn.jsdelivr.net/npm//vega-embed@6?noext\",\n",
              "    };\n",
              "\n",
              "    function maybeLoadScript(lib, version) {\n",
              "      var key = `${lib.replace(\"-\", \"\")}_version`;\n",
              "      return (VEGA_DEBUG[key] == version) ?\n",
              "        Promise.resolve(paths[lib]) :\n",
              "        new Promise(function(resolve, reject) {\n",
              "          var s = document.createElement('script');\n",
              "          document.getElementsByTagName(\"head\")[0].appendChild(s);\n",
              "          s.async = true;\n",
              "          s.onload = () => {\n",
              "            VEGA_DEBUG[key] = version;\n",
              "            return resolve(paths[lib]);\n",
              "          };\n",
              "          s.onerror = () => reject(`Error loading script: ${paths[lib]}`);\n",
              "          s.src = paths[lib];\n",
              "        });\n",
              "    }\n",
              "\n",
              "    function showError(err) {\n",
              "      outputDiv.innerHTML = `<div class=\"error\" style=\"color:red;\">${err}</div>`;\n",
              "      throw err;\n",
              "    }\n",
              "\n",
              "    function displayChart(vegaEmbed) {\n",
              "      vegaEmbed(outputDiv, spec, embedOpt)\n",
              "        .catch(err => showError(`Javascript Error: ${err.message}<br>This usually means there's a typo in your chart specification. See the javascript console for the full traceback.`));\n",
              "    }\n",
              "\n",
              "    if(typeof define === \"function\" && define.amd) {\n",
              "      requirejs.config({paths});\n",
              "      require([\"vega-embed\"], displayChart, err => showError(`Error loading script: ${err.message}`));\n",
              "    } else {\n",
              "      maybeLoadScript(\"vega\", \"5\")\n",
              "        .then(() => maybeLoadScript(\"vega-lite\", \"4.17.0\"))\n",
              "        .then(() => maybeLoadScript(\"vega-embed\", \"6\"))\n",
              "        .catch(showError)\n",
              "        .then(() => displayChart(vegaEmbed));\n",
              "    }\n",
              "  })({\"config\": {\"view\": {\"continuousWidth\": 400, \"continuousHeight\": 300}}, \"layer\": [{\"data\": {\"name\": \"data-421839a6e1899e39b6beb5d767a61cee\"}, \"mark\": \"line\", \"encoding\": {\"color\": {\"field\": \"location\", \"type\": \"nominal\"}, \"tooltip\": [{\"field\": \"median_age\", \"type\": \"quantitative\"}], \"x\": {\"field\": \"date\", \"title\": \"Time (days)\", \"type\": \"temporal\"}, \"y\": {\"aggregate\": \"mean\", \"field\": \"people_fully_vaccinated_per_hundred\", \"title\": \"Mean of fully vaccinated people per 100\", \"type\": \"quantitative\"}}, \"title\": \"Mean of people vaccinated per 100 people over time, starting from 1st Jan 2022\"}, {\"data\": {\"name\": \"data-34dcb1079029ecfda370533f8bf1a7b1\"}, \"mark\": \"line\", \"encoding\": {\"color\": {\"field\": \"location\", \"type\": \"nominal\"}, \"tooltip\": [{\"field\": \"median_age\", \"type\": \"quantitative\"}], \"x\": {\"field\": \"date\", \"title\": \"Time (days)\", \"type\": \"temporal\"}, \"y\": {\"aggregate\": \"mean\", \"field\": \"people_fully_vaccinated_per_hundred\", \"title\": \"Mean of fully vaccinated people per 100\", \"type\": \"quantitative\"}}, \"title\": \"Mean of people vaccinated per 100 people over time, starting from 1st Jan 2021\"}], \"$schema\": \"https://vega.github.io/schema/vega-lite/v4.17.0.json\", \"datasets\": {\"data-421839a6e1899e39b6beb5d767a61cee\": [{\"date\": \"2021-01-02T00:00:00\", \"location\": \"Belgium\", \"median_age\": 41.8, \"people_fully_vaccinated_per_hundred\": 0.0}, {\"date\": \"2021-01-03T00:00:00\", \"location\": \"Belgium\", \"median_age\": 41.8, \"people_fully_vaccinated_per_hundred\": 0.0}, {\"date\": \"2021-01-04T00:00:00\", \"location\": \"Belgium\", \"median_age\": 41.8, \"people_fully_vaccinated_per_hundred\": 0.0}, {\"date\": \"2021-01-05T00:00:00\", \"location\": \"Belgium\", \"median_age\": 41.8, \"people_fully_vaccinated_per_hundred\": 0.0}, {\"date\": \"2021-01-06T00:00:00\", \"location\": \"Belgium\", \"median_age\": 41.8, \"people_fully_vaccinated_per_hundred\": 0.0}, {\"date\": \"2021-01-07T00:00:00\", \"location\": \"Belgium\", \"median_age\": 41.8, \"people_fully_vaccinated_per_hundred\": 0.0}, {\"date\": \"2021-01-08T00:00:00\", \"location\": \"Belgium\", \"median_age\": 41.8, \"people_fully_vaccinated_per_hundred\": 0.0}, {\"date\": \"2021-01-09T00:00:00\", \"location\": \"Belgium\", \"median_age\": 41.8, \"people_fully_vaccinated_per_hundred\": 0.0}, {\"date\": \"2021-01-10T00:00:00\", \"location\": \"Belgium\", \"median_age\": 41.8, \"people_fully_vaccinated_per_hundred\": 0.0}, {\"date\": \"2021-01-11T00:00:00\", \"location\": \"Belgium\", \"median_age\": 41.8, \"people_fully_vaccinated_per_hundred\": 0.0}, {\"date\": \"2021-01-12T00:00:00\", \"location\": \"Belgium\", \"median_age\": 41.8, \"people_fully_vaccinated_per_hundred\": 0.0}, {\"date\": \"2021-01-13T00:00:00\", \"location\": \"Belgium\", \"median_age\": 41.8, \"people_fully_vaccinated_per_hundred\": 0.0}, {\"date\": \"2021-01-14T00:00:00\", \"location\": \"Belgium\", \"median_age\": 41.8, \"people_fully_vaccinated_per_hundred\": 0.0}, {\"date\": \"2021-01-15T00:00:00\", \"location\": \"Belgium\", \"median_age\": 41.8, \"people_fully_vaccinated_per_hundred\": 0.0}, {\"date\": \"2021-01-16T00:00:00\", \"location\": \"Belgium\", \"median_age\": 41.8, \"people_fully_vaccinated_per_hundred\": 0.0}, {\"date\": \"2021-01-17T00:00:00\", \"location\": \"Belgium\", \"median_age\": 41.8, \"people_fully_vaccinated_per_hundred\": 0.0}, {\"date\": \"2021-01-18T00:00:00\", \"location\": \"Belgium\", \"median_age\": 41.8, \"people_fully_vaccinated_per_hundred\": 0.01}, {\"date\": \"2021-01-19T00:00:00\", \"location\": \"Belgium\", \"median_age\": 41.8, \"people_fully_vaccinated_per_hundred\": 0.01}, {\"date\": \"2021-01-20T00:00:00\", \"location\": \"Belgium\", \"median_age\": 41.8, \"people_fully_vaccinated_per_hundred\": 0.01}, {\"date\": \"2021-01-21T00:00:00\", \"location\": \"Belgium\", \"median_age\": 41.8, \"people_fully_vaccinated_per_hundred\": 0.01}, {\"date\": \"2021-01-22T00:00:00\", \"location\": \"Belgium\", \"median_age\": 41.8, \"people_fully_vaccinated_per_hundred\": 0.01}, {\"date\": \"2021-01-23T00:00:00\", \"location\": \"Belgium\", \"median_age\": 41.8, \"people_fully_vaccinated_per_hundred\": 0.01}, {\"date\": \"2021-01-24T00:00:00\", \"location\": \"Belgium\", \"median_age\": 41.8, \"people_fully_vaccinated_per_hundred\": 0.01}, {\"date\": \"2021-01-25T00:00:00\", \"location\": \"Belgium\", \"median_age\": 41.8, \"people_fully_vaccinated_per_hundred\": 0.01}, {\"date\": \"2021-01-26T00:00:00\", \"location\": \"Belgium\", \"median_age\": 41.8, \"people_fully_vaccinated_per_hundred\": 0.03}, {\"date\": \"2021-01-27T00:00:00\", \"location\": \"Belgium\", \"median_age\": 41.8, \"people_fully_vaccinated_per_hundred\": 0.06}, {\"date\": \"2021-01-28T00:00:00\", \"location\": \"Belgium\", \"median_age\": 41.8, \"people_fully_vaccinated_per_hundred\": 0.13}, {\"date\": \"2021-01-29T00:00:00\", \"location\": \"Belgium\", \"median_age\": 41.8, \"people_fully_vaccinated_per_hundred\": 0.21}, {\"date\": \"2021-01-30T00:00:00\", \"location\": \"Belgium\", \"median_age\": 41.8, \"people_fully_vaccinated_per_hundred\": 0.23}, {\"date\": \"2021-01-31T00:00:00\", \"location\": \"Belgium\", \"median_age\": 41.8, \"people_fully_vaccinated_per_hundred\": 0.24}, {\"date\": \"2021-02-01T00:00:00\", \"location\": \"Belgium\", \"median_age\": 41.8, \"people_fully_vaccinated_per_hundred\": 0.27}, {\"date\": \"2021-02-02T00:00:00\", \"location\": \"Belgium\", \"median_age\": 41.8, \"people_fully_vaccinated_per_hundred\": 0.4}, {\"date\": \"2021-02-03T00:00:00\", \"location\": \"Belgium\", \"median_age\": 41.8, \"people_fully_vaccinated_per_hundred\": 0.57}, {\"date\": \"2021-02-04T00:00:00\", \"location\": \"Belgium\", \"median_age\": 41.8, \"people_fully_vaccinated_per_hundred\": 0.79}, {\"date\": \"2021-02-05T00:00:00\", \"location\": \"Belgium\", \"median_age\": 41.8, \"people_fully_vaccinated_per_hundred\": 0.98}, {\"date\": \"2021-02-06T00:00:00\", \"location\": \"Belgium\", \"median_age\": 41.8, \"people_fully_vaccinated_per_hundred\": 1.03}, {\"date\": \"2021-02-07T00:00:00\", \"location\": \"Belgium\", \"median_age\": 41.8, \"people_fully_vaccinated_per_hundred\": 1.06}, {\"date\": \"2021-02-08T00:00:00\", \"location\": \"Belgium\", \"median_age\": 41.8, \"people_fully_vaccinated_per_hundred\": 1.13}, {\"date\": \"2021-02-09T00:00:00\", \"location\": \"Belgium\", \"median_age\": 41.8, \"people_fully_vaccinated_per_hundred\": 1.3}, {\"date\": \"2021-02-10T00:00:00\", \"location\": \"Belgium\", \"median_age\": 41.8, \"people_fully_vaccinated_per_hundred\": 1.46}, {\"date\": \"2021-02-11T00:00:00\", \"location\": \"Belgium\", \"median_age\": 41.8, \"people_fully_vaccinated_per_hundred\": 1.71}, {\"date\": \"2021-02-12T00:00:00\", \"location\": \"Belgium\", \"median_age\": 41.8, \"people_fully_vaccinated_per_hundred\": 1.95}, {\"date\": \"2021-02-13T00:00:00\", \"location\": \"Belgium\", \"median_age\": 41.8, \"people_fully_vaccinated_per_hundred\": 2.02}, {\"date\": \"2021-02-14T00:00:00\", \"location\": \"Belgium\", \"median_age\": 41.8, \"people_fully_vaccinated_per_hundred\": 2.04}, {\"date\": \"2021-02-15T00:00:00\", \"location\": \"Belgium\", \"median_age\": 41.8, \"people_fully_vaccinated_per_hundred\": 2.14}, {\"date\": \"2021-02-16T00:00:00\", \"location\": \"Belgium\", \"median_age\": 41.8, \"people_fully_vaccinated_per_hundred\": 2.23}, {\"date\": \"2021-02-17T00:00:00\", \"location\": \"Belgium\", \"median_age\": 41.8, \"people_fully_vaccinated_per_hundred\": 2.35}, {\"date\": \"2021-02-18T00:00:00\", \"location\": \"Belgium\", \"median_age\": 41.8, \"people_fully_vaccinated_per_hundred\": 2.5}, {\"date\": \"2021-02-19T00:00:00\", \"location\": \"Belgium\", \"median_age\": 41.8, \"people_fully_vaccinated_per_hundred\": 2.61}, {\"date\": \"2021-02-20T00:00:00\", \"location\": \"Belgium\", \"median_age\": 41.8, \"people_fully_vaccinated_per_hundred\": 2.63}, {\"date\": \"2021-02-21T00:00:00\", \"location\": \"Belgium\", \"median_age\": 41.8, \"people_fully_vaccinated_per_hundred\": 2.63}, {\"date\": \"2021-02-22T00:00:00\", \"location\": \"Belgium\", \"median_age\": 41.8, \"people_fully_vaccinated_per_hundred\": 2.65}, {\"date\": \"2021-02-23T00:00:00\", \"location\": \"Belgium\", \"median_age\": 41.8, \"people_fully_vaccinated_per_hundred\": 2.73}, {\"date\": \"2021-02-24T00:00:00\", \"location\": \"Belgium\", \"median_age\": 41.8, \"people_fully_vaccinated_per_hundred\": 2.8}, {\"date\": \"2021-02-25T00:00:00\", \"location\": \"Belgium\", \"median_age\": 41.8, \"people_fully_vaccinated_per_hundred\": 2.88}, {\"date\": \"2021-02-26T00:00:00\", \"location\": \"Belgium\", \"median_age\": 41.8, \"people_fully_vaccinated_per_hundred\": 2.94}, {\"date\": \"2021-02-27T00:00:00\", \"location\": \"Belgium\", \"median_age\": 41.8, \"people_fully_vaccinated_per_hundred\": 2.95}, {\"date\": \"2021-02-28T00:00:00\", \"location\": \"Belgium\", \"median_age\": 41.8, \"people_fully_vaccinated_per_hundred\": 2.95}, {\"date\": \"2021-03-01T00:00:00\", \"location\": \"Belgium\", \"median_age\": 41.8, \"people_fully_vaccinated_per_hundred\": 2.98}, {\"date\": \"2021-03-02T00:00:00\", \"location\": \"Belgium\", \"median_age\": 41.8, \"people_fully_vaccinated_per_hundred\": 3.04}, {\"date\": \"2021-03-03T00:00:00\", \"location\": \"Belgium\", \"median_age\": 41.8, \"people_fully_vaccinated_per_hundred\": 3.09}, {\"date\": \"2021-03-04T00:00:00\", \"location\": \"Belgium\", \"median_age\": 41.8, \"people_fully_vaccinated_per_hundred\": 3.17}, {\"date\": \"2021-03-05T00:00:00\", \"location\": \"Belgium\", \"median_age\": 41.8, \"people_fully_vaccinated_per_hundred\": 3.23}, {\"date\": \"2021-03-06T00:00:00\", \"location\": \"Belgium\", \"median_age\": 41.8, \"people_fully_vaccinated_per_hundred\": 3.23}, {\"date\": \"2021-03-07T00:00:00\", \"location\": \"Belgium\", \"median_age\": 41.8, \"people_fully_vaccinated_per_hundred\": 3.23}, {\"date\": \"2021-03-08T00:00:00\", \"location\": \"Belgium\", \"median_age\": 41.8, \"people_fully_vaccinated_per_hundred\": 3.25}, {\"date\": \"2021-03-09T00:00:00\", \"location\": \"Belgium\", \"median_age\": 41.8, \"people_fully_vaccinated_per_hundred\": 3.32}, {\"date\": \"2021-03-10T00:00:00\", \"location\": \"Belgium\", \"median_age\": 41.8, \"people_fully_vaccinated_per_hundred\": 3.4}, {\"date\": \"2021-03-11T00:00:00\", \"location\": \"Belgium\", \"median_age\": 41.8, \"people_fully_vaccinated_per_hundred\": 3.49}, {\"date\": \"2021-03-12T00:00:00\", \"location\": \"Belgium\", \"median_age\": 41.8, \"people_fully_vaccinated_per_hundred\": 3.6}, {\"date\": \"2021-03-13T00:00:00\", \"location\": \"Belgium\", \"median_age\": 41.8, \"people_fully_vaccinated_per_hundred\": 3.62}, {\"date\": \"2021-03-14T00:00:00\", \"location\": \"Belgium\", \"median_age\": 41.8, \"people_fully_vaccinated_per_hundred\": 3.64}, {\"date\": \"2021-03-15T00:00:00\", \"location\": \"Belgium\", \"median_age\": 41.8, \"people_fully_vaccinated_per_hundred\": 3.68}, {\"date\": \"2021-03-16T00:00:00\", \"location\": \"Belgium\", \"median_age\": 41.8, \"people_fully_vaccinated_per_hundred\": 3.71}, {\"date\": \"2021-03-17T00:00:00\", \"location\": \"Belgium\", \"median_age\": 41.8, \"people_fully_vaccinated_per_hundred\": 3.79}, {\"date\": \"2021-03-18T00:00:00\", \"location\": \"Belgium\", \"median_age\": 41.8, \"people_fully_vaccinated_per_hundred\": 3.94}, {\"date\": \"2021-03-19T00:00:00\", \"location\": \"Belgium\", \"median_age\": 41.8, \"people_fully_vaccinated_per_hundred\": 4.1}, {\"date\": \"2021-03-20T00:00:00\", \"location\": \"Belgium\", \"median_age\": 41.8, \"people_fully_vaccinated_per_hundred\": 4.11}, {\"date\": \"2021-03-21T00:00:00\", \"location\": \"Belgium\", \"median_age\": 41.8, \"people_fully_vaccinated_per_hundred\": 4.12}, {\"date\": \"2021-03-22T00:00:00\", \"location\": \"Belgium\", \"median_age\": 41.8, \"people_fully_vaccinated_per_hundred\": 4.17}, {\"date\": \"2021-03-23T00:00:00\", \"location\": \"Belgium\", \"median_age\": 41.8, \"people_fully_vaccinated_per_hundred\": 4.22}, {\"date\": \"2021-03-24T00:00:00\", \"location\": \"Belgium\", \"median_age\": 41.8, \"people_fully_vaccinated_per_hundred\": 4.31}, {\"date\": \"2021-03-25T00:00:00\", \"location\": \"Belgium\", \"median_age\": 41.8, \"people_fully_vaccinated_per_hundred\": 4.48}, {\"date\": \"2021-03-26T00:00:00\", \"location\": \"Belgium\", \"median_age\": 41.8, \"people_fully_vaccinated_per_hundred\": 4.66}, {\"date\": \"2021-03-27T00:00:00\", \"location\": \"Belgium\", \"median_age\": 41.8, \"people_fully_vaccinated_per_hundred\": 4.69}, {\"date\": \"2021-03-28T00:00:00\", \"location\": \"Belgium\", \"median_age\": 41.8, \"people_fully_vaccinated_per_hundred\": 4.7}, {\"date\": \"2021-03-29T00:00:00\", \"location\": \"Belgium\", \"median_age\": 41.8, \"people_fully_vaccinated_per_hundred\": 4.74}, {\"date\": \"2021-03-30T00:00:00\", \"location\": \"Belgium\", \"median_age\": 41.8, \"people_fully_vaccinated_per_hundred\": 4.79}, {\"date\": \"2021-03-31T00:00:00\", \"location\": \"Belgium\", \"median_age\": 41.8, \"people_fully_vaccinated_per_hundred\": 4.89}, {\"date\": \"2021-04-01T00:00:00\", \"location\": \"Belgium\", \"median_age\": 41.8, \"people_fully_vaccinated_per_hundred\": 5.11}, {\"date\": \"2021-04-02T00:00:00\", \"location\": \"Belgium\", \"median_age\": 41.8, \"people_fully_vaccinated_per_hundred\": 5.28}, {\"date\": \"2021-04-03T00:00:00\", \"location\": \"Belgium\", \"median_age\": 41.8, \"people_fully_vaccinated_per_hundred\": 5.29}, {\"date\": \"2021-04-04T00:00:00\", \"location\": \"Belgium\", \"median_age\": 41.8, \"people_fully_vaccinated_per_hundred\": 5.29}, {\"date\": \"2021-04-05T00:00:00\", \"location\": \"Belgium\", \"median_age\": 41.8, \"people_fully_vaccinated_per_hundred\": 5.31}, {\"date\": \"2021-04-06T00:00:00\", \"location\": \"Belgium\", \"median_age\": 41.8, \"people_fully_vaccinated_per_hundred\": 5.39}, {\"date\": \"2021-04-07T00:00:00\", \"location\": \"Belgium\", \"median_age\": 41.8, \"people_fully_vaccinated_per_hundred\": 5.48}, {\"date\": \"2021-04-08T00:00:00\", \"location\": \"Belgium\", \"median_age\": 41.8, \"people_fully_vaccinated_per_hundred\": 5.63}, {\"date\": \"2021-04-09T00:00:00\", \"location\": \"Belgium\", \"median_age\": 41.8, \"people_fully_vaccinated_per_hundred\": 5.76}, {\"date\": \"2021-04-10T00:00:00\", \"location\": \"Belgium\", \"median_age\": 41.8, \"people_fully_vaccinated_per_hundred\": 5.8}, {\"date\": \"2021-04-11T00:00:00\", \"location\": \"Belgium\", \"median_age\": 41.8, \"people_fully_vaccinated_per_hundred\": 5.8}, {\"date\": \"2021-04-12T00:00:00\", \"location\": \"Belgium\", \"median_age\": 41.8, \"people_fully_vaccinated_per_hundred\": 5.88}, {\"date\": \"2021-04-13T00:00:00\", \"location\": \"Belgium\", \"median_age\": 41.8, \"people_fully_vaccinated_per_hundred\": 5.96}, {\"date\": \"2021-04-14T00:00:00\", \"location\": \"Belgium\", \"median_age\": 41.8, \"people_fully_vaccinated_per_hundred\": 6.17}, {\"date\": \"2021-04-15T00:00:00\", \"location\": \"Belgium\", \"median_age\": 41.8, \"people_fully_vaccinated_per_hundred\": 6.4}, {\"date\": \"2021-04-16T00:00:00\", \"location\": \"Belgium\", \"median_age\": 41.8, \"people_fully_vaccinated_per_hundred\": 6.55}, {\"date\": \"2021-04-17T00:00:00\", \"location\": \"Belgium\", \"median_age\": 41.8, \"people_fully_vaccinated_per_hundred\": 6.6}, {\"date\": \"2021-04-18T00:00:00\", \"location\": \"Belgium\", \"median_age\": 41.8, \"people_fully_vaccinated_per_hundred\": 6.61}, {\"date\": \"2021-04-19T00:00:00\", \"location\": \"Belgium\", \"median_age\": 41.8, \"people_fully_vaccinated_per_hundred\": 6.64}, {\"date\": \"2021-04-20T00:00:00\", \"location\": \"Belgium\", \"median_age\": 41.8, \"people_fully_vaccinated_per_hundred\": 6.67}, {\"date\": \"2021-04-21T00:00:00\", \"location\": \"Belgium\", \"median_age\": 41.8, \"people_fully_vaccinated_per_hundred\": 6.71}, {\"date\": \"2021-04-22T00:00:00\", \"location\": \"Belgium\", \"median_age\": 41.8, \"people_fully_vaccinated_per_hundred\": 6.77}, {\"date\": \"2021-04-23T00:00:00\", \"location\": \"Belgium\", \"median_age\": 41.8, \"people_fully_vaccinated_per_hundred\": 6.83}, {\"date\": \"2021-04-24T00:00:00\", \"location\": \"Belgium\", \"median_age\": 41.8, \"people_fully_vaccinated_per_hundred\": 6.85}, {\"date\": \"2021-04-25T00:00:00\", \"location\": \"Belgium\", \"median_age\": 41.8, \"people_fully_vaccinated_per_hundred\": 6.85}, {\"date\": \"2021-04-26T00:00:00\", \"location\": \"Belgium\", \"median_age\": 41.8, \"people_fully_vaccinated_per_hundred\": 6.91}, {\"date\": \"2021-04-27T00:00:00\", \"location\": \"Belgium\", \"median_age\": 41.8, \"people_fully_vaccinated_per_hundred\": 7.04}, {\"date\": \"2021-04-28T00:00:00\", \"location\": \"Belgium\", \"median_age\": 41.8, \"people_fully_vaccinated_per_hundred\": 7.17}, {\"date\": \"2021-04-29T00:00:00\", \"location\": \"Belgium\", \"median_age\": 41.8, \"people_fully_vaccinated_per_hundred\": 7.35}, {\"date\": \"2021-04-30T00:00:00\", \"location\": \"Belgium\", \"median_age\": 41.8, \"people_fully_vaccinated_per_hundred\": 7.54}, {\"date\": \"2021-05-01T00:00:00\", \"location\": \"Belgium\", \"median_age\": 41.8, \"people_fully_vaccinated_per_hundred\": 7.62}, {\"date\": \"2021-05-02T00:00:00\", \"location\": \"Belgium\", \"median_age\": 41.8, \"people_fully_vaccinated_per_hundred\": 7.62}, {\"date\": \"2021-05-03T00:00:00\", \"location\": \"Belgium\", \"median_age\": 41.8, \"people_fully_vaccinated_per_hundred\": 7.75}, {\"date\": \"2021-05-04T00:00:00\", \"location\": \"Belgium\", \"median_age\": 41.8, \"people_fully_vaccinated_per_hundred\": 7.91}, {\"date\": \"2021-05-05T00:00:00\", \"location\": \"Belgium\", \"median_age\": 41.8, \"people_fully_vaccinated_per_hundred\": 8.56}, {\"date\": \"2021-05-06T00:00:00\", \"location\": \"Belgium\", \"median_age\": 41.8, \"people_fully_vaccinated_per_hundred\": 9.23}, {\"date\": \"2021-05-07T00:00:00\", \"location\": \"Belgium\", \"median_age\": 41.8, \"people_fully_vaccinated_per_hundred\": 9.75}, {\"date\": \"2021-05-08T00:00:00\", \"location\": \"Belgium\", \"median_age\": 41.8, \"people_fully_vaccinated_per_hundred\": 9.85}, {\"date\": \"2021-05-09T00:00:00\", \"location\": \"Belgium\", \"median_age\": 41.8, \"people_fully_vaccinated_per_hundred\": 9.85}, {\"date\": \"2021-05-10T00:00:00\", \"location\": \"Belgium\", \"median_age\": 41.8, \"people_fully_vaccinated_per_hundred\": 9.9}, {\"date\": \"2021-05-11T00:00:00\", \"location\": \"Belgium\", \"median_age\": 41.8, \"people_fully_vaccinated_per_hundred\": 10.0}, {\"date\": \"2021-05-12T00:00:00\", \"location\": \"Belgium\", \"median_age\": 41.8, \"people_fully_vaccinated_per_hundred\": 10.26}, {\"date\": \"2021-05-13T00:00:00\", \"location\": \"Belgium\", \"median_age\": 41.8, \"people_fully_vaccinated_per_hundred\": 10.95}, {\"date\": \"2021-05-14T00:00:00\", \"location\": \"Belgium\", \"median_age\": 41.8, \"people_fully_vaccinated_per_hundred\": 11.85}, {\"date\": \"2021-05-15T00:00:00\", \"location\": \"Belgium\", \"median_age\": 41.8, \"people_fully_vaccinated_per_hundred\": 12.33}, {\"date\": \"2021-05-16T00:00:00\", \"location\": \"Belgium\", \"median_age\": 41.8, \"people_fully_vaccinated_per_hundred\": 12.37}, {\"date\": \"2021-05-17T00:00:00\", \"location\": \"Belgium\", \"median_age\": 41.8, \"people_fully_vaccinated_per_hundred\": 12.59}, {\"date\": \"2021-05-18T00:00:00\", \"location\": \"Belgium\", \"median_age\": 41.8, \"people_fully_vaccinated_per_hundred\": 12.89}, {\"date\": \"2021-05-19T00:00:00\", \"location\": \"Belgium\", \"median_age\": 41.8, \"people_fully_vaccinated_per_hundred\": 13.47}, {\"date\": \"2021-05-20T00:00:00\", \"location\": \"Belgium\", \"median_age\": 41.8, \"people_fully_vaccinated_per_hundred\": 14.19}, {\"date\": \"2021-05-21T00:00:00\", \"location\": \"Belgium\", \"median_age\": 41.8, \"people_fully_vaccinated_per_hundred\": 14.72}, {\"date\": \"2021-05-22T00:00:00\", \"location\": \"Belgium\", \"median_age\": 41.8, \"people_fully_vaccinated_per_hundred\": 15.12}, {\"date\": \"2021-05-23T00:00:00\", \"location\": \"Belgium\", \"median_age\": 41.8, \"people_fully_vaccinated_per_hundred\": 15.14}, {\"date\": \"2021-05-24T00:00:00\", \"location\": \"Belgium\", \"median_age\": 41.8, \"people_fully_vaccinated_per_hundred\": 15.46}, {\"date\": \"2021-05-25T00:00:00\", \"location\": \"Belgium\", \"median_age\": 41.8, \"people_fully_vaccinated_per_hundred\": 15.87}, {\"date\": \"2021-05-26T00:00:00\", \"location\": \"Belgium\", \"median_age\": 41.8, \"people_fully_vaccinated_per_hundred\": 16.66}, {\"date\": \"2021-05-27T00:00:00\", \"location\": \"Belgium\", \"median_age\": 41.8, \"people_fully_vaccinated_per_hundred\": 17.55}, {\"date\": \"2021-05-28T00:00:00\", \"location\": \"Belgium\", \"median_age\": 41.8, \"people_fully_vaccinated_per_hundred\": 18.22}, {\"date\": \"2021-05-29T00:00:00\", \"location\": \"Belgium\", \"median_age\": 41.8, \"people_fully_vaccinated_per_hundred\": 18.65}, {\"date\": \"2021-05-30T00:00:00\", \"location\": \"Belgium\", \"median_age\": 41.8, \"people_fully_vaccinated_per_hundred\": 18.72}, {\"date\": \"2021-05-31T00:00:00\", \"location\": \"Belgium\", \"median_age\": 41.8, \"people_fully_vaccinated_per_hundred\": 19.22}, {\"date\": \"2021-06-01T00:00:00\", \"location\": \"Belgium\", \"median_age\": 41.8, \"people_fully_vaccinated_per_hundred\": 19.63}, {\"date\": \"2021-06-02T00:00:00\", \"location\": \"Belgium\", \"median_age\": 41.8, \"people_fully_vaccinated_per_hundred\": 20.41}, {\"date\": \"2021-06-03T00:00:00\", \"location\": \"Belgium\", \"median_age\": 41.8, \"people_fully_vaccinated_per_hundred\": 21.25}, {\"date\": \"2021-06-04T00:00:00\", \"location\": \"Belgium\", \"median_age\": 41.8, \"people_fully_vaccinated_per_hundred\": 21.89}, {\"date\": \"2021-06-05T00:00:00\", \"location\": \"Belgium\", \"median_age\": 41.8, \"people_fully_vaccinated_per_hundred\": 22.34}, {\"date\": \"2021-06-06T00:00:00\", \"location\": \"Belgium\", \"median_age\": 41.8, \"people_fully_vaccinated_per_hundred\": 22.39}, {\"date\": \"2021-06-07T00:00:00\", \"location\": \"Belgium\", \"median_age\": 41.8, \"people_fully_vaccinated_per_hundred\": 23.06}, {\"date\": \"2021-06-08T00:00:00\", \"location\": \"Belgium\", \"median_age\": 41.8, \"people_fully_vaccinated_per_hundred\": 23.76}, {\"date\": \"2021-06-09T00:00:00\", \"location\": \"Belgium\", \"median_age\": 41.8, \"people_fully_vaccinated_per_hundred\": 24.71}, {\"date\": \"2021-06-10T00:00:00\", \"location\": \"Belgium\", \"median_age\": 41.8, \"people_fully_vaccinated_per_hundred\": 25.73}, {\"date\": \"2021-06-11T00:00:00\", \"location\": \"Belgium\", \"median_age\": 41.8, \"people_fully_vaccinated_per_hundred\": 26.69}, {\"date\": \"2021-06-12T00:00:00\", \"location\": \"Belgium\", \"median_age\": 41.8, \"people_fully_vaccinated_per_hundred\": 27.3}, {\"date\": \"2021-06-13T00:00:00\", \"location\": \"Belgium\", \"median_age\": 41.8, \"people_fully_vaccinated_per_hundred\": 27.38}, {\"date\": \"2021-06-14T00:00:00\", \"location\": \"Belgium\", \"median_age\": 41.8, \"people_fully_vaccinated_per_hundred\": 28.15}, {\"date\": \"2021-06-15T00:00:00\", \"location\": \"Belgium\", \"median_age\": 41.8, \"people_fully_vaccinated_per_hundred\": 28.87}, {\"date\": \"2021-06-16T00:00:00\", \"location\": \"Belgium\", \"median_age\": 41.8, \"people_fully_vaccinated_per_hundred\": 29.55}, {\"date\": \"2021-06-17T00:00:00\", \"location\": \"Belgium\", \"median_age\": 41.8, \"people_fully_vaccinated_per_hundred\": 30.04}, {\"date\": \"2021-06-18T00:00:00\", \"location\": \"Belgium\", \"median_age\": 41.8, \"people_fully_vaccinated_per_hundred\": 30.56}, {\"date\": \"2021-06-19T00:00:00\", \"location\": \"Belgium\", \"median_age\": 41.8, \"people_fully_vaccinated_per_hundred\": 30.83}, {\"date\": \"2021-06-20T00:00:00\", \"location\": \"Belgium\", \"median_age\": 41.8, \"people_fully_vaccinated_per_hundred\": 30.85}, {\"date\": \"2021-06-21T00:00:00\", \"location\": \"Belgium\", \"median_age\": 41.8, \"people_fully_vaccinated_per_hundred\": 31.19}, {\"date\": \"2021-06-22T00:00:00\", \"location\": \"Belgium\", \"median_age\": 41.8, \"people_fully_vaccinated_per_hundred\": 31.67}, {\"date\": \"2021-06-23T00:00:00\", \"location\": \"Belgium\", \"median_age\": 41.8, \"people_fully_vaccinated_per_hundred\": 32.23}, {\"date\": \"2021-06-24T00:00:00\", \"location\": \"Belgium\", \"median_age\": 41.8, \"people_fully_vaccinated_per_hundred\": 32.76}, {\"date\": \"2021-06-25T00:00:00\", \"location\": \"Belgium\", \"median_age\": 41.8, \"people_fully_vaccinated_per_hundred\": 33.21}, {\"date\": \"2021-06-26T00:00:00\", \"location\": \"Belgium\", \"median_age\": 41.8, \"people_fully_vaccinated_per_hundred\": 33.64}, {\"date\": \"2021-06-27T00:00:00\", \"location\": \"Belgium\", \"median_age\": 41.8, \"people_fully_vaccinated_per_hundred\": 33.7}, {\"date\": \"2021-06-28T00:00:00\", \"location\": \"Belgium\", \"median_age\": 41.8, \"people_fully_vaccinated_per_hundred\": 34.18}, {\"date\": \"2021-06-29T00:00:00\", \"location\": \"Belgium\", \"median_age\": 41.8, \"people_fully_vaccinated_per_hundred\": 34.78}, {\"date\": \"2021-06-30T00:00:00\", \"location\": \"Belgium\", \"median_age\": 41.8, \"people_fully_vaccinated_per_hundred\": 35.19}, {\"date\": \"2021-07-01T00:00:00\", \"location\": \"Belgium\", \"median_age\": 41.8, \"people_fully_vaccinated_per_hundred\": 35.61}, {\"date\": \"2021-07-02T00:00:00\", \"location\": \"Belgium\", \"median_age\": 41.8, \"people_fully_vaccinated_per_hundred\": 35.98}, {\"date\": \"2021-07-03T00:00:00\", \"location\": \"Belgium\", \"median_age\": 41.8, \"people_fully_vaccinated_per_hundred\": 36.43}, {\"date\": \"2021-07-04T00:00:00\", \"location\": \"Belgium\", \"median_age\": 41.8, \"people_fully_vaccinated_per_hundred\": 36.49}, {\"date\": \"2021-07-05T00:00:00\", \"location\": \"Belgium\", \"median_age\": 41.8, \"people_fully_vaccinated_per_hundred\": 37.34}, {\"date\": \"2021-07-06T00:00:00\", \"location\": \"Belgium\", \"median_age\": 41.8, \"people_fully_vaccinated_per_hundred\": 38.17}, {\"date\": \"2021-07-07T00:00:00\", \"location\": \"Belgium\", \"median_age\": 41.8, \"people_fully_vaccinated_per_hundred\": 39.23}, {\"date\": \"2021-07-08T00:00:00\", \"location\": \"Belgium\", \"median_age\": 41.8, \"people_fully_vaccinated_per_hundred\": 40.37}, {\"date\": \"2021-07-09T00:00:00\", \"location\": \"Belgium\", \"median_age\": 41.8, \"people_fully_vaccinated_per_hundred\": 41.36}, {\"date\": \"2021-07-10T00:00:00\", \"location\": \"Belgium\", \"median_age\": 41.8, \"people_fully_vaccinated_per_hundred\": 42.32}, {\"date\": \"2021-07-11T00:00:00\", \"location\": \"Belgium\", \"median_age\": 41.8, \"people_fully_vaccinated_per_hundred\": 42.55}, {\"date\": \"2021-07-12T00:00:00\", \"location\": \"Belgium\", \"median_age\": 41.8, \"people_fully_vaccinated_per_hundred\": 43.61}, {\"date\": \"2021-07-13T00:00:00\", \"location\": \"Belgium\", \"median_age\": 41.8, \"people_fully_vaccinated_per_hundred\": 44.43}, {\"date\": \"2021-07-14T00:00:00\", \"location\": \"Belgium\", \"median_age\": 41.8, \"people_fully_vaccinated_per_hundred\": 45.42}, {\"date\": \"2021-07-15T00:00:00\", \"location\": \"Belgium\", \"median_age\": 41.8, \"people_fully_vaccinated_per_hundred\": 46.35}, {\"date\": \"2021-07-16T00:00:00\", \"location\": \"Belgium\", \"median_age\": 41.8, \"people_fully_vaccinated_per_hundred\": 47.3}, {\"date\": \"2021-07-17T00:00:00\", \"location\": \"Belgium\", \"median_age\": 41.8, \"people_fully_vaccinated_per_hundred\": 48.04}, {\"date\": \"2021-07-18T00:00:00\", \"location\": \"Belgium\", \"median_age\": 41.8, \"people_fully_vaccinated_per_hundred\": 48.14}, {\"date\": \"2021-07-19T00:00:00\", \"location\": \"Belgium\", \"median_age\": 41.8, \"people_fully_vaccinated_per_hundred\": 49.09}, {\"date\": \"2021-07-20T00:00:00\", \"location\": \"Belgium\", \"median_age\": 41.8, \"people_fully_vaccinated_per_hundred\": 49.94}, {\"date\": \"2021-07-21T00:00:00\", \"location\": \"Belgium\", \"median_age\": 41.8, \"people_fully_vaccinated_per_hundred\": 50.69}, {\"date\": \"2021-07-22T00:00:00\", \"location\": \"Belgium\", \"median_age\": 41.8, \"people_fully_vaccinated_per_hundred\": 52.07}, {\"date\": \"2021-07-23T00:00:00\", \"location\": \"Belgium\", \"median_age\": 41.8, \"people_fully_vaccinated_per_hundred\": 53.28}, {\"date\": \"2021-07-24T00:00:00\", \"location\": \"Belgium\", \"median_age\": 41.8, \"people_fully_vaccinated_per_hundred\": 53.99}, {\"date\": \"2021-07-25T00:00:00\", \"location\": \"Belgium\", \"median_age\": 41.8, \"people_fully_vaccinated_per_hundred\": 54.1}, {\"date\": \"2021-07-26T00:00:00\", \"location\": \"Belgium\", \"median_age\": 41.8, \"people_fully_vaccinated_per_hundred\": 54.96}, {\"date\": \"2021-07-27T00:00:00\", \"location\": \"Belgium\", \"median_age\": 41.8, \"people_fully_vaccinated_per_hundred\": 55.74}, {\"date\": \"2021-07-28T00:00:00\", \"location\": \"Belgium\", \"median_age\": 41.8, \"people_fully_vaccinated_per_hundred\": 56.87}, {\"date\": \"2021-07-29T00:00:00\", \"location\": \"Belgium\", \"median_age\": 41.8, \"people_fully_vaccinated_per_hundred\": 57.94}, {\"date\": \"2021-07-30T00:00:00\", \"location\": \"Belgium\", \"median_age\": 41.8, \"people_fully_vaccinated_per_hundred\": 58.96}, {\"date\": \"2021-07-31T00:00:00\", \"location\": \"Belgium\", \"median_age\": 41.8, \"people_fully_vaccinated_per_hundred\": 59.57}, {\"date\": \"2021-08-01T00:00:00\", \"location\": \"Belgium\", \"median_age\": 41.8, \"people_fully_vaccinated_per_hundred\": 59.66}, {\"date\": \"2021-08-02T00:00:00\", \"location\": \"Belgium\", \"median_age\": 41.8, \"people_fully_vaccinated_per_hundred\": 60.41}, {\"date\": \"2021-08-03T00:00:00\", \"location\": \"Belgium\", \"median_age\": 41.8, \"people_fully_vaccinated_per_hundred\": 61.04}, {\"date\": \"2021-08-04T00:00:00\", \"location\": \"Belgium\", \"median_age\": 41.8, \"people_fully_vaccinated_per_hundred\": 61.79}, {\"date\": \"2021-08-05T00:00:00\", \"location\": \"Belgium\", \"median_age\": 41.8, \"people_fully_vaccinated_per_hundred\": 62.58}, {\"date\": \"2021-08-06T00:00:00\", \"location\": \"Belgium\", \"median_age\": 41.8, \"people_fully_vaccinated_per_hundred\": 63.33}, {\"date\": \"2021-08-07T00:00:00\", \"location\": \"Belgium\", \"median_age\": 41.8, \"people_fully_vaccinated_per_hundred\": 63.67}, {\"date\": \"2021-08-08T00:00:00\", \"location\": \"Belgium\", \"median_age\": 41.8, \"people_fully_vaccinated_per_hundred\": 63.71}, {\"date\": \"2021-08-09T00:00:00\", \"location\": \"Belgium\", \"median_age\": 41.8, \"people_fully_vaccinated_per_hundred\": 64.17}, {\"date\": \"2021-08-10T00:00:00\", \"location\": \"Belgium\", \"median_age\": 41.8, \"people_fully_vaccinated_per_hundred\": 64.74}, {\"date\": \"2021-08-11T00:00:00\", \"location\": \"Belgium\", \"median_age\": 41.8, \"people_fully_vaccinated_per_hundred\": 65.27}, {\"date\": \"2021-08-12T00:00:00\", \"location\": \"Belgium\", \"median_age\": 41.8, \"people_fully_vaccinated_per_hundred\": 65.8}, {\"date\": \"2021-08-13T00:00:00\", \"location\": \"Belgium\", \"median_age\": 41.8, \"people_fully_vaccinated_per_hundred\": 66.21}, {\"date\": \"2021-08-14T00:00:00\", \"location\": \"Belgium\", \"median_age\": 41.8, \"people_fully_vaccinated_per_hundred\": 66.4}, {\"date\": \"2021-08-15T00:00:00\", \"location\": \"Belgium\", \"median_age\": 41.8, \"people_fully_vaccinated_per_hundred\": 66.41}, {\"date\": \"2021-08-16T00:00:00\", \"location\": \"Belgium\", \"median_age\": 41.8, \"people_fully_vaccinated_per_hundred\": 66.69}, {\"date\": \"2021-08-17T00:00:00\", \"location\": \"Belgium\", \"median_age\": 41.8, \"people_fully_vaccinated_per_hundred\": 67.0}, {\"date\": \"2021-08-18T00:00:00\", \"location\": \"Belgium\", \"median_age\": 41.8, \"people_fully_vaccinated_per_hundred\": 67.36}, {\"date\": \"2021-08-19T00:00:00\", \"location\": \"Belgium\", \"median_age\": 41.8, \"people_fully_vaccinated_per_hundred\": 67.7}, {\"date\": \"2021-08-20T00:00:00\", \"location\": \"Belgium\", \"median_age\": 41.8, \"people_fully_vaccinated_per_hundred\": 68.0}, {\"date\": \"2021-08-21T00:00:00\", \"location\": \"Belgium\", \"median_age\": 41.8, \"people_fully_vaccinated_per_hundred\": 68.16}, {\"date\": \"2021-08-22T00:00:00\", \"location\": \"Belgium\", \"median_age\": 41.8, \"people_fully_vaccinated_per_hundred\": 68.19}, {\"date\": \"2021-08-23T00:00:00\", \"location\": \"Belgium\", \"median_age\": 41.8, \"people_fully_vaccinated_per_hundred\": 68.47}, {\"date\": \"2021-08-24T00:00:00\", \"location\": \"Belgium\", \"median_age\": 41.8, \"people_fully_vaccinated_per_hundred\": 68.76}, {\"date\": \"2021-08-25T00:00:00\", \"location\": \"Belgium\", \"median_age\": 41.8, \"people_fully_vaccinated_per_hundred\": 69.06}, {\"date\": \"2021-08-26T00:00:00\", \"location\": \"Belgium\", \"median_age\": 41.8, \"people_fully_vaccinated_per_hundred\": 69.4}, {\"date\": \"2021-08-27T00:00:00\", \"location\": \"Belgium\", \"median_age\": 41.8, \"people_fully_vaccinated_per_hundred\": 69.68}, {\"date\": \"2021-08-28T00:00:00\", \"location\": \"Belgium\", \"median_age\": 41.8, \"people_fully_vaccinated_per_hundred\": 69.92}, {\"date\": \"2021-08-29T00:00:00\", \"location\": \"Belgium\", \"median_age\": 41.8, \"people_fully_vaccinated_per_hundred\": 69.93}, {\"date\": \"2021-08-30T00:00:00\", \"location\": \"Belgium\", \"median_age\": 41.8, \"people_fully_vaccinated_per_hundred\": 70.16}, {\"date\": \"2021-08-31T00:00:00\", \"location\": \"Belgium\", \"median_age\": 41.8, \"people_fully_vaccinated_per_hundred\": 70.42}, {\"date\": \"2021-09-01T00:00:00\", \"location\": \"Belgium\", \"median_age\": 41.8, \"people_fully_vaccinated_per_hundred\": 70.55}, {\"date\": \"2021-09-02T00:00:00\", \"location\": \"Belgium\", \"median_age\": 41.8, \"people_fully_vaccinated_per_hundred\": 70.65}, {\"date\": \"2021-09-03T00:00:00\", \"location\": \"Belgium\", \"median_age\": 41.8, \"people_fully_vaccinated_per_hundred\": 70.81}, {\"date\": \"2021-09-04T00:00:00\", \"location\": \"Belgium\", \"median_age\": 41.8, \"people_fully_vaccinated_per_hundred\": 70.98}, {\"date\": \"2021-09-05T00:00:00\", \"location\": \"Belgium\", \"median_age\": 41.8, \"people_fully_vaccinated_per_hundred\": 70.99}, {\"date\": \"2021-09-06T00:00:00\", \"location\": \"Belgium\", \"median_age\": 41.8, \"people_fully_vaccinated_per_hundred\": 71.02}, {\"date\": \"2021-09-07T00:00:00\", \"location\": \"Belgium\", \"median_age\": 41.8, \"people_fully_vaccinated_per_hundred\": 71.08}, {\"date\": \"2021-09-08T00:00:00\", \"location\": \"Belgium\", \"median_age\": 41.8, \"people_fully_vaccinated_per_hundred\": 71.23}, {\"date\": \"2021-09-09T00:00:00\", \"location\": \"Belgium\", \"median_age\": 41.8, \"people_fully_vaccinated_per_hundred\": 71.29}, {\"date\": \"2021-09-10T00:00:00\", \"location\": \"Belgium\", \"median_age\": 41.8, \"people_fully_vaccinated_per_hundred\": 71.39}, {\"date\": \"2021-09-11T00:00:00\", \"location\": \"Belgium\", \"median_age\": 41.8, \"people_fully_vaccinated_per_hundred\": 71.52}, {\"date\": \"2021-09-12T00:00:00\", \"location\": \"Belgium\", \"median_age\": 41.8, \"people_fully_vaccinated_per_hundred\": 71.52}, {\"date\": \"2021-09-13T00:00:00\", \"location\": \"Belgium\", \"median_age\": 41.8, \"people_fully_vaccinated_per_hundred\": 71.58}, {\"date\": \"2021-09-14T00:00:00\", \"location\": \"Belgium\", \"median_age\": 41.8, \"people_fully_vaccinated_per_hundred\": 71.61}, {\"date\": \"2021-09-15T00:00:00\", \"location\": \"Belgium\", \"median_age\": 41.8, \"people_fully_vaccinated_per_hundred\": 71.7}, {\"date\": \"2021-09-16T00:00:00\", \"location\": \"Belgium\", \"median_age\": 41.8, \"people_fully_vaccinated_per_hundred\": 71.78}, {\"date\": \"2021-09-17T00:00:00\", \"location\": \"Belgium\", \"median_age\": 41.8, \"people_fully_vaccinated_per_hundred\": 71.87}, {\"date\": \"2021-09-18T00:00:00\", \"location\": \"Belgium\", \"median_age\": 41.8, \"people_fully_vaccinated_per_hundred\": 71.99}, {\"date\": \"2021-09-19T00:00:00\", \"location\": \"Belgium\", \"median_age\": 41.8, \"people_fully_vaccinated_per_hundred\": 71.99}, {\"date\": \"2021-09-20T00:00:00\", \"location\": \"Belgium\", \"median_age\": 41.8, \"people_fully_vaccinated_per_hundred\": 72.03}, {\"date\": \"2021-09-21T00:00:00\", \"location\": \"Belgium\", \"median_age\": 41.8, \"people_fully_vaccinated_per_hundred\": 72.08}, {\"date\": \"2021-09-22T00:00:00\", \"location\": \"Belgium\", \"median_age\": 41.8, \"people_fully_vaccinated_per_hundred\": 72.18}, {\"date\": \"2021-09-23T00:00:00\", \"location\": \"Belgium\", \"median_age\": 41.8, \"people_fully_vaccinated_per_hundred\": 72.25}, {\"date\": \"2021-09-24T00:00:00\", \"location\": \"Belgium\", \"median_age\": 41.8, \"people_fully_vaccinated_per_hundred\": 72.32}, {\"date\": \"2021-09-25T00:00:00\", \"location\": \"Belgium\", \"median_age\": 41.8, \"people_fully_vaccinated_per_hundred\": 72.48}, {\"date\": \"2021-09-26T00:00:00\", \"location\": \"Belgium\", \"median_age\": 41.8, \"people_fully_vaccinated_per_hundred\": 72.48}, {\"date\": \"2021-09-27T00:00:00\", \"location\": \"Belgium\", \"median_age\": 41.8, \"people_fully_vaccinated_per_hundred\": 72.52}, {\"date\": \"2021-09-28T00:00:00\", \"location\": \"Belgium\", \"median_age\": 41.8, \"people_fully_vaccinated_per_hundred\": 72.57}, {\"date\": \"2021-09-29T00:00:00\", \"location\": \"Belgium\", \"median_age\": 41.8, \"people_fully_vaccinated_per_hundred\": 72.69}, {\"date\": \"2021-09-30T00:00:00\", \"location\": \"Belgium\", \"median_age\": 41.8, \"people_fully_vaccinated_per_hundred\": 72.75}, {\"date\": \"2021-10-01T00:00:00\", \"location\": \"Belgium\", \"median_age\": 41.8, \"people_fully_vaccinated_per_hundred\": 72.82}, {\"date\": \"2021-10-02T00:00:00\", \"location\": \"Belgium\", \"median_age\": 41.8, \"people_fully_vaccinated_per_hundred\": 72.91}, {\"date\": \"2021-10-03T00:00:00\", \"location\": \"Belgium\", \"median_age\": 41.8, \"people_fully_vaccinated_per_hundred\": 72.91}, {\"date\": \"2021-10-04T00:00:00\", \"location\": \"Belgium\", \"median_age\": 41.8, \"people_fully_vaccinated_per_hundred\": 72.94}, {\"date\": \"2021-10-05T00:00:00\", \"location\": \"Belgium\", \"median_age\": 41.8, \"people_fully_vaccinated_per_hundred\": 72.96}, {\"date\": \"2021-10-06T00:00:00\", \"location\": \"Belgium\", \"median_age\": 41.8, \"people_fully_vaccinated_per_hundred\": 73.01}, {\"date\": \"2021-10-07T00:00:00\", \"location\": \"Belgium\", \"median_age\": 41.8, \"people_fully_vaccinated_per_hundred\": 73.05}, {\"date\": \"2021-10-08T00:00:00\", \"location\": \"Belgium\", \"median_age\": 41.8, \"people_fully_vaccinated_per_hundred\": 73.11}, {\"date\": \"2021-10-09T00:00:00\", \"location\": \"Belgium\", \"median_age\": 41.8, \"people_fully_vaccinated_per_hundred\": 73.2}, {\"date\": \"2021-10-10T00:00:00\", \"location\": \"Belgium\", \"median_age\": 41.8, \"people_fully_vaccinated_per_hundred\": 73.2}, {\"date\": \"2021-10-11T00:00:00\", \"location\": \"Belgium\", \"median_age\": 41.8, \"people_fully_vaccinated_per_hundred\": 73.22}, {\"date\": \"2021-10-12T00:00:00\", \"location\": \"Belgium\", \"median_age\": 41.8, \"people_fully_vaccinated_per_hundred\": 73.26}, {\"date\": \"2021-10-13T00:00:00\", \"location\": \"Belgium\", \"median_age\": 41.8, \"people_fully_vaccinated_per_hundred\": 73.33}, {\"date\": \"2021-10-14T00:00:00\", \"location\": \"Belgium\", \"median_age\": 41.8, \"people_fully_vaccinated_per_hundred\": 73.36}, {\"date\": \"2021-10-15T00:00:00\", \"location\": \"Belgium\", \"median_age\": 41.8, \"people_fully_vaccinated_per_hundred\": 73.43}, {\"date\": \"2021-10-16T00:00:00\", \"location\": \"Belgium\", \"median_age\": 41.8, \"people_fully_vaccinated_per_hundred\": 73.5}, {\"date\": \"2021-10-17T00:00:00\", \"location\": \"Belgium\", \"median_age\": 41.8, \"people_fully_vaccinated_per_hundred\": 73.5}, {\"date\": \"2021-10-18T00:00:00\", \"location\": \"Belgium\", \"median_age\": 41.8, \"people_fully_vaccinated_per_hundred\": 73.52}, {\"date\": \"2021-10-19T00:00:00\", \"location\": \"Belgium\", \"median_age\": 41.8, \"people_fully_vaccinated_per_hundred\": 73.55}, {\"date\": \"2021-10-20T00:00:00\", \"location\": \"Belgium\", \"median_age\": 41.8, \"people_fully_vaccinated_per_hundred\": 73.59}, {\"date\": \"2021-10-21T00:00:00\", \"location\": \"Belgium\", \"median_age\": 41.8, \"people_fully_vaccinated_per_hundred\": 73.62}, {\"date\": \"2021-10-22T00:00:00\", \"location\": \"Belgium\", \"median_age\": 41.8, \"people_fully_vaccinated_per_hundred\": 73.69}, {\"date\": \"2021-10-23T00:00:00\", \"location\": \"Belgium\", \"median_age\": 41.8, \"people_fully_vaccinated_per_hundred\": 73.75}, {\"date\": \"2021-10-24T00:00:00\", \"location\": \"Belgium\", \"median_age\": 41.8, \"people_fully_vaccinated_per_hundred\": 73.75}, {\"date\": \"2021-10-25T00:00:00\", \"location\": \"Belgium\", \"median_age\": 41.8, \"people_fully_vaccinated_per_hundred\": 73.78}, {\"date\": \"2021-10-26T00:00:00\", \"location\": \"Belgium\", \"median_age\": 41.8, \"people_fully_vaccinated_per_hundred\": 73.82}, {\"date\": \"2021-10-27T00:00:00\", \"location\": \"Belgium\", \"median_age\": 41.8, \"people_fully_vaccinated_per_hundred\": 73.87}, {\"date\": \"2021-10-28T00:00:00\", \"location\": \"Belgium\", \"median_age\": 41.8, \"people_fully_vaccinated_per_hundred\": 73.92}, {\"date\": \"2021-10-29T00:00:00\", \"location\": \"Belgium\", \"median_age\": 41.8, \"people_fully_vaccinated_per_hundred\": 73.97}, {\"date\": \"2021-10-30T00:00:00\", \"location\": \"Belgium\", \"median_age\": 41.8, \"people_fully_vaccinated_per_hundred\": 74.02}, {\"date\": \"2021-10-31T00:00:00\", \"location\": \"Belgium\", \"median_age\": 41.8, \"people_fully_vaccinated_per_hundred\": 74.02}, {\"date\": \"2021-11-01T00:00:00\", \"location\": \"Belgium\", \"median_age\": 41.8, \"people_fully_vaccinated_per_hundred\": 74.03}, {\"date\": \"2021-11-02T00:00:00\", \"location\": \"Belgium\", \"median_age\": 41.8, \"people_fully_vaccinated_per_hundred\": 74.06}, {\"date\": \"2021-11-03T00:00:00\", \"location\": \"Belgium\", \"median_age\": 41.8, \"people_fully_vaccinated_per_hundred\": 74.1}, {\"date\": \"2021-11-04T00:00:00\", \"location\": \"Belgium\", \"median_age\": 41.8, \"people_fully_vaccinated_per_hundred\": 74.14}, {\"date\": \"2021-11-05T00:00:00\", \"location\": \"Belgium\", \"median_age\": 41.8, \"people_fully_vaccinated_per_hundred\": 74.19}, {\"date\": \"2021-11-06T00:00:00\", \"location\": \"Belgium\", \"median_age\": 41.8, \"people_fully_vaccinated_per_hundred\": 74.22}, {\"date\": \"2021-11-07T00:00:00\", \"location\": \"Belgium\", \"median_age\": 41.8, \"people_fully_vaccinated_per_hundred\": 74.23}, {\"date\": \"2021-11-08T00:00:00\", \"location\": \"Belgium\", \"median_age\": 41.8, \"people_fully_vaccinated_per_hundred\": 74.25}, {\"date\": \"2021-11-09T00:00:00\", \"location\": \"Belgium\", \"median_age\": 41.8, \"people_fully_vaccinated_per_hundred\": 74.29}, {\"date\": \"2021-11-10T00:00:00\", \"location\": \"Belgium\", \"median_age\": 41.8, \"people_fully_vaccinated_per_hundred\": 74.35}, {\"date\": \"2021-11-11T00:00:00\", \"location\": \"Belgium\", \"median_age\": 41.8, \"people_fully_vaccinated_per_hundred\": 74.36}, {\"date\": \"2021-11-12T00:00:00\", \"location\": \"Belgium\", \"median_age\": 41.8, \"people_fully_vaccinated_per_hundred\": 74.4}, {\"date\": \"2021-11-13T00:00:00\", \"location\": \"Belgium\", \"median_age\": 41.8, \"people_fully_vaccinated_per_hundred\": 74.44}, {\"date\": \"2021-11-14T00:00:00\", \"location\": \"Belgium\", \"median_age\": 41.8, \"people_fully_vaccinated_per_hundred\": 74.44}, {\"date\": \"2021-11-15T00:00:00\", \"location\": \"Belgium\", \"median_age\": 41.8, \"people_fully_vaccinated_per_hundred\": 74.47}, {\"date\": \"2021-11-16T00:00:00\", \"location\": \"Belgium\", \"median_age\": 41.8, \"people_fully_vaccinated_per_hundred\": 74.51}, {\"date\": \"2021-11-17T00:00:00\", \"location\": \"Belgium\", \"median_age\": 41.8, \"people_fully_vaccinated_per_hundred\": 74.57}, {\"date\": \"2021-11-18T00:00:00\", \"location\": \"Belgium\", \"median_age\": 41.8, \"people_fully_vaccinated_per_hundred\": 74.61}, {\"date\": \"2021-11-19T00:00:00\", \"location\": \"Belgium\", \"median_age\": 41.8, \"people_fully_vaccinated_per_hundred\": 74.65}, {\"date\": \"2021-11-20T00:00:00\", \"location\": \"Belgium\", \"median_age\": 41.8, \"people_fully_vaccinated_per_hundred\": 74.69}, {\"date\": \"2021-11-21T00:00:00\", \"location\": \"Belgium\", \"median_age\": 41.8, \"people_fully_vaccinated_per_hundred\": 74.69}, {\"date\": \"2021-11-22T00:00:00\", \"location\": \"Belgium\", \"median_age\": 41.8, \"people_fully_vaccinated_per_hundred\": 74.71}, {\"date\": \"2021-11-23T00:00:00\", \"location\": \"Belgium\", \"median_age\": 41.8, \"people_fully_vaccinated_per_hundred\": 74.75}, {\"date\": \"2021-11-24T00:00:00\", \"location\": \"Belgium\", \"median_age\": 41.8, \"people_fully_vaccinated_per_hundred\": 74.81}, {\"date\": \"2021-11-25T00:00:00\", \"location\": \"Belgium\", \"median_age\": 41.8, \"people_fully_vaccinated_per_hundred\": 74.84}, {\"date\": \"2021-11-26T00:00:00\", \"location\": \"Belgium\", \"median_age\": 41.8, \"people_fully_vaccinated_per_hundred\": 74.88}, {\"date\": \"2021-11-27T00:00:00\", \"location\": \"Belgium\", \"median_age\": 41.8, \"people_fully_vaccinated_per_hundred\": 74.92}, {\"date\": \"2021-11-28T00:00:00\", \"location\": \"Belgium\", \"median_age\": 41.8, \"people_fully_vaccinated_per_hundred\": 74.92}, {\"date\": \"2021-11-29T00:00:00\", \"location\": \"Belgium\", \"median_age\": 41.8, \"people_fully_vaccinated_per_hundred\": 74.95}, {\"date\": \"2021-11-30T00:00:00\", \"location\": \"Belgium\", \"median_age\": 41.8, \"people_fully_vaccinated_per_hundred\": 74.98}, {\"date\": \"2021-12-01T00:00:00\", \"location\": \"Belgium\", \"median_age\": 41.8, \"people_fully_vaccinated_per_hundred\": 75.04}, {\"date\": \"2021-12-02T00:00:00\", \"location\": \"Belgium\", \"median_age\": 41.8, \"people_fully_vaccinated_per_hundred\": 75.06}, {\"date\": \"2021-12-03T00:00:00\", \"location\": \"Belgium\", \"median_age\": 41.8, \"people_fully_vaccinated_per_hundred\": 75.09}, {\"date\": \"2021-12-04T00:00:00\", \"location\": \"Belgium\", \"median_age\": 41.8, \"people_fully_vaccinated_per_hundred\": 75.13}, {\"date\": \"2021-12-05T00:00:00\", \"location\": \"Belgium\", \"median_age\": 41.8, \"people_fully_vaccinated_per_hundred\": 75.13}, {\"date\": \"2021-12-06T00:00:00\", \"location\": \"Belgium\", \"median_age\": 41.8, \"people_fully_vaccinated_per_hundred\": 75.15}, {\"date\": \"2021-12-07T00:00:00\", \"location\": \"Belgium\", \"median_age\": 41.8, \"people_fully_vaccinated_per_hundred\": 75.18}, {\"date\": \"2021-12-08T00:00:00\", \"location\": \"Belgium\", \"median_age\": 41.8, \"people_fully_vaccinated_per_hundred\": 75.24}, {\"date\": \"2021-12-09T00:00:00\", \"location\": \"Belgium\", \"median_age\": 41.8, \"people_fully_vaccinated_per_hundred\": 75.27}, {\"date\": \"2021-12-10T00:00:00\", \"location\": \"Belgium\", \"median_age\": 41.8, \"people_fully_vaccinated_per_hundred\": 75.3}, {\"date\": \"2021-12-11T00:00:00\", \"location\": \"Belgium\", \"median_age\": 41.8, \"people_fully_vaccinated_per_hundred\": 75.33}, {\"date\": \"2021-12-12T00:00:00\", \"location\": \"Belgium\", \"median_age\": 41.8, \"people_fully_vaccinated_per_hundred\": 75.34}, {\"date\": \"2021-12-13T00:00:00\", \"location\": \"Belgium\", \"median_age\": 41.8, \"people_fully_vaccinated_per_hundred\": 75.36}, {\"date\": \"2021-12-14T00:00:00\", \"location\": \"Belgium\", \"median_age\": 41.8, \"people_fully_vaccinated_per_hundred\": 75.39}, {\"date\": \"2021-12-15T00:00:00\", \"location\": \"Belgium\", \"median_age\": 41.8, \"people_fully_vaccinated_per_hundred\": 75.44}, {\"date\": \"2021-12-16T00:00:00\", \"location\": \"Belgium\", \"median_age\": 41.8, \"people_fully_vaccinated_per_hundred\": 75.48}, {\"date\": \"2021-12-17T00:00:00\", \"location\": \"Belgium\", \"median_age\": 41.8, \"people_fully_vaccinated_per_hundred\": 75.51}, {\"date\": \"2021-12-18T00:00:00\", \"location\": \"Belgium\", \"median_age\": 41.8, \"people_fully_vaccinated_per_hundred\": 75.54}, {\"date\": \"2021-12-19T00:00:00\", \"location\": \"Belgium\", \"median_age\": 41.8, \"people_fully_vaccinated_per_hundred\": 75.54}, {\"date\": \"2021-12-20T00:00:00\", \"location\": \"Belgium\", \"median_age\": 41.8, \"people_fully_vaccinated_per_hundred\": 75.56}, {\"date\": \"2021-12-21T00:00:00\", \"location\": \"Belgium\", \"median_age\": 41.8, \"people_fully_vaccinated_per_hundred\": 75.6}, {\"date\": \"2021-12-22T00:00:00\", \"location\": \"Belgium\", \"median_age\": 41.8, \"people_fully_vaccinated_per_hundred\": 75.66}, {\"date\": \"2021-12-23T00:00:00\", \"location\": \"Belgium\", \"median_age\": 41.8, \"people_fully_vaccinated_per_hundred\": 75.69}, {\"date\": \"2021-12-24T00:00:00\", \"location\": \"Belgium\", \"median_age\": 41.8, \"people_fully_vaccinated_per_hundred\": 75.7}, {\"date\": \"2021-12-25T00:00:00\", \"location\": \"Belgium\", \"median_age\": 41.8, \"people_fully_vaccinated_per_hundred\": 75.7}, {\"date\": \"2021-12-26T00:00:00\", \"location\": \"Belgium\", \"median_age\": 41.8, \"people_fully_vaccinated_per_hundred\": 75.7}, {\"date\": \"2021-12-27T00:00:00\", \"location\": \"Belgium\", \"median_age\": 41.8, \"people_fully_vaccinated_per_hundred\": 75.71}, {\"date\": \"2021-12-28T00:00:00\", \"location\": \"Belgium\", \"median_age\": 41.8, \"people_fully_vaccinated_per_hundred\": 75.73}, {\"date\": \"2021-12-29T00:00:00\", \"location\": \"Belgium\", \"median_age\": 41.8, \"people_fully_vaccinated_per_hundred\": 75.74}, {\"date\": \"2021-12-30T00:00:00\", \"location\": \"Belgium\", \"median_age\": 41.8, \"people_fully_vaccinated_per_hundred\": 75.75}, {\"date\": \"2021-12-31T00:00:00\", \"location\": \"Belgium\", \"median_age\": 41.8, \"people_fully_vaccinated_per_hundred\": 75.76}, {\"date\": \"2022-01-01T00:00:00\", \"location\": \"Belgium\", \"median_age\": 41.8, \"people_fully_vaccinated_per_hundred\": 75.76}, {\"date\": \"2022-01-02T00:00:00\", \"location\": \"Belgium\", \"median_age\": 41.8, \"people_fully_vaccinated_per_hundred\": 75.76}, {\"date\": \"2022-01-03T00:00:00\", \"location\": \"Belgium\", \"median_age\": 41.8, \"people_fully_vaccinated_per_hundred\": 75.77}, {\"date\": \"2022-01-04T00:00:00\", \"location\": \"Belgium\", \"median_age\": 41.8, \"people_fully_vaccinated_per_hundred\": 75.79}, {\"date\": \"2022-01-05T00:00:00\", \"location\": \"Belgium\", \"median_age\": 41.8, \"people_fully_vaccinated_per_hundred\": 75.83}, {\"date\": \"2022-01-06T00:00:00\", \"location\": \"Belgium\", \"median_age\": 41.8, \"people_fully_vaccinated_per_hundred\": 75.85}, {\"date\": \"2022-01-07T00:00:00\", \"location\": \"Belgium\", \"median_age\": 41.8, \"people_fully_vaccinated_per_hundred\": 75.87}, {\"date\": \"2022-01-08T00:00:00\", \"location\": \"Belgium\", \"median_age\": 41.8, \"people_fully_vaccinated_per_hundred\": 75.89}, {\"date\": \"2022-01-09T00:00:00\", \"location\": \"Belgium\", \"median_age\": 41.8, \"people_fully_vaccinated_per_hundred\": 75.89}, {\"date\": \"2022-01-10T00:00:00\", \"location\": \"Belgium\", \"median_age\": 41.8, \"people_fully_vaccinated_per_hundred\": 75.9}, {\"date\": \"2022-01-11T00:00:00\", \"location\": \"Belgium\", \"median_age\": 41.8, \"people_fully_vaccinated_per_hundred\": 75.93}, {\"date\": \"2022-01-12T00:00:00\", \"location\": \"Belgium\", \"median_age\": 41.8, \"people_fully_vaccinated_per_hundred\": 75.98}, {\"date\": \"2022-01-13T00:00:00\", \"location\": \"Belgium\", \"median_age\": 41.8, \"people_fully_vaccinated_per_hundred\": 75.99}, {\"date\": \"2022-01-14T00:00:00\", \"location\": \"Belgium\", \"median_age\": 41.8, \"people_fully_vaccinated_per_hundred\": 76.01}, {\"date\": \"2022-01-15T00:00:00\", \"location\": \"Belgium\", \"median_age\": 41.8, \"people_fully_vaccinated_per_hundred\": 76.02}, {\"date\": \"2022-01-16T00:00:00\", \"location\": \"Belgium\", \"median_age\": 41.8, \"people_fully_vaccinated_per_hundred\": 76.02}, {\"date\": \"2022-01-17T00:00:00\", \"location\": \"Belgium\", \"median_age\": 41.8, \"people_fully_vaccinated_per_hundred\": 76.03}, {\"date\": \"2022-01-18T00:00:00\", \"location\": \"Belgium\", \"median_age\": 41.8, \"people_fully_vaccinated_per_hundred\": 76.04}, {\"date\": \"2022-01-19T00:00:00\", \"location\": \"Belgium\", \"median_age\": 41.8, \"people_fully_vaccinated_per_hundred\": 76.06}, {\"date\": \"2022-01-20T00:00:00\", \"location\": \"Belgium\", \"median_age\": 41.8, \"people_fully_vaccinated_per_hundred\": 76.07}, {\"date\": \"2022-01-21T00:00:00\", \"location\": \"Belgium\", \"median_age\": 41.8, \"people_fully_vaccinated_per_hundred\": 76.08}, {\"date\": \"2022-01-22T00:00:00\", \"location\": \"Belgium\", \"median_age\": 41.8, \"people_fully_vaccinated_per_hundred\": 76.09}, {\"date\": \"2022-01-23T00:00:00\", \"location\": \"Belgium\", \"median_age\": 41.8, \"people_fully_vaccinated_per_hundred\": 76.09}, {\"date\": \"2022-01-24T00:00:00\", \"location\": \"Belgium\", \"median_age\": 41.8, \"people_fully_vaccinated_per_hundred\": 76.1}, {\"date\": \"2022-01-25T00:00:00\", \"location\": \"Belgium\", \"median_age\": 41.8, \"people_fully_vaccinated_per_hundred\": 76.11}, {\"date\": \"2022-01-26T00:00:00\", \"location\": \"Belgium\", \"median_age\": 41.8, \"people_fully_vaccinated_per_hundred\": 76.14}, {\"date\": \"2022-01-27T00:00:00\", \"location\": \"Belgium\", \"median_age\": 41.8, \"people_fully_vaccinated_per_hundred\": 76.15}, {\"date\": \"2022-01-28T00:00:00\", \"location\": \"Belgium\", \"median_age\": 41.8, \"people_fully_vaccinated_per_hundred\": 76.16}, {\"date\": \"2022-01-29T00:00:00\", \"location\": \"Belgium\", \"median_age\": 41.8, \"people_fully_vaccinated_per_hundred\": 76.24}, {\"date\": \"2022-01-30T00:00:00\", \"location\": \"Belgium\", \"median_age\": 41.8, \"people_fully_vaccinated_per_hundred\": 76.26}, {\"date\": \"2022-01-31T00:00:00\", \"location\": \"Belgium\", \"median_age\": 41.8, \"people_fully_vaccinated_per_hundred\": 76.27}, {\"date\": \"2022-02-01T00:00:00\", \"location\": \"Belgium\", \"median_age\": 41.8, \"people_fully_vaccinated_per_hundred\": 76.28}, {\"date\": \"2022-02-02T00:00:00\", \"location\": \"Belgium\", \"median_age\": 41.8, \"people_fully_vaccinated_per_hundred\": 76.37}, {\"date\": \"2022-02-03T00:00:00\", \"location\": \"Belgium\", \"median_age\": 41.8, \"people_fully_vaccinated_per_hundred\": 76.38}], \"data-34dcb1079029ecfda370533f8bf1a7b1\": [{\"date\": \"2021-01-16T00:00:00\", \"location\": \"France\", \"median_age\": 42.0, \"people_fully_vaccinated_per_hundred\": 0.0}, {\"date\": \"2021-01-17T00:00:00\", \"location\": \"France\", \"median_age\": 42.0, \"people_fully_vaccinated_per_hundred\": 0.0}, {\"date\": \"2021-01-18T00:00:00\", \"location\": \"France\", \"median_age\": 42.0, \"people_fully_vaccinated_per_hundred\": 0.0}, {\"date\": \"2021-01-19T00:00:00\", \"location\": \"France\", \"median_age\": 42.0, \"people_fully_vaccinated_per_hundred\": 0.0}, {\"date\": \"2021-01-20T00:00:00\", \"location\": \"France\", \"median_age\": 42.0, \"people_fully_vaccinated_per_hundred\": 0.0}, {\"date\": \"2021-01-21T00:00:00\", \"location\": \"France\", \"median_age\": 42.0, \"people_fully_vaccinated_per_hundred\": 0.0}, {\"date\": \"2021-01-22T00:00:00\", \"location\": \"France\", \"median_age\": 42.0, \"people_fully_vaccinated_per_hundred\": 0.0}, {\"date\": \"2021-01-23T00:00:00\", \"location\": \"France\", \"median_age\": 42.0, \"people_fully_vaccinated_per_hundred\": 0.0}, {\"date\": \"2021-01-24T00:00:00\", \"location\": \"France\", \"median_age\": 42.0, \"people_fully_vaccinated_per_hundred\": 0.0}, {\"date\": \"2021-01-25T00:00:00\", \"location\": \"France\", \"median_age\": 42.0, \"people_fully_vaccinated_per_hundred\": 0.0}, {\"date\": \"2021-01-26T00:00:00\", \"location\": \"France\", \"median_age\": 42.0, \"people_fully_vaccinated_per_hundred\": 0.01}, {\"date\": \"2021-01-27T00:00:00\", \"location\": \"France\", \"median_age\": 42.0, \"people_fully_vaccinated_per_hundred\": 0.02}, {\"date\": \"2021-01-28T00:00:00\", \"location\": \"France\", \"median_age\": 42.0, \"people_fully_vaccinated_per_hundred\": 0.04}, {\"date\": \"2021-01-29T00:00:00\", \"location\": \"France\", \"median_age\": 42.0, \"people_fully_vaccinated_per_hundred\": 0.06}, {\"date\": \"2021-01-30T00:00:00\", \"location\": \"France\", \"median_age\": 42.0, \"people_fully_vaccinated_per_hundred\": 0.07}, {\"date\": \"2021-01-31T00:00:00\", \"location\": \"France\", \"median_age\": 42.0, \"people_fully_vaccinated_per_hundred\": 0.07}, {\"date\": \"2021-02-01T00:00:00\", \"location\": \"France\", \"median_age\": 42.0, \"people_fully_vaccinated_per_hundred\": 0.1}, {\"date\": \"2021-02-02T00:00:00\", \"location\": \"France\", \"median_age\": 42.0, \"people_fully_vaccinated_per_hundred\": 0.15}, {\"date\": \"2021-02-03T00:00:00\", \"location\": \"France\", \"median_age\": 42.0, \"people_fully_vaccinated_per_hundred\": 0.21}, {\"date\": \"2021-02-04T00:00:00\", \"location\": \"France\", \"median_age\": 42.0, \"people_fully_vaccinated_per_hundred\": 0.28}, {\"date\": \"2021-02-05T00:00:00\", \"location\": \"France\", \"median_age\": 42.0, \"people_fully_vaccinated_per_hundred\": 0.35}, {\"date\": \"2021-02-06T00:00:00\", \"location\": \"France\", \"median_age\": 42.0, \"people_fully_vaccinated_per_hundred\": 0.37}, {\"date\": \"2021-02-07T00:00:00\", \"location\": \"France\", \"median_age\": 42.0, \"people_fully_vaccinated_per_hundred\": 0.37}, {\"date\": \"2021-02-08T00:00:00\", \"location\": \"France\", \"median_age\": 42.0, \"people_fully_vaccinated_per_hundred\": 0.44}, {\"date\": \"2021-02-09T00:00:00\", \"location\": \"France\", \"median_age\": 42.0, \"people_fully_vaccinated_per_hundred\": 0.55}, {\"date\": \"2021-02-10T00:00:00\", \"location\": \"France\", \"median_age\": 42.0, \"people_fully_vaccinated_per_hundred\": 0.66}, {\"date\": \"2021-02-11T00:00:00\", \"location\": \"France\", \"median_age\": 42.0, \"people_fully_vaccinated_per_hundred\": 0.81}, {\"date\": \"2021-02-12T00:00:00\", \"location\": \"France\", \"median_age\": 42.0, \"people_fully_vaccinated_per_hundred\": 0.92}, {\"date\": \"2021-02-13T00:00:00\", \"location\": \"France\", \"median_age\": 42.0, \"people_fully_vaccinated_per_hundred\": 0.95}, {\"date\": \"2021-02-14T00:00:00\", \"location\": \"France\", \"median_age\": 42.0, \"people_fully_vaccinated_per_hundred\": 0.96}, {\"date\": \"2021-02-15T00:00:00\", \"location\": \"France\", \"median_age\": 42.0, \"people_fully_vaccinated_per_hundred\": 1.07}, {\"date\": \"2021-02-16T00:00:00\", \"location\": \"France\", \"median_age\": 42.0, \"people_fully_vaccinated_per_hundred\": 1.22}, {\"date\": \"2021-02-17T00:00:00\", \"location\": \"France\", \"median_age\": 42.0, \"people_fully_vaccinated_per_hundred\": 1.37}, {\"date\": \"2021-02-18T00:00:00\", \"location\": \"France\", \"median_age\": 42.0, \"people_fully_vaccinated_per_hundred\": 1.55}, {\"date\": \"2021-02-19T00:00:00\", \"location\": \"France\", \"median_age\": 42.0, \"people_fully_vaccinated_per_hundred\": 1.68}, {\"date\": \"2021-02-20T00:00:00\", \"location\": \"France\", \"median_age\": 42.0, \"people_fully_vaccinated_per_hundred\": 1.72}, {\"date\": \"2021-02-21T00:00:00\", \"location\": \"France\", \"median_age\": 42.0, \"people_fully_vaccinated_per_hundred\": 1.73}, {\"date\": \"2021-02-22T00:00:00\", \"location\": \"France\", \"median_age\": 42.0, \"people_fully_vaccinated_per_hundred\": 1.84}, {\"date\": \"2021-02-23T00:00:00\", \"location\": \"France\", \"median_age\": 42.0, \"people_fully_vaccinated_per_hundred\": 1.97}, {\"date\": \"2021-02-24T00:00:00\", \"location\": \"France\", \"median_age\": 42.0, \"people_fully_vaccinated_per_hundred\": 2.09}, {\"date\": \"2021-02-25T00:00:00\", \"location\": \"France\", \"median_age\": 42.0, \"people_fully_vaccinated_per_hundred\": 2.22}, {\"date\": \"2021-02-26T00:00:00\", \"location\": \"France\", \"median_age\": 42.0, \"people_fully_vaccinated_per_hundred\": 2.33}, {\"date\": \"2021-02-27T00:00:00\", \"location\": \"France\", \"median_age\": 42.0, \"people_fully_vaccinated_per_hundred\": 2.36}, {\"date\": \"2021-02-28T00:00:00\", \"location\": \"France\", \"median_age\": 42.0, \"people_fully_vaccinated_per_hundred\": 2.37}, {\"date\": \"2021-03-01T00:00:00\", \"location\": \"France\", \"median_age\": 42.0, \"people_fully_vaccinated_per_hundred\": 2.44}, {\"date\": \"2021-03-02T00:00:00\", \"location\": \"France\", \"median_age\": 42.0, \"people_fully_vaccinated_per_hundred\": 2.54}, {\"date\": \"2021-03-03T00:00:00\", \"location\": \"France\", \"median_age\": 42.0, \"people_fully_vaccinated_per_hundred\": 2.64}, {\"date\": \"2021-03-04T00:00:00\", \"location\": \"France\", \"median_age\": 42.0, \"people_fully_vaccinated_per_hundred\": 2.74}, {\"date\": \"2021-03-05T00:00:00\", \"location\": \"France\", \"median_age\": 42.0, \"people_fully_vaccinated_per_hundred\": 2.84}, {\"date\": \"2021-03-06T00:00:00\", \"location\": \"France\", \"median_age\": 42.0, \"people_fully_vaccinated_per_hundred\": 2.86}, {\"date\": \"2021-03-07T00:00:00\", \"location\": \"France\", \"median_age\": 42.0, \"people_fully_vaccinated_per_hundred\": 2.87}, {\"date\": \"2021-03-08T00:00:00\", \"location\": \"France\", \"median_age\": 42.0, \"people_fully_vaccinated_per_hundred\": 2.94}, {\"date\": \"2021-03-09T00:00:00\", \"location\": \"France\", \"median_age\": 42.0, \"people_fully_vaccinated_per_hundred\": 3.03}, {\"date\": \"2021-03-10T00:00:00\", \"location\": \"France\", \"median_age\": 42.0, \"people_fully_vaccinated_per_hundred\": 3.11}, {\"date\": \"2021-03-11T00:00:00\", \"location\": \"France\", \"median_age\": 42.0, \"people_fully_vaccinated_per_hundred\": 3.21}, {\"date\": \"2021-03-12T00:00:00\", \"location\": \"France\", \"median_age\": 42.0, \"people_fully_vaccinated_per_hundred\": 3.29}, {\"date\": \"2021-03-13T00:00:00\", \"location\": \"France\", \"median_age\": 42.0, \"people_fully_vaccinated_per_hundred\": 3.31}, {\"date\": \"2021-03-14T00:00:00\", \"location\": \"France\", \"median_age\": 42.0, \"people_fully_vaccinated_per_hundred\": 3.31}, {\"date\": \"2021-03-15T00:00:00\", \"location\": \"France\", \"median_age\": 42.0, \"people_fully_vaccinated_per_hundred\": 3.36}, {\"date\": \"2021-03-16T00:00:00\", \"location\": \"France\", \"median_age\": 42.0, \"people_fully_vaccinated_per_hundred\": 3.42}, {\"date\": \"2021-03-17T00:00:00\", \"location\": \"France\", \"median_age\": 42.0, \"people_fully_vaccinated_per_hundred\": 3.48}, {\"date\": \"2021-03-18T00:00:00\", \"location\": \"France\", \"median_age\": 42.0, \"people_fully_vaccinated_per_hundred\": 3.54}, {\"date\": \"2021-03-19T00:00:00\", \"location\": \"France\", \"median_age\": 42.0, \"people_fully_vaccinated_per_hundred\": 3.6}, {\"date\": \"2021-03-20T00:00:00\", \"location\": \"France\", \"median_age\": 42.0, \"people_fully_vaccinated_per_hundred\": 3.62}, {\"date\": \"2021-03-21T00:00:00\", \"location\": \"France\", \"median_age\": 42.0, \"people_fully_vaccinated_per_hundred\": 3.62}, {\"date\": \"2021-03-22T00:00:00\", \"location\": \"France\", \"median_age\": 42.0, \"people_fully_vaccinated_per_hundred\": 3.67}, {\"date\": \"2021-03-23T00:00:00\", \"location\": \"France\", \"median_age\": 42.0, \"people_fully_vaccinated_per_hundred\": 3.73}, {\"date\": \"2021-03-24T00:00:00\", \"location\": \"France\", \"median_age\": 42.0, \"people_fully_vaccinated_per_hundred\": 3.8}, {\"date\": \"2021-03-25T00:00:00\", \"location\": \"France\", \"median_age\": 42.0, \"people_fully_vaccinated_per_hundred\": 3.87}, {\"date\": \"2021-03-26T00:00:00\", \"location\": \"France\", \"median_age\": 42.0, \"people_fully_vaccinated_per_hundred\": 3.93}, {\"date\": \"2021-03-27T00:00:00\", \"location\": \"France\", \"median_age\": 42.0, \"people_fully_vaccinated_per_hundred\": 3.95}, {\"date\": \"2021-03-28T00:00:00\", \"location\": \"France\", \"median_age\": 42.0, \"people_fully_vaccinated_per_hundred\": 3.96}, {\"date\": \"2021-03-29T00:00:00\", \"location\": \"France\", \"median_age\": 42.0, \"people_fully_vaccinated_per_hundred\": 4.04}, {\"date\": \"2021-03-30T00:00:00\", \"location\": \"France\", \"median_age\": 42.0, \"people_fully_vaccinated_per_hundred\": 4.14}, {\"date\": \"2021-03-31T00:00:00\", \"location\": \"France\", \"median_age\": 42.0, \"people_fully_vaccinated_per_hundred\": 4.25}, {\"date\": \"2021-04-01T00:00:00\", \"location\": \"France\", \"median_age\": 42.0, \"people_fully_vaccinated_per_hundred\": 4.38}, {\"date\": \"2021-04-02T00:00:00\", \"location\": \"France\", \"median_age\": 42.0, \"people_fully_vaccinated_per_hundred\": 4.52}, {\"date\": \"2021-04-03T00:00:00\", \"location\": \"France\", \"median_age\": 42.0, \"people_fully_vaccinated_per_hundred\": 4.61}, {\"date\": \"2021-04-04T00:00:00\", \"location\": \"France\", \"median_age\": 42.0, \"people_fully_vaccinated_per_hundred\": 4.63}, {\"date\": \"2021-04-05T00:00:00\", \"location\": \"France\", \"median_age\": 42.0, \"people_fully_vaccinated_per_hundred\": 4.65}, {\"date\": \"2021-04-06T00:00:00\", \"location\": \"France\", \"median_age\": 42.0, \"people_fully_vaccinated_per_hundred\": 4.81}, {\"date\": \"2021-04-07T00:00:00\", \"location\": \"France\", \"median_age\": 42.0, \"people_fully_vaccinated_per_hundred\": 4.98}, {\"date\": \"2021-04-08T00:00:00\", \"location\": \"France\", \"median_age\": 42.0, \"people_fully_vaccinated_per_hundred\": 5.16}, {\"date\": \"2021-04-09T00:00:00\", \"location\": \"France\", \"median_age\": 42.0, \"people_fully_vaccinated_per_hundred\": 5.33}, {\"date\": \"2021-04-10T00:00:00\", \"location\": \"France\", \"median_age\": 42.0, \"people_fully_vaccinated_per_hundred\": 5.46}, {\"date\": \"2021-04-11T00:00:00\", \"location\": \"France\", \"median_age\": 42.0, \"people_fully_vaccinated_per_hundred\": 5.51}, {\"date\": \"2021-04-12T00:00:00\", \"location\": \"France\", \"median_age\": 42.0, \"people_fully_vaccinated_per_hundred\": 5.68}, {\"date\": \"2021-04-13T00:00:00\", \"location\": \"France\", \"median_age\": 42.0, \"people_fully_vaccinated_per_hundred\": 5.89}, {\"date\": \"2021-04-14T00:00:00\", \"location\": \"France\", \"median_age\": 42.0, \"people_fully_vaccinated_per_hundred\": 6.1}, {\"date\": \"2021-04-15T00:00:00\", \"location\": \"France\", \"median_age\": 42.0, \"people_fully_vaccinated_per_hundred\": 6.32}, {\"date\": \"2021-04-16T00:00:00\", \"location\": \"France\", \"median_age\": 42.0, \"people_fully_vaccinated_per_hundred\": 6.53}, {\"date\": \"2021-04-17T00:00:00\", \"location\": \"France\", \"median_age\": 42.0, \"people_fully_vaccinated_per_hundred\": 6.67}, {\"date\": \"2021-04-18T00:00:00\", \"location\": \"France\", \"median_age\": 42.0, \"people_fully_vaccinated_per_hundred\": 6.72}, {\"date\": \"2021-04-19T00:00:00\", \"location\": \"France\", \"median_age\": 42.0, \"people_fully_vaccinated_per_hundred\": 6.92}, {\"date\": \"2021-04-20T00:00:00\", \"location\": \"France\", \"median_age\": 42.0, \"people_fully_vaccinated_per_hundred\": 7.18}, {\"date\": \"2021-04-21T00:00:00\", \"location\": \"France\", \"median_age\": 42.0, \"people_fully_vaccinated_per_hundred\": 7.43}, {\"date\": \"2021-04-22T00:00:00\", \"location\": \"France\", \"median_age\": 42.0, \"people_fully_vaccinated_per_hundred\": 7.71}, {\"date\": \"2021-04-23T00:00:00\", \"location\": \"France\", \"median_age\": 42.0, \"people_fully_vaccinated_per_hundred\": 7.98}, {\"date\": \"2021-04-24T00:00:00\", \"location\": \"France\", \"median_age\": 42.0, \"people_fully_vaccinated_per_hundred\": 8.15}, {\"date\": \"2021-04-25T00:00:00\", \"location\": \"France\", \"median_age\": 42.0, \"people_fully_vaccinated_per_hundred\": 8.21}, {\"date\": \"2021-04-26T00:00:00\", \"location\": \"France\", \"median_age\": 42.0, \"people_fully_vaccinated_per_hundred\": 8.44}, {\"date\": \"2021-04-27T00:00:00\", \"location\": \"France\", \"median_age\": 42.0, \"people_fully_vaccinated_per_hundred\": 8.74}, {\"date\": \"2021-04-28T00:00:00\", \"location\": \"France\", \"median_age\": 42.0, \"people_fully_vaccinated_per_hundred\": 9.02}, {\"date\": \"2021-04-29T00:00:00\", \"location\": \"France\", \"median_age\": 42.0, \"people_fully_vaccinated_per_hundred\": 9.34}, {\"date\": \"2021-04-30T00:00:00\", \"location\": \"France\", \"median_age\": 42.0, \"people_fully_vaccinated_per_hundred\": 9.64}, {\"date\": \"2021-05-01T00:00:00\", \"location\": \"France\", \"median_age\": 42.0, \"people_fully_vaccinated_per_hundred\": 9.72}, {\"date\": \"2021-05-02T00:00:00\", \"location\": \"France\", \"median_age\": 42.0, \"people_fully_vaccinated_per_hundred\": 9.78}, {\"date\": \"2021-05-03T00:00:00\", \"location\": \"France\", \"median_age\": 42.0, \"people_fully_vaccinated_per_hundred\": 10.03}, {\"date\": \"2021-05-04T00:00:00\", \"location\": \"France\", \"median_age\": 42.0, \"people_fully_vaccinated_per_hundred\": 10.38}, {\"date\": \"2021-05-05T00:00:00\", \"location\": \"France\", \"median_age\": 42.0, \"people_fully_vaccinated_per_hundred\": 10.72}, {\"date\": \"2021-05-06T00:00:00\", \"location\": \"France\", \"median_age\": 42.0, \"people_fully_vaccinated_per_hundred\": 11.09}, {\"date\": \"2021-05-07T00:00:00\", \"location\": \"France\", \"median_age\": 42.0, \"people_fully_vaccinated_per_hundred\": 11.5}, {\"date\": \"2021-05-08T00:00:00\", \"location\": \"France\", \"median_age\": 42.0, \"people_fully_vaccinated_per_hundred\": 11.6}, {\"date\": \"2021-05-09T00:00:00\", \"location\": \"France\", \"median_age\": 42.0, \"people_fully_vaccinated_per_hundred\": 11.67}, {\"date\": \"2021-05-10T00:00:00\", \"location\": \"France\", \"median_age\": 42.0, \"people_fully_vaccinated_per_hundred\": 12.02}, {\"date\": \"2021-05-11T00:00:00\", \"location\": \"France\", \"median_age\": 42.0, \"people_fully_vaccinated_per_hundred\": 12.43}, {\"date\": \"2021-05-12T00:00:00\", \"location\": \"France\", \"median_age\": 42.0, \"people_fully_vaccinated_per_hundred\": 12.79}, {\"date\": \"2021-05-13T00:00:00\", \"location\": \"France\", \"median_age\": 42.0, \"people_fully_vaccinated_per_hundred\": 12.87}, {\"date\": \"2021-05-14T00:00:00\", \"location\": \"France\", \"median_age\": 42.0, \"people_fully_vaccinated_per_hundred\": 13.13}, {\"date\": \"2021-05-15T00:00:00\", \"location\": \"France\", \"median_age\": 42.0, \"people_fully_vaccinated_per_hundred\": 13.28}, {\"date\": \"2021-05-16T00:00:00\", \"location\": \"France\", \"median_age\": 42.0, \"people_fully_vaccinated_per_hundred\": 13.31}, {\"date\": \"2021-05-17T00:00:00\", \"location\": \"France\", \"median_age\": 42.0, \"people_fully_vaccinated_per_hundred\": 13.54}, {\"date\": \"2021-05-18T00:00:00\", \"location\": \"France\", \"median_age\": 42.0, \"people_fully_vaccinated_per_hundred\": 13.78}, {\"date\": \"2021-05-19T00:00:00\", \"location\": \"France\", \"median_age\": 42.0, \"people_fully_vaccinated_per_hundred\": 14.0}, {\"date\": \"2021-05-20T00:00:00\", \"location\": \"France\", \"median_age\": 42.0, \"people_fully_vaccinated_per_hundred\": 14.25}, {\"date\": \"2021-05-21T00:00:00\", \"location\": \"France\", \"median_age\": 42.0, \"people_fully_vaccinated_per_hundred\": 14.53}, {\"date\": \"2021-05-22T00:00:00\", \"location\": \"France\", \"median_age\": 42.0, \"people_fully_vaccinated_per_hundred\": 14.65}, {\"date\": \"2021-05-23T00:00:00\", \"location\": \"France\", \"median_age\": 42.0, \"people_fully_vaccinated_per_hundred\": 14.68}, {\"date\": \"2021-05-24T00:00:00\", \"location\": \"France\", \"median_age\": 42.0, \"people_fully_vaccinated_per_hundred\": 14.73}, {\"date\": \"2021-05-25T00:00:00\", \"location\": \"France\", \"median_age\": 42.0, \"people_fully_vaccinated_per_hundred\": 15.02}, {\"date\": \"2021-05-26T00:00:00\", \"location\": \"France\", \"median_age\": 42.0, \"people_fully_vaccinated_per_hundred\": 15.31}, {\"date\": \"2021-05-27T00:00:00\", \"location\": \"France\", \"median_age\": 42.0, \"people_fully_vaccinated_per_hundred\": 15.65}, {\"date\": \"2021-05-28T00:00:00\", \"location\": \"France\", \"median_age\": 42.0, \"people_fully_vaccinated_per_hundred\": 16.08}, {\"date\": \"2021-05-29T00:00:00\", \"location\": \"France\", \"median_age\": 42.0, \"people_fully_vaccinated_per_hundred\": 16.32}, {\"date\": \"2021-05-30T00:00:00\", \"location\": \"France\", \"median_age\": 42.0, \"people_fully_vaccinated_per_hundred\": 16.37}, {\"date\": \"2021-05-31T00:00:00\", \"location\": \"France\", \"median_age\": 42.0, \"people_fully_vaccinated_per_hundred\": 16.69}, {\"date\": \"2021-06-01T00:00:00\", \"location\": \"France\", \"median_age\": 42.0, \"people_fully_vaccinated_per_hundred\": 17.09}, {\"date\": \"2021-06-02T00:00:00\", \"location\": \"France\", \"median_age\": 42.0, \"people_fully_vaccinated_per_hundred\": 17.45}, {\"date\": \"2021-06-03T00:00:00\", \"location\": \"France\", \"median_age\": 42.0, \"people_fully_vaccinated_per_hundred\": 17.86}, {\"date\": \"2021-06-04T00:00:00\", \"location\": \"France\", \"median_age\": 42.0, \"people_fully_vaccinated_per_hundred\": 18.35}, {\"date\": \"2021-06-05T00:00:00\", \"location\": \"France\", \"median_age\": 42.0, \"people_fully_vaccinated_per_hundred\": 18.64}, {\"date\": \"2021-06-06T00:00:00\", \"location\": \"France\", \"median_age\": 42.0, \"people_fully_vaccinated_per_hundred\": 18.72}, {\"date\": \"2021-06-07T00:00:00\", \"location\": \"France\", \"median_age\": 42.0, \"people_fully_vaccinated_per_hundred\": 19.12}, {\"date\": \"2021-06-08T00:00:00\", \"location\": \"France\", \"median_age\": 42.0, \"people_fully_vaccinated_per_hundred\": 19.57}, {\"date\": \"2021-06-09T00:00:00\", \"location\": \"France\", \"median_age\": 42.0, \"people_fully_vaccinated_per_hundred\": 20.0}, {\"date\": \"2021-06-10T00:00:00\", \"location\": \"France\", \"median_age\": 42.0, \"people_fully_vaccinated_per_hundred\": 20.45}, {\"date\": \"2021-06-11T00:00:00\", \"location\": \"France\", \"median_age\": 42.0, \"people_fully_vaccinated_per_hundred\": 21.01}, {\"date\": \"2021-06-12T00:00:00\", \"location\": \"France\", \"median_age\": 42.0, \"people_fully_vaccinated_per_hundred\": 21.33}, {\"date\": \"2021-06-13T00:00:00\", \"location\": \"France\", \"median_age\": 42.0, \"people_fully_vaccinated_per_hundred\": 21.44}, {\"date\": \"2021-06-14T00:00:00\", \"location\": \"France\", \"median_age\": 42.0, \"people_fully_vaccinated_per_hundred\": 21.98}, {\"date\": \"2021-06-15T00:00:00\", \"location\": \"France\", \"median_age\": 42.0, \"people_fully_vaccinated_per_hundred\": 22.57}, {\"date\": \"2021-06-16T00:00:00\", \"location\": \"France\", \"median_age\": 42.0, \"people_fully_vaccinated_per_hundred\": 23.11}, {\"date\": \"2021-06-17T00:00:00\", \"location\": \"France\", \"median_age\": 42.0, \"people_fully_vaccinated_per_hundred\": 23.68}, {\"date\": \"2021-06-18T00:00:00\", \"location\": \"France\", \"median_age\": 42.0, \"people_fully_vaccinated_per_hundred\": 24.35}, {\"date\": \"2021-06-19T00:00:00\", \"location\": \"France\", \"median_age\": 42.0, \"people_fully_vaccinated_per_hundred\": 24.76}, {\"date\": \"2021-06-20T00:00:00\", \"location\": \"France\", \"median_age\": 42.0, \"people_fully_vaccinated_per_hundred\": 24.92}, {\"date\": \"2021-06-21T00:00:00\", \"location\": \"France\", \"median_age\": 42.0, \"people_fully_vaccinated_per_hundred\": 25.52}, {\"date\": \"2021-06-22T00:00:00\", \"location\": \"France\", \"median_age\": 42.0, \"people_fully_vaccinated_per_hundred\": 26.23}, {\"date\": \"2021-06-23T00:00:00\", \"location\": \"France\", \"median_age\": 42.0, \"people_fully_vaccinated_per_hundred\": 26.89}, {\"date\": \"2021-06-24T00:00:00\", \"location\": \"France\", \"median_age\": 42.0, \"people_fully_vaccinated_per_hundred\": 27.51}, {\"date\": \"2021-06-25T00:00:00\", \"location\": \"France\", \"median_age\": 42.0, \"people_fully_vaccinated_per_hundred\": 28.3}, {\"date\": \"2021-06-26T00:00:00\", \"location\": \"France\", \"median_age\": 42.0, \"people_fully_vaccinated_per_hundred\": 28.85}, {\"date\": \"2021-06-27T00:00:00\", \"location\": \"France\", \"median_age\": 42.0, \"people_fully_vaccinated_per_hundred\": 29.09}, {\"date\": \"2021-06-28T00:00:00\", \"location\": \"France\", \"median_age\": 42.0, \"people_fully_vaccinated_per_hundred\": 29.76}, {\"date\": \"2021-06-29T00:00:00\", \"location\": \"France\", \"median_age\": 42.0, \"people_fully_vaccinated_per_hundred\": 30.52}, {\"date\": \"2021-06-30T00:00:00\", \"location\": \"France\", \"median_age\": 42.0, \"people_fully_vaccinated_per_hundred\": 31.25}, {\"date\": \"2021-07-01T00:00:00\", \"location\": \"France\", \"median_age\": 42.0, \"people_fully_vaccinated_per_hundred\": 31.94}, {\"date\": \"2021-07-02T00:00:00\", \"location\": \"France\", \"median_age\": 42.0, \"people_fully_vaccinated_per_hundred\": 32.72}, {\"date\": \"2021-07-03T00:00:00\", \"location\": \"France\", \"median_age\": 42.0, \"people_fully_vaccinated_per_hundred\": 33.28}, {\"date\": \"2021-07-04T00:00:00\", \"location\": \"France\", \"median_age\": 42.0, \"people_fully_vaccinated_per_hundred\": 33.49}, {\"date\": \"2021-07-05T00:00:00\", \"location\": \"France\", \"median_age\": 42.0, \"people_fully_vaccinated_per_hundred\": 34.11}, {\"date\": \"2021-07-06T00:00:00\", \"location\": \"France\", \"median_age\": 42.0, \"people_fully_vaccinated_per_hundred\": 34.83}, {\"date\": \"2021-07-07T00:00:00\", \"location\": \"France\", \"median_age\": 42.0, \"people_fully_vaccinated_per_hundred\": 35.49}, {\"date\": \"2021-07-08T00:00:00\", \"location\": \"France\", \"median_age\": 42.0, \"people_fully_vaccinated_per_hundred\": 36.13}, {\"date\": \"2021-07-09T00:00:00\", \"location\": \"France\", \"median_age\": 42.0, \"people_fully_vaccinated_per_hundred\": 36.9}, {\"date\": \"2021-07-10T00:00:00\", \"location\": \"France\", \"median_age\": 42.0, \"people_fully_vaccinated_per_hundred\": 37.41}, {\"date\": \"2021-07-11T00:00:00\", \"location\": \"France\", \"median_age\": 42.0, \"people_fully_vaccinated_per_hundred\": 37.58}, {\"date\": \"2021-07-12T00:00:00\", \"location\": \"France\", \"median_age\": 42.0, \"people_fully_vaccinated_per_hundred\": 38.3}, {\"date\": \"2021-07-13T00:00:00\", \"location\": \"France\", \"median_age\": 42.0, \"people_fully_vaccinated_per_hundred\": 39.1}, {\"date\": \"2021-07-14T00:00:00\", \"location\": \"France\", \"median_age\": 42.0, \"people_fully_vaccinated_per_hundred\": 39.34}, {\"date\": \"2021-07-15T00:00:00\", \"location\": \"France\", \"median_age\": 42.0, \"people_fully_vaccinated_per_hundred\": 40.11}, {\"date\": \"2021-07-16T00:00:00\", \"location\": \"France\", \"median_age\": 42.0, \"people_fully_vaccinated_per_hundred\": 40.88}, {\"date\": \"2021-07-17T00:00:00\", \"location\": \"France\", \"median_age\": 42.0, \"people_fully_vaccinated_per_hundred\": 41.36}, {\"date\": \"2021-07-18T00:00:00\", \"location\": \"France\", \"median_age\": 42.0, \"people_fully_vaccinated_per_hundred\": 41.54}, {\"date\": \"2021-07-19T00:00:00\", \"location\": \"France\", \"median_age\": 42.0, \"people_fully_vaccinated_per_hundred\": 42.19}, {\"date\": \"2021-07-20T00:00:00\", \"location\": \"France\", \"median_age\": 42.0, \"people_fully_vaccinated_per_hundred\": 42.88}, {\"date\": \"2021-07-21T00:00:00\", \"location\": \"France\", \"median_age\": 42.0, \"people_fully_vaccinated_per_hundred\": 43.51}, {\"date\": \"2021-07-22T00:00:00\", \"location\": \"France\", \"median_age\": 42.0, \"people_fully_vaccinated_per_hundred\": 44.11}, {\"date\": \"2021-07-23T00:00:00\", \"location\": \"France\", \"median_age\": 42.0, \"people_fully_vaccinated_per_hundred\": 44.77}, {\"date\": \"2021-07-24T00:00:00\", \"location\": \"France\", \"median_age\": 42.0, \"people_fully_vaccinated_per_hundred\": 45.18}, {\"date\": \"2021-07-25T00:00:00\", \"location\": \"France\", \"median_age\": 42.0, \"people_fully_vaccinated_per_hundred\": 45.3}, {\"date\": \"2021-07-26T00:00:00\", \"location\": \"France\", \"median_age\": 42.0, \"people_fully_vaccinated_per_hundred\": 45.8}, {\"date\": \"2021-07-27T00:00:00\", \"location\": \"France\", \"median_age\": 42.0, \"people_fully_vaccinated_per_hundred\": 46.3}, {\"date\": \"2021-07-28T00:00:00\", \"location\": \"France\", \"median_age\": 42.0, \"people_fully_vaccinated_per_hundred\": 46.74}, {\"date\": \"2021-07-29T00:00:00\", \"location\": \"France\", \"median_age\": 42.0, \"people_fully_vaccinated_per_hundred\": 47.18}, {\"date\": \"2021-07-30T00:00:00\", \"location\": \"France\", \"median_age\": 42.0, \"people_fully_vaccinated_per_hundred\": 47.65}, {\"date\": \"2021-07-31T00:00:00\", \"location\": \"France\", \"median_age\": 42.0, \"people_fully_vaccinated_per_hundred\": 47.93}, {\"date\": \"2021-08-01T00:00:00\", \"location\": \"France\", \"median_age\": 42.0, \"people_fully_vaccinated_per_hundred\": 48.01}, {\"date\": \"2021-08-02T00:00:00\", \"location\": \"France\", \"median_age\": 42.0, \"people_fully_vaccinated_per_hundred\": 48.36}, {\"date\": \"2021-08-03T00:00:00\", \"location\": \"France\", \"median_age\": 42.0, \"people_fully_vaccinated_per_hundred\": 48.74}, {\"date\": \"2021-08-04T00:00:00\", \"location\": \"France\", \"median_age\": 42.0, \"people_fully_vaccinated_per_hundred\": 49.07}, {\"date\": \"2021-08-05T00:00:00\", \"location\": \"France\", \"median_age\": 42.0, \"people_fully_vaccinated_per_hundred\": 49.42}, {\"date\": \"2021-08-06T00:00:00\", \"location\": \"France\", \"median_age\": 42.0, \"people_fully_vaccinated_per_hundred\": 49.84}, {\"date\": \"2021-08-07T00:00:00\", \"location\": \"France\", \"median_age\": 42.0, \"people_fully_vaccinated_per_hundred\": 50.11}, {\"date\": \"2021-08-08T00:00:00\", \"location\": \"France\", \"median_age\": 42.0, \"people_fully_vaccinated_per_hundred\": 50.21}, {\"date\": \"2021-08-09T00:00:00\", \"location\": \"France\", \"median_age\": 42.0, \"people_fully_vaccinated_per_hundred\": 50.6}, {\"date\": \"2021-08-10T00:00:00\", \"location\": \"France\", \"median_age\": 42.0, \"people_fully_vaccinated_per_hundred\": 51.02}, {\"date\": \"2021-08-11T00:00:00\", \"location\": \"France\", \"median_age\": 42.0, \"people_fully_vaccinated_per_hundred\": 51.42}, {\"date\": \"2021-08-12T00:00:00\", \"location\": \"France\", \"median_age\": 42.0, \"people_fully_vaccinated_per_hundred\": 51.85}, {\"date\": \"2021-08-13T00:00:00\", \"location\": \"France\", \"median_age\": 42.0, \"people_fully_vaccinated_per_hundred\": 52.27}, {\"date\": \"2021-08-14T00:00:00\", \"location\": \"France\", \"median_age\": 42.0, \"people_fully_vaccinated_per_hundred\": 52.56}, {\"date\": \"2021-08-15T00:00:00\", \"location\": \"France\", \"median_age\": 42.0, \"people_fully_vaccinated_per_hundred\": 52.64}, {\"date\": \"2021-08-16T00:00:00\", \"location\": \"France\", \"median_age\": 42.0, \"people_fully_vaccinated_per_hundred\": 53.12}, {\"date\": \"2021-08-17T00:00:00\", \"location\": \"France\", \"median_age\": 42.0, \"people_fully_vaccinated_per_hundred\": 53.63}, {\"date\": \"2021-08-18T00:00:00\", \"location\": \"France\", \"median_age\": 42.0, \"people_fully_vaccinated_per_hundred\": 54.11}, {\"date\": \"2021-08-19T00:00:00\", \"location\": \"France\", \"median_age\": 42.0, \"people_fully_vaccinated_per_hundred\": 54.6}, {\"date\": \"2021-08-20T00:00:00\", \"location\": \"France\", \"median_age\": 42.0, \"people_fully_vaccinated_per_hundred\": 55.15}, {\"date\": \"2021-08-21T00:00:00\", \"location\": \"France\", \"median_age\": 42.0, \"people_fully_vaccinated_per_hundred\": 55.51}, {\"date\": \"2021-08-22T00:00:00\", \"location\": \"France\", \"median_age\": 42.0, \"people_fully_vaccinated_per_hundred\": 55.64}, {\"date\": \"2021-08-23T00:00:00\", \"location\": \"France\", \"median_age\": 42.0, \"people_fully_vaccinated_per_hundred\": 56.17}, {\"date\": \"2021-08-24T00:00:00\", \"location\": \"France\", \"median_age\": 42.0, \"people_fully_vaccinated_per_hundred\": 56.74}, {\"date\": \"2021-08-25T00:00:00\", \"location\": \"France\", \"median_age\": 42.0, \"people_fully_vaccinated_per_hundred\": 57.26}, {\"date\": \"2021-08-26T00:00:00\", \"location\": \"France\", \"median_age\": 42.0, \"people_fully_vaccinated_per_hundred\": 57.77}, {\"date\": \"2021-08-27T00:00:00\", \"location\": \"France\", \"median_age\": 42.0, \"people_fully_vaccinated_per_hundred\": 58.35}, {\"date\": \"2021-08-28T00:00:00\", \"location\": \"France\", \"median_age\": 42.0, \"people_fully_vaccinated_per_hundred\": 58.72}, {\"date\": \"2021-08-29T00:00:00\", \"location\": \"France\", \"median_age\": 42.0, \"people_fully_vaccinated_per_hundred\": 58.85}, {\"date\": \"2021-08-30T00:00:00\", \"location\": \"France\", \"median_age\": 42.0, \"people_fully_vaccinated_per_hundred\": 59.33}, {\"date\": \"2021-08-31T00:00:00\", \"location\": \"France\", \"median_age\": 42.0, \"people_fully_vaccinated_per_hundred\": 59.83}, {\"date\": \"2021-09-01T00:00:00\", \"location\": \"France\", \"median_age\": 42.0, \"people_fully_vaccinated_per_hundred\": 60.26}, {\"date\": \"2021-09-02T00:00:00\", \"location\": \"France\", \"median_age\": 42.0, \"people_fully_vaccinated_per_hundred\": 60.62}, {\"date\": \"2021-09-03T00:00:00\", \"location\": \"France\", \"median_age\": 42.0, \"people_fully_vaccinated_per_hundred\": 61.06}, {\"date\": \"2021-09-04T00:00:00\", \"location\": \"France\", \"median_age\": 42.0, \"people_fully_vaccinated_per_hundred\": 61.38}, {\"date\": \"2021-09-05T00:00:00\", \"location\": \"France\", \"median_age\": 42.0, \"people_fully_vaccinated_per_hundred\": 61.45}, {\"date\": \"2021-09-06T00:00:00\", \"location\": \"France\", \"median_age\": 42.0, \"people_fully_vaccinated_per_hundred\": 61.72}, {\"date\": \"2021-09-07T00:00:00\", \"location\": \"France\", \"median_age\": 42.0, \"people_fully_vaccinated_per_hundred\": 61.99}, {\"date\": \"2021-09-08T00:00:00\", \"location\": \"France\", \"median_age\": 42.0, \"people_fully_vaccinated_per_hundred\": 62.3}, {\"date\": \"2021-09-09T00:00:00\", \"location\": \"France\", \"median_age\": 42.0, \"people_fully_vaccinated_per_hundred\": 62.55}, {\"date\": \"2021-09-10T00:00:00\", \"location\": \"France\", \"median_age\": 42.0, \"people_fully_vaccinated_per_hundred\": 62.85}, {\"date\": \"2021-09-11T00:00:00\", \"location\": \"France\", \"median_age\": 42.0, \"people_fully_vaccinated_per_hundred\": 63.1}, {\"date\": \"2021-09-12T00:00:00\", \"location\": \"France\", \"median_age\": 42.0, \"people_fully_vaccinated_per_hundred\": 63.15}, {\"date\": \"2021-09-13T00:00:00\", \"location\": \"France\", \"median_age\": 42.0, \"people_fully_vaccinated_per_hundred\": 63.34}, {\"date\": \"2021-09-14T00:00:00\", \"location\": \"France\", \"median_age\": 42.0, \"people_fully_vaccinated_per_hundred\": 63.53}, {\"date\": \"2021-09-15T00:00:00\", \"location\": \"France\", \"median_age\": 42.0, \"people_fully_vaccinated_per_hundred\": 63.78}, {\"date\": \"2021-09-16T00:00:00\", \"location\": \"France\", \"median_age\": 42.0, \"people_fully_vaccinated_per_hundred\": 63.95}, {\"date\": \"2021-09-17T00:00:00\", \"location\": \"France\", \"median_age\": 42.0, \"people_fully_vaccinated_per_hundred\": 64.18}, {\"date\": \"2021-09-18T00:00:00\", \"location\": \"France\", \"median_age\": 42.0, \"people_fully_vaccinated_per_hundred\": 64.39}, {\"date\": \"2021-09-19T00:00:00\", \"location\": \"France\", \"median_age\": 42.0, \"people_fully_vaccinated_per_hundred\": 64.42}, {\"date\": \"2021-09-20T00:00:00\", \"location\": \"France\", \"median_age\": 42.0, \"people_fully_vaccinated_per_hundred\": 64.56}, {\"date\": \"2021-09-21T00:00:00\", \"location\": \"France\", \"median_age\": 42.0, \"people_fully_vaccinated_per_hundred\": 64.71}, {\"date\": \"2021-09-22T00:00:00\", \"location\": \"France\", \"median_age\": 42.0, \"people_fully_vaccinated_per_hundred\": 64.92}, {\"date\": \"2021-09-23T00:00:00\", \"location\": \"France\", \"median_age\": 42.0, \"people_fully_vaccinated_per_hundred\": 65.05}, {\"date\": \"2021-09-24T00:00:00\", \"location\": \"France\", \"median_age\": 42.0, \"people_fully_vaccinated_per_hundred\": 65.25}, {\"date\": \"2021-09-25T00:00:00\", \"location\": \"France\", \"median_age\": 42.0, \"people_fully_vaccinated_per_hundred\": 65.42}, {\"date\": \"2021-09-26T00:00:00\", \"location\": \"France\", \"median_age\": 42.0, \"people_fully_vaccinated_per_hundred\": 65.45}, {\"date\": \"2021-09-27T00:00:00\", \"location\": \"France\", \"median_age\": 42.0, \"people_fully_vaccinated_per_hundred\": 65.56}, {\"date\": \"2021-09-28T00:00:00\", \"location\": \"France\", \"median_age\": 42.0, \"people_fully_vaccinated_per_hundred\": 65.67}, {\"date\": \"2021-09-29T00:00:00\", \"location\": \"France\", \"median_age\": 42.0, \"people_fully_vaccinated_per_hundred\": 65.82}, {\"date\": \"2021-09-30T00:00:00\", \"location\": \"France\", \"median_age\": 42.0, \"people_fully_vaccinated_per_hundred\": 65.92}, {\"date\": \"2021-10-01T00:00:00\", \"location\": \"France\", \"median_age\": 42.0, \"people_fully_vaccinated_per_hundred\": 66.07}, {\"date\": \"2021-10-02T00:00:00\", \"location\": \"France\", \"median_age\": 42.0, \"people_fully_vaccinated_per_hundred\": 66.19}, {\"date\": \"2021-10-03T00:00:00\", \"location\": \"France\", \"median_age\": 42.0, \"people_fully_vaccinated_per_hundred\": 66.2}, {\"date\": \"2021-10-04T00:00:00\", \"location\": \"France\", \"median_age\": 42.0, \"people_fully_vaccinated_per_hundred\": 66.29}, {\"date\": \"2021-10-05T00:00:00\", \"location\": \"France\", \"median_age\": 42.0, \"people_fully_vaccinated_per_hundred\": 66.38}, {\"date\": \"2021-10-06T00:00:00\", \"location\": \"France\", \"median_age\": 42.0, \"people_fully_vaccinated_per_hundred\": 66.5}, {\"date\": \"2021-10-07T00:00:00\", \"location\": \"France\", \"median_age\": 42.0, \"people_fully_vaccinated_per_hundred\": 66.59}, {\"date\": \"2021-10-08T00:00:00\", \"location\": \"France\", \"median_age\": 42.0, \"people_fully_vaccinated_per_hundred\": 66.73}, {\"date\": \"2021-10-09T00:00:00\", \"location\": \"France\", \"median_age\": 42.0, \"people_fully_vaccinated_per_hundred\": 66.82}, {\"date\": \"2021-10-10T00:00:00\", \"location\": \"France\", \"median_age\": 42.0, \"people_fully_vaccinated_per_hundred\": 66.83}, {\"date\": \"2021-10-11T00:00:00\", \"location\": \"France\", \"median_age\": 42.0, \"people_fully_vaccinated_per_hundred\": 66.9}, {\"date\": \"2021-10-12T00:00:00\", \"location\": \"France\", \"median_age\": 42.0, \"people_fully_vaccinated_per_hundred\": 66.98}, {\"date\": \"2021-10-13T00:00:00\", \"location\": \"France\", \"median_age\": 42.0, \"people_fully_vaccinated_per_hundred\": 67.07}, {\"date\": \"2021-10-14T00:00:00\", \"location\": \"France\", \"median_age\": 42.0, \"people_fully_vaccinated_per_hundred\": 67.15}, {\"date\": \"2021-10-15T00:00:00\", \"location\": \"France\", \"median_age\": 42.0, \"people_fully_vaccinated_per_hundred\": 67.26}, {\"date\": \"2021-10-16T00:00:00\", \"location\": \"France\", \"median_age\": 42.0, \"people_fully_vaccinated_per_hundred\": 67.32}, {\"date\": \"2021-10-17T00:00:00\", \"location\": \"France\", \"median_age\": 42.0, \"people_fully_vaccinated_per_hundred\": 67.33}, {\"date\": \"2021-10-18T00:00:00\", \"location\": \"France\", \"median_age\": 42.0, \"people_fully_vaccinated_per_hundred\": 67.39}, {\"date\": \"2021-10-19T00:00:00\", \"location\": \"France\", \"median_age\": 42.0, \"people_fully_vaccinated_per_hundred\": 67.46}, {\"date\": \"2021-10-20T00:00:00\", \"location\": \"France\", \"median_age\": 42.0, \"people_fully_vaccinated_per_hundred\": 67.53}, {\"date\": \"2021-10-21T00:00:00\", \"location\": \"France\", \"median_age\": 42.0, \"people_fully_vaccinated_per_hundred\": 67.6}, {\"date\": \"2021-10-22T00:00:00\", \"location\": \"France\", \"median_age\": 42.0, \"people_fully_vaccinated_per_hundred\": 67.69}, {\"date\": \"2021-10-23T00:00:00\", \"location\": \"France\", \"median_age\": 42.0, \"people_fully_vaccinated_per_hundred\": 67.75}, {\"date\": \"2021-10-24T00:00:00\", \"location\": \"France\", \"median_age\": 42.0, \"people_fully_vaccinated_per_hundred\": 67.76}, {\"date\": \"2021-10-25T00:00:00\", \"location\": \"France\", \"median_age\": 42.0, \"people_fully_vaccinated_per_hundred\": 67.81}, {\"date\": \"2021-10-26T00:00:00\", \"location\": \"France\", \"median_age\": 42.0, \"people_fully_vaccinated_per_hundred\": 67.86}, {\"date\": \"2021-10-27T00:00:00\", \"location\": \"France\", \"median_age\": 42.0, \"people_fully_vaccinated_per_hundred\": 67.93}, {\"date\": \"2021-10-28T00:00:00\", \"location\": \"France\", \"median_age\": 42.0, \"people_fully_vaccinated_per_hundred\": 67.98}, {\"date\": \"2021-10-29T00:00:00\", \"location\": \"France\", \"median_age\": 42.0, \"people_fully_vaccinated_per_hundred\": 68.05}, {\"date\": \"2021-10-30T00:00:00\", \"location\": \"France\", \"median_age\": 42.0, \"people_fully_vaccinated_per_hundred\": 68.1}, {\"date\": \"2021-10-31T00:00:00\", \"location\": \"France\", \"median_age\": 42.0, \"people_fully_vaccinated_per_hundred\": 68.11}, {\"date\": \"2021-11-01T00:00:00\", \"location\": \"France\", \"median_age\": 42.0, \"people_fully_vaccinated_per_hundred\": 68.12}, {\"date\": \"2021-11-02T00:00:00\", \"location\": \"France\", \"median_age\": 42.0, \"people_fully_vaccinated_per_hundred\": 68.17}, {\"date\": \"2021-11-03T00:00:00\", \"location\": \"France\", \"median_age\": 42.0, \"people_fully_vaccinated_per_hundred\": 68.24}, {\"date\": \"2021-11-04T00:00:00\", \"location\": \"France\", \"median_age\": 42.0, \"people_fully_vaccinated_per_hundred\": 68.3}, {\"date\": \"2021-11-05T00:00:00\", \"location\": \"France\", \"median_age\": 42.0, \"people_fully_vaccinated_per_hundred\": 68.38}, {\"date\": \"2021-11-06T00:00:00\", \"location\": \"France\", \"median_age\": 42.0, \"people_fully_vaccinated_per_hundred\": 68.43}, {\"date\": \"2021-11-07T00:00:00\", \"location\": \"France\", \"median_age\": 42.0, \"people_fully_vaccinated_per_hundred\": 68.44}, {\"date\": \"2021-11-08T00:00:00\", \"location\": \"France\", \"median_age\": 42.0, \"people_fully_vaccinated_per_hundred\": 68.49}, {\"date\": \"2021-11-09T00:00:00\", \"location\": \"France\", \"median_age\": 42.0, \"people_fully_vaccinated_per_hundred\": 68.56}, {\"date\": \"2021-11-10T00:00:00\", \"location\": \"France\", \"median_age\": 42.0, \"people_fully_vaccinated_per_hundred\": 68.64}, {\"date\": \"2021-11-11T00:00:00\", \"location\": \"France\", \"median_age\": 42.0, \"people_fully_vaccinated_per_hundred\": 68.65}, {\"date\": \"2021-11-12T00:00:00\", \"location\": \"France\", \"median_age\": 42.0, \"people_fully_vaccinated_per_hundred\": 68.73}, {\"date\": \"2021-11-13T00:00:00\", \"location\": \"France\", \"median_age\": 42.0, \"people_fully_vaccinated_per_hundred\": 68.78}, {\"date\": \"2021-11-14T00:00:00\", \"location\": \"France\", \"median_age\": 42.0, \"people_fully_vaccinated_per_hundred\": 68.79}, {\"date\": \"2021-11-15T00:00:00\", \"location\": \"France\", \"median_age\": 42.0, \"people_fully_vaccinated_per_hundred\": 68.85}, {\"date\": \"2021-11-16T00:00:00\", \"location\": \"France\", \"median_age\": 42.0, \"people_fully_vaccinated_per_hundred\": 68.92}, {\"date\": \"2021-11-17T00:00:00\", \"location\": \"France\", \"median_age\": 42.0, \"people_fully_vaccinated_per_hundred\": 68.99}, {\"date\": \"2021-11-18T00:00:00\", \"location\": \"France\", \"median_age\": 42.0, \"people_fully_vaccinated_per_hundred\": 69.06}, {\"date\": \"2021-11-19T00:00:00\", \"location\": \"France\", \"median_age\": 42.0, \"people_fully_vaccinated_per_hundred\": 69.15}, {\"date\": \"2021-11-20T00:00:00\", \"location\": \"France\", \"median_age\": 42.0, \"people_fully_vaccinated_per_hundred\": 69.21}, {\"date\": \"2021-11-21T00:00:00\", \"location\": \"France\", \"median_age\": 42.0, \"people_fully_vaccinated_per_hundred\": 69.22}, {\"date\": \"2021-11-22T00:00:00\", \"location\": \"France\", \"median_age\": 42.0, \"people_fully_vaccinated_per_hundred\": 69.27}, {\"date\": \"2021-11-23T00:00:00\", \"location\": \"France\", \"median_age\": 42.0, \"people_fully_vaccinated_per_hundred\": 69.34}, {\"date\": \"2021-11-24T00:00:00\", \"location\": \"France\", \"median_age\": 42.0, \"people_fully_vaccinated_per_hundred\": 69.42}, {\"date\": \"2021-11-25T00:00:00\", \"location\": \"France\", \"median_age\": 42.0, \"people_fully_vaccinated_per_hundred\": 69.5}, {\"date\": \"2021-11-26T00:00:00\", \"location\": \"France\", \"median_age\": 42.0, \"people_fully_vaccinated_per_hundred\": 69.61}, {\"date\": \"2021-11-27T00:00:00\", \"location\": \"France\", \"median_age\": 42.0, \"people_fully_vaccinated_per_hundred\": 69.69}, {\"date\": \"2021-11-28T00:00:00\", \"location\": \"France\", \"median_age\": 42.0, \"people_fully_vaccinated_per_hundred\": 69.71}, {\"date\": \"2021-11-29T00:00:00\", \"location\": \"France\", \"median_age\": 42.0, \"people_fully_vaccinated_per_hundred\": 69.79}, {\"date\": \"2021-11-30T00:00:00\", \"location\": \"France\", \"median_age\": 42.0, \"people_fully_vaccinated_per_hundred\": 69.9}, {\"date\": \"2021-12-01T00:00:00\", \"location\": \"France\", \"median_age\": 42.0, \"people_fully_vaccinated_per_hundred\": 70.02}, {\"date\": \"2021-12-02T00:00:00\", \"location\": \"France\", \"median_age\": 42.0, \"people_fully_vaccinated_per_hundred\": 70.13}, {\"date\": \"2021-12-03T00:00:00\", \"location\": \"France\", \"median_age\": 42.0, \"people_fully_vaccinated_per_hundred\": 70.27}, {\"date\": \"2021-12-04T00:00:00\", \"location\": \"France\", \"median_age\": 42.0, \"people_fully_vaccinated_per_hundred\": 70.36}, {\"date\": \"2021-12-05T00:00:00\", \"location\": \"France\", \"median_age\": 42.0, \"people_fully_vaccinated_per_hundred\": 70.39}, {\"date\": \"2021-12-06T00:00:00\", \"location\": \"France\", \"median_age\": 42.0, \"people_fully_vaccinated_per_hundred\": 70.5}, {\"date\": \"2021-12-07T00:00:00\", \"location\": \"France\", \"median_age\": 42.0, \"people_fully_vaccinated_per_hundred\": 70.64}, {\"date\": \"2021-12-08T00:00:00\", \"location\": \"France\", \"median_age\": 42.0, \"people_fully_vaccinated_per_hundred\": 70.78}, {\"date\": \"2021-12-09T00:00:00\", \"location\": \"France\", \"median_age\": 42.0, \"people_fully_vaccinated_per_hundred\": 70.92}, {\"date\": \"2021-12-10T00:00:00\", \"location\": \"France\", \"median_age\": 42.0, \"people_fully_vaccinated_per_hundred\": 71.09}, {\"date\": \"2021-12-11T00:00:00\", \"location\": \"France\", \"median_age\": 42.0, \"people_fully_vaccinated_per_hundred\": 71.21}, {\"date\": \"2021-12-12T00:00:00\", \"location\": \"France\", \"median_age\": 42.0, \"people_fully_vaccinated_per_hundred\": 71.24}, {\"date\": \"2021-12-13T00:00:00\", \"location\": \"France\", \"median_age\": 42.0, \"people_fully_vaccinated_per_hundred\": 71.38}, {\"date\": \"2021-12-14T00:00:00\", \"location\": \"France\", \"median_age\": 42.0, \"people_fully_vaccinated_per_hundred\": 71.56}, {\"date\": \"2021-12-15T00:00:00\", \"location\": \"France\", \"median_age\": 42.0, \"people_fully_vaccinated_per_hundred\": 71.73}, {\"date\": \"2021-12-16T00:00:00\", \"location\": \"France\", \"median_age\": 42.0, \"people_fully_vaccinated_per_hundred\": 71.9}, {\"date\": \"2021-12-17T00:00:00\", \"location\": \"France\", \"median_age\": 42.0, \"people_fully_vaccinated_per_hundred\": 72.1}, {\"date\": \"2021-12-18T00:00:00\", \"location\": \"France\", \"median_age\": 42.0, \"people_fully_vaccinated_per_hundred\": 72.22}, {\"date\": \"2021-12-19T00:00:00\", \"location\": \"France\", \"median_age\": 42.0, \"people_fully_vaccinated_per_hundred\": 72.26}, {\"date\": \"2021-12-20T00:00:00\", \"location\": \"France\", \"median_age\": 42.0, \"people_fully_vaccinated_per_hundred\": 72.41}, {\"date\": \"2021-12-21T00:00:00\", \"location\": \"France\", \"median_age\": 42.0, \"people_fully_vaccinated_per_hundred\": 72.58}, {\"date\": \"2021-12-22T00:00:00\", \"location\": \"France\", \"median_age\": 42.0, \"people_fully_vaccinated_per_hundred\": 72.73}, {\"date\": \"2021-12-23T00:00:00\", \"location\": \"France\", \"median_age\": 42.0, \"people_fully_vaccinated_per_hundred\": 72.85}, {\"date\": \"2021-12-24T00:00:00\", \"location\": \"France\", \"median_age\": 42.0, \"people_fully_vaccinated_per_hundred\": 72.89}, {\"date\": \"2021-12-25T00:00:00\", \"location\": \"France\", \"median_age\": 42.0, \"people_fully_vaccinated_per_hundred\": 72.89}, {\"date\": \"2021-12-26T00:00:00\", \"location\": \"France\", \"median_age\": 42.0, \"people_fully_vaccinated_per_hundred\": 72.91}, {\"date\": \"2021-12-27T00:00:00\", \"location\": \"France\", \"median_age\": 42.0, \"people_fully_vaccinated_per_hundred\": 73.04}, {\"date\": \"2021-12-28T00:00:00\", \"location\": \"France\", \"median_age\": 42.0, \"people_fully_vaccinated_per_hundred\": 73.18}, {\"date\": \"2021-12-29T00:00:00\", \"location\": \"France\", \"median_age\": 42.0, \"people_fully_vaccinated_per_hundred\": 73.32}, {\"date\": \"2021-12-30T00:00:00\", \"location\": \"France\", \"median_age\": 42.0, \"people_fully_vaccinated_per_hundred\": 73.43}, {\"date\": \"2021-12-31T00:00:00\", \"location\": \"France\", \"median_age\": 42.0, \"people_fully_vaccinated_per_hundred\": 73.47}, {\"date\": \"2022-01-01T00:00:00\", \"location\": \"France\", \"median_age\": 42.0, \"people_fully_vaccinated_per_hundred\": 73.47}, {\"date\": \"2022-01-02T00:00:00\", \"location\": \"France\", \"median_age\": 42.0, \"people_fully_vaccinated_per_hundred\": 73.49}, {\"date\": \"2022-01-03T00:00:00\", \"location\": \"France\", \"median_age\": 42.0, \"people_fully_vaccinated_per_hundred\": 73.62}, {\"date\": \"2022-01-04T00:00:00\", \"location\": \"France\", \"median_age\": 42.0, \"people_fully_vaccinated_per_hundred\": 73.79}, {\"date\": \"2022-01-05T00:00:00\", \"location\": \"France\", \"median_age\": 42.0, \"people_fully_vaccinated_per_hundred\": 73.94}, {\"date\": \"2022-01-06T00:00:00\", \"location\": \"France\", \"median_age\": 42.0, \"people_fully_vaccinated_per_hundred\": 74.11}, {\"date\": \"2022-01-07T00:00:00\", \"location\": \"France\", \"median_age\": 42.0, \"people_fully_vaccinated_per_hundred\": 74.29}, {\"date\": \"2022-01-08T00:00:00\", \"location\": \"France\", \"median_age\": 42.0, \"people_fully_vaccinated_per_hundred\": 74.41}, {\"date\": \"2022-01-09T00:00:00\", \"location\": \"France\", \"median_age\": 42.0, \"people_fully_vaccinated_per_hundred\": 74.45}, {\"date\": \"2022-01-10T00:00:00\", \"location\": \"France\", \"median_age\": 42.0, \"people_fully_vaccinated_per_hundred\": 74.58}, {\"date\": \"2022-01-11T00:00:00\", \"location\": \"France\", \"median_age\": 42.0, \"people_fully_vaccinated_per_hundred\": 74.72}, {\"date\": \"2022-01-12T00:00:00\", \"location\": \"France\", \"median_age\": 42.0, \"people_fully_vaccinated_per_hundred\": 74.86}, {\"date\": \"2022-01-13T00:00:00\", \"location\": \"France\", \"median_age\": 42.0, \"people_fully_vaccinated_per_hundred\": 75.0}, {\"date\": \"2022-01-14T00:00:00\", \"location\": \"France\", \"median_age\": 42.0, \"people_fully_vaccinated_per_hundred\": 75.15}, {\"date\": \"2022-01-15T00:00:00\", \"location\": \"France\", \"median_age\": 42.0, \"people_fully_vaccinated_per_hundred\": 75.24}, {\"date\": \"2022-01-16T00:00:00\", \"location\": \"France\", \"median_age\": 42.0, \"people_fully_vaccinated_per_hundred\": 75.27}, {\"date\": \"2022-01-17T00:00:00\", \"location\": \"France\", \"median_age\": 42.0, \"people_fully_vaccinated_per_hundred\": 75.36}, {\"date\": \"2022-01-18T00:00:00\", \"location\": \"France\", \"median_age\": 42.0, \"people_fully_vaccinated_per_hundred\": 75.47}, {\"date\": \"2022-01-19T00:00:00\", \"location\": \"France\", \"median_age\": 42.0, \"people_fully_vaccinated_per_hundred\": 75.56}, {\"date\": \"2022-01-20T00:00:00\", \"location\": \"France\", \"median_age\": 42.0, \"people_fully_vaccinated_per_hundred\": 75.65}, {\"date\": \"2022-01-21T00:00:00\", \"location\": \"France\", \"median_age\": 42.0, \"people_fully_vaccinated_per_hundred\": 75.75}, {\"date\": \"2022-01-22T00:00:00\", \"location\": \"France\", \"median_age\": 42.0, \"people_fully_vaccinated_per_hundred\": 75.82}, {\"date\": \"2022-01-23T00:00:00\", \"location\": \"France\", \"median_age\": 42.0, \"people_fully_vaccinated_per_hundred\": 75.83}, {\"date\": \"2022-01-24T00:00:00\", \"location\": \"France\", \"median_age\": 42.0, \"people_fully_vaccinated_per_hundred\": 75.91}, {\"date\": \"2022-01-25T00:00:00\", \"location\": \"France\", \"median_age\": 42.0, \"people_fully_vaccinated_per_hundred\": 75.99}, {\"date\": \"2022-01-26T00:00:00\", \"location\": \"France\", \"median_age\": 42.0, \"people_fully_vaccinated_per_hundred\": 76.06}, {\"date\": \"2022-01-27T00:00:00\", \"location\": \"France\", \"median_age\": 42.0, \"people_fully_vaccinated_per_hundred\": 76.13}, {\"date\": \"2022-01-28T00:00:00\", \"location\": \"France\", \"median_age\": 42.0, \"people_fully_vaccinated_per_hundred\": 76.24}, {\"date\": \"2022-01-29T00:00:00\", \"location\": \"France\", \"median_age\": 42.0, \"people_fully_vaccinated_per_hundred\": 76.3}, {\"date\": \"2022-01-30T00:00:00\", \"location\": \"France\", \"median_age\": 42.0, \"people_fully_vaccinated_per_hundred\": 76.32}, {\"date\": \"2022-01-31T00:00:00\", \"location\": \"France\", \"median_age\": 42.0, \"people_fully_vaccinated_per_hundred\": 76.39}, {\"date\": \"2022-02-01T00:00:00\", \"location\": \"France\", \"median_age\": 42.0, \"people_fully_vaccinated_per_hundred\": 76.45}, {\"date\": \"2022-02-02T00:00:00\", \"location\": \"France\", \"median_age\": 42.0, \"people_fully_vaccinated_per_hundred\": 76.53}, {\"date\": \"2022-02-03T00:00:00\", \"location\": \"France\", \"median_age\": 42.0, \"people_fully_vaccinated_per_hundred\": 76.59}, {\"date\": \"2022-02-04T00:00:00\", \"location\": \"France\", \"median_age\": 42.0, \"people_fully_vaccinated_per_hundred\": 76.69}, {\"date\": \"2022-02-05T00:00:00\", \"location\": \"France\", \"median_age\": 42.0, \"people_fully_vaccinated_per_hundred\": 76.75}, {\"date\": \"2022-02-06T00:00:00\", \"location\": \"France\", \"median_age\": 42.0, \"people_fully_vaccinated_per_hundred\": 76.77}]}}, {\"mode\": \"vega-lite\"});\n",
              "</script>"
            ]
          },
          "metadata": {},
          "execution_count": 21
        }
      ]
    },
    {
      "cell_type": "markdown",
      "source": [
        "### Graph showing median age (interactive)"
      ],
      "metadata": {
        "id": "3hlKnSwLzJFT"
      }
    },
    {
      "cell_type": "markdown",
      "source": [
        "Graph showing median age with dropdown menu"
      ],
      "metadata": {
        "id": "lYsb0MQshWdL"
      }
    },
    {
      "cell_type": "code",
      "source": [
        "from ipywidgets import interact\n",
        "from ipywidgets import fixed\n",
        "\n",
        "def select_country(country1, country2, country3, country4):\n",
        "  my_df2 = covid.loc[:, ['date', 'location', 'people_fully_vaccinated_per_hundred']]\n",
        "  my_df2 = my_df.dropna(subset=['median_age', 'people_fully_vaccinated_per_hundred'])\n",
        "\n",
        "  my_df2 = my_df2.loc[(my_df2.date > '2021-01-01')]\n",
        "  my_df3 = my_df2.loc[(my_df2['location'] == country1)]\n",
        "    \n",
        "  alt.data_transformers.disable_max_rows()\n",
        "  result1 = alt.Chart(my_df3).mark_line().encode(\n",
        "      y= alt.Y('mean(people_fully_vaccinated_per_hundred):Q', title='Mean of fully vaccinated people per 100',),\n",
        "      x= alt.X('date:T', title='Time (days)'),\n",
        "      color = 'location:N',\n",
        "      tooltip = ['median_age']\n",
        "  ).properties(title='Mean of people vaccinated per 100 people over time, starting from 1st Jan 2021')\n",
        "\n",
        "  my_df3 = my_df2.loc[(my_df2['location'] == country2)]\n",
        "\n",
        "  result2 = alt.Chart(my_df3).mark_line().encode(\n",
        "      y= alt.Y('mean(people_fully_vaccinated_per_hundred):Q', title='Mean of fully vaccinated people per 100',),\n",
        "      x= alt.X('date:T', title='Time (days)'),\n",
        "      color = 'location:N',\n",
        "      tooltip = ['median_age']\n",
        "  ).properties(title='Mean of people vaccinated per 100 people over time, starting from 1st Jan 2021')\n",
        "\n",
        "  my_df3 = my_df2.loc[(my_df2['location'] == country3)]\n",
        "    \n",
        "  alt.data_transformers.disable_max_rows()\n",
        "  result3 = alt.Chart(my_df3).mark_line().encode(\n",
        "      y= alt.Y('mean(people_fully_vaccinated_per_hundred):Q', title='Mean of fully vaccinated people per 100',),\n",
        "      x= alt.X('date:T', title='Time (days)'),\n",
        "      color = 'location:N',\n",
        "      tooltip = ['median_age']\n",
        "  ).properties(title='Mean of people vaccinated per 100 people over time, starting from 1st Jan 2021')\n",
        "\n",
        "  my_df3 = my_df2.loc[(my_df2['location'] == country4)]\n",
        "\n",
        "  result4 = alt.Chart(my_df3).mark_line().encode(\n",
        "      y= alt.Y('mean(people_fully_vaccinated_per_hundred):Q', title='Mean of fully vaccinated people per 100',),\n",
        "      x= alt.X('date:T', title='Time (days)'),\n",
        "      color = 'location:N',\n",
        "      tooltip = ['median_age']\n",
        "  ).properties(title='Mean of people vaccinated per 100 people over time, starting from 1st Jan 2021')\n",
        "  result = result1 + result2 + result3 + result4\n",
        "  return result"
      ],
      "metadata": {
        "id": "VZpZsDiO2vTM"
      },
      "execution_count": 22,
      "outputs": []
    },
    {
      "cell_type": "code",
      "source": [
        "interact(select_country, \n",
        "         country1 = ['Belgium', 'Zambia', 'Colombia', 'Netherlands', 'Canada', 'South Korea'], \n",
        "         country2 = ['Zambia', 'Belgium', 'Colombia', 'Netherlands', 'Canada', 'South Korea'], \n",
        "         country3 = ['Colombia', 'Belgium', 'Zambia', 'Netherlands', 'Canada', 'South Korea'], \n",
        "         country4 = ['Netherlands', 'Belgium', 'Zambia', 'Colombia', 'Canada', 'South Korea']\n",
        "         );"
      ],
      "metadata": {
        "colab": {
          "base_uri": "https://localhost:8080/",
          "height": 513,
          "referenced_widgets": [
            "e82e72fb1a764b2ab583deb5e85ec7bb",
            "89c205c3d5744633a4b9d277cfbd5740",
            "3cd9482547b94adf97d2ad8e9f11e8fe",
            "f8efccc834ab4442ab66ad6d2c943714",
            "1d9f0779d3fe4ed686c908438dd96506",
            "a8619a417ea74c4085c340583c64925f",
            "d720c241f3e84615bb9bcca1ad5b335e",
            "3a4a003a33fb455896f560495517f941",
            "b632452ae1bf4c8a9c5e3b7a44789c42",
            "d84302b6ded146f38bb0ec4ff87f4f6d",
            "509aaeb56d97483a911a83daf0bf7e3f",
            "59e7c2df2f094f679b76e3c3d313172d",
            "ac1887f700014093a8ab8c4f66014b2c",
            "3d0e6e77e084427d9e5f780541190a2b",
            "1453f8e602fa44ff80d6f4b1164ca47f",
            "753a33d5094e4194a84ec68a791590e2"
          ]
        },
        "id": "8E1dM6fC3Feo",
        "outputId": "575c0176-67cf-45a7-afde-44c73537c003"
      },
      "execution_count": 23,
      "outputs": [
        {
          "output_type": "display_data",
          "data": {
            "application/vnd.jupyter.widget-view+json": {
              "model_id": "e82e72fb1a764b2ab583deb5e85ec7bb",
              "version_minor": 0,
              "version_major": 2
            },
            "text/plain": [
              "interactive(children=(Dropdown(description='country1', options=('Belgium', 'Zambia', 'Colombia', 'Netherlands'…"
            ]
          },
          "metadata": {}
        }
      ]
    },
    {
      "cell_type": "markdown",
      "source": [
        "###Show data in a table"
      ],
      "metadata": {
        "id": "u96EP1LoR-PI"
      }
    },
    {
      "cell_type": "code",
      "source": [
        "print('\\n')"
      ],
      "metadata": {
        "colab": {
          "base_uri": "https://localhost:8080/"
        },
        "id": "g7UpNjxhQztC",
        "outputId": "f4644575-9f34-40b9-9d7b-4b90b5eaf95c"
      },
      "execution_count": 24,
      "outputs": [
        {
          "output_type": "stream",
          "name": "stdout",
          "text": [
            "\n",
            "\n"
          ]
        }
      ]
    },
    {
      "cell_type": "markdown",
      "source": [
        "If one wants to compare 2 countries and quickly look at their median age and the mean of people fully vaccinated per 100:"
      ],
      "metadata": {
        "id": "dnlWEsudN9K_"
      }
    },
    {
      "cell_type": "code",
      "source": [
        "#describe and visualise:\n",
        "#Provide a description of the population for the reader (e.g. countries or continents) relevant to your question using a table with descriptive statistics (i.e. means, medians, standard deviations) and where possible visualisation. (15pt)\n",
        "from ipywidgets import interact\n",
        "from ipywidgets import fixed\n",
        "\n",
        "def select_country_table(country):\n",
        "  my_df6 = covid.loc[:, ['location', 'median_age', 'people_fully_vaccinated_per_hundred']]\n",
        "  my_df6 = my_df.dropna(subset=['median_age', 'people_fully_vaccinated_per_hundred'])\n",
        "  my_df6 = my_df6.loc[(my_df6['location'] == country)]\n",
        "  median_of_age = my_df6['median_age']\n",
        "  median_of_age = statistics.median(median_of_age)\n",
        "  median_of_age\n",
        "  mean_of_vax = my_df6['people_fully_vaccinated_per_hundred']\n",
        "  mean_of_vax = statistics.median(mean_of_vax)\n",
        "  mean_of_vax\n",
        "  resultaat1 = print('\\nThe median age in', country, 'is:', median_of_age,'\\nThe mean of fully vaccinated people per 100 in', country, 'is:', mean_of_vax)\n",
        "  return resultaat1"
      ],
      "metadata": {
        "id": "g53ujr4D5NfK"
      },
      "execution_count": 63,
      "outputs": []
    },
    {
      "cell_type": "code",
      "source": [
        "interact(select_country_table, country = ['Belgium', 'Canada', 'Colombia', 'Netherlands', 'South Korea', 'Zambia']);\n",
        "print('\\n')\n",
        "interact(select_country_table, country = ['Canada', 'Belgium', 'Colombia', 'Netherlands', 'South Korea', 'Zambia']);"
      ],
      "metadata": {
        "colab": {
          "base_uri": "https://localhost:8080/",
          "height": 220,
          "referenced_widgets": [
            "c64bc3d77fee419abc8cf6495320268b",
            "ac09e5adba654259b016febd8fdefcc9",
            "78d3703101a246e681737ebf0c0883ae",
            "4dd0268fadb14aa794d2fcc1f91a07d8",
            "302360e2dc774ee2ba101d63abab0426",
            "075348ee9282473fb72a16139ccada43",
            "ffeb75a33fb14f07992f94fb3f4fba57",
            "24d84009fb634435a634132e96886e40",
            "bfaa47240a894f38b85e7ca92d1dc9d4",
            "021c0aee762f4fb2a591c77f008b045b",
            "5c31289fc55c4e8bbf0a09a1677ad019",
            "af03643c217c4412b192cb7766210149",
            "69f53eaa66d3400a865c34093e39f23b",
            "2000e26749164d0eb73a42624fadcbaa"
          ]
        },
        "id": "a55hJpw7YPtB",
        "outputId": "9230607d-9ca5-433e-98fe-97dd9680c033"
      },
      "execution_count": 64,
      "outputs": [
        {
          "output_type": "display_data",
          "data": {
            "application/vnd.jupyter.widget-view+json": {
              "model_id": "c64bc3d77fee419abc8cf6495320268b",
              "version_minor": 0,
              "version_major": 2
            },
            "text/plain": [
              "interactive(children=(Dropdown(description='country', options=('Belgium', 'Canada', 'Colombia', 'Netherlands',…"
            ]
          },
          "metadata": {}
        },
        {
          "output_type": "stream",
          "name": "stdout",
          "text": [
            "\n",
            "\n"
          ]
        },
        {
          "output_type": "display_data",
          "data": {
            "application/vnd.jupyter.widget-view+json": {
              "model_id": "24d84009fb634435a634132e96886e40",
              "version_minor": 0,
              "version_major": 2
            },
            "text/plain": [
              "interactive(children=(Dropdown(description='country', options=('Canada', 'Belgium', 'Colombia', 'Netherlands',…"
            ]
          },
          "metadata": {}
        }
      ]
    },
    {
      "cell_type": "markdown",
      "source": [
        "##Conclusion"
      ],
      "metadata": {
        "id": "_9B067is5rc4"
      }
    },
    {
      "cell_type": "code",
      "source": [
        "print('\\n')"
      ],
      "metadata": {
        "colab": {
          "base_uri": "https://localhost:8080/"
        },
        "id": "YTX6HW2WQ7K9",
        "outputId": "b669929e-cbd7-45ba-f488-a2b808a082c6"
      },
      "execution_count": 27,
      "outputs": [
        {
          "output_type": "stream",
          "name": "stdout",
          "text": [
            "\n",
            "\n"
          ]
        }
      ]
    },
    {
      "cell_type": "markdown",
      "source": [
        "The amount of fully vaccinated people per 100 is lower in countries with a considerably lower median age. \n",
        "\n",
        "However, this is likely due to the human development indices of the countries instead of simply the median age, as countries in Africa and South America were lower than other explored continents."
      ],
      "metadata": {
        "id": "GW3zoCq6IsZS"
      }
    }
  ]
}